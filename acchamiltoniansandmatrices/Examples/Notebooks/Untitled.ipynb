{
 "cells": [
  {
   "cell_type": "code",
   "execution_count": 208,
   "metadata": {},
   "outputs": [],
   "source": [
    "from __future__ import print_function, division\n",
    "\n",
    "from sympy import S, Expr, Mul,Add, Pow, symbols, Function\n",
    "from sympy.physics.quantum import Operator\n",
    "from sympy.printing.latex import print_latex\n",
    "from sympy.printing.pretty.stringpict import prettyForm\n",
    "\n",
    "\n",
    "from sympy import S, Expr, Mul, Add, Pow\n",
    "from sympy.printing.pretty.stringpict import prettyForm\n",
    "\n",
    "from sympy.physics.quantum.dagger import Dagger\n",
    "from sympy.physics.quantum.operator import Operator\n",
    "\n",
    "from sympy.core.decorators import _sympifyit, call_highest_priority\n",
    "from sympy.core.function import UndefinedFunction"
   ]
  },
  {
   "cell_type": "code",
   "execution_count": 1105,
   "metadata": {},
   "outputs": [],
   "source": [
    "class PoissonBracket(Expr):\n",
    "    \"\"\"\n",
    "    Operator class for the Poisson Bracket - allows to have it as a symbolic operator\n",
    "    \"\"\"\n",
    "    \n",
    "#     _op_priority = 11.0\n",
    "    _is_commutative = False\n",
    "    \n",
    "    def __new__(cls,A,B,**kwargs):       \n",
    "        r=cls.eval(A,B)\n",
    "        if r is not None:\n",
    "            return r\n",
    "        obj = Expr.__new__(cls,A,B)\n",
    "        obj.A = A\n",
    "        obj.B = B\n",
    "        obj.indep_coords = kwargs.get(\"coords\",None)\n",
    "        obj.indep_mom = kwargs.get(\"mom\",None)\n",
    "        return obj\n",
    "    \n",
    "    @classmethod\n",
    "    def eval(cls,a,b):\n",
    "        if not (a and b):\n",
    "#             print(\"here\")\n",
    "            return S.Zero\n",
    "        if a==b:\n",
    "            print(\"here\")\n",
    "            print(a,b)\n",
    "            return S.Zero\n",
    "#         try:\n",
    "#             if a.compare(b) ==1:\n",
    "#                 return S.NegativeOne*cls(b,a)\n",
    "#         except TypeError:\n",
    "#             tmp = symbols(\"tmp\")\n",
    "#             if a(tmp).compare(b(tmp)) ==1:\n",
    "#                         return S.NegativeOne*cls(b,a)\n",
    "                \n",
    "    @property\n",
    "    def free_symbols(self):\n",
    "        return self.A.free_symbols.union(self.B.free_symbols)\n",
    "    \n",
    "    @property\n",
    "    def expr(self):\n",
    "#         print(self.indep_coords)\n",
    "        if (self.indep_coords and self.indep_mom):\n",
    "            hp = S(0)\n",
    "            for qi, pi in zip(self.indep_coords, self.indep_mom):\n",
    "                hp += self.A.diff(qi) * self.B.diff(pi)\n",
    "                hp -= self.A.diff(pi) * self.B.diff(qi)\n",
    "            return hp\n",
    "        else:\n",
    "            return self\n",
    "        \n",
    "    def _eval_derivative(self, symbol):\n",
    "        \"\"\"\n",
    "        Necessary to get the full expanded expression\n",
    "        when one of the arguments is itself a PoissonBracket.\n",
    "        In other words to allow evalutation of nested Poisson Brackets.\n",
    "        \"\"\"\n",
    "        new_expr = self.expr.diff(symbol)\n",
    "        return new_expr\n",
    "    \n",
    "    def doit(self, **hints):\n",
    "        \"\"\" Evaluate commutator \"\"\"\n",
    "        A = self.args[0]\n",
    "        B = self.args[1]\n",
    "        \n",
    "        if isinstance(A, Operator) and isinstance(B, Operator):\n",
    "            try:\n",
    "                comm = A._eval_commutator(B, **hints)\n",
    "            except NotImplementedError:\n",
    "                try:\n",
    "                    comm = -1*B._eval_commutator(A, **hints)\n",
    "                except NotImplementedError:\n",
    "                    comm = None\n",
    "            if comm is not None:\n",
    "                return comm.doit(**hints)\n",
    "        if isinstance(A, UndefinedFunction) and isinstance(B, UndefinedFunction):\n",
    "            # add back the coords and momenta and create new poissonbracket with it\n",
    "            # then appply doit.\n",
    "            return self\n",
    "        \n",
    "        \n",
    "        hp = self.expr\n",
    "        return hp\n",
    "    \n",
    "    def _eval_expand_commutator(self, **hints):\n",
    "        A = self.A #self.args[0]\n",
    "        B = self.B #self.args[1]\n",
    "\n",
    "        if isinstance(A, Add):\n",
    "            # [A + B, C]  ->  [A, C] + [B, C]\n",
    "            sargs = []\n",
    "            for term in A.args:\n",
    "                comm = PoissonBracket(term, B)\n",
    "                print(comm.__class__)\n",
    "                if isinstance(comm, PoissonBracket):\n",
    "                    comm = comm._eval_expand_commutator()\n",
    "                sargs.append(comm)\n",
    "#             print(sargs)\n",
    "            return Add(*sargs)\n",
    "        elif isinstance(B, Add):\n",
    "            # [A, B + C]  ->  [A, B] + [A, C]\n",
    "            sargs = []\n",
    "            for term in B.args:\n",
    "                comm = PoissonBracket(A, term)\n",
    "                if isinstance(comm, PoissonBracket):\n",
    "                    comm = comm._eval_expand_commutator()\n",
    "                sargs.append(comm)\n",
    "            return Add(*sargs)\n",
    "        elif isinstance(A, Mul):\n",
    "            # [A*B, C] -> A*[B, C] + [A, C]*B\n",
    "            a = A.args[0]\n",
    "            b = Mul(*A.args[1:])\n",
    "            c = B\n",
    "            comm1 = PoissonBracket(b, c)\n",
    "            comm2 = PoissonBracket(a, c)\n",
    "            if isinstance(comm1, PoissonBracket):\n",
    "                comm1 = comm1._eval_expand_commutator()\n",
    "            if isinstance(comm2, PoissonBracket):\n",
    "                comm2 = comm2._eval_expand_commutator()\n",
    "            first = Mul(a, comm1)\n",
    "            second = Mul(comm2, b)\n",
    "#             print(first,second)\n",
    "            return Add(first, second)\n",
    "        elif isinstance(B, Mul):\n",
    "            # [A, B*C] -> [A, B]*C + B*[A, C]\n",
    "            a = A\n",
    "            b = B.args[0]\n",
    "            c = Mul(*B.args[1:])\n",
    "            comm1 = PoissonBracket(a, b)\n",
    "            comm2 = PoissonBracket(a, c)\n",
    "            if isinstance(comm1, PoissonBracket):\n",
    "                comm1 = comm1._eval_expand_commutator()\n",
    "            if isinstance(comm2, PoissonBracket):\n",
    "                comm2 = comm2._eval_expand_commutator()\n",
    "            first = Mul(comm1, c)\n",
    "            second = Mul(b, comm2)\n",
    "            return Add(first, second)\n",
    "        elif isinstance(A, Pow):\n",
    "            # [A**n, C] -> A**(n - 1)*[A, C] + A**(n - 2)*[A, C]*A + ... + [A, C]*A**(n-1)\n",
    "            return self._expand_pow(A, B, 1)\n",
    "        elif isinstance(B, Pow):\n",
    "            # [A, C**n] -> C**(n - 1)*[C, A] + C**(n - 2)*[C, A]*C + ... + [C, A]*C**(n-1)\n",
    "            return self._expand_pow(B, A, -1)\n",
    "        return self\n",
    "    \n",
    "    def _expand_pow(self, A, B, sign):\n",
    "        exp = A.exp\n",
    "        if not exp.is_integer or not exp.is_constant() or abs(exp) <= 1:\n",
    "            # nothing to do\n",
    "            return self\n",
    "        base = A.base\n",
    "        if exp.is_negative:\n",
    "            base = A.base**-1\n",
    "            exp = -exp\n",
    "        comm = PoissonBracket(base, B).expand(commutator=True)\n",
    "\n",
    "        result = base**(exp - 1) * comm\n",
    "        for i in range(1, exp):\n",
    "            result += base**(exp - 1 - i) * comm * base**i\n",
    "        return sign*result.expand()\n",
    "    \n",
    "    \n",
    "    \n",
    "    def _latex(self, printer, *args):\n",
    "#         print(tuple([\n",
    "#             printer._print(arg.func, *args) if arg.__class__.__name__ != \"PoissonBracket\" else  printer._print(arg, *args) for arg in self.args[:2] ]))\n",
    "        news = []\n",
    "        for arg in self.args[:2]:\n",
    "#             print(type(arg))\n",
    "            if isinstance(arg,Add):\n",
    "                news.append(\" + \".join([printer.doprint(a.func, *args) if a.is_Function  else  printer.doprint(a, *args) for a in arg.args]))\n",
    "            \n",
    "            elif isinstance(arg,PoissonBracket):\n",
    "                news.append(printer.doprint(arg,*args))\n",
    "#                 news.append(\"\\\\lbrace %s,%s\\\\rbrace\" %tuple([\n",
    "#             printer.doprint(a.func, *args) if a.is_Function and not isinstance(a,UndefinedFunction)  else  printer.doprint(a, *args) for a in arg.args[:2] ]))\n",
    "            \n",
    "            elif isinstance(arg,Mul):\n",
    "                 news.append(\" * \".join([printer.doprint(a.func, *args) if a.is_Function  else  printer.doprint(a, *args) for a in arg.args]))\n",
    "#                 print([a for a in arg.args])\n",
    "#                 news.append(\" * \".join([ \n",
    "#                     printer._print(a.func, *args) \n",
    "#                     if a.is_Function  and not (isinstance(a,UndefinedFunction))\n",
    "#                     else  printer._print(a, *args) for a in args\n",
    "#                 ]))\n",
    "            elif isinstance(arg,Pow):\n",
    "                if isinstance(arg.args[0], UndefinedFunction):\n",
    "                    news.append(\"{}^{}\".format([printer.doprint(a) for a in arg.args]))\n",
    "                elif isinstance(arg.args[0], Function):\n",
    "                    news.append(\"{}^{}\".format(printer.doprint(arg.args[0].func,*args), printer.doprint(arg.args[1],*args)))\n",
    "                else:\n",
    "                    news.append(printer.doprint(arg, *args))\n",
    "                \n",
    "            elif isinstance(arg, Function) and not (isinstance(arg,UndefinedFunction)):\n",
    "                news.append(printer.doprint(arg.func, *args))\n",
    "                                                    \n",
    "            else: # isinstance(arg, Function) and isinstance(arg,UndefinedFunction):\n",
    "                news.append(printer.doprint(arg, *args))\n",
    "    \n",
    "        print(news)\n",
    "        return \"\\\\lbrace %s,%s\\\\rbrace\" %tuple(news)\n",
    "        \n",
    "        return \"\\\\lbrace %s,%s\\\\rbrace\" %tuple([\n",
    "            printer._print(arg.func, *args) if arg.is_Function  and not (isinstance(arg,UndefinedFunction))\n",
    "            else  printer._print(arg, *args) \n",
    "            for arg in self.args[:2] ])\n",
    "#         return \"\\\\lbrace %s,%s\\\\rbrace\" % tuple([\n",
    "#             printer._print(arg, *args) for arg in self.args[:2]])"
   ]
  },
  {
   "cell_type": "code",
   "execution_count": 1106,
   "metadata": {},
   "outputs": [],
   "source": [
    "1\n",
    "\n",
    "x, px, y, py, z, delta, eps, h , k0, k1, k2, sigma, betag ,f = symbols('x p_x y p_y z delta epsilon h k_0 k_1 k_2 sigma beta_gamma f', real=True)\n",
    "\n",
    "2\n",
    "\n",
    "L, beta0, gamma0 = symbols(\" L beta_0 gamma_0\", real=True, positive=True)"
   ]
  },
  {
   "cell_type": "code",
   "execution_count": 1107,
   "metadata": {},
   "outputs": [
    {
     "data": {
      "text/plain": [
       "True"
      ]
     },
     "execution_count": 1107,
     "metadata": {},
     "output_type": "execute_result"
    }
   ],
   "source": [
    "isinstance(A,UndefinedFunction)"
   ]
  },
  {
   "cell_type": "code",
   "execution_count": 1108,
   "metadata": {},
   "outputs": [],
   "source": [
    "A = Function(\"A\", commutative=False)\n",
    "B = Function(\"B\", commutative=False)\n",
    "C = Function(\"C\", commutative=False)\n",
    "D = Function(\"D\", commutative=False)"
   ]
  },
  {
   "cell_type": "code",
   "execution_count": 1109,
   "metadata": {},
   "outputs": [
    {
     "name": "stdout",
     "output_type": "stream",
     "text": [
      "['A', 'B']\n"
     ]
    },
    {
     "data": {
      "text/latex": [
       "$\\displaystyle \\lbrace A,B\\rbrace$"
      ],
      "text/plain": [
       "PoissonBracket(A, B)"
      ]
     },
     "execution_count": 1109,
     "metadata": {},
     "output_type": "execute_result"
    }
   ],
   "source": [
    "test1 =PoissonBracket(A,B)\n",
    "test1"
   ]
  },
  {
   "cell_type": "code",
   "execution_count": 1110,
   "metadata": {},
   "outputs": [
    {
     "data": {
      "text/plain": [
       "True"
      ]
     },
     "execution_count": 1110,
     "metadata": {},
     "output_type": "execute_result"
    }
   ],
   "source": [
    "test1 == PoissonBracket(A,B)"
   ]
  },
  {
   "cell_type": "code",
   "execution_count": 1111,
   "metadata": {},
   "outputs": [
    {
     "name": "stdout",
     "output_type": "stream",
     "text": [
      "['A', 'B']\n"
     ]
    },
    {
     "data": {
      "text/latex": [
       "$\\displaystyle \\lbrace A,B\\rbrace$"
      ],
      "text/plain": [
       "PoissonBracket(A, B)"
      ]
     },
     "execution_count": 1111,
     "metadata": {},
     "output_type": "execute_result"
    }
   ],
   "source": [
    "test1.doit()"
   ]
  },
  {
   "cell_type": "code",
   "execution_count": 1112,
   "metadata": {},
   "outputs": [],
   "source": [
    "test1.A= A(x)"
   ]
  },
  {
   "cell_type": "code",
   "execution_count": 1113,
   "metadata": {},
   "outputs": [
    {
     "data": {
      "text/plain": [
       "{x}"
      ]
     },
     "execution_count": 1113,
     "metadata": {},
     "output_type": "execute_result"
    }
   ],
   "source": [
    "test1.free_symbols"
   ]
  },
  {
   "cell_type": "code",
   "execution_count": 1114,
   "metadata": {},
   "outputs": [
    {
     "name": "stdout",
     "output_type": "stream",
     "text": [
      "['x^{2}', 'p_{x} + x']\n"
     ]
    },
    {
     "data": {
      "text/latex": [
       "$\\displaystyle \\lbrace x^{2},p_{x} + x\\rbrace$"
      ],
      "text/plain": [
       "PoissonBracket(x**2, p_x + x)"
      ]
     },
     "execution_count": 1114,
     "metadata": {},
     "output_type": "execute_result"
    }
   ],
   "source": [
    "test2 = PoissonBracket(x**2,x+px)\n",
    "test2.doit()"
   ]
  },
  {
   "cell_type": "code",
   "execution_count": 1115,
   "metadata": {},
   "outputs": [
    {
     "data": {
      "text/plain": [
       "(p_x, 0)"
      ]
     },
     "execution_count": 1115,
     "metadata": {},
     "output_type": "execute_result"
    }
   ],
   "source": [
    "[i for i in test2.free_symbols][0],0"
   ]
  },
  {
   "cell_type": "code",
   "execution_count": 1116,
   "metadata": {},
   "outputs": [
    {
     "name": "stdout",
     "output_type": "stream",
     "text": [
      "['A', 'B']\n"
     ]
    },
    {
     "data": {
      "text/latex": [
       "$\\displaystyle \\lbrace A,B\\rbrace$"
      ],
      "text/plain": [
       "PoissonBracket(A(x, p_x), B(y, p_y))"
      ]
     },
     "execution_count": 1116,
     "metadata": {},
     "output_type": "execute_result"
    }
   ],
   "source": [
    "test3 = PoissonBracket(A(x,px),B(y,py))\n",
    "test3"
   ]
  },
  {
   "cell_type": "code",
   "execution_count": 1117,
   "metadata": {},
   "outputs": [
    {
     "name": "stdout",
     "output_type": "stream",
     "text": [
      "['A', 'B']\n"
     ]
    },
    {
     "data": {
      "text/latex": [
       "$\\displaystyle \\lbrace A,B\\rbrace$"
      ],
      "text/plain": [
       "PoissonBracket(A(x, p_x), B(y, p_y))"
      ]
     },
     "execution_count": 1117,
     "metadata": {},
     "output_type": "execute_result"
    }
   ],
   "source": [
    "test3.doit()"
   ]
  },
  {
   "cell_type": "code",
   "execution_count": 1118,
   "metadata": {},
   "outputs": [
    {
     "name": "stdout",
     "output_type": "stream",
     "text": [
      "['x^{2}', 'p_{x} + x']\n"
     ]
    },
    {
     "data": {
      "text/latex": [
       "$\\displaystyle \\lbrace x^{2},p_{x} + x\\rbrace$"
      ],
      "text/plain": [
       "PoissonBracket(x**2, p_x + x)"
      ]
     },
     "execution_count": 1118,
     "metadata": {},
     "output_type": "execute_result"
    }
   ],
   "source": [
    "test4 = PoissonBracket(x**2,x+px,coords=[x],mom=[px])\n",
    "test4"
   ]
  },
  {
   "cell_type": "code",
   "execution_count": 1119,
   "metadata": {},
   "outputs": [
    {
     "data": {
      "text/latex": [
       "$\\displaystyle 2 x$"
      ],
      "text/plain": [
       "2*x"
      ]
     },
     "execution_count": 1119,
     "metadata": {},
     "output_type": "execute_result"
    }
   ],
   "source": [
    "test4.doit()"
   ]
  },
  {
   "cell_type": "code",
   "execution_count": 1120,
   "metadata": {},
   "outputs": [
    {
     "name": "stdout",
     "output_type": "stream",
     "text": [
      "['A', 'B']\n"
     ]
    },
    {
     "data": {
      "text/latex": [
       "$\\displaystyle \\lbrace A,B\\rbrace$"
      ],
      "text/plain": [
       "PoissonBracket(A(x, p_x), B(x, y, p_y))"
      ]
     },
     "execution_count": 1120,
     "metadata": {},
     "output_type": "execute_result"
    }
   ],
   "source": [
    "test5 = PoissonBracket(A(x,px),B(x,y,py),coords=[x,y],mom=[px,py])\n",
    "test5"
   ]
  },
  {
   "cell_type": "code",
   "execution_count": 1121,
   "metadata": {},
   "outputs": [
    {
     "data": {
      "text/plain": [
       "(-Derivative(A(x, p_x), p_x)*Derivative(B(x, y, p_y), x),)"
      ]
     },
     "execution_count": 1121,
     "metadata": {},
     "output_type": "execute_result"
    }
   ],
   "source": [
    "test5.expr,"
   ]
  },
  {
   "cell_type": "code",
   "execution_count": 1122,
   "metadata": {},
   "outputs": [
    {
     "name": "stdout",
     "output_type": "stream",
     "text": [
      "['A', 'B']\n",
      "['\\\\lbrace A,B\\\\rbrace', 'C']\n"
     ]
    },
    {
     "data": {
      "text/latex": [
       "$\\displaystyle \\lbrace \\lbrace A,B\\rbrace,C\\rbrace$"
      ],
      "text/plain": [
       "PoissonBracket(PoissonBracket(A, B), C)"
      ]
     },
     "execution_count": 1122,
     "metadata": {},
     "output_type": "execute_result"
    }
   ],
   "source": [
    "test6 = PoissonBracket(test1,C)\n",
    "test6"
   ]
  },
  {
   "cell_type": "code",
   "execution_count": 1123,
   "metadata": {},
   "outputs": [
    {
     "name": "stdout",
     "output_type": "stream",
     "text": [
      "['A', 'B']\n",
      "['\\\\lbrace A,B\\\\rbrace', 'C']\n"
     ]
    },
    {
     "data": {
      "text/latex": [
       "$\\displaystyle \\lbrace \\lbrace A,B\\rbrace,C\\rbrace$"
      ],
      "text/plain": [
       "PoissonBracket(PoissonBracket(A, B), C)"
      ]
     },
     "execution_count": 1123,
     "metadata": {},
     "output_type": "execute_result"
    }
   ],
   "source": [
    "test6.doit()"
   ]
  },
  {
   "cell_type": "code",
   "execution_count": 1124,
   "metadata": {},
   "outputs": [
    {
     "name": "stdout",
     "output_type": "stream",
     "text": [
      "['x^{2}', 'p_{x} + x']\n",
      "['\\\\lbrace x^{2},p_{x} + x\\\\rbrace', 'C']\n"
     ]
    },
    {
     "data": {
      "text/latex": [
       "$\\displaystyle \\lbrace \\lbrace x^{2},p_{x} + x\\rbrace,C\\rbrace$"
      ],
      "text/plain": [
       "PoissonBracket(PoissonBracket(x**2, p_x + x), C)"
      ]
     },
     "execution_count": 1124,
     "metadata": {},
     "output_type": "execute_result"
    }
   ],
   "source": [
    "test7 = PoissonBracket(test2,C)\n",
    "test7"
   ]
  },
  {
   "cell_type": "code",
   "execution_count": 1125,
   "metadata": {},
   "outputs": [
    {
     "name": "stdout",
     "output_type": "stream",
     "text": [
      "['x^{2}', 'p_{x} + x']\n",
      "['\\\\lbrace x^{2},p_{x} + x\\\\rbrace', 'C']\n"
     ]
    },
    {
     "data": {
      "text/latex": [
       "$\\displaystyle \\lbrace \\lbrace x^{2},p_{x} + x\\rbrace,C\\rbrace$"
      ],
      "text/plain": [
       "PoissonBracket(PoissonBracket(x**2, p_x + x), C)"
      ]
     },
     "execution_count": 1125,
     "metadata": {},
     "output_type": "execute_result"
    }
   ],
   "source": [
    "test7.doit()"
   ]
  },
  {
   "cell_type": "code",
   "execution_count": 1126,
   "metadata": {},
   "outputs": [
    {
     "name": "stdout",
     "output_type": "stream",
     "text": [
      "['A', 'B']\n",
      "['\\\\lbrace A,B\\\\rbrace', 'C']\n"
     ]
    },
    {
     "data": {
      "text/latex": [
       "$\\displaystyle \\lbrace \\lbrace A,B\\rbrace,C\\rbrace$"
      ],
      "text/plain": [
       "PoissonBracket(PoissonBracket(A(x, p_x), B(y, p_y)), C)"
      ]
     },
     "execution_count": 1126,
     "metadata": {},
     "output_type": "execute_result"
    }
   ],
   "source": [
    "test8 = PoissonBracket(test3,C)\n",
    "test8"
   ]
  },
  {
   "cell_type": "code",
   "execution_count": 1127,
   "metadata": {},
   "outputs": [
    {
     "name": "stdout",
     "output_type": "stream",
     "text": [
      "['x^{2}', 'p_{x} + x']\n",
      "['\\\\lbrace x^{2},p_{x} + x\\\\rbrace', 'C']\n"
     ]
    },
    {
     "data": {
      "text/latex": [
       "$\\displaystyle \\lbrace \\lbrace x^{2},p_{x} + x\\rbrace,C\\rbrace$"
      ],
      "text/plain": [
       "PoissonBracket(PoissonBracket(x**2, p_x + x), C)"
      ]
     },
     "execution_count": 1127,
     "metadata": {},
     "output_type": "execute_result"
    }
   ],
   "source": [
    "test9 = PoissonBracket(test4,C)\n",
    "test9"
   ]
  },
  {
   "cell_type": "code",
   "execution_count": 1128,
   "metadata": {},
   "outputs": [
    {
     "name": "stdout",
     "output_type": "stream",
     "text": [
      "['x^{2}', 'p_{x} + x']\n",
      "['\\\\lbrace x^{2},p_{x} + x\\\\rbrace', 'C']\n"
     ]
    },
    {
     "data": {
      "text/latex": [
       "$\\displaystyle \\lbrace \\lbrace x^{2},p_{x} + x\\rbrace,C\\rbrace$"
      ],
      "text/plain": [
       "PoissonBracket(PoissonBracket(x**2, p_x + x), C)"
      ]
     },
     "execution_count": 1128,
     "metadata": {},
     "output_type": "execute_result"
    }
   ],
   "source": [
    "test9.doit()"
   ]
  },
  {
   "cell_type": "code",
   "execution_count": 1129,
   "metadata": {},
   "outputs": [
    {
     "name": "stdout",
     "output_type": "stream",
     "text": [
      "['A', 'B']\n",
      "['\\\\lbrace A,B\\\\rbrace', 'C']\n"
     ]
    },
    {
     "data": {
      "text/latex": [
       "$\\displaystyle \\lbrace \\lbrace A,B\\rbrace,C\\rbrace$"
      ],
      "text/plain": [
       "PoissonBracket(PoissonBracket(A(x, p_x), B(x, y, p_y)), C)"
      ]
     },
     "execution_count": 1129,
     "metadata": {},
     "output_type": "execute_result"
    }
   ],
   "source": [
    "test10 = PoissonBracket(test5,C)\n",
    "test10"
   ]
  },
  {
   "cell_type": "code",
   "execution_count": 1130,
   "metadata": {},
   "outputs": [
    {
     "data": {
      "text/plain": [
       "{p_x, p_y, x, y}"
      ]
     },
     "execution_count": 1130,
     "metadata": {},
     "output_type": "execute_result"
    }
   ],
   "source": [
    "test10.free_symbols"
   ]
  },
  {
   "cell_type": "code",
   "execution_count": 1131,
   "metadata": {},
   "outputs": [
    {
     "name": "stdout",
     "output_type": "stream",
     "text": [
      "['A', 'B']\n",
      "['\\\\lbrace A,B\\\\rbrace', 'C']\n"
     ]
    },
    {
     "data": {
      "text/latex": [
       "$\\displaystyle \\lbrace \\lbrace A,B\\rbrace,C\\rbrace$"
      ],
      "text/plain": [
       "PoissonBracket(PoissonBracket(A(x, p_x), B(x, y, p_y)), C(x, p_x))"
      ]
     },
     "execution_count": 1131,
     "metadata": {},
     "output_type": "execute_result"
    }
   ],
   "source": [
    "test11 = PoissonBracket(test5,C(x,px))\n",
    "test11"
   ]
  },
  {
   "cell_type": "code",
   "execution_count": 1132,
   "metadata": {},
   "outputs": [
    {
     "name": "stdout",
     "output_type": "stream",
     "text": [
      "['A', 'B']\n",
      "['\\\\lbrace A,B\\\\rbrace', 'C']\n"
     ]
    },
    {
     "data": {
      "text/latex": [
       "$\\displaystyle \\lbrace \\lbrace A,B\\rbrace,C\\rbrace$"
      ],
      "text/plain": [
       "PoissonBracket(PoissonBracket(A(x, p_x), B(x, y, p_y)), C(x, p_x))"
      ]
     },
     "execution_count": 1132,
     "metadata": {},
     "output_type": "execute_result"
    }
   ],
   "source": [
    "test11.doit()"
   ]
  },
  {
   "cell_type": "code",
   "execution_count": 1133,
   "metadata": {},
   "outputs": [
    {
     "name": "stdout",
     "output_type": "stream",
     "text": [
      "['A', 'B']\n",
      "['\\\\lbrace A,B\\\\rbrace', 'C']\n"
     ]
    },
    {
     "data": {
      "text/latex": [
       "$\\displaystyle \\lbrace \\lbrace A,B\\rbrace,C\\rbrace$"
      ],
      "text/plain": [
       "PoissonBracket(PoissonBracket(A(x, p_x), B(x, y, p_y)), C(x, p_x))"
      ]
     },
     "execution_count": 1133,
     "metadata": {},
     "output_type": "execute_result"
    }
   ],
   "source": [
    "test12 = PoissonBracket(test5,C(x,px),coords=[x,y],mom=[px,py])\n",
    "test12"
   ]
  },
  {
   "cell_type": "code",
   "execution_count": 1134,
   "metadata": {},
   "outputs": [
    {
     "data": {
      "text/latex": [
       "$\\displaystyle \\left(- \\frac{\\partial}{\\partial p_{x}} A{\\left(x,p_{x} \\right)} \\frac{\\partial^{2}}{\\partial x^{2}} B{\\left(x,y,p_{y} \\right)} - \\frac{\\partial^{2}}{\\partial x\\partial p_{x}} A{\\left(x,p_{x} \\right)} \\frac{\\partial}{\\partial x} B{\\left(x,y,p_{y} \\right)}\\right) \\frac{\\partial}{\\partial p_{x}} C{\\left(x,p_{x} \\right)} + \\frac{\\partial^{2}}{\\partial p_{x}^{2}} A{\\left(x,p_{x} \\right)} \\frac{\\partial}{\\partial x} B{\\left(x,y,p_{y} \\right)} \\frac{\\partial}{\\partial x} C{\\left(x,p_{x} \\right)}$"
      ],
      "text/plain": [
       "(-Derivative(A(x, p_x), p_x)*Derivative(B(x, y, p_y), (x, 2)) - Derivative(A(x, p_x), p_x, x)*Derivative(B(x, y, p_y), x))*Derivative(C(x, p_x), p_x) + Derivative(A(x, p_x), (p_x, 2))*Derivative(B(x, y, p_y), x)*Derivative(C(x, p_x), x)"
      ]
     },
     "execution_count": 1134,
     "metadata": {},
     "output_type": "execute_result"
    }
   ],
   "source": [
    "test12.doit()"
   ]
  },
  {
   "cell_type": "code",
   "execution_count": 1135,
   "metadata": {},
   "outputs": [
    {
     "name": "stdout",
     "output_type": "stream",
     "text": [
      "['A + B', 'C']\n"
     ]
    },
    {
     "data": {
      "text/latex": [
       "$\\displaystyle \\lbrace A + B,C\\rbrace$"
      ],
      "text/plain": [
       "PoissonBracket(A(x, p_x) + B(x, y, p_y), C(x, p_x))"
      ]
     },
     "execution_count": 1135,
     "metadata": {},
     "output_type": "execute_result"
    }
   ],
   "source": [
    "test13 = PoissonBracket(A(x,px)+B(x,y,py),C(x,px),coords=[x,y],mom=[px,py])\n",
    "test13"
   ]
  },
  {
   "cell_type": "code",
   "execution_count": 1136,
   "metadata": {},
   "outputs": [
    {
     "data": {
      "text/plain": [
       "((Derivative(A(x, p_x), x) + Derivative(B(x, y, p_y), x))*Derivative(C(x, p_x), p_x) - Derivative(A(x, p_x), p_x)*Derivative(C(x, p_x), x),)"
      ]
     },
     "execution_count": 1136,
     "metadata": {},
     "output_type": "execute_result"
    }
   ],
   "source": [
    "test13.doit(),"
   ]
  },
  {
   "cell_type": "code",
   "execution_count": 1137,
   "metadata": {},
   "outputs": [
    {
     "name": "stdout",
     "output_type": "stream",
     "text": [
      "['A', 'B + C']\n"
     ]
    },
    {
     "data": {
      "text/latex": [
       "$\\displaystyle \\lbrace A,B + C\\rbrace$"
      ],
      "text/plain": [
       "PoissonBracket(A(x, p_x), B(x, y, p_y) + C(x, p_x))"
      ]
     },
     "execution_count": 1137,
     "metadata": {},
     "output_type": "execute_result"
    }
   ],
   "source": [
    "test14 = PoissonBracket(A(x,px),B(x,y,py) + C(x,px),coords=[x,y],mom=[px,py])\n",
    "test14"
   ]
  },
  {
   "cell_type": "code",
   "execution_count": 1138,
   "metadata": {},
   "outputs": [
    {
     "data": {
      "text/plain": [
       "(-Derivative(A(x, p_x), p_x)*(Derivative(B(x, y, p_y), x) + Derivative(C(x, p_x), x)) + Derivative(A(x, p_x), x)*Derivative(C(x, p_x), p_x),)"
      ]
     },
     "execution_count": 1138,
     "metadata": {},
     "output_type": "execute_result"
    }
   ],
   "source": [
    "test14.doit(),"
   ]
  },
  {
   "cell_type": "code",
   "execution_count": 1139,
   "metadata": {},
   "outputs": [
    {
     "name": "stdout",
     "output_type": "stream",
     "text": [
      "['A * B', 'C']\n"
     ]
    },
    {
     "data": {
      "text/latex": [
       "$\\displaystyle \\lbrace A * B,C\\rbrace$"
      ],
      "text/plain": [
       "PoissonBracket(A(x, p_x)*B(x, y, p_y), C(x, p_x))"
      ]
     },
     "execution_count": 1139,
     "metadata": {},
     "output_type": "execute_result"
    }
   ],
   "source": [
    "test15 = PoissonBracket(A(x,px)*B(x,y,py),C(x,px),coords=[x,y],mom=[px,py])\n",
    "test15"
   ]
  },
  {
   "cell_type": "code",
   "execution_count": 1140,
   "metadata": {},
   "outputs": [
    {
     "data": {
      "text/plain": [
       "((A(x, p_x)*Derivative(B(x, y, p_y), x) + Derivative(A(x, p_x), x)*B(x, y, p_y))*Derivative(C(x, p_x), p_x) - Derivative(A(x, p_x), p_x)*B(x, y, p_y)*Derivative(C(x, p_x), x),)"
      ]
     },
     "execution_count": 1140,
     "metadata": {},
     "output_type": "execute_result"
    }
   ],
   "source": [
    "test15.doit(),"
   ]
  },
  {
   "cell_type": "code",
   "execution_count": 1141,
   "metadata": {},
   "outputs": [
    {
     "name": "stdout",
     "output_type": "stream",
     "text": [
      "['A', 'B * C']\n"
     ]
    },
    {
     "data": {
      "text/latex": [
       "$\\displaystyle \\lbrace A,B * C\\rbrace$"
      ],
      "text/plain": [
       "PoissonBracket(A(x, p_x), B(x, y, p_y)*C(x, p_x))"
      ]
     },
     "execution_count": 1141,
     "metadata": {},
     "output_type": "execute_result"
    }
   ],
   "source": [
    "test16 = PoissonBracket(A(x,px),B(x,y,py)*C(x,px),coords=[x,y],mom=[px,py])\n",
    "test16"
   ]
  },
  {
   "cell_type": "code",
   "execution_count": 1142,
   "metadata": {},
   "outputs": [
    {
     "data": {
      "text/plain": [
       "(-Derivative(A(x, p_x), p_x)*(B(x, y, p_y)*Derivative(C(x, p_x), x) + Derivative(B(x, y, p_y), x)*C(x, p_x)) + Derivative(A(x, p_x), x)*B(x, y, p_y)*Derivative(C(x, p_x), p_x),)"
      ]
     },
     "execution_count": 1142,
     "metadata": {},
     "output_type": "execute_result"
    }
   ],
   "source": [
    "test16.doit(),"
   ]
  },
  {
   "cell_type": "code",
   "execution_count": 1143,
   "metadata": {},
   "outputs": [
    {
     "name": "stdout",
     "output_type": "stream",
     "text": [
      "['A^3', 'B']\n"
     ]
    },
    {
     "data": {
      "text/latex": [
       "$\\displaystyle \\lbrace A^3,B\\rbrace$"
      ],
      "text/plain": [
       "PoissonBracket(A(x, p_x)**3, B(x, y, p_y))"
      ]
     },
     "execution_count": 1143,
     "metadata": {},
     "output_type": "execute_result"
    }
   ],
   "source": [
    "test17 = PoissonBracket(A(x,px)**3,B(x,y,py),coords=[x,y],mom=[px,py])\n",
    "test17"
   ]
  },
  {
   "cell_type": "code",
   "execution_count": 1144,
   "metadata": {},
   "outputs": [
    {
     "data": {
      "text/plain": [
       "(-3*A(x, p_x)**3*Derivative(A(x, p_x), p_x)*A(x, p_x)**(-1)*Derivative(B(x, y, p_y), x),)"
      ]
     },
     "execution_count": 1144,
     "metadata": {},
     "output_type": "execute_result"
    }
   ],
   "source": [
    "test17.doit(),"
   ]
  },
  {
   "cell_type": "code",
   "execution_count": 1145,
   "metadata": {},
   "outputs": [
    {
     "name": "stdout",
     "output_type": "stream",
     "text": [
      "['A', 'B']\n",
      "['\\\\lbrace A,B\\\\rbrace', 'C']\n",
      "['\\\\lbrace \\\\lbrace A,B\\\\rbrace,C\\\\rbrace', 'D']\n"
     ]
    },
    {
     "data": {
      "text/latex": [
       "$\\displaystyle \\lbrace \\lbrace \\lbrace A,B\\rbrace,C\\rbrace,D\\rbrace$"
      ],
      "text/plain": [
       "PoissonBracket(PoissonBracket(PoissonBracket(A(x, p_x), B(x, y, p_y)), C(x, p_x)), D(x, y))"
      ]
     },
     "execution_count": 1145,
     "metadata": {},
     "output_type": "execute_result"
    }
   ],
   "source": [
    "test18 = PoissonBracket(test12,D(x,y),coords=[x,y],mom=[px,py])\n",
    "test18"
   ]
  },
  {
   "cell_type": "code",
   "execution_count": 1152,
   "metadata": {},
   "outputs": [
    {
     "data": {
      "text/plain": [
       "False"
      ]
     },
     "execution_count": 1152,
     "metadata": {},
     "output_type": "execute_result"
    }
   ],
   "source": [
    "test18.doit() == -((-Derivative(A(x, px), px)*Derivative(B(x, y, py), py, (x, 2)) - Derivative(A(x, px), px, x)*Derivative(B(x, y, py), py, x))*Derivative(C(x, px), px) + Derivative(A(x, px), (px, 2))*Derivative(B(x, y, py), py, x)*Derivative(C(x, px), x))*Derivative(D(x, y), y) - ((-Derivative(A(x, px), px)*Derivative(B(x, y, py), (x, 2)) - Derivative(A(x, px), px, x)*Derivative(B(x, y, py), x))*Derivative(C(x, px), (px, 2)) + (-Derivative(A(x, px), (px, 2))*Derivative(B(x, y, py), (x, 2)) - Derivative(A(x, px), (px, 2), x)*Derivative(B(x, y, py), x))*Derivative(C(x, px), px) + Derivative(A(x, px), (px, 2))*Derivative(B(x, y, py), x)*Derivative(C(x, px), px, x) + Derivative(A(x, px), (px, 3))*Derivative(B(x, y, py), x)*Derivative(C(x, px), x))*Derivative(D(x, y), x)"
   ]
  },
  {
   "cell_type": "code",
   "execution_count": 1153,
   "metadata": {},
   "outputs": [
    {
     "data": {
      "text/latex": [
       "$\\displaystyle - \\left(\\left(- \\frac{\\partial}{\\partial p_{x}} A{\\left(x,p_{x} \\right)} \\frac{\\partial^{3}}{\\partial x^{2}\\partial p_{y}} B{\\left(x,y,p_{y} \\right)} - \\frac{\\partial^{2}}{\\partial x\\partial p_{x}} A{\\left(x,p_{x} \\right)} \\frac{\\partial^{2}}{\\partial x\\partial p_{y}} B{\\left(x,y,p_{y} \\right)}\\right) \\frac{\\partial}{\\partial p_{x}} C{\\left(x,p_{x} \\right)} + \\frac{\\partial^{2}}{\\partial p_{x}^{2}} A{\\left(x,p_{x} \\right)} \\frac{\\partial^{2}}{\\partial x\\partial p_{y}} B{\\left(x,y,p_{y} \\right)} \\frac{\\partial}{\\partial x} C{\\left(x,p_{x} \\right)}\\right) \\frac{\\partial}{\\partial y} D{\\left(x,y \\right)} - \\left(\\left(- \\frac{\\partial}{\\partial p_{x}} A{\\left(x,p_{x} \\right)} \\frac{\\partial^{2}}{\\partial x^{2}} B{\\left(x,y,p_{y} \\right)} - \\frac{\\partial^{2}}{\\partial x\\partial p_{x}} A{\\left(x,p_{x} \\right)} \\frac{\\partial}{\\partial x} B{\\left(x,y,p_{y} \\right)}\\right) \\frac{\\partial^{2}}{\\partial p_{x}^{2}} C{\\left(x,p_{x} \\right)} + \\left(- \\frac{\\partial^{2}}{\\partial p_{x}^{2}} A{\\left(x,p_{x} \\right)} \\frac{\\partial^{2}}{\\partial x^{2}} B{\\left(x,y,p_{y} \\right)} - \\frac{\\partial^{3}}{\\partial x\\partial p_{x}^{2}} A{\\left(x,p_{x} \\right)} \\frac{\\partial}{\\partial x} B{\\left(x,y,p_{y} \\right)}\\right) \\frac{\\partial}{\\partial p_{x}} C{\\left(x,p_{x} \\right)} + \\frac{\\partial^{2}}{\\partial p_{x}^{2}} A{\\left(x,p_{x} \\right)} \\frac{\\partial}{\\partial x} B{\\left(x,y,p_{y} \\right)} \\frac{\\partial^{2}}{\\partial x\\partial p_{x}} C{\\left(x,p_{x} \\right)} + \\frac{\\partial^{3}}{\\partial p_{x}^{3}} A{\\left(x,p_{x} \\right)} \\frac{\\partial}{\\partial x} B{\\left(x,y,p_{y} \\right)} \\frac{\\partial}{\\partial x} C{\\left(x,p_{x} \\right)}\\right) \\frac{\\partial}{\\partial x} D{\\left(x,y \\right)}$"
      ],
      "text/plain": [
       "-((-Derivative(A(x, p_x), p_x)*Derivative(B(x, y, p_y), p_y, (x, 2)) - Derivative(A(x, p_x), p_x, x)*Derivative(B(x, y, p_y), p_y, x))*Derivative(C(x, p_x), p_x) + Derivative(A(x, p_x), (p_x, 2))*Derivative(B(x, y, p_y), p_y, x)*Derivative(C(x, p_x), x))*Derivative(D(x, y), y) - ((-Derivative(A(x, p_x), p_x)*Derivative(B(x, y, p_y), (x, 2)) - Derivative(A(x, p_x), p_x, x)*Derivative(B(x, y, p_y), x))*Derivative(C(x, p_x), (p_x, 2)) + (-Derivative(A(x, p_x), (p_x, 2))*Derivative(B(x, y, p_y), (x, 2)) - Derivative(A(x, p_x), (p_x, 2), x)*Derivative(B(x, y, p_y), x))*Derivative(C(x, p_x), p_x) + Derivative(A(x, p_x), (p_x, 2))*Derivative(B(x, y, p_y), x)*Derivative(C(x, p_x), p_x, x) + Derivative(A(x, p_x), (p_x, 3))*Derivative(B(x, y, p_y), x)*Derivative(C(x, p_x), x))*Derivative(D(x, y), x)"
      ]
     },
     "execution_count": 1153,
     "metadata": {},
     "output_type": "execute_result"
    }
   ],
   "source": [
    "test18.doit()"
   ]
  },
  {
   "cell_type": "code",
   "execution_count": 1156,
   "metadata": {},
   "outputs": [
    {
     "data": {
      "text/plain": [
       "(-((-Derivative(A(x, p_x), p_x)*Derivative(B(x, y, p_y), p_y, (x, 2)) - Derivative(A(x, p_x), p_x, x)*Derivative(B(x, y, p_y), p_y, x))*Derivative(C(x, p_x), p_x) + Derivative(A(x, p_x), (p_x, 2))*Derivative(B(x, y, p_y), p_y, x)*Derivative(C(x, p_x), x))*Derivative(D(x, y), y) - ((-Derivative(A(x, p_x), p_x)*Derivative(B(x, y, p_y), (x, 2)) - Derivative(A(x, p_x), p_x, x)*Derivative(B(x, y, p_y), x))*Derivative(C(x, p_x), (p_x, 2)) + (-Derivative(A(x, p_x), (p_x, 2))*Derivative(B(x, y, p_y), (x, 2)) - Derivative(A(x, p_x), (p_x, 2), x)*Derivative(B(x, y, p_y), x))*Derivative(C(x, p_x), p_x) + Derivative(A(x, p_x), (p_x, 2))*Derivative(B(x, y, p_y), x)*Derivative(C(x, p_x), p_x, x) + Derivative(A(x, p_x), (p_x, 3))*Derivative(B(x, y, p_y), x)*Derivative(C(x, p_x), x))*Derivative(D(x, y), x),)"
      ]
     },
     "execution_count": 1156,
     "metadata": {},
     "output_type": "execute_result"
    }
   ],
   "source": [
    "test18.doit(),"
   ]
  },
  {
   "cell_type": "code",
   "execution_count": 1147,
   "metadata": {},
   "outputs": [
    {
     "name": "stdout",
     "output_type": "stream",
     "text": [
      "['A + B', 'C']\n",
      "['\\\\lbrace A + B,C\\\\rbrace', 'D']\n"
     ]
    },
    {
     "data": {
      "text/latex": [
       "$\\displaystyle \\lbrace \\lbrace A + B,C\\rbrace,D\\rbrace$"
      ],
      "text/plain": [
       "PoissonBracket(PoissonBracket(A(x, p_x) + B(x, y, p_y), C(x, p_x)), D(x, y))"
      ]
     },
     "execution_count": 1147,
     "metadata": {},
     "output_type": "execute_result"
    }
   ],
   "source": [
    "test19 = PoissonBracket(test13,D(x,y),coords=[x,y],mom=[px,py])\n",
    "test19"
   ]
  },
  {
   "cell_type": "code",
   "execution_count": 1149,
   "metadata": {},
   "outputs": [
    {
     "data": {
      "text/plain": [
       "(-((Derivative(A(x, p_x), x) + Derivative(B(x, y, p_y), x))*Derivative(C(x, p_x), (p_x, 2)) - Derivative(A(x, p_x), p_x)*Derivative(C(x, p_x), p_x, x) - Derivative(A(x, p_x), (p_x, 2))*Derivative(C(x, p_x), x) + Derivative(A(x, p_x), p_x, x)*Derivative(C(x, p_x), p_x))*Derivative(D(x, y), x) - Derivative(B(x, y, p_y), p_y, x)*Derivative(C(x, p_x), p_x)*Derivative(D(x, y), y),)"
      ]
     },
     "execution_count": 1149,
     "metadata": {},
     "output_type": "execute_result"
    }
   ],
   "source": [
    "test19.doit(),"
   ]
  },
  {
   "cell_type": "code",
   "execution_count": 1085,
   "metadata": {},
   "outputs": [
    {
     "data": {
      "text/plain": [
       "(None, None, None, [x], [x, y])"
      ]
     },
     "execution_count": 1085,
     "metadata": {},
     "output_type": "execute_result"
    }
   ],
   "source": [
    "test1.indep_coords,test2.indep_coords,test3.indep_coords, test4.indep_coords, test5.indep_coords"
   ]
  },
  {
   "cell_type": "code",
   "execution_count": 505,
   "metadata": {},
   "outputs": [
    {
     "data": {
      "text/plain": [
       "(None, None, None, None, None, None)"
      ]
     },
     "execution_count": 505,
     "metadata": {},
     "output_type": "execute_result"
    }
   ],
   "source": [
    "test6.indep_coords,test7.indep_coords,test8.indep_coords, test9.indep_coords, test10.indep_coords, test11.indep_coords"
   ]
  },
  {
   "cell_type": "code",
   "execution_count": 506,
   "metadata": {},
   "outputs": [
    {
     "data": {
      "text/plain": [
       "(None, None, None, [p_x], [p_x, p_y])"
      ]
     },
     "execution_count": 506,
     "metadata": {},
     "output_type": "execute_result"
    }
   ],
   "source": [
    "test1.indep_mom, test2.indep_mom, test3.indep_mom, test4.indep_mom, test5.indep_mom"
   ]
  },
  {
   "cell_type": "code",
   "execution_count": 507,
   "metadata": {},
   "outputs": [
    {
     "data": {
      "text/plain": [
       "(set(), {p_x, x}, {p_x, p_y, x, y}, {p_x, x}, {p_x, p_y, x, y})"
      ]
     },
     "execution_count": 507,
     "metadata": {},
     "output_type": "execute_result"
    }
   ],
   "source": [
    "test1.free_symbols, test2.free_symbols, test3.free_symbols, test4.free_symbols, test5.free_symbols"
   ]
  },
  {
   "cell_type": "code",
   "execution_count": 508,
   "metadata": {},
   "outputs": [
    {
     "data": {
      "text/plain": [
       "(set(),\n",
       " {p_x, x},\n",
       " {p_x, p_y, x, y},\n",
       " {p_x, x},\n",
       " {p_x, p_y, x, y},\n",
       " {p_x, p_y, x, y})"
      ]
     },
     "execution_count": 508,
     "metadata": {},
     "output_type": "execute_result"
    }
   ],
   "source": [
    "test6.free_symbols, test7.free_symbols, test8.free_symbols, test9.free_symbols, test10.free_symbols, test11.free_symbols"
   ]
  },
  {
   "cell_type": "code",
   "execution_count": 509,
   "metadata": {},
   "outputs": [
    {
     "data": {
      "text/plain": [
       "(PoissonBracket(A, B),\n",
       " PoissonBracket(x**2, p_x + x),\n",
       " PoissonBracket(A(x, p_x), B(y, p_y)),\n",
       " 2*x,\n",
       " -Derivative(A(x, p_x), p_x)*Derivative(B(x, y, p_y), x))"
      ]
     },
     "execution_count": 509,
     "metadata": {},
     "output_type": "execute_result"
    }
   ],
   "source": [
    "test1.expr, test2.expr, test3.expr, test4.expr, test5.expr"
   ]
  },
  {
   "cell_type": "code",
   "execution_count": 510,
   "metadata": {},
   "outputs": [
    {
     "data": {
      "text/plain": [
       "(PoissonBracket(PoissonBracket(A, B), C),\n",
       " PoissonBracket(PoissonBracket(x**2, p_x + x), C),\n",
       " PoissonBracket(PoissonBracket(A(x, p_x), B(y, p_y)), C),\n",
       " PoissonBracket(PoissonBracket(x**2, p_x + x), C),\n",
       " PoissonBracket(PoissonBracket(A(x, p_x), B(x, y, p_y)), C),\n",
       " PoissonBracket(PoissonBracket(A(x, p_x), B(x, y, p_y)), C(x, p_x)),\n",
       " (-Derivative(A(x, p_x), p_x)*Derivative(B(x, y, p_y), (x, 2)) - Derivative(A(x, p_x), p_x, x)*Derivative(B(x, y, p_y), x))*Derivative(C(x, p_x), p_x) + Derivative(A(x, p_x), (p_x, 2))*Derivative(B(x, y, p_y), x)*Derivative(C(x, p_x), x))"
      ]
     },
     "execution_count": 510,
     "metadata": {},
     "output_type": "execute_result"
    }
   ],
   "source": [
    "test6.expr, test7.expr, test8.expr, test9.expr, test10.expr, test11.expr, test12.expr"
   ]
  },
  {
   "cell_type": "code",
   "execution_count": 511,
   "metadata": {},
   "outputs": [
    {
     "data": {
      "text/plain": [
       "(PoissonBracket(A, B),\n",
       " PoissonBracket(x**2, p_x + x),\n",
       " PoissonBracket(A(x, p_x), B(y, p_y)),\n",
       " 2*x,\n",
       " -Derivative(A(x, p_x), p_x)*Derivative(B(x, y, p_y), x))"
      ]
     },
     "execution_count": 511,
     "metadata": {},
     "output_type": "execute_result"
    }
   ],
   "source": [
    "test1.doit(), test2.doit(), test3.doit(), test4.doit(), test5.doit()"
   ]
  },
  {
   "cell_type": "code",
   "execution_count": 512,
   "metadata": {},
   "outputs": [
    {
     "data": {
      "text/plain": [
       "(PoissonBracket(PoissonBracket(A, B), C),\n",
       " PoissonBracket(PoissonBracket(x**2, p_x + x), C),\n",
       " PoissonBracket(PoissonBracket(A(x, p_x), B(y, p_y)), C),\n",
       " PoissonBracket(PoissonBracket(x**2, p_x + x), C),\n",
       " PoissonBracket(PoissonBracket(A(x, p_x), B(x, y, p_y)), C),\n",
       " PoissonBracket(PoissonBracket(A(x, p_x), B(x, y, p_y)), C(x, p_x)),\n",
       " (-Derivative(A(x, p_x), p_x)*Derivative(B(x, y, p_y), (x, 2)) - Derivative(A(x, p_x), p_x, x)*Derivative(B(x, y, p_y), x))*Derivative(C(x, p_x), p_x) + Derivative(A(x, p_x), (p_x, 2))*Derivative(B(x, y, p_y), x)*Derivative(C(x, p_x), x))"
      ]
     },
     "execution_count": 512,
     "metadata": {},
     "output_type": "execute_result"
    }
   ],
   "source": [
    "test6.doit(), test7.doit(), test8.doit(), test9.doit(), test10.doit(), test11.doit(), test12.doit()"
   ]
  },
  {
   "cell_type": "code",
   "execution_count": 513,
   "metadata": {},
   "outputs": [
    {
     "data": {
      "text/latex": [
       "$\\displaystyle 2 x$"
      ],
      "text/plain": [
       "2*x"
      ]
     },
     "execution_count": 513,
     "metadata": {},
     "output_type": "execute_result"
    }
   ],
   "source": [
    "test4.doit()"
   ]
  },
  {
   "cell_type": "code",
   "execution_count": 514,
   "metadata": {},
   "outputs": [
    {
     "data": {
      "text/latex": [
       "$\\displaystyle - \\frac{\\partial}{\\partial p_{x}} A{\\left(x,p_{x} \\right)} \\frac{\\partial}{\\partial x} B{\\left(x,y,p_{y} \\right)}$"
      ],
      "text/plain": [
       "-Derivative(A(x, p_x), p_x)*Derivative(B(x, y, p_y), x)"
      ]
     },
     "execution_count": 514,
     "metadata": {},
     "output_type": "execute_result"
    }
   ],
   "source": [
    "test5.doit()"
   ]
  },
  {
   "cell_type": "code",
   "execution_count": 515,
   "metadata": {},
   "outputs": [
    {
     "data": {
      "text/latex": [
       "$\\displaystyle \\left(- \\frac{\\partial}{\\partial p_{x}} A{\\left(x,p_{x} \\right)} \\frac{\\partial^{2}}{\\partial x^{2}} B{\\left(x,y,p_{y} \\right)} - \\frac{\\partial^{2}}{\\partial x\\partial p_{x}} A{\\left(x,p_{x} \\right)} \\frac{\\partial}{\\partial x} B{\\left(x,y,p_{y} \\right)}\\right) \\frac{\\partial}{\\partial p_{x}} C{\\left(x,p_{x} \\right)} + \\frac{\\partial^{2}}{\\partial p_{x}^{2}} A{\\left(x,p_{x} \\right)} \\frac{\\partial}{\\partial x} B{\\left(x,y,p_{y} \\right)} \\frac{\\partial}{\\partial x} C{\\left(x,p_{x} \\right)}$"
      ],
      "text/plain": [
       "(-Derivative(A(x, p_x), p_x)*Derivative(B(x, y, p_y), (x, 2)) - Derivative(A(x, p_x), p_x, x)*Derivative(B(x, y, p_y), x))*Derivative(C(x, p_x), p_x) + Derivative(A(x, p_x), (p_x, 2))*Derivative(B(x, y, p_y), x)*Derivative(C(x, p_x), x)"
      ]
     },
     "execution_count": 515,
     "metadata": {},
     "output_type": "execute_result"
    }
   ],
   "source": [
    "test12.doit()"
   ]
  },
  {
   "cell_type": "code",
   "execution_count": 516,
   "metadata": {},
   "outputs": [
    {
     "data": {
      "text/latex": [
       "$\\displaystyle \\left(\\frac{\\partial}{\\partial x} A{\\left(x,p_{x} \\right)} + \\frac{\\partial}{\\partial x} B{\\left(x,y,p_{y} \\right)}\\right) \\frac{\\partial}{\\partial p_{x}} C{\\left(x,p_{x} \\right)} - \\frac{\\partial}{\\partial p_{x}} A{\\left(x,p_{x} \\right)} \\frac{\\partial}{\\partial x} C{\\left(x,p_{x} \\right)}$"
      ],
      "text/plain": [
       "(Derivative(A(x, p_x), x) + Derivative(B(x, y, p_y), x))*Derivative(C(x, p_x), p_x) - Derivative(A(x, p_x), p_x)*Derivative(C(x, p_x), x)"
      ]
     },
     "execution_count": 516,
     "metadata": {},
     "output_type": "execute_result"
    }
   ],
   "source": [
    "test13.doit()"
   ]
  },
  {
   "cell_type": "code",
   "execution_count": 517,
   "metadata": {},
   "outputs": [
    {
     "name": "stdout",
     "output_type": "stream",
     "text": [
      "<class '__main__.PoissonBracket'>\n",
      "<class '__main__.PoissonBracket'>\n",
      "[PoissonBracket(A(x, p_x), C(x, p_x)), PoissonBracket(B(x, y, p_y), C(x, p_x))]\n"
     ]
    },
    {
     "data": {
      "text/latex": [
       "$\\displaystyle \\lbrace A,C\\rbrace + \\lbrace B,C\\rbrace$"
      ],
      "text/plain": [
       "PoissonBracket(A(x, p_x), C(x, p_x)) + PoissonBracket(B(x, y, p_y), C(x, p_x))"
      ]
     },
     "execution_count": 517,
     "metadata": {},
     "output_type": "execute_result"
    }
   ],
   "source": [
    "test13.expand(commutator=True)"
   ]
  },
  {
   "cell_type": "code",
   "execution_count": 518,
   "metadata": {},
   "outputs": [
    {
     "data": {
      "text/latex": [
       "$\\displaystyle \\lbrace A,B\\rbrace + \\lbrace A,C\\rbrace$"
      ],
      "text/plain": [
       "PoissonBracket(A(x, p_x), B(x, y, p_y)) + PoissonBracket(A(x, p_x), C(x, p_x))"
      ]
     },
     "execution_count": 518,
     "metadata": {},
     "output_type": "execute_result"
    }
   ],
   "source": [
    "test14.expand(commutator=True)"
   ]
  },
  {
   "cell_type": "code",
   "execution_count": 519,
   "metadata": {},
   "outputs": [
    {
     "data": {
      "text/latex": [
       "$\\displaystyle A{\\left(x,p_{x} \\right)} \\lbrace B,C\\rbrace + \\lbrace A,C\\rbrace B{\\left(x,y,p_{y} \\right)}$"
      ],
      "text/plain": [
       "A(x, p_x)*PoissonBracket(B(x, y, p_y), C(x, p_x)) + PoissonBracket(A(x, p_x), C(x, p_x))*B(x, y, p_y)"
      ]
     },
     "execution_count": 519,
     "metadata": {},
     "output_type": "execute_result"
    }
   ],
   "source": [
    "test15.expand(commutator=True)"
   ]
  },
  {
   "cell_type": "code",
   "execution_count": 520,
   "metadata": {},
   "outputs": [
    {
     "data": {
      "text/latex": [
       "$\\displaystyle B{\\left(x,y,p_{y} \\right)} \\lbrace A,C\\rbrace + \\lbrace A,B\\rbrace C{\\left(x,p_{x} \\right)}$"
      ],
      "text/plain": [
       "B(x, y, p_y)*PoissonBracket(A(x, p_x), C(x, p_x)) + PoissonBracket(A(x, p_x), B(x, y, p_y))*C(x, p_x)"
      ]
     },
     "execution_count": 520,
     "metadata": {},
     "output_type": "execute_result"
    }
   ],
   "source": [
    "test16.expand(commutator=True).doit()"
   ]
  },
  {
   "cell_type": "code",
   "execution_count": 521,
   "metadata": {},
   "outputs": [
    {
     "data": {
      "text/latex": [
       "$\\displaystyle A{\\left(x,p_{x} \\right)} \\lbrace A,B\\rbrace A{\\left(x,p_{x} \\right)} + A^{2}{\\left(x,p_{x} \\right)} \\lbrace A,B\\rbrace + \\lbrace A,B\\rbrace A^{2}{\\left(x,p_{x} \\right)}$"
      ],
      "text/plain": [
       "A(x, p_x)*PoissonBracket(A(x, p_x), B(x, y, p_y))*A(x, p_x) + A(x, p_x)**2*PoissonBracket(A(x, p_x), B(x, y, p_y)) + PoissonBracket(A(x, p_x), B(x, y, p_y))*A(x, p_x)**2"
      ]
     },
     "execution_count": 521,
     "metadata": {},
     "output_type": "execute_result"
    }
   ],
   "source": [
    "test17.expand(commutator=True).doit()"
   ]
  },
  {
   "cell_type": "code",
   "execution_count": 522,
   "metadata": {},
   "outputs": [
    {
     "data": {
      "text/latex": [
       "$\\displaystyle - \\left(\\left(- \\frac{\\partial}{\\partial p_{x}} A{\\left(x,p_{x} \\right)} \\frac{\\partial^{3}}{\\partial x^{2}\\partial p_{y}} B{\\left(x,y,p_{y} \\right)} - \\frac{\\partial^{2}}{\\partial x\\partial p_{x}} A{\\left(x,p_{x} \\right)} \\frac{\\partial^{2}}{\\partial x\\partial p_{y}} B{\\left(x,y,p_{y} \\right)}\\right) \\frac{\\partial}{\\partial p_{x}} C{\\left(x,p_{x} \\right)} + \\frac{\\partial^{2}}{\\partial p_{x}^{2}} A{\\left(x,p_{x} \\right)} \\frac{\\partial^{2}}{\\partial x\\partial p_{y}} B{\\left(x,y,p_{y} \\right)} \\frac{\\partial}{\\partial x} C{\\left(x,p_{x} \\right)}\\right) \\frac{\\partial}{\\partial y} D{\\left(x,y \\right)} - \\left(\\left(- \\frac{\\partial}{\\partial p_{x}} A{\\left(x,p_{x} \\right)} \\frac{\\partial^{2}}{\\partial x^{2}} B{\\left(x,y,p_{y} \\right)} - \\frac{\\partial^{2}}{\\partial x\\partial p_{x}} A{\\left(x,p_{x} \\right)} \\frac{\\partial}{\\partial x} B{\\left(x,y,p_{y} \\right)}\\right) \\frac{\\partial^{2}}{\\partial p_{x}^{2}} C{\\left(x,p_{x} \\right)} + \\left(- \\frac{\\partial^{2}}{\\partial p_{x}^{2}} A{\\left(x,p_{x} \\right)} \\frac{\\partial^{2}}{\\partial x^{2}} B{\\left(x,y,p_{y} \\right)} - \\frac{\\partial^{3}}{\\partial x\\partial p_{x}^{2}} A{\\left(x,p_{x} \\right)} \\frac{\\partial}{\\partial x} B{\\left(x,y,p_{y} \\right)}\\right) \\frac{\\partial}{\\partial p_{x}} C{\\left(x,p_{x} \\right)} + \\frac{\\partial^{2}}{\\partial p_{x}^{2}} A{\\left(x,p_{x} \\right)} \\frac{\\partial}{\\partial x} B{\\left(x,y,p_{y} \\right)} \\frac{\\partial^{2}}{\\partial x\\partial p_{x}} C{\\left(x,p_{x} \\right)} + \\frac{\\partial^{3}}{\\partial p_{x}^{3}} A{\\left(x,p_{x} \\right)} \\frac{\\partial}{\\partial x} B{\\left(x,y,p_{y} \\right)} \\frac{\\partial}{\\partial x} C{\\left(x,p_{x} \\right)}\\right) \\frac{\\partial}{\\partial x} D{\\left(x,y \\right)}$"
      ],
      "text/plain": [
       "-((-Derivative(A(x, p_x), p_x)*Derivative(B(x, y, p_y), p_y, (x, 2)) - Derivative(A(x, p_x), p_x, x)*Derivative(B(x, y, p_y), p_y, x))*Derivative(C(x, p_x), p_x) + Derivative(A(x, p_x), (p_x, 2))*Derivative(B(x, y, p_y), p_y, x)*Derivative(C(x, p_x), x))*Derivative(D(x, y), y) - ((-Derivative(A(x, p_x), p_x)*Derivative(B(x, y, p_y), (x, 2)) - Derivative(A(x, p_x), p_x, x)*Derivative(B(x, y, p_y), x))*Derivative(C(x, p_x), (p_x, 2)) + (-Derivative(A(x, p_x), (p_x, 2))*Derivative(B(x, y, p_y), (x, 2)) - Derivative(A(x, p_x), (p_x, 2), x)*Derivative(B(x, y, p_y), x))*Derivative(C(x, p_x), p_x) + Derivative(A(x, p_x), (p_x, 2))*Derivative(B(x, y, p_y), x)*Derivative(C(x, p_x), p_x, x) + Derivative(A(x, p_x), (p_x, 3))*Derivative(B(x, y, p_y), x)*Derivative(C(x, p_x), x))*Derivative(D(x, y), x)"
      ]
     },
     "execution_count": 522,
     "metadata": {},
     "output_type": "execute_result"
    }
   ],
   "source": [
    "test18.doit()"
   ]
  },
  {
   "cell_type": "code",
   "execution_count": 523,
   "metadata": {},
   "outputs": [
    {
     "data": {
      "text/latex": [
       "$\\displaystyle \\lbrace \\lbrace \\lbrace A,B\\rbrace,C\\rbrace,D\\rbrace$"
      ],
      "text/plain": [
       "PoissonBracket(PoissonBracket(PoissonBracket(A(x, p_x), B(x, y, p_y)), C(x, p_x)), D(x, y))"
      ]
     },
     "execution_count": 523,
     "metadata": {},
     "output_type": "execute_result"
    }
   ],
   "source": [
    "test18.expand(commutator=True)"
   ]
  },
  {
   "cell_type": "code",
   "execution_count": 524,
   "metadata": {},
   "outputs": [
    {
     "data": {
      "text/latex": [
       "$\\displaystyle - \\left(\\left(\\frac{\\partial}{\\partial x} A{\\left(x,p_{x} \\right)} + \\frac{\\partial}{\\partial x} B{\\left(x,y,p_{y} \\right)}\\right) \\frac{\\partial^{2}}{\\partial p_{x}^{2}} C{\\left(x,p_{x} \\right)} - \\frac{\\partial}{\\partial p_{x}} A{\\left(x,p_{x} \\right)} \\frac{\\partial^{2}}{\\partial x\\partial p_{x}} C{\\left(x,p_{x} \\right)} - \\frac{\\partial^{2}}{\\partial p_{x}^{2}} A{\\left(x,p_{x} \\right)} \\frac{\\partial}{\\partial x} C{\\left(x,p_{x} \\right)} + \\frac{\\partial^{2}}{\\partial x\\partial p_{x}} A{\\left(x,p_{x} \\right)} \\frac{\\partial}{\\partial p_{x}} C{\\left(x,p_{x} \\right)}\\right) \\frac{\\partial}{\\partial x} D{\\left(x,y \\right)} - \\frac{\\partial^{2}}{\\partial x\\partial p_{y}} B{\\left(x,y,p_{y} \\right)} \\frac{\\partial}{\\partial p_{x}} C{\\left(x,p_{x} \\right)} \\frac{\\partial}{\\partial y} D{\\left(x,y \\right)}$"
      ],
      "text/plain": [
       "-((Derivative(A(x, p_x), x) + Derivative(B(x, y, p_y), x))*Derivative(C(x, p_x), (p_x, 2)) - Derivative(A(x, p_x), p_x)*Derivative(C(x, p_x), p_x, x) - Derivative(A(x, p_x), (p_x, 2))*Derivative(C(x, p_x), x) + Derivative(A(x, p_x), p_x, x)*Derivative(C(x, p_x), p_x))*Derivative(D(x, y), x) - Derivative(B(x, y, p_y), p_y, x)*Derivative(C(x, p_x), p_x)*Derivative(D(x, y), y)"
      ]
     },
     "execution_count": 524,
     "metadata": {},
     "output_type": "execute_result"
    }
   ],
   "source": [
    "test19.doit()"
   ]
  },
  {
   "cell_type": "code",
   "execution_count": 525,
   "metadata": {},
   "outputs": [
    {
     "name": "stdout",
     "output_type": "stream",
     "text": [
      "<class '__main__.PoissonBracket'>\n",
      "<class '__main__.PoissonBracket'>\n",
      "[PoissonBracket(A(x, p_x), C(x, p_x)), PoissonBracket(B(x, y, p_y), C(x, p_x))]\n",
      "<class '__main__.PoissonBracket'>\n",
      "<class '__main__.PoissonBracket'>\n",
      "[PoissonBracket(PoissonBracket(A(x, p_x), C(x, p_x)), D(x, y)), PoissonBracket(PoissonBracket(B(x, y, p_y), C(x, p_x)), D(x, y))]\n"
     ]
    },
    {
     "data": {
      "text/latex": [
       "$\\displaystyle \\lbrace \\lbrace A,C\\rbrace,D\\rbrace + \\lbrace \\lbrace B,C\\rbrace,D\\rbrace$"
      ],
      "text/plain": [
       "PoissonBracket(PoissonBracket(A(x, p_x), C(x, p_x)), D(x, y)) + PoissonBracket(PoissonBracket(B(x, y, p_y), C(x, p_x)), D(x, y))"
      ]
     },
     "execution_count": 525,
     "metadata": {},
     "output_type": "execute_result"
    }
   ],
   "source": [
    "test19.expand(commutator=True)"
   ]
  },
  {
   "cell_type": "code",
   "execution_count": 546,
   "metadata": {},
   "outputs": [],
   "source": [
    "from sympy.printing.latex import print_latex\n",
    "from sympy import latex, Derivative"
   ]
  },
  {
   "cell_type": "code",
   "execution_count": 531,
   "metadata": {},
   "outputs": [
    {
     "data": {
      "text/plain": [
       "sympy.core.add.Add"
      ]
     },
     "execution_count": 531,
     "metadata": {},
     "output_type": "execute_result"
    }
   ],
   "source": [
    "test19.doit().__class__"
   ]
  },
  {
   "cell_type": "code",
   "execution_count": 541,
   "metadata": {},
   "outputs": [
    {
     "data": {
      "text/plain": [
       "'\\\\lbrace \\\\lbrace A{\\\\left(x,p_{x} \\\\right)} + B{\\\\left(x,y,p_{y} \\\\right)},C\\\\rbrace,D\\\\rbrace'"
      ]
     },
     "execution_count": 541,
     "metadata": {},
     "output_type": "execute_result"
    }
   ],
   "source": [
    "latex(test19)"
   ]
  },
  {
   "cell_type": "code",
   "execution_count": 543,
   "metadata": {},
   "outputs": [
    {
     "name": "stdout",
     "output_type": "stream",
     "text": [
      "\\lbrace \\lbrace A{\\left(x,p_{x} \\right)} + B{\\left(x,y,p_{y} \\right)},C\\rbrace,D\\rbrace\n"
     ]
    }
   ],
   "source": [
    "print_latex(test19)"
   ]
  },
  {
   "cell_type": "code",
   "execution_count": 551,
   "metadata": {},
   "outputs": [],
   "source": [
    "res12 = (-Derivative(A(x, px), px)*Derivative(B(x, y, py), (x, 2)) - Derivative(A(x, px), px, x)*Derivative(B(x, y, py), x))*Derivative(C(x, px), px) + Derivative(A(x, px), (px, 2))*Derivative(B(x, y, py), x)*Derivative(C(x, px), x)"
   ]
  },
  {
   "cell_type": "code",
   "execution_count": 552,
   "metadata": {},
   "outputs": [
    {
     "data": {
      "text/plain": [
       "True"
      ]
     },
     "execution_count": 552,
     "metadata": {},
     "output_type": "execute_result"
    }
   ],
   "source": [
    "test12.doit() == res12"
   ]
  },
  {
   "cell_type": "code",
   "execution_count": null,
   "metadata": {},
   "outputs": [],
   "source": []
  }
 ],
 "metadata": {
  "kernelspec": {
   "display_name": "Python 3",
   "language": "python",
   "name": "python3"
  },
  "language_info": {
   "codemirror_mode": {
    "name": "ipython",
    "version": 3
   },
   "file_extension": ".py",
   "mimetype": "text/x-python",
   "name": "python",
   "nbconvert_exporter": "python",
   "pygments_lexer": "ipython3",
   "version": "3.6.10"
  }
 },
 "nbformat": 4,
 "nbformat_minor": 4
}
