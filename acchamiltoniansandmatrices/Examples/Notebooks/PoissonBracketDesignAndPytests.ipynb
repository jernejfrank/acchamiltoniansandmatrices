{
 "cells": [
  {
   "cell_type": "code",
   "execution_count": 1,
   "metadata": {},
   "outputs": [
    {
     "data": {
      "text/html": [
       "<style>.container { width:90% !important; }</style>"
      ],
      "text/plain": [
       "<IPython.core.display.HTML object>"
      ]
     },
     "metadata": {},
     "output_type": "display_data"
    }
   ],
   "source": [
    "from IPython.core.display import display, HTML\n",
    "display(HTML(\"<style>.container { width:90% !important; }</style>\"))"
   ]
  },
  {
   "cell_type": "code",
   "execution_count": 129,
   "metadata": {},
   "outputs": [],
   "source": [
    "from __future__ import print_function, division\n",
    "\n",
    "from sympy import S, Expr, Mul,Add, Pow, symbols, Function, Derivative, simplify\n",
    "from sympy.physics.quantum import Operator\n",
    "from sympy.printing.latex import print_latex\n",
    "from sympy.printing.pretty.stringpict import prettyForm\n",
    "\n",
    "\n",
    "from sympy import S, Expr, Mul, Add, Pow, Rational\n",
    "from sympy.printing.pretty.stringpict import prettyForm\n",
    "\n",
    "from sympy.physics.quantum.dagger import Dagger\n",
    "from sympy.physics.quantum.operator import Operator\n",
    "\n",
    "from sympy.core.decorators import _sympifyit, call_highest_priority\n",
    "from sympy.core.function import UndefinedFunction\n",
    "\n",
    "from termcolor import colored"
   ]
  },
  {
   "cell_type": "code",
   "execution_count": 3,
   "metadata": {},
   "outputs": [],
   "source": [
    "A = Function(\"A\", commutative=False)\n",
    "B = Function(\"B\", commutative=False)\n",
    "C = Function(\"C\", commutative=False)\n",
    "D = Function(\"D\", commutative=False)\n",
    "\n",
    "x, px, y, py = symbols(\"x px y py\")\n",
    "\n",
    "half = Rational(1, 2)"
   ]
  },
  {
   "cell_type": "markdown",
   "metadata": {},
   "source": [
    "# Reduced class for debugging"
   ]
  },
  {
   "cell_type": "code",
   "execution_count": 144,
   "metadata": {},
   "outputs": [],
   "source": [
    "class pb(Expr):\n",
    "    _is_commutative = False\n",
    "#     def __init__(self, A,B,debug=True, **kwargs):\n",
    "#         self.A =A\n",
    "#         self.B =B\n",
    "#         self.order = None\n",
    "#         self.indep_coords = kwargs.get(\"coords\",None)\n",
    "#         self.indep_mom = kwargs.get(\"mom\",None)\n",
    "#         print(self.indep_coords, self.indep_mom)\n",
    "#         self.debug = debug\n",
    "    \n",
    "    def __new__(cls,A,B,debug=True,**kwargs):\n",
    "        r = cls.eval(A,B,debug=debug)#,**kwargs)\n",
    "        print(\"r is \",r)\n",
    "        try:\n",
    "            r.args[1].indep_coords = kwargs.get(\"coords\",None)\n",
    "            r.args[1].indep_mom    = kwargs.get(\"mom\",None)\n",
    "            print(\"var r is \",vars(r.args[1]))\n",
    "            \n",
    "        except:\n",
    "            pass\n",
    "        if r is not None:\n",
    "            if debug:\n",
    "                print(\"Eval returned a value\")\n",
    "            return r\n",
    "        obj = Expr.__new__(cls,A,B)\n",
    "        obj.A = A\n",
    "        obj.B = B\n",
    "        obj.indep_coords = kwargs.get(\"coords\",None)\n",
    "        obj.indep_mom    = kwargs.get(\"mom\",None)\n",
    "        obj.order = 1\n",
    "        obj.debug = debug\n",
    "        print(\"in obj\")\n",
    "        print(obj)\n",
    "        print(vars(obj))\n",
    "        print(\"obj kwargs : \",kwargs)\n",
    "#         print(obj.doit())\n",
    "        return obj\n",
    "    \n",
    "    @classmethod\n",
    "    def eval(cls,a,b,debug):#, **kwargs):\n",
    "        print(\"doing eval\")\n",
    "        if isinstance(a,UndefinedFunction):\n",
    "            tmp = symbols(\"tmp\")\n",
    "            if isinstance(b, UndefinedFunction):\n",
    "                if a(tmp).compare(b(tmp)) ==1:\n",
    "                    if debug:\n",
    "                        print(\"Interchanging order of arguments and put minus sign in front of bracket.\")\n",
    "#                     nob = cls(b,a,**kwargs)\n",
    "                    nob = cls(b,a)\n",
    "#                     nob=pb(b,a,**kwargs)\n",
    "                    nob.order = -1\n",
    "                    print(nob.indep_coords)\n",
    "                    return S.NegativeOne*nob\n",
    "            else:\n",
    "                if a(tmp).compare(b) == 1:\n",
    "                    if debug:\n",
    "                        print(\"Interchanging order of arguments and put minus sign in front of bracket.\")\n",
    "#                     nob = cls(b,a, **kwargs)\n",
    "                    nob = cls(b,a)\n",
    "#                     nob=pb(b,a,**kwargs)\n",
    "                    nob.order = -1\n",
    "                    print(nob.indep_coords)\n",
    "                    return S.NegativeOne*nob\n",
    "        elif isinstance(b, UndefinedFunction):\n",
    "            tmp = symbols(\"tmp\")\n",
    "            if a.compare(b(tmp)) ==1:\n",
    "                if debug:\n",
    "                    print(\"Interchanging order of arguments and put minus sign in front of bracket.\")\n",
    "#                 nob = cls(b,a,**kwargs)\n",
    "                nob = cls(b,a)\n",
    "#                 nob=pb(b,a,**kwargs)\n",
    "                nob.order = -1\n",
    "                print(nob.indep_coords)\n",
    "                return S.NegativeOne*nob\n",
    "        else:\n",
    "            print(\"all are defined\")\n",
    "            if a.compare(b) ==1:\n",
    "                print(vars(a))\n",
    "                print(vars(b))\n",
    "                if debug:\n",
    "                    print(\"Interchanging order of arguments and put minus sign in front of bracket.\")\n",
    "#                 print(\"nob creation kwargs :\",kwargs)\n",
    "                nob = cls(b,a)\n",
    "#                 nob = cls(b,a,**kwargs) #Expr.__new__(cls,B,A)#\n",
    "#                 nob.A = b\n",
    "#                 nob.B = a\n",
    "#                 nob.indep_coords = kwargs.get(\"coords\",None)\n",
    "#                 nob.indep_mom    = kwargs.get(\"mom\",None)\n",
    "#                         nob=pb(b,a,**kwargs)\n",
    "                nob.order = -1\n",
    "#                 print(nob.indep_coords, nob.indep_mom)\n",
    "#                 print(vars(nob))\n",
    "#                 print(vars((S.NegativeOne*nob).args[1]))\n",
    "#                 h =nob\n",
    "                print()\n",
    "                print(colored(vars(nob),\"red\"))\n",
    "#                 print(vars(h.args[1]))\n",
    "#                 print(vars((-h).args[1]))\n",
    "#                 print(vars((S.NegativeOne * h).args[1]))\n",
    "                hh = S.NegativeOne * nob\n",
    "#                 print(hh.doit())\n",
    "#                 hh.args[1].indep_coords= nob.indep_coords\n",
    "#                 hh.args[1].indep_mom = nob.indep_mom\n",
    "#                 print(vars(hh.args[1]))\n",
    "#                 print(hh.doit())\n",
    "                print(\"returning\", hh)\n",
    "                print(\"returning vars \", )\n",
    "                return hh\n",
    "#             else:\n",
    "#                 nob = cls(b,a,**kwargs)\n",
    "#                 nob.order = 1\n",
    "#                 return nob\n",
    "\n",
    "                \n",
    "    @property\n",
    "    def expr(self):\n",
    "        if (self.indep_coords and self.indep_mom):\n",
    "            hp = S(0)\n",
    "            for qi, pi in zip(self.indep_coords, self.indep_mom):\n",
    "                hp += self.A.diff(qi) * self.B.diff(pi)\n",
    "                hp -= self.A.diff(pi) * self.B.diff(qi)\n",
    "            return hp\n",
    "        else:\n",
    "            return self\n",
    "        \n",
    "    def _eval_derivative(self, symbol):\n",
    "        new_expr = self.expr.diff(symbol)\n",
    "        return new_expr\n",
    "    \n",
    "    def doit(self, debug=True, **hints):\n",
    "        \"\"\" Evaluate commutator \"\"\"\n",
    "        A = self.args[0]\n",
    "        B = self.args[1]\n",
    "        order = self.order\n",
    "        \n",
    "        if isinstance(A, UndefinedFunction) or isinstance(B, UndefinedFunction):\n",
    "            print(\"One is undefined function\")\n",
    "                    \n",
    "            h = self\n",
    "            return h\n",
    "          \n",
    "        elif isinstance(A,Function) or isinstance(B,Function):\n",
    "            print(\"in Function\")\n",
    "            try:\n",
    "                print(vars(self))\n",
    "                print(\"expr:\",self.expr)\n",
    "                return self.expr\n",
    "\n",
    "            except RecursionError:\n",
    "                print(\"Check coords and mom if you expected this to evaluate.\")\n",
    "                return self\n",
    "            \n",
    "            return S.NegativeOne * PoissonBracket(A,B,coords=self.indep_coords,mom=self.indep_mom).expr\n",
    "        \n",
    "    def print_instance_attributes(self):\n",
    "        for attribute, value in self.__dict__.items():\n",
    "            print(attribute, '=', value)\n",
    "        print(dir(self))"
   ]
  },
  {
   "cell_type": "code",
   "execution_count": 145,
   "metadata": {},
   "outputs": [
    {
     "name": "stdout",
     "output_type": "stream",
     "text": [
      "doing eval\n",
      "all are defined\n",
      "{'nargs': Naturals0}\n",
      "{'nargs': Naturals0}\n",
      "Interchanging order of arguments and put minus sign in front of bracket.\n",
      "doing eval\n",
      "all are defined\n",
      "r is  None\n",
      "in obj\n",
      "pb(A(x, px), B(x, px))\n",
      "{'A': A(x, px), 'B': B(x, px), 'indep_coords': None, 'indep_mom': None, 'order': 1, 'debug': True}\n",
      "obj kwargs :  {}\n",
      "\n",
      "\u001b[31m{'A': A(x, px), 'B': B(x, px), 'indep_coords': None, 'indep_mom': None, 'order': -1, 'debug': True}\u001b[0m\n",
      "returning -pb(A(x, px), B(x, px))\n",
      "returning vars \n",
      "r is  -pb(A(x, px), B(x, px))\n",
      "var r is  {'A': A(x, px), 'B': B(x, px), 'indep_coords': [x], 'indep_mom': [px], 'order': -1, 'debug': True}\n",
      "Eval returned a value\n"
     ]
    }
   ],
   "source": [
    "tpb1 = pb(B(x,px),A(x,px),coords=[x],mom=[px])"
   ]
  },
  {
   "cell_type": "code",
   "execution_count": 146,
   "metadata": {},
   "outputs": [
    {
     "name": "stdout",
     "output_type": "stream",
     "text": [
      "in Function\n",
      "{'A': A(x, px), 'B': B(x, px), 'indep_coords': [x], 'indep_mom': [px], 'order': -1, 'debug': True}\n",
      "expr: -Derivative(A(x, px), px)*Derivative(B(x, px), x) + Derivative(A(x, px), x)*Derivative(B(x, px), px)\n"
     ]
    },
    {
     "data": {
      "text/latex": [
       "$\\displaystyle - (- \\frac{\\partial}{\\partial px} A{\\left(x,px \\right)} \\frac{\\partial}{\\partial x} B{\\left(x,px \\right)} + \\frac{\\partial}{\\partial x} A{\\left(x,px \\right)} \\frac{\\partial}{\\partial px} B{\\left(x,px \\right)})$"
      ],
      "text/plain": [
       "-(-Derivative(A(x, px), px)*Derivative(B(x, px), x) + Derivative(A(x, px), x)*Derivative(B(x, px), px))"
      ]
     },
     "execution_count": 146,
     "metadata": {},
     "output_type": "execute_result"
    }
   ],
   "source": [
    "tpb1.doit()"
   ]
  },
  {
   "cell_type": "code",
   "execution_count": 147,
   "metadata": {},
   "outputs": [
    {
     "name": "stdout",
     "output_type": "stream",
     "text": [
      "doing eval\n",
      "all are defined\n",
      "r is  None\n",
      "in obj\n",
      "pb(A(x, px), B(x, px))\n",
      "{'A': A(x, px), 'B': B(x, px), 'indep_coords': [x], 'indep_mom': [px], 'order': 1, 'debug': True}\n",
      "obj kwargs :  {'coords': [x], 'mom': [px]}\n"
     ]
    }
   ],
   "source": [
    "tpb1 = pb(A(x,px),B(x,px),coords=[x],mom=[px])"
   ]
  },
  {
   "cell_type": "code",
   "execution_count": 148,
   "metadata": {},
   "outputs": [
    {
     "name": "stdout",
     "output_type": "stream",
     "text": [
      "doing eval\n",
      "all are defined\n",
      "{'A': A(x, px), 'B': B(x, px), 'indep_coords': [x], 'indep_mom': [px], 'order': 1, 'debug': True}\n",
      "{'nargs': Naturals0}\n",
      "Interchanging order of arguments and put minus sign in front of bracket.\n",
      "doing eval\n",
      "all are defined\n",
      "r is  None\n",
      "in obj\n",
      "pb(C(x, px), pb(A(x, px), B(x, px)))\n",
      "{'A': C(x, px), 'B': pb(A(x, px), B(x, px)), 'indep_coords': None, 'indep_mom': None, 'order': 1, 'debug': True}\n",
      "obj kwargs :  {}\n",
      "\n",
      "\u001b[31m{'A': C(x, px), 'B': pb(A(x, px), B(x, px)), 'indep_coords': None, 'indep_mom': None, 'order': -1, 'debug': True}\u001b[0m\n",
      "returning -pb(C(x, px), pb(A(x, px), B(x, px)))\n",
      "returning vars \n",
      "r is  -pb(C(x, px), pb(A(x, px), B(x, px)))\n",
      "var r is  {'A': C(x, px), 'B': pb(A(x, px), B(x, px)), 'indep_coords': [x], 'indep_mom': [px], 'order': -1, 'debug': True}\n",
      "Eval returned a value\n"
     ]
    }
   ],
   "source": [
    "tpb2 = pb(tpb1,C(x,px),coords=[x],mom=[px])"
   ]
  },
  {
   "cell_type": "code",
   "execution_count": 149,
   "metadata": {},
   "outputs": [
    {
     "name": "stdout",
     "output_type": "stream",
     "text": [
      "in Function\n",
      "{'A': C(x, px), 'B': pb(A(x, px), B(x, px)), 'indep_coords': [x], 'indep_mom': [px], 'order': -1, 'debug': True}\n",
      "expr: -Derivative(C(x, px), px)*(-Derivative(A(x, px), px)*Derivative(B(x, px), (x, 2)) + Derivative(A(x, px), x)*Derivative(B(x, px), px, x) + Derivative(A(x, px), (x, 2))*Derivative(B(x, px), px) - Derivative(A(x, px), px, x)*Derivative(B(x, px), x)) + Derivative(C(x, px), x)*(-Derivative(A(x, px), px)*Derivative(B(x, px), px, x) - Derivative(A(x, px), (px, 2))*Derivative(B(x, px), x) + Derivative(A(x, px), x)*Derivative(B(x, px), (px, 2)) + Derivative(A(x, px), px, x)*Derivative(B(x, px), px))\n"
     ]
    },
    {
     "data": {
      "text/latex": [
       "$\\displaystyle - (- \\frac{\\partial}{\\partial px} C{\\left(x,px \\right)} \\left(- \\frac{\\partial}{\\partial px} A{\\left(x,px \\right)} \\frac{\\partial^{2}}{\\partial x^{2}} B{\\left(x,px \\right)} + \\frac{\\partial}{\\partial x} A{\\left(x,px \\right)} \\frac{\\partial^{2}}{\\partial x\\partial px} B{\\left(x,px \\right)} + \\frac{\\partial^{2}}{\\partial x^{2}} A{\\left(x,px \\right)} \\frac{\\partial}{\\partial px} B{\\left(x,px \\right)} - \\frac{\\partial^{2}}{\\partial x\\partial px} A{\\left(x,px \\right)} \\frac{\\partial}{\\partial x} B{\\left(x,px \\right)}\\right) + \\frac{\\partial}{\\partial x} C{\\left(x,px \\right)} \\left(- \\frac{\\partial}{\\partial px} A{\\left(x,px \\right)} \\frac{\\partial^{2}}{\\partial x\\partial px} B{\\left(x,px \\right)} - \\frac{\\partial^{2}}{\\partial px^{2}} A{\\left(x,px \\right)} \\frac{\\partial}{\\partial x} B{\\left(x,px \\right)} + \\frac{\\partial}{\\partial x} A{\\left(x,px \\right)} \\frac{\\partial^{2}}{\\partial px^{2}} B{\\left(x,px \\right)} + \\frac{\\partial^{2}}{\\partial x\\partial px} A{\\left(x,px \\right)} \\frac{\\partial}{\\partial px} B{\\left(x,px \\right)}\\right))$"
      ],
      "text/plain": [
       "-(-Derivative(C(x, px), px)*(-Derivative(A(x, px), px)*Derivative(B(x, px), (x, 2)) + Derivative(A(x, px), x)*Derivative(B(x, px), px, x) + Derivative(A(x, px), (x, 2))*Derivative(B(x, px), px) - Derivative(A(x, px), px, x)*Derivative(B(x, px), x)) + Derivative(C(x, px), x)*(-Derivative(A(x, px), px)*Derivative(B(x, px), px, x) - Derivative(A(x, px), (px, 2))*Derivative(B(x, px), x) + Derivative(A(x, px), x)*Derivative(B(x, px), (px, 2)) + Derivative(A(x, px), px, x)*Derivative(B(x, px), px)))"
      ]
     },
     "execution_count": 149,
     "metadata": {},
     "output_type": "execute_result"
    }
   ],
   "source": [
    "tpb2.doit()"
   ]
  },
  {
   "cell_type": "code",
   "execution_count": 150,
   "metadata": {},
   "outputs": [
    {
     "name": "stdout",
     "output_type": "stream",
     "text": [
      "doing eval\n",
      "all are defined\n",
      "r is  None\n",
      "in obj\n",
      "pb(A(x, px), B(x, px))\n",
      "{'A': A(x, px), 'B': B(x, px), 'indep_coords': None, 'indep_mom': None, 'order': 1, 'debug': True}\n",
      "obj kwargs :  {}\n"
     ]
    }
   ],
   "source": [
    "tpb1 = pb(A(x,px),B(x,px))"
   ]
  },
  {
   "cell_type": "code",
   "execution_count": 151,
   "metadata": {},
   "outputs": [
    {
     "name": "stdout",
     "output_type": "stream",
     "text": [
      "doing eval\n",
      "all are defined\n",
      "{'A': A(x, px), 'B': B(x, px), 'indep_coords': None, 'indep_mom': None, 'order': 1, 'debug': True}\n",
      "{'nargs': Naturals0}\n",
      "Interchanging order of arguments and put minus sign in front of bracket.\n",
      "doing eval\n",
      "all are defined\n",
      "r is  None\n",
      "in obj\n",
      "pb(C(x, px), pb(A(x, px), B(x, px)))\n",
      "{'A': C(x, px), 'B': pb(A(x, px), B(x, px)), 'indep_coords': None, 'indep_mom': None, 'order': 1, 'debug': True}\n",
      "obj kwargs :  {}\n",
      "\n",
      "\u001b[31m{'A': C(x, px), 'B': pb(A(x, px), B(x, px)), 'indep_coords': None, 'indep_mom': None, 'order': -1, 'debug': True}\u001b[0m\n",
      "returning -pb(C(x, px), pb(A(x, px), B(x, px)))\n",
      "returning vars \n",
      "r is  -pb(C(x, px), pb(A(x, px), B(x, px)))\n",
      "var r is  {'A': C(x, px), 'B': pb(A(x, px), B(x, px)), 'indep_coords': None, 'indep_mom': None, 'order': -1, 'debug': True}\n",
      "Eval returned a value\n"
     ]
    }
   ],
   "source": [
    "tpb2 = pb(tpb1,C(x,px))"
   ]
  },
  {
   "cell_type": "code",
   "execution_count": 152,
   "metadata": {},
   "outputs": [
    {
     "name": "stdout",
     "output_type": "stream",
     "text": [
      "in Function\n",
      "{'A': C(x, px), 'B': pb(A(x, px), B(x, px)), 'indep_coords': None, 'indep_mom': None, 'order': -1, 'debug': True}\n",
      "expr: pb(C(x, px), pb(A(x, px), B(x, px)))\n"
     ]
    },
    {
     "data": {
      "text/latex": [
       "$\\displaystyle - pb\\left(C{\\left(x,px \\right)}, pb\\left(A{\\left(x,px \\right)}, B{\\left(x,px \\right)}\\right)\\right)$"
      ],
      "text/plain": [
       "-pb(C(x, px), pb(A(x, px), B(x, px)))"
      ]
     },
     "execution_count": 152,
     "metadata": {},
     "output_type": "execute_result"
    }
   ],
   "source": [
    "\n",
    "\n",
    "tpb2.doit() "
   ]
  },
  {
   "cell_type": "code",
   "execution_count": 38,
   "metadata": {},
   "outputs": [
    {
     "name": "stdout",
     "output_type": "stream",
     "text": [
      "doing eval\n",
      "all are defined\n",
      "r is  None\n",
      "in obj\n",
      "pb(A(x, px), B(x, px))\n"
     ]
    }
   ],
   "source": [
    "tpb1 = pb(A(x,px),B(x,px),coords=[x],mom=[px])"
   ]
  },
  {
   "cell_type": "code",
   "execution_count": 34,
   "metadata": {},
   "outputs": [
    {
     "name": "stdout",
     "output_type": "stream",
     "text": [
      "doing eval\n",
      "all are defined\n",
      "{'A': A(x, px), 'B': B(x, px), 'indep_coords': [x], 'indep_mom': [px], 'order': 1, 'debug': True}\n",
      "{'nargs': Naturals0}\n",
      "Interchanging order of arguments and put minus sign in front of bracket.\n",
      "doing eval\n",
      "all are defined\n",
      "in obj\n",
      "pb(C(x, px), pb(A(x, px), B(x, px)))\n",
      "\n",
      "doing eval\n",
      "all are defined\n",
      "in obj\n",
      "pb(A(x, px), B(x, px))\n",
      "doing eval\n",
      "all are defined\n",
      "in obj\n",
      "pb(C(x, px), pb(A(x, px), B(x, px)))\n",
      "-pb(C(x, px), pb(A(x, px), B(x, px)))\n",
      "{'A': C(x, px), 'B': pb(A(x, px), B(x, px)), 'indep_coords': [x], 'indep_mom': [px], 'order': -1, 'debug': True}\n",
      "doing eval\n",
      "all are defined\n",
      "in obj\n",
      "pb(A(x, px), B(x, px))\n",
      "doing eval\n",
      "all are defined\n",
      "in obj\n",
      "pb(C(x, px), pb(A(x, px), B(x, px)))\n",
      "-pb(C(x, px), pb(A(x, px), B(x, px)))\n",
      "Eval returned a value\n"
     ]
    }
   ],
   "source": [
    "tpb2 = pb(tpb1,C(x,px),coords=[x],mom=[px])"
   ]
  },
  {
   "cell_type": "code",
   "execution_count": 19,
   "metadata": {},
   "outputs": [
    {
     "name": "stdout",
     "output_type": "stream",
     "text": [
      "doing eval\n",
      "all are defined\n",
      "in obj\n",
      "pb(A(x, px), B(x, px))\n",
      "in Function\n",
      "expr: -Derivative(A(x, px), px)*Derivative(B(x, px), x) + Derivative(A(x, px), x)*Derivative(B(x, px), px)\n",
      "-Derivative(A(x, px), px)*Derivative(B(x, px), x) + Derivative(A(x, px), x)*Derivative(B(x, px), px)\n",
      "doing eval\n",
      "all are defined\n",
      "{'A': A(x, px), 'B': B(x, px), 'indep_coords': [x], 'indep_mom': [px], 'order': 1, 'debug': True}\n",
      "{'nargs': Naturals0}\n",
      "Interchanging order of arguments and put minus sign in front of bracket.\n",
      "doing eval\n",
      "all are defined\n",
      "in obj\n",
      "pb(C(x, px), pb(A(x, px), B(x, px)))\n",
      "in Function\n",
      "expr: -Derivative(C(x, px), px)*(-Derivative(A(x, px), px)*Derivative(B(x, px), (x, 2)) + Derivative(A(x, px), x)*Derivative(B(x, px), px, x) + Derivative(A(x, px), (x, 2))*Derivative(B(x, px), px) - Derivative(A(x, px), px, x)*Derivative(B(x, px), x)) + Derivative(C(x, px), x)*(-Derivative(A(x, px), px)*Derivative(B(x, px), px, x) - Derivative(A(x, px), (px, 2))*Derivative(B(x, px), x) + Derivative(A(x, px), x)*Derivative(B(x, px), (px, 2)) + Derivative(A(x, px), px, x)*Derivative(B(x, px), px))\n",
      "-Derivative(C(x, px), px)*(-Derivative(A(x, px), px)*Derivative(B(x, px), (x, 2)) + Derivative(A(x, px), x)*Derivative(B(x, px), px, x) + Derivative(A(x, px), (x, 2))*Derivative(B(x, px), px) - Derivative(A(x, px), px, x)*Derivative(B(x, px), x)) + Derivative(C(x, px), x)*(-Derivative(A(x, px), px)*Derivative(B(x, px), px, x) - Derivative(A(x, px), (px, 2))*Derivative(B(x, px), x) + Derivative(A(x, px), x)*Derivative(B(x, px), (px, 2)) + Derivative(A(x, px), px, x)*Derivative(B(x, px), px))\n",
      "\n",
      "in Function\n",
      "expr: pb(C(x, px), pb(A(x, px), B(x, px)))\n",
      "-pb(C(x, px), pb(A(x, px), B(x, px)))\n",
      "{'A': C(x, px), 'B': pb(A(x, px), B(x, px)), 'indep_coords': [x], 'indep_mom': [px], 'order': -1, 'debug': True}\n",
      "in Function\n",
      "Check coords and mom if you expected this to evaluate.\n",
      "-pb(C(x, px), pb(A(x, px), B(x, px)))\n",
      "Eval returned a value\n",
      "in Function\n",
      "Check coords and mom if you expected this to evaluate.\n",
      "-pb(C(x, px), pb(A(x, px), B(x, px)))\n"
     ]
    }
   ],
   "source": [
    "tpb1 = pb(A(x,px),B(x,px),coords=[x],mom=[px])\n",
    "tpb2 = pb(tpb1,C(x,px),coords=[x],mom=[px])\n",
    "print(tpb2.doit())"
   ]
  },
  {
   "cell_type": "code",
   "execution_count": 7,
   "metadata": {},
   "outputs": [
    {
     "data": {
      "text/plain": [
       "{'A': C(x, px),\n",
       " 'B': pb(A(x, px), B(x, px)),\n",
       " 'indep_coords': [x],\n",
       " 'indep_mom': [px],\n",
       " 'order': -1,\n",
       " 'debug': True}"
      ]
     },
     "execution_count": 7,
     "metadata": {},
     "output_type": "execute_result"
    }
   ],
   "source": [
    "vars(tpb2.args[1])"
   ]
  },
  {
   "cell_type": "code",
   "execution_count": 113,
   "metadata": {
    "collapsed": true
   },
   "outputs": [
    {
     "name": "stdout",
     "output_type": "stream",
     "text": [
      "doing eval\n",
      "in obj\n",
      "{'is_commutative': False, 'is_complex': False, 'is_odd': False, 'is_extended_positive': False, 'is_extended_nonnegative': False, 'is_even': False, 'is_extended_nonpositive': False, 'is_algebraic': False, 'is_nonpositive': False, 'is_nonnegative': False, 'is_real': False, 'is_imaginary': False, 'is_transcendental': False, 'is_negative': False, 'is_integer': False, 'is_extended_nonzero': False, 'is_zero': False, 'is_composite': False, 'is_nonzero': False, 'is_noninteger': False, 'is_rational': False, 'is_positive': False, 'is_irrational': False, 'is_prime': False, 'is_extended_negative': False, 'is_extended_real': False, '_kwargs': {'commutative': False, 'complex': False, 'odd': False, 'extended_positive': False, 'extended_nonnegative': False, 'even': False, 'extended_nonpositive': False, 'algebraic': False, 'nonpositive': False, 'nonnegative': False, 'real': False, 'imaginary': False, 'transcendental': False, 'negative': False, 'integer': False, 'extended_nonzero': False, 'zero': False, 'composite': False, 'nonzero': False, 'noninteger': False, 'rational': False, 'positive': False, 'irrational': False, 'prime': False, 'extended_negative': False, 'extended_real': False}, '__module__': None, '__doc__': None, 'name': 'A', '_sage_': <sympy.core.function.UndefSageHelper object at 0x7ffad4ff5d30>, '_nargs': None, '__sympy__': <property object at 0x7ffaa77dec78>, '_explicit_class_assumptions': {'extended_positive': False, 'positive': False, 'irrational': False, 'prime': False, 'complex': False, 'extended_nonnegative': False, 'extended_nonpositive': False, 'negative': False, 'extended_negative': False, 'nonnegative': False, 'zero': False, 'real': False, 'algebraic': False, 'rational': False, 'composite': False, 'even': False, 'commutative': False, 'extended_real': False, 'odd': False, 'imaginary': False, 'transcendental': False, 'nonzero': False, 'nonpositive': False, 'extended_nonzero': False, 'integer': False, 'noninteger': False}, 'default_assumptions': {'extended_positive': False, 'positive': False, 'composite': False, 'prime': False, 'irrational': False, 'complex': False, 'real': False, 'imaginary': False, 'nonnegative': False, 'even': False, 'transcendental': False, 'rational': False, 'algebraic': False, 'negative': False, 'integer': False, 'zero': False, 'odd': False, 'nonpositive': False, 'nonzero': False, 'extended_nonnegative': False, 'extended_nonpositive': False, 'extended_negative': False, 'commutative': False, 'extended_nonzero': False, 'noninteger': False, 'extended_real': False}, '_prop_handler': {'extended_positive': <function Expr._eval_is_extended_positive at 0x7ffad4fd2730>, 'positive': <function Expr._eval_is_positive at 0x7ffad4fd2598>, 'negative': <function Expr._eval_is_negative at 0x7ffad4fd2620>, 'extended_negative': <function Expr._eval_is_extended_negative at 0x7ffad4fd27b8>, 'commutative': <function Function._eval_is_commutative at 0x7ffad4ed4e18>}}\n",
      "{'is_commutative': False, 'is_complex': False, 'is_odd': False, 'is_extended_positive': False, 'is_extended_nonnegative': False, 'is_even': False, 'is_extended_nonpositive': False, 'is_algebraic': False, 'is_nonpositive': False, 'is_nonnegative': False, 'is_real': False, 'is_imaginary': False, 'is_transcendental': False, 'is_negative': False, 'is_integer': False, 'is_extended_nonzero': False, 'is_zero': False, 'is_composite': False, 'is_nonzero': False, 'is_noninteger': False, 'is_rational': False, 'is_positive': False, 'is_irrational': False, 'is_prime': False, 'is_extended_negative': False, 'is_extended_real': False, '_kwargs': {'commutative': False, 'complex': False, 'odd': False, 'extended_positive': False, 'extended_nonnegative': False, 'even': False, 'extended_nonpositive': False, 'algebraic': False, 'nonpositive': False, 'nonnegative': False, 'real': False, 'imaginary': False, 'transcendental': False, 'negative': False, 'integer': False, 'extended_nonzero': False, 'zero': False, 'composite': False, 'nonzero': False, 'noninteger': False, 'rational': False, 'positive': False, 'irrational': False, 'prime': False, 'extended_negative': False, 'extended_real': False}, '__module__': None, '__doc__': None, 'name': 'B', '_sage_': <sympy.core.function.UndefSageHelper object at 0x7ffad4ff5d30>, '_nargs': None, '__sympy__': <property object at 0x7ffaa77de728>, '_explicit_class_assumptions': {'extended_positive': False, 'positive': False, 'irrational': False, 'prime': False, 'complex': False, 'extended_nonnegative': False, 'extended_nonpositive': False, 'negative': False, 'extended_negative': False, 'nonnegative': False, 'zero': False, 'real': False, 'algebraic': False, 'rational': False, 'composite': False, 'even': False, 'commutative': False, 'extended_real': False, 'odd': False, 'imaginary': False, 'transcendental': False, 'nonzero': False, 'nonpositive': False, 'extended_nonzero': False, 'integer': False, 'noninteger': False}, 'default_assumptions': {'extended_positive': False, 'positive': False, 'composite': False, 'prime': False, 'irrational': False, 'complex': False, 'real': False, 'imaginary': False, 'nonnegative': False, 'even': False, 'transcendental': False, 'rational': False, 'algebraic': False, 'negative': False, 'integer': False, 'zero': False, 'odd': False, 'nonpositive': False, 'nonzero': False, 'extended_nonnegative': False, 'extended_nonpositive': False, 'extended_negative': False, 'commutative': False, 'extended_nonzero': False, 'noninteger': False, 'extended_real': False}, '_prop_handler': {'extended_positive': <function Expr._eval_is_extended_positive at 0x7ffad4fd2730>, 'positive': <function Expr._eval_is_positive at 0x7ffad4fd2598>, 'negative': <function Expr._eval_is_negative at 0x7ffad4fd2620>, 'extended_negative': <function Expr._eval_is_extended_negative at 0x7ffad4fd27b8>, 'commutative': <function Function._eval_is_commutative at 0x7ffad4ed4e18>}}\n",
      "doing eval\n",
      "Interchanging order of arguments and put minus sign in front of bracket.\n",
      "doing eval\n",
      "in obj\n",
      "{'is_commutative': False, 'is_complex': False, 'is_odd': False, 'is_extended_positive': False, 'is_extended_nonnegative': False, 'is_even': False, 'is_extended_nonpositive': False, 'is_algebraic': False, 'is_nonpositive': False, 'is_nonnegative': False, 'is_real': False, 'is_imaginary': False, 'is_transcendental': False, 'is_negative': False, 'is_integer': False, 'is_extended_nonzero': False, 'is_zero': False, 'is_composite': False, 'is_nonzero': False, 'is_noninteger': False, 'is_rational': False, 'is_positive': False, 'is_irrational': False, 'is_prime': False, 'is_extended_negative': False, 'is_extended_real': False, '_kwargs': {'commutative': False, 'complex': False, 'odd': False, 'extended_positive': False, 'extended_nonnegative': False, 'even': False, 'extended_nonpositive': False, 'algebraic': False, 'nonpositive': False, 'nonnegative': False, 'real': False, 'imaginary': False, 'transcendental': False, 'negative': False, 'integer': False, 'extended_nonzero': False, 'zero': False, 'composite': False, 'nonzero': False, 'noninteger': False, 'rational': False, 'positive': False, 'irrational': False, 'prime': False, 'extended_negative': False, 'extended_real': False}, '__module__': None, '__doc__': None, 'name': 'C', '_sage_': <sympy.core.function.UndefSageHelper object at 0x7ffad4ff5d30>, '_nargs': None, '__sympy__': <property object at 0x7ffaa7812ae8>, '_explicit_class_assumptions': {'extended_positive': False, 'positive': False, 'irrational': False, 'prime': False, 'complex': False, 'extended_nonnegative': False, 'extended_nonpositive': False, 'negative': False, 'extended_negative': False, 'nonnegative': False, 'zero': False, 'real': False, 'algebraic': False, 'rational': False, 'composite': False, 'even': False, 'commutative': False, 'extended_real': False, 'odd': False, 'imaginary': False, 'transcendental': False, 'nonzero': False, 'nonpositive': False, 'extended_nonzero': False, 'integer': False, 'noninteger': False}, 'default_assumptions': {'extended_positive': False, 'positive': False, 'composite': False, 'prime': False, 'irrational': False, 'complex': False, 'real': False, 'imaginary': False, 'nonnegative': False, 'even': False, 'transcendental': False, 'rational': False, 'algebraic': False, 'negative': False, 'integer': False, 'zero': False, 'odd': False, 'nonpositive': False, 'nonzero': False, 'extended_nonnegative': False, 'extended_nonpositive': False, 'extended_negative': False, 'commutative': False, 'extended_nonzero': False, 'noninteger': False, 'extended_real': False}, '_prop_handler': {'extended_positive': <function Expr._eval_is_extended_positive at 0x7ffad4fd2730>, 'positive': <function Expr._eval_is_positive at 0x7ffad4fd2598>, 'negative': <function Expr._eval_is_negative at 0x7ffad4fd2620>, 'extended_negative': <function Expr._eval_is_extended_negative at 0x7ffad4fd27b8>, 'commutative': <function Function._eval_is_commutative at 0x7ffad4ed4e18>}}\n",
      "{'A': A, 'B': B, 'indep_coords': None, 'indep_mom': None, 'order': 1, 'debug': True}\n",
      "None\n",
      "Eval returned a value\n"
     ]
    }
   ],
   "source": [
    "tpb1 = pb(A,B)\n",
    "tpb2 = pb(tpb1,C)\n"
   ]
  },
  {
   "cell_type": "code",
   "execution_count": 118,
   "metadata": {},
   "outputs": [
    {
     "name": "stdout",
     "output_type": "stream",
     "text": [
      "doing eval\n",
      "in obj\n"
     ]
    }
   ],
   "source": [
    "pb1= pb(A,B, coords=[x], mom=[px]);"
   ]
  },
  {
   "cell_type": "code",
   "execution_count": 120,
   "metadata": {},
   "outputs": [
    {
     "ename": "TypeError",
     "evalue": "vars() argument must have __dict__ attribute",
     "output_type": "error",
     "traceback": [
      "\u001b[0;31m----------------------------------------------\u001b[0m",
      "\u001b[0;31mTypeError\u001b[0m    Traceback (most recent call last)",
      "\u001b[0;32m<ipython-input-120-c0c913ceb7cb>\u001b[0m in \u001b[0;36m<module>\u001b[0;34m\u001b[0m\n\u001b[0;32m----> 1\u001b[0;31m \u001b[0mvars\u001b[0m\u001b[0;34m(\u001b[0m\u001b[0mS\u001b[0m\u001b[0;34m.\u001b[0m\u001b[0mNegativeOne\u001b[0m\u001b[0;34m*\u001b[0m\u001b[0mpb1\u001b[0m\u001b[0;34m)\u001b[0m\u001b[0;34m\u001b[0m\u001b[0;34m\u001b[0m\u001b[0m\n\u001b[0m",
      "\u001b[0;31mTypeError\u001b[0m: vars() argument must have __dict__ attribute"
     ]
    }
   ],
   "source": [
    "vars(S.NegativeOne*pb1)"
   ]
  },
  {
   "cell_type": "code",
   "execution_count": 38,
   "metadata": {},
   "outputs": [
    {
     "data": {
      "text/latex": [
       "$\\displaystyle - pb\\left(C, pb\\left(A, B\\right)\\right)$"
      ],
      "text/plain": [
       "-pb(C, pb(A, B))"
      ]
     },
     "execution_count": 38,
     "metadata": {},
     "output_type": "execute_result"
    }
   ],
   "source": [
    "tpb2"
   ]
  },
  {
   "cell_type": "code",
   "execution_count": 39,
   "metadata": {},
   "outputs": [
    {
     "name": "stdout",
     "output_type": "stream",
     "text": [
      "One is undefined function\n"
     ]
    },
    {
     "data": {
      "text/latex": [
       "$\\displaystyle - pb\\left(C, pb\\left(A, B\\right)\\right)$"
      ],
      "text/plain": [
       "-pb(C, pb(A, B))"
      ]
     },
     "execution_count": 39,
     "metadata": {},
     "output_type": "execute_result"
    }
   ],
   "source": [
    "tpb2.doit()"
   ]
  },
  {
   "cell_type": "markdown",
   "metadata": {},
   "source": [
    "# Full class"
   ]
  },
  {
   "cell_type": "code",
   "execution_count": 62,
   "metadata": {},
   "outputs": [],
   "source": [
    "class PoissonBracket(Expr):\n",
    "    \"\"\"\n",
    "    Operator class for the Poisson Bracket - allows to have it as a symbolic operator\n",
    "    \"\"\"\n",
    "    \n",
    "#     _op_priority = 11.0\n",
    "    _is_commutative = False\n",
    "    \n",
    "    def __new__(cls,A,B,debug=True,**kwargs):\n",
    "        # before return the object, do basic\n",
    "        # testing and formatting of the bracket.\n",
    "        # - orders arguments and updated sign\n",
    "        # - returns S.Zero if:\n",
    "        #    * one of the argumnents is missing\n",
    "        #    * the arguments are equal\n",
    "        #    * one of the arguments is a sympy number\n",
    "        r = cls.eval(A,B,debug=debug,**kwargs)\n",
    "        \n",
    "        # if a valid object is returned from eval\n",
    "        # than return this object\n",
    "        if r is not None:\n",
    "            if debug:\n",
    "                print(\"Eval returned a value\")\n",
    "            return r\n",
    "        \n",
    "        # if eval has not returned anything\n",
    "        # create a new object and return that one.\n",
    "        obj = Expr.__new__(cls,A,B)\n",
    "        obj.A = A\n",
    "        obj.B = B\n",
    "        \n",
    "        # if independent coordinates and momenta are\n",
    "        # provided store them in the object\n",
    "        obj.indep_coords = kwargs.get(\"coords\",None)\n",
    "        obj.indep_mom    = kwargs.get(\"mom\",None)\n",
    "        \n",
    "        # store if the ordering has been reversed\n",
    "        # this is used in the doit method, otherwise\n",
    "        # the sign is wrong.\n",
    "        obj.order = 1\n",
    "        \n",
    "        # set debug to true to get intermediate outputs\n",
    "        # for code debugging\n",
    "        obj.debug = debug\n",
    "        return obj\n",
    "    \n",
    "    @classmethod\n",
    "    def eval(cls,a,b,debug, **kwargs):\n",
    "        # check if both arguments of the\n",
    "        # bracket are given otherwise return Zero\n",
    "        if not (a and b):\n",
    "            if debug:\n",
    "                print(\"Missing term\")\n",
    "            return S.Zero\n",
    "        \n",
    "        # check if both arguments of the bracket\n",
    "        # are equal, if yes return Zero\n",
    "        if a==b:\n",
    "            if debug:\n",
    "                print(\"Bracket of equal aruments is Zero.\")\n",
    "            return S.Zero\n",
    "        \n",
    "        # check if one of the bracket arguments is\n",
    "        # a sympy number, if yes return Zero.\n",
    "        if a.is_number or b.is_number:\n",
    "            if debug:\n",
    "                print(\"At least one argument is a number, bracket is Zero\")\n",
    "            return S.Zero\n",
    "        \n",
    "        # order the elements\n",
    "        if isinstance(a,UndefinedFunction):\n",
    "            tmp = symbols(\"tmp\")\n",
    "            if isinstance(b, UndefinedFunction):\n",
    "                if a(tmp).compare(b(tmp)) ==1:\n",
    "                    if debug:\n",
    "                        print(\"Interchanging order of arguments and put minus sign in front of bracket.\")\n",
    "                    nob = cls(b,a,**kwargs)\n",
    "                    nob.order = -1\n",
    "                    return -nob\n",
    "            else:\n",
    "                if a(tmp).compare(b) == 1:\n",
    "                    if debug:\n",
    "                        print(\"Interchanging order of arguments and put minus sign in front of bracket.\")\n",
    "                    nob = cls(b,a, **kwargs)\n",
    "                    nob.order = -1\n",
    "                    return -nob\n",
    "        elif isinstance(b, UndefinedFunction):\n",
    "            tmp = symbols(\"tmp\")\n",
    "            if a.compare(b(tmp)) ==1:\n",
    "                if debug:\n",
    "                    print(\"Interchanging order of arguments and put minus sign in front of bracket.\")\n",
    "                nob = cls(b,a,**kwargs)\n",
    "                nob.order = -1\n",
    "                return -nob\n",
    "        else:\n",
    "                if a.compare(b) ==1:\n",
    "                        if debug:\n",
    "                            print(\"Interchanging order of arguments and put minus sign in front of bracket.\")\n",
    "                        nob = cls(b,a,**kwargs)\n",
    "                        nob.order = -1\n",
    "                        return -nob\n",
    "            \n",
    "                \n",
    "    @property\n",
    "    def free_symbols(self):\n",
    "        return self.A.free_symbols.union(self.B.free_symbols)\n",
    "    \n",
    "    @property\n",
    "    def expr(self):\n",
    "#         print(self.indep_coords)\n",
    "        if (self.indep_coords and self.indep_mom):\n",
    "            hp = S(0)\n",
    "            for qi, pi in zip(self.indep_coords, self.indep_mom):\n",
    "                hp += self.A.diff(qi) * self.B.diff(pi)\n",
    "                hp -= self.A.diff(pi) * self.B.diff(qi)\n",
    "            return hp\n",
    "        else:\n",
    "            return self\n",
    "        \n",
    "    def _eval_derivative(self, symbol):\n",
    "        \"\"\"\n",
    "        Necessary to get the full expanded expression\n",
    "        when one of the arguments is itself a PoissonBracket.\n",
    "        In other words to allow evalutation of nested Poisson Brackets.\n",
    "        \"\"\"\n",
    "        new_expr = self.expr.diff(symbol)\n",
    "        return new_expr\n",
    "    \n",
    "    def doit(self, debug=True, **hints):\n",
    "        \"\"\" Evaluate commutator \"\"\"\n",
    "        A = self.args[0]\n",
    "        B = self.args[1]\n",
    "        order = self.order\n",
    "        if debug:\n",
    "                print(self)\n",
    "                print(self.__class__)\n",
    "                print(self.args)\n",
    "                try:\n",
    "                    print(self.expr)\n",
    "                except:\n",
    "                    print(\"expr failed\")\n",
    "                    pass\n",
    "                \n",
    "        if self.order == 1:\n",
    "            if debug:\n",
    "                print(\"order 1\")\n",
    "            if isinstance(A, Operator) and isinstance(B, Operator):\n",
    "                try:\n",
    "                    comm = A._eval_commutator(B, **hints)\n",
    "                except NotImplementedError:\n",
    "                    try:\n",
    "                        comm = -1*B._eval_commutator(A, **hints)\n",
    "                    except NotImplementedError:\n",
    "                        comm = None\n",
    "                if comm is not None:\n",
    "                    return comm.doit(**hints)\n",
    "                \n",
    "            if isinstance(A, UndefinedFunction) or isinstance(B, UndefinedFunction):\n",
    "                if debug:\n",
    "                    print(\"One is undefined function\")\n",
    "                return self\n",
    "            \n",
    "            elif isinstance(A,Function) or isinstance(B,Function):\n",
    "                if debug:\n",
    "                    print(\"in Function\")\n",
    "                try:\n",
    "                    print(\"expr:\",self.expr)\n",
    "                    return self.expr\n",
    "                except RecursionError:\n",
    "                    print(\"Check coords and mom if you expected this to evaluate.\")\n",
    "                    return self\n",
    "#                 h = self.expr \n",
    "#                 print(self.expr)\n",
    "#                 return h\n",
    "            \n",
    "            return self.expr\n",
    "        \n",
    "        else:\n",
    "            if debug:\n",
    "                print(\"order -1\")\n",
    "                \n",
    "            if isinstance(A, UndefinedFunction) or isinstance(B, UndefinedFunction):\n",
    "                if debug:\n",
    "                    print(\"One is undefined function\")\n",
    "                    print(self)\n",
    "                h = self\n",
    "                return h\n",
    "          \n",
    "            elif isinstance(A,Function) or isinstance(B,Function):\n",
    "                if debug:\n",
    "                    print(\"in Function\")\n",
    "                    \n",
    "                try:\n",
    "                    print(\"expr:\",self.args)\n",
    "#                     print(self.indep_coords)\n",
    "                    h = self.expr\n",
    "                    return h\n",
    "                except RecursionError:\n",
    "                    print(\"Check coords and mom if you expected this to evaluate.\")\n",
    "                    return self\n",
    "                    \n",
    "#                 h = self.expr \n",
    "#                 print(\"expr:\",self.expr)\n",
    "#                 if isinstance(A, PoissonBracket) : print(A.indep_coords);\n",
    "#                 if isinstance(B, PoissonBracket) : print(B.indep_coords);\n",
    "               \n",
    "#                 return h\n",
    "            \n",
    "            return S.NegativeOne * PoissonBracket(A,B,coords=self.indep_coords,mom=self.indep_mom).expr\n",
    "    \n",
    "    def _eval_expand_commutator(self, **hints):\n",
    "        A = self.A #self.args[0]\n",
    "        B = self.B #self.args[1]\n",
    "\n",
    "        if isinstance(A, Add):\n",
    "            # [A + B, C]  ->  [A, C] + [B, C]\n",
    "            sargs = []\n",
    "            for term in A.args:\n",
    "                comm = PoissonBracket(term, B)\n",
    "                print(comm.__class__)\n",
    "                if isinstance(comm, PoissonBracket):\n",
    "                    comm = comm._eval_expand_commutator()\n",
    "                sargs.append(comm)\n",
    "#             print(sargs)\n",
    "            return Add(*sargs)\n",
    "        elif isinstance(B, Add):\n",
    "            # [A, B + C]  ->  [A, B] + [A, C]\n",
    "            sargs = []\n",
    "            for term in B.args:\n",
    "                comm = PoissonBracket(A, term)\n",
    "                if isinstance(comm, PoissonBracket):\n",
    "                    comm = comm._eval_expand_commutator()\n",
    "                sargs.append(comm)\n",
    "            return Add(*sargs)\n",
    "        elif isinstance(A, Mul):\n",
    "            # [A*B, C] -> A*[B, C] + [A, C]*B\n",
    "            a = A.args[0]\n",
    "            b = Mul(*A.args[1:])\n",
    "            c = B\n",
    "            comm1 = PoissonBracket(b, c)\n",
    "            comm2 = PoissonBracket(a, c)\n",
    "            if isinstance(comm1, PoissonBracket):\n",
    "                comm1 = comm1._eval_expand_commutator()\n",
    "            if isinstance(comm2, PoissonBracket):\n",
    "                comm2 = comm2._eval_expand_commutator()\n",
    "            first = Mul(a, comm1)\n",
    "            second = Mul(comm2, b)\n",
    "#             print(first,second)\n",
    "            return Add(first, second)\n",
    "        elif isinstance(B, Mul):\n",
    "            # [A, B*C] -> [A, B]*C + B*[A, C]\n",
    "            a = A\n",
    "            b = B.args[0]\n",
    "            c = Mul(*B.args[1:])\n",
    "            comm1 = PoissonBracket(a, b)\n",
    "            comm2 = PoissonBracket(a, c)\n",
    "            if isinstance(comm1, PoissonBracket):\n",
    "                comm1 = comm1._eval_expand_commutator()\n",
    "            if isinstance(comm2, PoissonBracket):\n",
    "                comm2 = comm2._eval_expand_commutator()\n",
    "            first = Mul(comm1, c)\n",
    "            second = Mul(b, comm2)\n",
    "            return Add(first, second)\n",
    "        elif isinstance(A, Pow):\n",
    "            # [A**n, C] -> A**(n - 1)*[A, C] + A**(n - 2)*[A, C]*A + ... + [A, C]*A**(n-1)\n",
    "            return self._expand_pow(A, B, 1)\n",
    "        elif isinstance(B, Pow):\n",
    "            # [A, C**n] -> C**(n - 1)*[C, A] + C**(n - 2)*[C, A]*C + ... + [C, A]*C**(n-1)\n",
    "            return self._expand_pow(B, A, -1)\n",
    "        return self\n",
    "    \n",
    "    def _expand_pow(self, A, B, sign):\n",
    "        exp = A.exp\n",
    "        if not exp.is_integer or not exp.is_constant() or abs(exp) <= 1:\n",
    "            # nothing to do\n",
    "            return self\n",
    "        base = A.base\n",
    "        if exp.is_negative:\n",
    "            base = A.base**-1\n",
    "            exp = -exp\n",
    "        comm = PoissonBracket(base, B).expand(commutator=True)\n",
    "\n",
    "        result = base**(exp - 1) * comm\n",
    "        for i in range(1, exp):\n",
    "            result += base**(exp - 1 - i) * comm * base**i\n",
    "        return sign*result.expand()\n",
    "    \n",
    "    \n",
    "    \n",
    "    def _latex(self, printer, *args):\n",
    "#         print(tuple([\n",
    "#             printer._print(arg.func, *args) if arg.__class__.__name__ != \"PoissonBracket\" else  printer._print(arg, *args) for arg in self.args[:2] ]))\n",
    "        news = []\n",
    "        for arg in self.args[:2]:\n",
    "#             print(type(arg))\n",
    "            if isinstance(arg,Add):\n",
    "                news.append(\" + \".join([printer.doprint(a.func, *args) if a.is_Function  else  printer.doprint(a, *args) for a in arg.args]))\n",
    "            \n",
    "            elif isinstance(arg,PoissonBracket):\n",
    "                news.append(printer.doprint(arg,*args))\n",
    "#                 news.append(\"\\\\lbrace %s,%s\\\\rbrace\" %tuple([\n",
    "#             printer.doprint(a.func, *args) if a.is_Function and not isinstance(a,UndefinedFunction)  else  printer.doprint(a, *args) for a in arg.args[:2] ]))\n",
    "            \n",
    "            elif isinstance(arg,Mul):\n",
    "                 news.append(\" * \".join([printer.doprint(a.func, *args) if a.is_Function  else  printer.doprint(a, *args) for a in arg.args]))\n",
    "#                 print([a for a in arg.args])\n",
    "#                 news.append(\" * \".join([ \n",
    "#                     printer._print(a.func, *args) \n",
    "#                     if a.is_Function  and not (isinstance(a,UndefinedFunction))\n",
    "#                     else  printer._print(a, *args) for a in args\n",
    "#                 ]))\n",
    "            elif isinstance(arg,Pow):\n",
    "                if isinstance(arg.args[0], UndefinedFunction):\n",
    "                    news.append(\"{}^{}\".format([printer.doprint(a) for a in arg.args]))\n",
    "                elif isinstance(arg.args[0], Function):\n",
    "                    news.append(\"{}^{}\".format(printer.doprint(arg.args[0].func,*args), printer.doprint(arg.args[1],*args)))\n",
    "                else:\n",
    "                    news.append(printer.doprint(arg, *args))\n",
    "                \n",
    "            elif isinstance(arg, Function) and not (isinstance(arg,UndefinedFunction)):\n",
    "                news.append(printer.doprint(arg.func, *args))\n",
    "                                                    \n",
    "            else: # isinstance(arg, Function) and isinstance(arg,UndefinedFunction):\n",
    "                news.append(printer.doprint(arg, *args))\n",
    "    \n",
    "        print(news)\n",
    "        return \"\\\\lbrace %s,%s\\\\rbrace\" %tuple(news)\n",
    "        \n",
    "        return \"\\\\lbrace %s,%s\\\\rbrace\" %tuple([\n",
    "            printer._print(arg.func, *args) if arg.is_Function  and not (isinstance(arg,UndefinedFunction))\n",
    "            else  printer._print(arg, *args) \n",
    "            for arg in self.args[:2] ])\n",
    "#         return \"\\\\lbrace %s,%s\\\\rbrace\" % tuple([\n",
    "#             printer._print(arg, *args) for arg in self.args[:2]])"
   ]
  },
  {
   "cell_type": "markdown",
   "metadata": {},
   "source": [
    "# Tests Setup"
   ]
  },
  {
   "cell_type": "code",
   "execution_count": 63,
   "metadata": {},
   "outputs": [],
   "source": [
    "A = Function(\"A\", commutative=False)\n",
    "B = Function(\"B\", commutative=False)\n",
    "C = Function(\"C\", commutative=False)\n",
    "D = Function(\"D\", commutative=False)\n",
    "\n",
    "x, px, y, py = symbols(\"x px y py\")\n",
    "\n",
    "half = Rational(1, 2)"
   ]
  },
  {
   "cell_type": "markdown",
   "metadata": {},
   "source": [
    "# Tests"
   ]
  },
  {
   "cell_type": "code",
   "execution_count": 64,
   "metadata": {},
   "outputs": [],
   "source": [
    "_file__ = \"Untitled.ipynb\"\n",
    "import ipytest\n",
    "\n",
    "import pytest\n",
    "ipytest.autoconfig()"
   ]
  },
  {
   "cell_type": "markdown",
   "metadata": {},
   "source": [
    "## Single Brackets"
   ]
  },
  {
   "cell_type": "code",
   "execution_count": 98,
   "metadata": {},
   "outputs": [
    {
     "name": "stdout",
     "output_type": "stream",
     "text": [
      "Interchanging order of arguments and put minus sign in front of bracket.\n",
      "Eval returned a value\n",
      "Interchanging order of arguments and put minus sign in front of bracket.\n",
      "Eval returned a value\n",
      "Interchanging order of arguments and put minus sign in front of bracket.\n",
      "Eval returned a value\n",
      "Interchanging order of arguments and put minus sign in front of bracket.\n",
      "Eval returned a value\n",
      "\u001b[32m.\u001b[0m\u001b[32m.\u001b[0m\u001b[32m.\u001b[0m\u001b[32m.\u001b[0m\u001b[32m.\u001b[0m\u001b[32m.\u001b[0m\u001b[32m.\u001b[0m\u001b[32m.\u001b[0m\u001b[32m.\u001b[0m\u001b[32m.\u001b[0m\u001b[32m.\u001b[0m\u001b[32m.\u001b[0m\u001b[32m.\u001b[0m\u001b[32m.\u001b[0m\u001b[32m.\u001b[0m\u001b[32m.\u001b[0m\u001b[32m.\u001b[0m\u001b[32m.\u001b[0m\u001b[32m.\u001b[0m\u001b[32m.\u001b[0m\u001b[32m.\u001b[0m\u001b[32m.\u001b[0m\u001b[32m.\u001b[0m\u001b[32m.\u001b[0m\u001b[32m.\u001b[0m\u001b[32m.\u001b[0m\u001b[32m.\u001b[0m\u001b[32m.\u001b[0m\u001b[32m.\u001b[0m\u001b[32m.\u001b[0m\u001b[32m.\u001b[0m\u001b[32m.\u001b[0m\u001b[32m.\u001b[0m\u001b[32m.\u001b[0m\u001b[32m.\u001b[0m\u001b[32m.\u001b[0m\u001b[32m.\u001b[0m\u001b[32m.\u001b[0m\u001b[32m [ 95%]\n",
      "\u001b[0m\u001b[32m.\u001b[0m\u001b[32m.\u001b[0m\u001b[32m                                     [100%]\u001b[0m\n",
      "\u001b[32m\u001b[32m\u001b[1m40 passed\u001b[0m\u001b[32m in 0.19s\u001b[0m\u001b[0m\n"
     ]
    }
   ],
   "source": [
    "%%run_pytest[clean]\n",
    "\n",
    "import pytest\n",
    "\n",
    "single_pb_fail = [\n",
    "    ((1,2)   , 0),\n",
    "    ((1,half), 0),\n",
    "]\n",
    "\n",
    "single_pb_pass = [\n",
    "    ((S.One   , half),{}, 0),\n",
    "    ((A       , half),{}, 0),\n",
    "    ((A(x)    , half),{}, 0),\n",
    "    ((A(x,px) , half),{}, 0),\n",
    "    ((S.One   , half),{\"coords\":[x]}, 0),\n",
    "    ((A       , half),{\"coords\":[x]}, 0),\n",
    "    ((A(x)    , half),{\"coords\":[x]}, 0),\n",
    "    ((A(x,px) , half),{\"coords\":[x]}, 0),\n",
    "    (reversed((S.One   , half)),{}, 0),\n",
    "    (reversed((A       , half)),{}, 0),\n",
    "    (reversed((A(x)    , half)),{}, 0),\n",
    "    (reversed((A(x,px) , half)),{}, 0),\n",
    "    (reversed((S.One   , half)),{\"coords\":[x]}, 0),\n",
    "    (reversed((A       , half)),{\"coords\":[x]}, 0),\n",
    "    (reversed((A(x)    , half)),{\"coords\":[x]}, 0),\n",
    "    (reversed((A(x,px) , half)),{\"coords\":[x]}, 0),\n",
    "]\n",
    "\n",
    "single_pb_doit_fail = [\n",
    "    \n",
    "]\n",
    "\n",
    "single_pb_doit_pass = [\n",
    "    # Brackets doit returns self - no indep coords/mom to take der.\n",
    "    ((A       , B       ),{}, PoissonBracket(A, B)),\n",
    "    ((A(x,px) , B       ),{}, PoissonBracket(A(x,px), B)),\n",
    "    ((A       , B(x,px) ),{}, PoissonBracket(A, B(x,px))),\n",
    "    ((A(x,px) , B(x,px) ),{}, PoissonBracket(A(x,px), B(x,px))),\n",
    "    ((x **2   , x + px  ),{}, PoissonBracket(x ** 2, x + px)),\n",
    "    \n",
    "    (reversed((A       , B       )),{}, PoissonBracket(B, A)),\n",
    "    (reversed((A(x,px) , B       )),{}, PoissonBracket(B, A(x,px))),\n",
    "    (reversed((A       , B(x,px) )),{}, PoissonBracket(B(x,px),A)),\n",
    "    (reversed((A(x,px) , B(x,px) )),{}, PoissonBracket(B(x,px),A(x,px))),\n",
    "    \n",
    "    # Brackets actually performing the doit\n",
    "    ((A       , B       ),{\"coords\":[x]}, PoissonBracket(A, B)),\n",
    "    ((A(x,px) , B       ),{\"coords\":[x]}, PoissonBracket(A(x,px), B)),\n",
    "    ((A       , B(x,px) ),{\"coords\":[x]}, PoissonBracket(A, B(x,px))),\n",
    "    ((A(x,px) , B(x,px) ),{\"coords\":[x]}, PoissonBracket(A(x,px), B(x,px))),\n",
    "    \n",
    "    ((x **2     , x + px     ), {\"coords\":[x]  , \"mom\": [px]   }, 2*x),\n",
    "    ((A(x, px)  , B(x, y, py)), {\"coords\":[x]  , \"mom\": [px]   }, -Derivative(A(x, px), px)*Derivative(B(x, y, py), x)),\n",
    "    ((A(x,y, px), B(x, y, py)), {\"coords\":[x]  , \"mom\": [px]   }, -Derivative(A(x, y, px), px)*Derivative(B(x, y, py), x)),\n",
    "    ((A(x, px)  , B(x, y, py)), {\"coords\":[x,y], \"mom\": [px]   }, -Derivative(A(x, px), px)*Derivative(B(x, y, py), x)),\n",
    "    ((A(x, px)  , B(x, y, py)), {\"coords\":[x,y], \"mom\": [px,py]}, -Derivative(A(x, px), px)*Derivative(B(x, y, py), x)),\n",
    "    ((A(x,y, px), B(x, y, py)), {\"coords\":[x,y], \"mom\": [px,py]}, -Derivative(A(x, y, px), px)*Derivative(B(x, y, py), x) +\n",
    "     Derivative(A(x, y, px), y)*Derivative(B(x, y, py), py)),\n",
    "    \n",
    "    ((A(x,px)+B(x,y,py), C(x,px)           ), {\"coords\":[x,y], \"mom\":[px,py]}, (Derivative(A(x, px), x) + Derivative(B(x, y, py), x))*Derivative(C(x, px), px) - Derivative(A(x, px), px)*Derivative(C(x, px), x) ),\n",
    "    ((A(x,px)*B(x,y,py), C(x,px)           ), {\"coords\":[x,y], \"mom\":[px,py]}, (A(x, px)*Derivative(B(x, y, py), x) + Derivative(A(x, px), x)*B(x, y, py))*Derivative(C(x, px), px) - Derivative(A(x, px), px)*B(x, y, py)*Derivative(C(x, px), x)),\n",
    "    ((A(x,px)           , B(x,y,py)*C(x,px)), {\"coords\":[x,y], \"mom\":[px,py]}, S.NegativeOne * ((B(x, y, py)*Derivative(C(x, px), x) + Derivative(B(x, y, py), x)*C(x, px))*Derivative(A(x, px), px) - B(x, y, py)*Derivative(C(x, px), px)*Derivative(A(x, px), x))),\n",
    "    ((A(x,px)**3        , B(x,y,py)        ), {\"coords\":[x,y], \"mom\":[px,py]}, -3*A(x, px)**3*Derivative(A(x, px), px)*A(x, px)**(-1)*Derivative(B(x, y, py), x)),\n",
    "]\n",
    "@pytest.mark.parametrize('input,expected',single_pb_fail)\n",
    "def test_single_pb_parametrized_fail(input, expected):\n",
    "    with pytest.raises(AttributeError):\n",
    "        test = PoissonBracket(*input)\n",
    "        \n",
    "\n",
    "@pytest.mark.parametrize('input,kwargs,expected',single_pb_pass)\n",
    "def test_single_pb_parametrized_pass(input, kwargs, expected):\n",
    "    test = PoissonBracket(*input,**kwargs)\n",
    "    assert test == expected\n",
    "    \n",
    "    \n",
    "@pytest.mark.parametrize('input,kwargs,expected',single_pb_doit_pass)\n",
    "def test_single_pb_doit_parametrized_pass(input, kwargs, expected):\n",
    "    test = PoissonBracket(*input,**kwargs)\n",
    "    assert test.doit() == expected"
   ]
  },
  {
   "cell_type": "markdown",
   "metadata": {},
   "source": [
    "## Double Brackets"
   ]
  },
  {
   "cell_type": "code",
   "execution_count": 66,
   "metadata": {},
   "outputs": [
    {
     "name": "stdout",
     "output_type": "stream",
     "text": [
      "\u001b[32m.\u001b[0m\u001b[32m.\u001b[0m\u001b[32m.\u001b[0m\u001b[32m.\u001b[0m\u001b[32m.\u001b[0m\u001b[32m.\u001b[0m\u001b[32m.\u001b[0m\u001b[32m.\u001b[0m\u001b[32m.\u001b[0m\u001b[32m.\u001b[0m\u001b[32m.\u001b[0m\u001b[32m.\u001b[0m\u001b[32m.\u001b[0m\u001b[32m.\u001b[0m\u001b[32m.\u001b[0m\u001b[32m.\u001b[0m\u001b[32m.\u001b[0m\u001b[32m.\u001b[0m\u001b[32m.\u001b[0m\u001b[32m.\u001b[0m\u001b[32m.\u001b[0m\u001b[32m.\u001b[0m\u001b[32m.\u001b[0m\u001b[32m.\u001b[0m\u001b[32m.\u001b[0m\u001b[32m.\u001b[0m\u001b[32m.\u001b[0m\u001b[32m.\u001b[0m\u001b[32m.\u001b[0m\u001b[32m.\u001b[0m\u001b[32m.\u001b[0m\u001b[32m.\u001b[0m\u001b[32m.\u001b[0m\u001b[32m.\u001b[0m\u001b[32m.\u001b[0m\u001b[32m.\u001b[0m\u001b[32m.\u001b[0m\u001b[32m.\u001b[0m\u001b[32m [ 58%]\n",
      "\u001b[0m\u001b[32m.\u001b[0m\u001b[32m.\u001b[0m\u001b[32m.\u001b[0m\u001b[32m.\u001b[0m\u001b[32m.\u001b[0m\u001b[32m.\u001b[0m\u001b[32m.\u001b[0m\u001b[32m.\u001b[0m\u001b[32m.\u001b[0m\u001b[32m.\u001b[0m\u001b[32m.\u001b[0m\u001b[32m.\u001b[0m\u001b[32m.\u001b[0m\u001b[32m.\u001b[0m\u001b[32m.\u001b[0m\u001b[32m.\u001b[0m\u001b[32m.\u001b[0m\u001b[32m.\u001b[0m\u001b[32m.\u001b[0m\u001b[32m.\u001b[0m\u001b[32m.\u001b[0m\u001b[32m.\u001b[0m\u001b[32m.\u001b[0m\u001b[32m.\u001b[0m\u001b[32m.\u001b[0m\u001b[32m.\u001b[0m\u001b[32m.\u001b[0m\u001b[32m            [100%]\u001b[0m\n",
      "\u001b[32m\u001b[32m\u001b[1m65 passed\u001b[0m\u001b[32m in 0.24s\u001b[0m\u001b[0m\n"
     ]
    }
   ],
   "source": [
    "%%run_pytest[clean]\n",
    "\n",
    "import pytest\n",
    "\n",
    "double_pb_fail = [\n",
    "    \n",
    "]\n",
    "\n",
    "double_pb_pass = [\n",
    "    ((S.One   , half), (S.One,) ,{}            , {}, 0),\n",
    "    ((A       , half), (S.One,) ,{}            , {}, 0),\n",
    "    ((A(x)    , half), (S.One,) ,{}            , {}, 0),\n",
    "    ((A(x,px) , half), (S.One,) ,{}            , {}, 0),\n",
    "    ((S.One   , half), (S.One,) ,{\"coords\":[x]}, {}, 0),\n",
    "    ((A       , half), (S.One,) ,{\"coords\":[x]}, {}, 0),\n",
    "    ((A(x)    , half), (S.One,) ,{\"coords\":[x]}, {}, 0),\n",
    "    ((A(x,px) , half), (S.One,) ,{\"coords\":[x]}, {}, 0),\n",
    "    \n",
    "    ((S.One   , half), (A,) ,{}            , {}, 0),\n",
    "    ((A       , half), (A,) ,{}            , {}, 0),\n",
    "    ((A(x)    , half), (A,) ,{}            , {}, 0),\n",
    "    ((A(x,px) , half), (A,) ,{}            , {}, 0),\n",
    "    ((S.One   , half), (A,) ,{\"coords\":[x]}, {}, 0),\n",
    "    ((A       , half), (A,) ,{\"coords\":[x]}, {}, 0),\n",
    "    ((A(x)    , half), (A,) ,{\"coords\":[x]}, {}, 0),\n",
    "    ((A(x,px) , half), (A,) ,{\"coords\":[x]}, {}, 0),\n",
    "    \n",
    "    ((S.One   , half), (A(x),) ,{}            , {}, 0),\n",
    "    ((A       , half), (A(x),) ,{}            , {}, 0),\n",
    "    ((A(x)    , half), (A(x),) ,{}            , {}, 0),\n",
    "    ((A(x,px) , half), (A(x),) ,{}            , {}, 0),\n",
    "    ((S.One   , half), (A(x),) ,{\"coords\":[x]}, {}, 0),\n",
    "    ((A       , half), (A(x),) ,{\"coords\":[x]}, {}, 0),\n",
    "    ((A(x)    , half), (A(x),) ,{\"coords\":[x]}, {}, 0),\n",
    "    ((A(x,px) , half), (A(x),) ,{\"coords\":[x]}, {}, 0),\n",
    "    \n",
    "    ((S.One   , half), (A(x,px),) ,{}            , {}, 0),\n",
    "    ((A       , half), (A(x,px),) ,{}            , {}, 0),\n",
    "    ((A(x)    , half), (A(x,px),) ,{}            , {}, 0),\n",
    "    ((A(x,px) , half), (A(x,px),) ,{}            , {}, 0),\n",
    "    ((S.One   , half), (A(x,px),) ,{\"coords\":[x]}, {}, 0),\n",
    "    ((A       , half), (A(x,px),) ,{\"coords\":[x]}, {}, 0),\n",
    "    ((A(x)    , half), (A(x,px),) ,{\"coords\":[x]}, {}, 0),\n",
    "    ((A(x,px) , half), (A(x,px),) ,{\"coords\":[x]}, {}, 0),\n",
    "    \n",
    "    (reversed((S.One   , half)), (S.One,) ,{}            , {}, 0),\n",
    "    (reversed((A       , half)), (S.One,) ,{}            , {}, 0),\n",
    "    (reversed((A(x)    , half)), (S.One,) ,{}            , {}, 0),\n",
    "    (reversed((A(x,px) , half)), (S.One,) ,{}            , {}, 0),\n",
    "    (reversed((S.One   , half)), (S.One,) ,{\"coords\":[x]}, {}, 0),\n",
    "    (reversed((A       , half)), (S.One,) ,{\"coords\":[x]}, {}, 0),\n",
    "    (reversed((A(x)    , half)), (S.One,) ,{\"coords\":[x]}, {}, 0),\n",
    "    (reversed((A(x,px) , half)), (S.One,) ,{\"coords\":[x]}, {}, 0),\n",
    "    \n",
    "    (reversed((S.One   , half)), (A,) ,{}            , {}, 0),\n",
    "    (reversed((A       , half)), (A,) ,{}            , {}, 0),\n",
    "    (reversed((A(x)    , half)), (A,) ,{}            , {}, 0),\n",
    "    (reversed((A(x,px) , half)), (A,) ,{}            , {}, 0),\n",
    "    (reversed((S.One   , half)), (A,) ,{\"coords\":[x]}, {}, 0),\n",
    "    (reversed((A       , half)), (A,) ,{\"coords\":[x]}, {}, 0),\n",
    "    (reversed((A(x)    , half)), (A,) ,{\"coords\":[x]}, {}, 0),\n",
    "    (reversed((A(x,px) , half)), (A,) ,{\"coords\":[x]}, {}, 0),\n",
    "    \n",
    "    (reversed((S.One   , half)), (A(x),) ,{}            , {}, 0),\n",
    "    (reversed((A       , half)), (A(x),) ,{}            , {}, 0),\n",
    "    (reversed((A(x)    , half)), (A(x),) ,{}            , {}, 0),\n",
    "    (reversed((A(x,px) , half)), (A(x),) ,{}            , {}, 0),\n",
    "    (reversed((S.One   , half)), (A(x),) ,{\"coords\":[x]}, {}, 0),\n",
    "    (reversed((A       , half)), (A(x),) ,{\"coords\":[x]}, {}, 0),\n",
    "    (reversed((A(x)    , half)), (A(x),) ,{\"coords\":[x]}, {}, 0),\n",
    "    (reversed((A(x,px) , half)), (A(x),) ,{\"coords\":[x]}, {}, 0),\n",
    "    \n",
    "    (reversed((S.One   , half)), (A(x,px),) ,{}            , {}, 0),\n",
    "    (reversed((A       , half)), (A(x,px),) ,{}            , {}, 0),\n",
    "    (reversed((A(x)    , half)), (A(x,px),) ,{}            , {}, 0),\n",
    "    (reversed((A(x,px) , half)), (A(x,px),) ,{}            , {}, 0),\n",
    "    (reversed((S.One   , half)), (A(x,px),) ,{\"coords\":[x]}, {}, 0),\n",
    "    (reversed((A       , half)), (A(x,px),) ,{\"coords\":[x]}, {}, 0),\n",
    "    (reversed((A(x)    , half)), (A(x,px),) ,{\"coords\":[x]}, {}, 0),\n",
    "    (reversed((A(x,px) , half)), (A(x,px),) ,{\"coords\":[x]}, {}, 0),\n",
    "    \n",
    "    ((A     , B    ), (S.One,) ,{}            , {}, 0),\n",
    "]\n",
    "\n",
    "@pytest.mark.parametrize('input1,input2,kwargs1,kwargs2,expected',double_pb_pass)\n",
    "def test_double_pb_parametrized_pass(input1, input2, kwargs1, kwargs2, expected):\n",
    "    pb1 = PoissonBracket(*input1, **kwargs1)\n",
    "    pb2 = PoissonBracket(pb1, *input2, **kwargs2)\n",
    "    assert pb2 == expected"
   ]
  },
  {
   "cell_type": "code",
   "execution_count": 67,
   "metadata": {
    "collapsed": true
   },
   "outputs": [
    {
     "name": "stdout",
     "output_type": "stream",
     "text": [
      "Interchanging order of arguments and put minus sign in front of bracket.\n",
      "Eval returned a value\n",
      "Interchanging order of arguments and put minus sign in front of bracket.\n",
      "Eval returned a value\n",
      "Interchanging order of arguments and put minus sign in front of bracket.\n",
      "Eval returned a value\n",
      "Interchanging order of arguments and put minus sign in front of bracket.\n",
      "Eval returned a value\n",
      "Interchanging order of arguments and put minus sign in front of bracket.\n",
      "Eval returned a value\n",
      "Interchanging order of arguments and put minus sign in front of bracket.\n",
      "Eval returned a value\n",
      "Interchanging order of arguments and put minus sign in front of bracket.\n",
      "Eval returned a value\n",
      "Interchanging order of arguments and put minus sign in front of bracket.\n",
      "Eval returned a value\n",
      "Interchanging order of arguments and put minus sign in front of bracket.\n",
      "Eval returned a value\n",
      "Interchanging order of arguments and put minus sign in front of bracket.\n",
      "Eval returned a value\n",
      "Interchanging order of arguments and put minus sign in front of bracket.\n",
      "Eval returned a value\n",
      "Interchanging order of arguments and put minus sign in front of bracket.\n",
      "Eval returned a value\n",
      "Interchanging order of arguments and put minus sign in front of bracket.\n",
      "Eval returned a value\n",
      "Interchanging order of arguments and put minus sign in front of bracket.\n",
      "Eval returned a value\n",
      "Interchanging order of arguments and put minus sign in front of bracket.\n",
      "Eval returned a value\n",
      "Interchanging order of arguments and put minus sign in front of bracket.\n",
      "Eval returned a value\n",
      "Interchanging order of arguments and put minus sign in front of bracket.\n",
      "Eval returned a value\n",
      "\u001b[32m.\u001b[0m\u001b[32m.\u001b[0m\u001b[32m.\u001b[0m\u001b[32m.\u001b[0m\u001b[32m.\u001b[0m\u001b[32m.\u001b[0m\u001b[32m.\u001b[0m\u001b[32m.\u001b[0m\u001b[32m.\u001b[0m\u001b[32m.\u001b[0m\u001b[32m.\u001b[0m\u001b[32m.\u001b[0m\u001b[32m.\u001b[0m\u001b[32m.\u001b[0m\u001b[32m.\u001b[0m\u001b[32m.\u001b[0m\u001b[32m.\u001b[0m\u001b[32m.\u001b[0m\u001b[32m.\u001b[0m\u001b[32m.\u001b[0m\u001b[32m.\u001b[0m\u001b[32m.\u001b[0m\u001b[32m.\u001b[0m\u001b[32m.\u001b[0m\u001b[32m.\u001b[0m\u001b[32m.\u001b[0m\u001b[32m.\u001b[0m\u001b[32m.\u001b[0m\u001b[32m.\u001b[0m\u001b[32m.\u001b[0m\u001b[32m.\u001b[0m\u001b[32m.\u001b[0m\u001b[32m.\u001b[0m\u001b[32m.\u001b[0m\u001b[32m.\u001b[0m\u001b[32m.\u001b[0m\u001b[32m.\u001b[0m\u001b[32m.\u001b[0m\u001b[32m [ 56%]\n",
      "\u001b[0m\u001b[32m.\u001b[0m\u001b[32m.\u001b[0m\u001b[32m.\u001b[0m\u001b[32m.\u001b[0m\u001b[32m.\u001b[0m\u001b[32m.\u001b[0m\u001b[32m.\u001b[0m\u001b[32m.\u001b[0m\u001b[32m.\u001b[0m\u001b[32m.\u001b[0m\u001b[32m.\u001b[0m\u001b[32m.\u001b[0m\u001b[32m.\u001b[0m\u001b[32m.\u001b[0m\u001b[32m.\u001b[0m\u001b[32m.\u001b[0m\u001b[32m.\u001b[0m\u001b[32m.\u001b[0m\u001b[32m.\u001b[0m\u001b[32m.\u001b[0m\u001b[32m.\u001b[0m\u001b[32m.\u001b[0m\u001b[32m.\u001b[0m\u001b[32m.\u001b[0m\u001b[32m.\u001b[0m\u001b[32m.\u001b[0m\u001b[32m.\u001b[0m\u001b[32m.\u001b[0m\u001b[32m.\u001b[0m\u001b[32m          [100%]\u001b[0m\n",
      "\u001b[32m\u001b[32m\u001b[1m67 passed\u001b[0m\u001b[32m in 1.02s\u001b[0m\u001b[0m\n"
     ]
    }
   ],
   "source": [
    "%%run_pytest[clean]\n",
    "\n",
    "import pytest\n",
    "\n",
    "double_pb_doit_fail = [\n",
    "   \n",
    "]\n",
    "\n",
    "double_pb_doit_pass = [\n",
    "    ((A      , B      ), (S.One,), {}, {}, 0),\n",
    "    ((A      , B      ), (C    ,), {}, {}, PoissonBracket(PoissonBracket(A,B),C)),\n",
    "    ((A(x,px), B(x,px)), (C    ,), {}, {}, PoissonBracket(PoissonBracket(A(x,px),B(x,px)),C)),\n",
    "    ((x **2  , x + px ), (C    ,), {}, {}, PoissonBracket(PoissonBracket(x**2,x+px),C)),\n",
    "    \n",
    "    ((A      , B      ), (C    ,), {}, {}, PoissonBracket(PoissonBracket(A, B),C)),\n",
    "    ((A(x)   , B      ), (C    ,), {}, {}, PoissonBracket(PoissonBracket(A(x), B), C)),\n",
    "    ((A      , B(x)   ), (C    ,), {}, {}, PoissonBracket(PoissonBracket(A, B(x)), C)),\n",
    "    ((A      , B      ), (C(x) ,), {}, {}, S.NegativeOne * PoissonBracket(C(x), PoissonBracket(A, B))),\n",
    "    \n",
    "    ((A      , B      ), (C    ,), {\"coords\":[x]}, {}, PoissonBracket(PoissonBracket(A, B),C)),\n",
    "    ((A(x)   , B      ), (C    ,), {\"coords\":[x]}, {}, PoissonBracket(PoissonBracket(A(x), B), C)),\n",
    "    ((A      , B(x)   ), (C    ,), {\"coords\":[x]}, {}, PoissonBracket(PoissonBracket(A, B(x)), C)),\n",
    "    ((A      , B      ), (C(x) ,), {\"coords\":[x]}, {}, S.NegativeOne * PoissonBracket(C(x), PoissonBracket(A, B))),\n",
    "    \n",
    "    \n",
    "    ((A(x)  , B       ), (C    ,), {}, {\"coords\":[x]}, PoissonBracket(PoissonBracket(A(x), B), C)),\n",
    "    ((A     , B(x)    ), (C    ,), {}, {\"coords\":[x]}, PoissonBracket( PoissonBracket(A, B(x)),C )),\n",
    "    ((A     , B       ), (C(x) ,), {}, {\"coords\":[x]}, S.NegativeOne * PoissonBracket(C(x), PoissonBracket(A, B))),\n",
    "    ((A     , B       ), (C    ,), {}, {\"coords\":[x]}, PoissonBracket(PoissonBracket(A, B), C)),\n",
    "   \n",
    "    \n",
    "    ((A(x)   , B(x)   ), (C      ,), {\"coords\":[x]}, {}            , PoissonBracket(PoissonBracket(A(x), B(x)), C)),\n",
    "    ((A(x)   , B(x)   ), (C(x)   ,), {\"coords\":[x]}, {}            , S.NegativeOne * PoissonBracket(C(x), PoissonBracket(A(x), B(x)))),\n",
    "    ((A(x)   , B(x)   ), (C(x)   ,), {}            , {\"coords\":[x]}, -PoissonBracket(C(x), PoissonBracket(A(x), B(x)))),\n",
    "    ((A(x,px), B(x)   ), (C(x)   ,), {\"coords\":[x]}, {}            , -PoissonBracket(C(x), PoissonBracket(A(x, px), B(x)))),\n",
    "    \n",
    "    ((A(x,px), B(x)   ), (C(x)   ,), {}, {}, -PoissonBracket(C(x), PoissonBracket(A(x, px), B(x)))),\n",
    "    ((A(x)   , B(x,px)), (C(x)   ,), {}, {}, -PoissonBracket(C(x), PoissonBracket(A(x), B(x, px)))),\n",
    "    ((A(x)   , B(x)   ), (C(x,px),), {}, {}, -PoissonBracket(C(x,px), PoissonBracket(A(x), B(x)))),\n",
    "    ((A(x,px), B(x,px)), (C(x)   ,), {}, {}, -PoissonBracket(C(x), PoissonBracket(A(x, px), B(x,px)))),\n",
    "    ((A(x,px), B(x)   ), (C(x,px),), {}, {}, -PoissonBracket(C(x,px), PoissonBracket(A(x, px), B(x)))),\n",
    "    ((A(x,px), B(x,px)), (C(x,px),), {}, {}, -PoissonBracket(C(x,px), PoissonBracket(A(x, px), B(x,px)))),\n",
    "\n",
    "    ((A(x,px), B(x)   ), (C(x)   ,), {\"coords\":[x]}, {}, -PoissonBracket(C(x), PoissonBracket(A(x, px), B(x)))),\n",
    "    ((A(x)   , B(x,px)), (C(x)   ,), {\"coords\":[x]}, {}, -PoissonBracket(C(x), PoissonBracket(A(x), B(x, px)))),\n",
    "    ((A(x)   , B(x)   ), (C(x,px),), {\"coords\":[x]}, {}, -PoissonBracket(C(x,px), PoissonBracket(A(x), B(x)))),\n",
    "    ((A(x,px), B(x,px)), (C(x)   ,), {\"coords\":[x]}, {}, -PoissonBracket(C(x), PoissonBracket(A(x, px), B(x,px)))),\n",
    "    ((A(x,px), B(x)   ), (C(x,px),), {\"coords\":[x]}, {}, -PoissonBracket(C(x,px), PoissonBracket(A(x, px), B(x)))),\n",
    "    ((A(x,px), B(x,px)), (C(x,px),), {\"coords\":[x]}, {}, -PoissonBracket(C(x,px), PoissonBracket(A(x, px), B(x,px)))),\n",
    "    \n",
    "    ((A(x,px), B(x)   ), (C(x)   ,), {}, {\"coords\":[x]}, -PoissonBracket(C(x), PoissonBracket(A(x, px), B(x)))),\n",
    "    ((A(x)   , B(x,px)), (C(x)   ,), {}, {\"coords\":[x]}, -PoissonBracket(C(x), PoissonBracket(A(x), B(x, px)))),\n",
    "    ((A(x)   , B(x)   ), (C(x,px),), {}, {\"coords\":[x]}, -PoissonBracket(C(x,px), PoissonBracket(A(x), B(x)))),\n",
    "    ((A(x,px), B(x,px)), (C(x)   ,), {}, {\"coords\":[x]}, -PoissonBracket(C(x), PoissonBracket(A(x, px), B(x,px)))),\n",
    "    ((A(x,px), B(x)   ), (C(x,px),), {}, {\"coords\":[x]}, -PoissonBracket(C(x,px), PoissonBracket(A(x, px), B(x)))),\n",
    "    ((A(x,px), B(x,px)), (C(x,px),), {}, {\"coords\":[x]}, -PoissonBracket(C(x,px), PoissonBracket(A(x, px), B(x,px)))),\n",
    "    \n",
    "    ((A(x,px), B(x)   ), (C(x)   ,), {\"coords\":[x], \"mom\": [px]}, {}, -PoissonBracket(C(x), PoissonBracket(A(x, px), B(x)))),\n",
    "    ((A(x)   , B(x,px)), (C(x)   ,), {\"coords\":[x], \"mom\": [px]}, {}, -PoissonBracket(C(x), PoissonBracket(A(x), B(x, px)))),\n",
    "    ((A(x)   , B(x)   ), (C(x,px),), {\"coords\":[x], \"mom\": [px]}, {}, -PoissonBracket(C(x,px), PoissonBracket(A(x), B(x)))),\n",
    "    ((A(x,px), B(x,px)), (C(x)   ,), {\"coords\":[x], \"mom\": [px]}, {}, -PoissonBracket(C(x), PoissonBracket(A(x, px), B(x,px)))),\n",
    "    ((A(x,px), B(x)   ), (C(x,px),), {\"coords\":[x], \"mom\": [px]}, {}, -PoissonBracket(C(x,px), PoissonBracket(A(x, px), B(x)))),\n",
    "    ((A(x,px), B(x,px)), (C(x,px),), {\"coords\":[x], \"mom\": [px]}, {}, -PoissonBracket(C(x,px), PoissonBracket(A(x, px), B(x,px)))),\n",
    "    \n",
    "    ((A(x,px), B(x)   ), (C(x)   ,), {}, {\"coords\":[x], \"mom\": [px]},  -PoissonBracket(C(x), PoissonBracket(A(x, px), B(x)))),\n",
    "    ((A(x)   , B(x,px)), (C(x)   ,), {}, {\"coords\":[x], \"mom\": [px]},  -PoissonBracket(C(x), PoissonBracket(A(x), B(x, px)))),\n",
    "    ((A(x)   , B(x)   ), (C(x,px),), {}, {\"coords\":[x], \"mom\": [px]},  -PoissonBracket(C(x,px), PoissonBracket(A(x), B(x)))),\n",
    "    ((A(x,px), B(x,px)), (C(x)   ,), {}, {\"coords\":[x], \"mom\": [px]},  -PoissonBracket(C(x), PoissonBracket(A(x, px), B(x,px)))),\n",
    "    ((A(x,px), B(x)   ), (C(x,px),), {}, {\"coords\":[x], \"mom\": [px]},  -PoissonBracket(C(x,px), PoissonBracket(A(x, px), B(x)))),\n",
    "    ((A(x,px), B(x,px)), (C(x,px),), {}, {\"coords\":[x], \"mom\": [px]},  -PoissonBracket(C(x,px), PoissonBracket(A(x, px), B(x,px)))),\n",
    "    \n",
    "    ((A(x,px), B(x)   ), (C(x)   ,), {\"coords\":[x], \"mom\": [px]}, {\"coords\":[x]}, -PoissonBracket(C(x), PoissonBracket(A(x, px), B(x)))),\n",
    "    ((A(x)   , B(x,px)), (C(x)   ,), {\"coords\":[x], \"mom\": [px]}, {\"coords\":[x]}, -PoissonBracket(C(x), PoissonBracket(A(x), B(x, px)))),\n",
    "    ((A(x)   , B(x)   ), (C(x,px),), {\"coords\":[x], \"mom\": [px]}, {\"coords\":[x]}, -PoissonBracket(C(x,px), PoissonBracket(A(x), B(x)))),\n",
    "    ((A(x,px), B(x,px)), (C(x)   ,), {\"coords\":[x], \"mom\": [px]}, {\"coords\":[x]}, -PoissonBracket(C(x), PoissonBracket(A(x, px), B(x,px)))),\n",
    "    ((A(x,px), B(x)   ), (C(x,px),), {\"coords\":[x], \"mom\": [px]}, {\"coords\":[x]}, -PoissonBracket(C(x,px), PoissonBracket(A(x, px), B(x)))),\n",
    "    ((A(x,px), B(x,px)), (C(x,px),), {\"coords\":[x], \"mom\": [px]}, {\"coords\":[x]}, -PoissonBracket(C(x,px), PoissonBracket(A(x, px), B(x,px)))),\n",
    "    \n",
    "    ((A(x,px), B(x)   ), (C(x)   ,), {\"coords\":[x], \"mom\": [px]}, {\"coords\":[x], \"mom\": [px]}, Derivative(C(x), x)*Derivative(A(x, px), (px, 2))*Derivative(B(x), x)),\n",
    "    ((A(x)   , B(x,px)), (C(x)   ,), {\"coords\":[x], \"mom\": [px]}, {\"coords\":[x], \"mom\": [px]}, -Derivative(C(x), x)*Derivative(A(x), x)*Derivative(B(x, px), (px, 2))),\n",
    "    ((A(x)   , B(x)   ), (C(x,px),), {\"coords\":[x], \"mom\": [px]}, {\"coords\":[x], \"mom\": [px]}, 0),\n",
    "    ((A(x,px), B(x,px)), (C(x)   ,), {\"coords\":[x], \"mom\": [px]}, {\"coords\":[x], \"mom\": [px]}, -Derivative(C(x), x)*(-Derivative(A(x, px), px)*Derivative(B(x, px), px, x) - Derivative(A(x, px), (px, 2))*Derivative(B(x, px), x) + Derivative(A(x, px), x)*Derivative(B(x, px), (px, 2)) + Derivative(A(x, px), px, x)*Derivative(B(x, px), px))),\n",
    "    ((A(x,px), B(x)   ), (C(x,px),), {\"coords\":[x], \"mom\": [px]}, {\"coords\":[x], \"mom\": [px]},  S.NegativeOne * (-Derivative(C(x, px), px)*(-Derivative(A(x, px), px)*Derivative(B(x), (x, 2)) - Derivative(A(x, px), px, x)*Derivative(B(x), x)) - Derivative(C(x, px), x)*Derivative(A(x, px), (px, 2))*Derivative(B(x), x))),\n",
    "    ((A(x,px), B(x,px)), (C(x,px),), {\"coords\":[x], \"mom\": [px]}, {\"coords\":[x], \"mom\": [px]}, S.NegativeOne *(-Derivative(C(x, px), px)*(-Derivative(A(x, px), px)*Derivative(B(x, px), (x, 2)) + Derivative(A(x, px), x)*Derivative(B(x, px), px, x) + Derivative(A(x, px), (x, 2))*Derivative(B(x, px), px) - Derivative(A(x, px), px, x)*Derivative(B(x, px), x)) + Derivative(C(x, px), x)*(-Derivative(A(x, px), px)*Derivative(B(x, px), px, x) - Derivative(A(x, px), (px, 2))*Derivative(B(x, px), x) + Derivative(A(x, px), x)*Derivative(B(x, px), (px, 2)) + Derivative(A(x, px), px, x)*Derivative(B(x, px), px)))),\n",
    "    \n",
    "    ((A(x,px),B),(C,), {}, {}, PoissonBracket(PoissonBracket(A(x, px), B), C)),\n",
    "    ((x **2  , x + px ), (C       ,) ,{\"coords\":[x], \"mom\": [px]}, {}, PoissonBracket(PoissonBracket(x**2,x+px,coords=[x],mom=[px]),C)),\n",
    "    ((A(x,px), B(x,px)), (C(x,px) ,) ,{\"coords\":[x], \"mom\": [px]}, {}, PoissonBracket(PoissonBracket(A(x,px),B(x,px)),C(x,px))),\n",
    "    ((A(x,px), B(x,px)), (C       ,) ,{\"coords\":[x], \"mom\": [px]}, {}, PoissonBracket(PoissonBracket(A(x,px),B(x,px)),C)),\n",
    "    \n",
    "    ((A(x,px), B(x,px)), (C(x,px) ,) ,{\"coords\":[x], \"mom\": [px]}, {\"coords\":[x], \"mom\": [px]},S.NegativeOne *(-Derivative(C(x, px), px)*(-Derivative(A(x, px), px)*Derivative(B(x, px), (x, 2)) + Derivative(A(x, px), x)*Derivative(B(x, px), px, x) + Derivative(A(x, px), (x, 2))*Derivative(B(x, px), px) - Derivative(A(x, px), px, x)*Derivative(B(x, px), x)) + Derivative(C(x, px), x)*(-Derivative(A(x, px), px)*Derivative(B(x, px), px, x) - Derivative(A(x, px), (px, 2))*Derivative(B(x, px), x) + Derivative(A(x, px), x)*Derivative(B(x, px), (px, 2)) + Derivative(A(x, px), px, x)*Derivative(B(x, px), px)))),\n",
    "    \n",
    "]\n",
    "\n",
    "@pytest.mark.parametrize('input1,input2,kwargs1,kwargs2,expected',double_pb_doit_pass)\n",
    "def test_double_pb_doit_parametrized_pass(input1, input2, kwargs1, kwargs2, expected):\n",
    "    pb1 = PoissonBracket(*input1, **kwargs1)\n",
    "    pb2 = PoissonBracket(pb1, *input2, **kwargs2)\n",
    "    print(pb2.doit()-expected)\n",
    "    assert pb2.doit() == expected\n",
    "\n",
    "# @pytest.mark.parametrize('input1,input2,kwargs1,kwargs2,expected',double_pb_doit_fail)\n",
    "# def test_double_pb_doit_parametrized_fail(input1, input2, kwargs1, kwargs2, expected):\n",
    "#     with pytest.raises(AttributeError):\n",
    "#         pb1 = PoissonBracket(*input1, **kwargs1)\n",
    "#         pb2 = PoissonBracket(pb1, *input2, **kwargs2)"
   ]
  },
  {
   "cell_type": "markdown",
   "metadata": {},
   "source": [
    "# Triple brackets"
   ]
  },
  {
   "cell_type": "code",
   "execution_count": 107,
   "metadata": {},
   "outputs": [
    {
     "name": "stdout",
     "output_type": "stream",
     "text": [
      "\u001b[32m.\u001b[0m\u001b[32m                                      [100%]\u001b[0m\n",
      "\u001b[32m\u001b[32m\u001b[1m1 passed\u001b[0m\u001b[32m in 0.04s\u001b[0m\u001b[0m\n"
     ]
    }
   ],
   "source": [
    "%%run_pytest[clean]\n",
    "\n",
    "import pytest\n",
    "\n",
    "triple_pb_doit_fail = [\n",
    "   \n",
    "]\n",
    "\n",
    "triple_pb_doit_pass = [\n",
    "    (\n",
    "        (A(x,px), B(x,y,py)), \n",
    "        (C(x,px) ,),\n",
    "        (D(x,y)  ,),\n",
    "        {\"coords\":[x,y], \"mom\": [px,py]}, \n",
    "        {\"coords\":[x,y], \"mom\": [px,py]}, \n",
    "        {\"coords\":[x,y], \"mom\": [px,py]}, \n",
    "        (-Derivative(C(x, px), px)*(-Derivative(A(x, px), px)*Derivative(B(x, y, py), py, (x, 2)) - Derivative(A(x, px), px, x)*Derivative(B(x, y, py), py, x)) - Derivative(C(x, px), x)*Derivative(A(x, px), (px, 2))*Derivative(B(x, y, py), py, x))*Derivative(D(x, y), y) + (-Derivative(C(x, px), px)*(-Derivative(A(x, px), (px, 2))*Derivative(B(x, y, py), (x, 2)) - Derivative(A(x, px), (px, 2), x)*Derivative(B(x, y, py), x)) - Derivative(C(x, px), (px, 2))*(-Derivative(A(x, px), px)*Derivative(B(x, y, py), (x, 2)) - Derivative(A(x, px), px, x)*Derivative(B(x, y, py), x)) - Derivative(C(x, px), x)*Derivative(A(x, px), (px, 3))*Derivative(B(x, y, py), x) - Derivative(C(x, px), px, x)*Derivative(A(x, px), (px, 2))*Derivative(B(x, y, py), x))*Derivative(D(x, y), x)\n",
    "    ),\n",
    "]\n",
    "\n",
    "@pytest.mark.parametrize('input1,input2,input3,kwargs1,kwargs2,kwargs3,expected',triple_pb_doit_pass)\n",
    "def test_double_pb_doit_parametrized_pass(input1, input2, input3, kwargs1, kwargs2, kwargs3, expected):\n",
    "    pb1 = PoissonBracket(*input1, **kwargs1)\n",
    "    pb2 = PoissonBracket(pb1, *input2, **kwargs2)\n",
    "    pb3 = PoissonBracket(pb2, *input3, **kwargs3)\n",
    "    assert pb3.doit() == expected\n"
   ]
  },
  {
   "cell_type": "markdown",
   "metadata": {},
   "source": [
    "# Individual test"
   ]
  },
  {
   "cell_type": "code",
   "execution_count": 103,
   "metadata": {},
   "outputs": [
    {
     "name": "stdout",
     "output_type": "stream",
     "text": [
      "\n",
      "------------------------------\n",
      "PoissonBracket(A(x, px)**3, B(x, y, py))\n",
      "<class '__main__.PoissonBracket'>\n",
      "(A(x, px)**3, B(x, y, py))\n",
      "-3*A(x, px)**3*Derivative(A(x, px), px)*A(x, px)**(-1)*Derivative(B(x, y, py), x)\n",
      "order 1\n",
      "in Function\n",
      "expr: -3*A(x, px)**3*Derivative(A(x, px), px)*A(x, px)**(-1)*Derivative(B(x, y, py), x)\n",
      "-3*A(x, px)**3*Derivative(A(x, px), px)*A(x, px)**(-1)*Derivative(B(x, y, py), x)\n",
      "\n",
      "-3*A(x, px)**3*Derivative(A(x, px), px)*A(x, px)**(-1)*Derivative(B(x, y, py), x)\n",
      "------------------------------\n",
      "PoissonBracket(A(x, px)**3, B(x, y, py))\n",
      "<class '__main__.PoissonBracket'>\n",
      "(A(x, px)**3, B(x, y, py))\n",
      "-3*A(x, px)**3*Derivative(A(x, px), px)*A(x, px)**(-1)*Derivative(B(x, y, py), x)\n",
      "order 1\n",
      "in Function\n",
      "expr: -3*A(x, px)**3*Derivative(A(x, px), px)*A(x, px)**(-1)*Derivative(B(x, y, py), x)\n",
      "0\n",
      "PoissonBracket(A(x, px)**3, B(x, y, py))\n",
      "<class '__main__.PoissonBracket'>\n",
      "(A(x, px)**3, B(x, y, py))\n",
      "-3*A(x, px)**3*Derivative(A(x, px), px)*A(x, px)**(-1)*Derivative(B(x, y, py), x)\n",
      "order 1\n",
      "in Function\n",
      "expr: -3*A(x, px)**3*Derivative(A(x, px), px)*A(x, px)**(-1)*Derivative(B(x, y, py), x)\n"
     ]
    }
   ],
   "source": [
    "input,kwargs, expected =  ((A(x,px)**3,B(x,y,py)), \n",
    "                             {\"coords\":[x,y], \"mom\":[px,py]}, \n",
    "                             -3*A(x, px)**3*Derivative(A(x, px), px)*A(x, px)**(-1)*Derivative(B(x, y, py), x)\n",
    "                            )\n",
    "test = PoissonBracket(*input,**kwargs)\n",
    "\n",
    "print()\n",
    "print(\"------------------------------\")\n",
    "print(test.doit())\n",
    "print()\n",
    "print(expected)\n",
    "print(\"------------------------------\")\n",
    "print(simplify(test.doit()-expected))\n",
    "\n",
    "assert test.doit() == expected\n",
    "\n",
    "# pb2.free_symbols\n",
    "\n",
    "del input,kwargs, expected,test"
   ]
  },
  {
   "cell_type": "code",
   "execution_count": 99,
   "metadata": {
    "scrolled": false
   },
   "outputs": [
    {
     "name": "stdout",
     "output_type": "stream",
     "text": [
      "Interchanging order of arguments and put minus sign in front of bracket.\n",
      "Eval returned a value\n",
      "\n",
      "------------------------------\n",
      "PoissonBracket(C(x, px), PoissonBracket(A(x, px), B(x, px)))\n",
      "<class '__main__.PoissonBracket'>\n",
      "(C(x, px), PoissonBracket(A(x, px), B(x, px)))\n",
      "-Derivative(C(x, px), px)*(-Derivative(A(x, px), px)*Derivative(B(x, px), (x, 2)) + Derivative(A(x, px), x)*Derivative(B(x, px), px, x) + Derivative(A(x, px), (x, 2))*Derivative(B(x, px), px) - Derivative(A(x, px), px, x)*Derivative(B(x, px), x)) + Derivative(C(x, px), x)*(-Derivative(A(x, px), px)*Derivative(B(x, px), px, x) - Derivative(A(x, px), (px, 2))*Derivative(B(x, px), x) + Derivative(A(x, px), x)*Derivative(B(x, px), (px, 2)) + Derivative(A(x, px), px, x)*Derivative(B(x, px), px))\n",
      "order -1\n",
      "in Function\n",
      "expr: (C(x, px), PoissonBracket(A(x, px), B(x, px)))\n",
      "-(-Derivative(C(x, px), px)*(-Derivative(A(x, px), px)*Derivative(B(x, px), (x, 2)) + Derivative(A(x, px), x)*Derivative(B(x, px), px, x) + Derivative(A(x, px), (x, 2))*Derivative(B(x, px), px) - Derivative(A(x, px), px, x)*Derivative(B(x, px), x)) + Derivative(C(x, px), x)*(-Derivative(A(x, px), px)*Derivative(B(x, px), px, x) - Derivative(A(x, px), (px, 2))*Derivative(B(x, px), x) + Derivative(A(x, px), x)*Derivative(B(x, px), (px, 2)) + Derivative(A(x, px), px, x)*Derivative(B(x, px), px)))\n",
      "\n",
      "-(-Derivative(C(x, px), px)*(-Derivative(A(x, px), px)*Derivative(B(x, px), (x, 2)) + Derivative(A(x, px), x)*Derivative(B(x, px), px, x) + Derivative(A(x, px), (x, 2))*Derivative(B(x, px), px) - Derivative(A(x, px), px, x)*Derivative(B(x, px), x)) + Derivative(C(x, px), x)*(-Derivative(A(x, px), px)*Derivative(B(x, px), px, x) - Derivative(A(x, px), (px, 2))*Derivative(B(x, px), x) + Derivative(A(x, px), x)*Derivative(B(x, px), (px, 2)) + Derivative(A(x, px), px, x)*Derivative(B(x, px), px)))\n",
      "------------------------------\n",
      "PoissonBracket(C(x, px), PoissonBracket(A(x, px), B(x, px)))\n",
      "<class '__main__.PoissonBracket'>\n",
      "(C(x, px), PoissonBracket(A(x, px), B(x, px)))\n",
      "-Derivative(C(x, px), px)*(-Derivative(A(x, px), px)*Derivative(B(x, px), (x, 2)) + Derivative(A(x, px), x)*Derivative(B(x, px), px, x) + Derivative(A(x, px), (x, 2))*Derivative(B(x, px), px) - Derivative(A(x, px), px, x)*Derivative(B(x, px), x)) + Derivative(C(x, px), x)*(-Derivative(A(x, px), px)*Derivative(B(x, px), px, x) - Derivative(A(x, px), (px, 2))*Derivative(B(x, px), x) + Derivative(A(x, px), x)*Derivative(B(x, px), (px, 2)) + Derivative(A(x, px), px, x)*Derivative(B(x, px), px))\n",
      "order -1\n",
      "in Function\n",
      "expr: (C(x, px), PoissonBracket(A(x, px), B(x, px)))\n",
      "0\n",
      "PoissonBracket(C(x, px), PoissonBracket(A(x, px), B(x, px)))\n",
      "<class '__main__.PoissonBracket'>\n",
      "(C(x, px), PoissonBracket(A(x, px), B(x, px)))\n",
      "-Derivative(C(x, px), px)*(-Derivative(A(x, px), px)*Derivative(B(x, px), (x, 2)) + Derivative(A(x, px), x)*Derivative(B(x, px), px, x) + Derivative(A(x, px), (x, 2))*Derivative(B(x, px), px) - Derivative(A(x, px), px, x)*Derivative(B(x, px), x)) + Derivative(C(x, px), x)*(-Derivative(A(x, px), px)*Derivative(B(x, px), px, x) - Derivative(A(x, px), (px, 2))*Derivative(B(x, px), x) + Derivative(A(x, px), x)*Derivative(B(x, px), (px, 2)) + Derivative(A(x, px), px, x)*Derivative(B(x, px), px))\n",
      "order -1\n",
      "in Function\n",
      "expr: (C(x, px), PoissonBracket(A(x, px), B(x, px)))\n"
     ]
    }
   ],
   "source": [
    "input1,input2,kwargs1,kwargs2, expected =  ((A(x,px), B(x,px)), (C(x,px) ,) ,{\"coords\":[x], \"mom\": [px]}, {\"coords\":[x], \"mom\": [px]}, \n",
    "                                           S.NegativeOne *(-Derivative(C(x, px), px)*(-Derivative(A(x, px), px)*Derivative(B(x, px), (x, 2)) + Derivative(A(x, px), x)*Derivative(B(x, px), px, x) + Derivative(A(x, px), (x, 2))*Derivative(B(x, px), px) - Derivative(A(x, px), px, x)*Derivative(B(x, px), x)) + Derivative(C(x, px), x)*(-Derivative(A(x, px), px)*Derivative(B(x, px), px, x) - Derivative(A(x, px), (px, 2))*Derivative(B(x, px), x) + Derivative(A(x, px), x)*Derivative(B(x, px), (px, 2)) + Derivative(A(x, px), px, x)*Derivative(B(x, px), px)))\n",
    "                                           )\n",
    "pb1 = PoissonBracket(*input1, **kwargs1)\n",
    "pb2 = PoissonBracket(pb1, *input2, **kwargs2)\n",
    "print()\n",
    "print(\"------------------------------\")\n",
    "print(pb2.doit())\n",
    "print()\n",
    "print(expected)\n",
    "print(\"------------------------------\")\n",
    "print(simplify(pb2.doit()-expected))\n",
    "\n",
    "assert pb2.doit() == expected\n",
    "\n",
    "# pb2.free_symbols\n",
    "\n",
    "del input1,input2,kwargs1,kwargs2, expected, pb1, pb2"
   ]
  },
  {
   "cell_type": "code",
   "execution_count": 106,
   "metadata": {},
   "outputs": [
    {
     "name": "stdout",
     "output_type": "stream",
     "text": [
      "Interchanging order of arguments and put minus sign in front of bracket.\n",
      "Eval returned a value\n",
      "\n",
      "------------------------------\n",
      "PoissonBracket(-PoissonBracket(C(x, px), PoissonBracket(A(x, px), B(x, y, py))), D(x, y))\n",
      "<class '__main__.PoissonBracket'>\n",
      "(-PoissonBracket(C(x, px), PoissonBracket(A(x, px), B(x, y, py))), D(x, y))\n",
      "(-Derivative(C(x, px), px)*(-Derivative(A(x, px), px)*Derivative(B(x, y, py), py, (x, 2)) - Derivative(A(x, px), px, x)*Derivative(B(x, y, py), py, x)) - Derivative(C(x, px), x)*Derivative(A(x, px), (px, 2))*Derivative(B(x, y, py), py, x))*Derivative(D(x, y), y) + (-Derivative(C(x, px), px)*(-Derivative(A(x, px), (px, 2))*Derivative(B(x, y, py), (x, 2)) - Derivative(A(x, px), (px, 2), x)*Derivative(B(x, y, py), x)) - Derivative(C(x, px), (px, 2))*(-Derivative(A(x, px), px)*Derivative(B(x, y, py), (x, 2)) - Derivative(A(x, px), px, x)*Derivative(B(x, y, py), x)) - Derivative(C(x, px), x)*Derivative(A(x, px), (px, 3))*Derivative(B(x, y, py), x) - Derivative(C(x, px), px, x)*Derivative(A(x, px), (px, 2))*Derivative(B(x, y, py), x))*Derivative(D(x, y), x)\n",
      "order 1\n",
      "in Function\n",
      "expr: (-Derivative(C(x, px), px)*(-Derivative(A(x, px), px)*Derivative(B(x, y, py), py, (x, 2)) - Derivative(A(x, px), px, x)*Derivative(B(x, y, py), py, x)) - Derivative(C(x, px), x)*Derivative(A(x, px), (px, 2))*Derivative(B(x, y, py), py, x))*Derivative(D(x, y), y) + (-Derivative(C(x, px), px)*(-Derivative(A(x, px), (px, 2))*Derivative(B(x, y, py), (x, 2)) - Derivative(A(x, px), (px, 2), x)*Derivative(B(x, y, py), x)) - Derivative(C(x, px), (px, 2))*(-Derivative(A(x, px), px)*Derivative(B(x, y, py), (x, 2)) - Derivative(A(x, px), px, x)*Derivative(B(x, y, py), x)) - Derivative(C(x, px), x)*Derivative(A(x, px), (px, 3))*Derivative(B(x, y, py), x) - Derivative(C(x, px), px, x)*Derivative(A(x, px), (px, 2))*Derivative(B(x, y, py), x))*Derivative(D(x, y), x)\n",
      "(-Derivative(C(x, px), px)*(-Derivative(A(x, px), px)*Derivative(B(x, y, py), py, (x, 2)) - Derivative(A(x, px), px, x)*Derivative(B(x, y, py), py, x)) - Derivative(C(x, px), x)*Derivative(A(x, px), (px, 2))*Derivative(B(x, y, py), py, x))*Derivative(D(x, y), y) + (-Derivative(C(x, px), px)*(-Derivative(A(x, px), (px, 2))*Derivative(B(x, y, py), (x, 2)) - Derivative(A(x, px), (px, 2), x)*Derivative(B(x, y, py), x)) - Derivative(C(x, px), (px, 2))*(-Derivative(A(x, px), px)*Derivative(B(x, y, py), (x, 2)) - Derivative(A(x, px), px, x)*Derivative(B(x, y, py), x)) - Derivative(C(x, px), x)*Derivative(A(x, px), (px, 3))*Derivative(B(x, y, py), x) - Derivative(C(x, px), px, x)*Derivative(A(x, px), (px, 2))*Derivative(B(x, y, py), x))*Derivative(D(x, y), x)\n",
      "\n",
      "(-Derivative(C(x, px), px)*(-Derivative(A(x, px), px)*Derivative(B(x, y, py), py, (x, 2)) - Derivative(A(x, px), px, x)*Derivative(B(x, y, py), py, x)) - Derivative(C(x, px), x)*Derivative(A(x, px), (px, 2))*Derivative(B(x, y, py), py, x))*Derivative(D(x, y), y) + (-Derivative(C(x, px), px)*(-Derivative(A(x, px), (px, 2))*Derivative(B(x, y, py), (x, 2)) - Derivative(A(x, px), (px, 2), x)*Derivative(B(x, y, py), x)) - Derivative(C(x, px), (px, 2))*(-Derivative(A(x, px), px)*Derivative(B(x, y, py), (x, 2)) - Derivative(A(x, px), px, x)*Derivative(B(x, y, py), x)) - Derivative(C(x, px), x)*Derivative(A(x, px), (px, 3))*Derivative(B(x, y, py), x) - Derivative(C(x, px), px, x)*Derivative(A(x, px), (px, 2))*Derivative(B(x, y, py), x))*Derivative(D(x, y), x)\n",
      "------------------------------\n",
      "PoissonBracket(C(x, px), PoissonBracket(A(x, px), B(x, y, py)))\n",
      "<class '__main__.PoissonBracket'>\n",
      "(C(x, px), PoissonBracket(A(x, px), B(x, y, py)))\n",
      "-Derivative(C(x, px), px)*(-Derivative(A(x, px), px)*Derivative(B(x, y, py), (x, 2)) - Derivative(A(x, px), px, x)*Derivative(B(x, y, py), x)) - Derivative(C(x, px), x)*Derivative(A(x, px), (px, 2))*Derivative(B(x, y, py), x)\n",
      "order -1\n",
      "in Function\n",
      "expr: (C(x, px), PoissonBracket(A(x, px), B(x, y, py)))\n",
      "-(Derivative(C(x, px), px)*(Derivative(A(x, px), px)*Derivative(B(x, y, py), py, (x, 2)) + Derivative(A(x, px), px, x)*Derivative(B(x, y, py), py, x)) - Derivative(C(x, px), x)*Derivative(A(x, px), (px, 2))*Derivative(B(x, y, py), py, x))*Derivative(D(x, y), y) - (Derivative(C(x, px), px)*(Derivative(A(x, px), (px, 2))*Derivative(B(x, y, py), (x, 2)) + Derivative(A(x, px), (px, 2), x)*Derivative(B(x, y, py), x)) + Derivative(C(x, px), (px, 2))*(Derivative(A(x, px), px)*Derivative(B(x, y, py), (x, 2)) + Derivative(A(x, px), px, x)*Derivative(B(x, y, py), x)) - Derivative(C(x, px), x)*Derivative(A(x, px), (px, 3))*Derivative(B(x, y, py), x) - Derivative(C(x, px), px, x)*Derivative(A(x, px), (px, 2))*Derivative(B(x, y, py), x))*Derivative(D(x, y), x) - Derivative(C(x, px), px)*(Derivative(A(x, px), px)*Derivative(B(x, y, py), (x, 2)) + Derivative(A(x, px), px, x)*Derivative(B(x, y, py), x)) + Derivative(C(x, px), x)*Derivative(A(x, px), (px, 2))*Derivative(B(x, y, py), x)\n",
      "PoissonBracket(-PoissonBracket(C(x, px), PoissonBracket(A(x, px), B(x, y, py))), D(x, y))\n",
      "<class '__main__.PoissonBracket'>\n",
      "(-PoissonBracket(C(x, px), PoissonBracket(A(x, px), B(x, y, py))), D(x, y))\n",
      "(-Derivative(C(x, px), px)*(-Derivative(A(x, px), px)*Derivative(B(x, y, py), py, (x, 2)) - Derivative(A(x, px), px, x)*Derivative(B(x, y, py), py, x)) - Derivative(C(x, px), x)*Derivative(A(x, px), (px, 2))*Derivative(B(x, y, py), py, x))*Derivative(D(x, y), y) + (-Derivative(C(x, px), px)*(-Derivative(A(x, px), (px, 2))*Derivative(B(x, y, py), (x, 2)) - Derivative(A(x, px), (px, 2), x)*Derivative(B(x, y, py), x)) - Derivative(C(x, px), (px, 2))*(-Derivative(A(x, px), px)*Derivative(B(x, y, py), (x, 2)) - Derivative(A(x, px), px, x)*Derivative(B(x, y, py), x)) - Derivative(C(x, px), x)*Derivative(A(x, px), (px, 3))*Derivative(B(x, y, py), x) - Derivative(C(x, px), px, x)*Derivative(A(x, px), (px, 2))*Derivative(B(x, y, py), x))*Derivative(D(x, y), x)\n",
      "order 1\n",
      "in Function\n",
      "expr: (-Derivative(C(x, px), px)*(-Derivative(A(x, px), px)*Derivative(B(x, y, py), py, (x, 2)) - Derivative(A(x, px), px, x)*Derivative(B(x, y, py), py, x)) - Derivative(C(x, px), x)*Derivative(A(x, px), (px, 2))*Derivative(B(x, y, py), py, x))*Derivative(D(x, y), y) + (-Derivative(C(x, px), px)*(-Derivative(A(x, px), (px, 2))*Derivative(B(x, y, py), (x, 2)) - Derivative(A(x, px), (px, 2), x)*Derivative(B(x, y, py), x)) - Derivative(C(x, px), (px, 2))*(-Derivative(A(x, px), px)*Derivative(B(x, y, py), (x, 2)) - Derivative(A(x, px), px, x)*Derivative(B(x, y, py), x)) - Derivative(C(x, px), x)*Derivative(A(x, px), (px, 3))*Derivative(B(x, y, py), x) - Derivative(C(x, px), px, x)*Derivative(A(x, px), (px, 2))*Derivative(B(x, y, py), x))*Derivative(D(x, y), x)\n"
     ]
    }
   ],
   "source": [
    "input1,input2,input3, kwargs1,kwargs2, kwargs3, expected =  (\n",
    "    (A(x,px), B(x,y,py)), \n",
    "    (C(x,px) ,),\n",
    "    (D(x,y)  ,),\n",
    "    {\"coords\":[x,y], \"mom\": [px,py]}, \n",
    "    {\"coords\":[x,y], \"mom\": [px,py]}, \n",
    "    {\"coords\":[x,y], \"mom\": [px,py]}, \n",
    "    (-Derivative(C(x, px), px)*(-Derivative(A(x, px), px)*Derivative(B(x, y, py), py, (x, 2)) - Derivative(A(x, px), px, x)*Derivative(B(x, y, py), py, x)) - Derivative(C(x, px), x)*Derivative(A(x, px), (px, 2))*Derivative(B(x, y, py), py, x))*Derivative(D(x, y), y) + (-Derivative(C(x, px), px)*(-Derivative(A(x, px), (px, 2))*Derivative(B(x, y, py), (x, 2)) - Derivative(A(x, px), (px, 2), x)*Derivative(B(x, y, py), x)) - Derivative(C(x, px), (px, 2))*(-Derivative(A(x, px), px)*Derivative(B(x, y, py), (x, 2)) - Derivative(A(x, px), px, x)*Derivative(B(x, y, py), x)) - Derivative(C(x, px), x)*Derivative(A(x, px), (px, 3))*Derivative(B(x, y, py), x) - Derivative(C(x, px), px, x)*Derivative(A(x, px), (px, 2))*Derivative(B(x, y, py), x))*Derivative(D(x, y), x)\n",
    ")\n",
    "pb1 = PoissonBracket(*input1, **kwargs1)\n",
    "pb2 = PoissonBracket(pb1, *input2, **kwargs2)\n",
    "pb3 = PoissonBracket(pb2, *input3, **kwargs3)\n",
    "print()\n",
    "print(\"------------------------------\")\n",
    "print(pb3.doit())\n",
    "print()\n",
    "print(expected)\n",
    "print(\"------------------------------\")\n",
    "print(simplify(pb2.doit()-expected))\n",
    "\n",
    "assert pb3.doit() == expected\n",
    "\n",
    "# pb2.free_symbols\n",
    "\n",
    "del input1,input2, input3, kwargs1,kwargs2, kwargs3,  expected, pb1, pb2, pb3"
   ]
  }
 ],
 "metadata": {
  "kernelspec": {
   "display_name": "Python 3",
   "language": "python",
   "name": "python3"
  },
  "language_info": {
   "codemirror_mode": {
    "name": "ipython",
    "version": 3
   },
   "file_extension": ".py",
   "mimetype": "text/x-python",
   "name": "python",
   "nbconvert_exporter": "python",
   "pygments_lexer": "ipython3",
   "version": "3.6.10"
  }
 },
 "nbformat": 4,
 "nbformat_minor": 4
}
