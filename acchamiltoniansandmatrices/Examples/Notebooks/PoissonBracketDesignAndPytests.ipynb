{
 "cells": [
  {
   "cell_type": "code",
   "execution_count": 1,
   "metadata": {},
   "outputs": [
    {
     "data": {
      "text/html": [
       "<style>.container { width:90% !important; }</style>"
      ],
      "text/plain": [
       "<IPython.core.display.HTML object>"
      ]
     },
     "metadata": {},
     "output_type": "display_data"
    }
   ],
   "source": [
    "from IPython.core.display import display, HTML\n",
    "display(HTML(\"<style>.container { width:90% !important; }</style>\"))"
   ]
  },
  {
   "cell_type": "code",
   "execution_count": 2,
   "metadata": {},
   "outputs": [],
   "source": [
    "from __future__ import print_function, division\n",
    "\n",
    "from sympy import S, Expr, Mul,Add, Pow, symbols, Function, Derivative, simplify\n",
    "from sympy.physics.quantum import Operator\n",
    "from sympy.printing.latex import print_latex\n",
    "from sympy.printing.pretty.stringpict import prettyForm\n",
    "\n",
    "\n",
    "from sympy import S, Expr, Mul, Add, Pow, Rational\n",
    "from sympy.printing.pretty.stringpict import prettyForm\n",
    "\n",
    "from sympy.physics.quantum.dagger import Dagger\n",
    "from sympy.physics.quantum.operator import Operator\n",
    "\n",
    "from sympy.core.decorators import _sympifyit, call_highest_priority\n",
    "from sympy.core.function import UndefinedFunction"
   ]
  },
  {
   "cell_type": "code",
   "execution_count": 3,
   "metadata": {},
   "outputs": [],
   "source": [
    "class PoissonBracket(Expr):\n",
    "    \"\"\"\n",
    "    Operator class for the Poisson Bracket - allows to have it as a symbolic operator\n",
    "    \"\"\"\n",
    "    \n",
    "#     _op_priority = 11.0\n",
    "    _is_commutative = False\n",
    "    \n",
    "    def __new__(cls,A,B,debug=True,**kwargs):\n",
    "        # before return the object, do basic\n",
    "        # testing and formatting of the bracket.\n",
    "        # - orders arguments and updated sign\n",
    "        # - returns S.Zero if:\n",
    "        #    * one of the argumnents is missing\n",
    "        #    * the arguments are equal\n",
    "        #    * one of the arguments is a sympy number\n",
    "        r = cls.eval(A,B,debug=debug,**kwargs)\n",
    "        \n",
    "        # if a valid object is returned from eval\n",
    "        # than return this object\n",
    "        if r is not None:\n",
    "            if debug:\n",
    "                print(\"Eval returned a value\")\n",
    "            return r\n",
    "        \n",
    "        # if eval has not returned anything\n",
    "        # create a new object and return that one.\n",
    "        obj = Expr.__new__(cls,A,B)\n",
    "        obj.A = A\n",
    "        obj.B = B\n",
    "        \n",
    "        # if independent coordinates and momenta are\n",
    "        # provided store them in the object\n",
    "        obj.indep_coords = kwargs.get(\"coords\",None)\n",
    "        obj.indep_mom    = kwargs.get(\"mom\",None)\n",
    "        \n",
    "        # store if the ordering has been reversed\n",
    "        # this is used in the doit method, otherwise\n",
    "        # the sign is wrong.\n",
    "        obj.order = 1\n",
    "        \n",
    "        # set debug to true to get intermediate outputs\n",
    "        # for code debugging\n",
    "        obj.debug = debug\n",
    "        \n",
    "        return obj\n",
    "    \n",
    "    @classmethod\n",
    "    def eval(cls,a,b,debug, **kwargs):\n",
    "        # check if both arguments of the\n",
    "        # bracket are given otherwise return Zero\n",
    "        if not (a and b):\n",
    "            if debug:\n",
    "                print(\"Missing term\")\n",
    "            return S.Zero\n",
    "        \n",
    "        # check if both arguments of the bracket\n",
    "        # are equal, if yes return Zero\n",
    "        if a==b:\n",
    "            if debug:\n",
    "                print(\"Bracket of equal aruments is Zero.\")\n",
    "            return S.Zero\n",
    "        \n",
    "        # check if one of the bracket arguments is\n",
    "        # a sympy number, if yes return Zero.\n",
    "        if a.is_number or b.is_number:\n",
    "            if debug:\n",
    "                print(\"At least one argument is a number, bracket is Zero\")\n",
    "            return S.Zero\n",
    "        \n",
    "        # order the elements\n",
    "        if isinstance(a,UndefinedFunction):\n",
    "            tmp = symbols(\"tmp\")\n",
    "            if isinstance(b, UndefinedFunction):\n",
    "                if a(tmp).compare(b(tmp)) ==1:\n",
    "                    if debug:\n",
    "                        print(\"Interchanging order of arguments and put minus sign in front of bracket.\")\n",
    "                    nob = cls(b,a,**kwargs)\n",
    "                    nob.order = -1\n",
    "                    return S.NegativeOne*nob\n",
    "            else:\n",
    "                if a(tmp).compare(b) == 1:\n",
    "                    if debug:\n",
    "                        print(\"Interchanging order of arguments and put minus sign in front of bracket.\")\n",
    "                    nob = cls(b,a, **kwargs)\n",
    "                    nob.order = -1\n",
    "                    return S.NegativeOne*nob\n",
    "        elif isinstance(b, UndefinedFunction):\n",
    "            tmp = symbols(\"tmp\")\n",
    "            if a.compare(b(tmp)) ==1:\n",
    "                if debug:\n",
    "                    print(\"Interchanging order of arguments and put minus sign in front of bracket.\")\n",
    "                nob = cls(b,a,**kwargs)\n",
    "                nob.order = -1\n",
    "                return S.NegativeOne*nob\n",
    "        else:\n",
    "                if a.compare(b) ==1:\n",
    "                        if debug:\n",
    "                            print(\"Interchanging order of arguments and put minus sign in front of bracket.\")\n",
    "                        nob = cls(b,a,**kwargs)\n",
    "                        nob.order = -1\n",
    "                        return S.NegativeOne*nob\n",
    "            \n",
    "                \n",
    "    @property\n",
    "    def free_symbols(self):\n",
    "        return self.A.free_symbols.union(self.B.free_symbols)\n",
    "    \n",
    "    @property\n",
    "    def expr(self):\n",
    "#         print(self.indep_coords)\n",
    "        if (self.indep_coords and self.indep_mom):\n",
    "            hp = S(0)\n",
    "            for qi, pi in zip(self.indep_coords, self.indep_mom):\n",
    "                hp += self.A.diff(qi) * self.B.diff(pi)\n",
    "                hp -= self.A.diff(pi) * self.B.diff(qi)\n",
    "            return hp\n",
    "        else:\n",
    "            return self\n",
    "        \n",
    "    def _eval_derivative(self, symbol):\n",
    "        \"\"\"\n",
    "        Necessary to get the full expanded expression\n",
    "        when one of the arguments is itself a PoissonBracket.\n",
    "        In other words to allow evalutation of nested Poisson Brackets.\n",
    "        \"\"\"\n",
    "        new_expr = self.expr.diff(symbol)\n",
    "        return new_expr\n",
    "    \n",
    "    def doit(self, debug=True, **hints):\n",
    "        \"\"\" Evaluate commutator \"\"\"\n",
    "        A = self.args[0]\n",
    "        B = self.args[1]\n",
    "        order = self.order\n",
    "        if debug:\n",
    "                print(self)\n",
    "                print(self.__class__)\n",
    "                print(self.args)\n",
    "                try:\n",
    "                    print(self.expr)\n",
    "                except:\n",
    "                    print(\"expr failed\")\n",
    "                    pass\n",
    "                \n",
    "        if self.order == 1:\n",
    "            if debug:\n",
    "                print(\"order 1\")\n",
    "            if isinstance(A, Operator) and isinstance(B, Operator):\n",
    "                try:\n",
    "                    comm = A._eval_commutator(B, **hints)\n",
    "                except NotImplementedError:\n",
    "                    try:\n",
    "                        comm = -1*B._eval_commutator(A, **hints)\n",
    "                    except NotImplementedError:\n",
    "                        comm = None\n",
    "                if comm is not None:\n",
    "                    return comm.doit(**hints)\n",
    "                \n",
    "            if isinstance(A, UndefinedFunction) or isinstance(B, UndefinedFunction):\n",
    "                if debug:\n",
    "                    print(\"One is undefined function\")\n",
    "                return self\n",
    "            \n",
    "            elif isinstance(A,Function) or isinstance(B,Function):\n",
    "                if debug:\n",
    "                    print(\"in Function\")\n",
    "                h = self.expr \n",
    "                print(self.expr)\n",
    "                return h\n",
    "            \n",
    "            return self.expr\n",
    "        \n",
    "        else:\n",
    "            if debug:\n",
    "                print(\"order -1\")\n",
    "                \n",
    "            if isinstance(A, UndefinedFunction) or isinstance(B, UndefinedFunction):\n",
    "                if debug:\n",
    "                    print(\"One is undefined function\")\n",
    "                    print(self)\n",
    "                h = self\n",
    "                return h\n",
    "          \n",
    "            elif isinstance(A,Function) or isinstance(B,Function):\n",
    "                if debug:\n",
    "                    print(\"in Function\")\n",
    "                    print(self.__class__)\n",
    "                h = self.expr \n",
    "                print(\"expr:\",self.expr)\n",
    "                if isinstance(A, PoissonBracket) : print(A.indep_coords);\n",
    "                if isinstance(B, PoissonBracket) : print(B.indep_coords);\n",
    "               \n",
    "                return h\n",
    "            \n",
    "            return S.NegativeOne * PoissonBracket(A,B,coords=self.indep_coords,mom=self.indep_mom).expr\n",
    "    \n",
    "    def _eval_expand_commutator(self, **hints):\n",
    "        A = self.A #self.args[0]\n",
    "        B = self.B #self.args[1]\n",
    "\n",
    "        if isinstance(A, Add):\n",
    "            # [A + B, C]  ->  [A, C] + [B, C]\n",
    "            sargs = []\n",
    "            for term in A.args:\n",
    "                comm = PoissonBracket(term, B)\n",
    "                print(comm.__class__)\n",
    "                if isinstance(comm, PoissonBracket):\n",
    "                    comm = comm._eval_expand_commutator()\n",
    "                sargs.append(comm)\n",
    "#             print(sargs)\n",
    "            return Add(*sargs)\n",
    "        elif isinstance(B, Add):\n",
    "            # [A, B + C]  ->  [A, B] + [A, C]\n",
    "            sargs = []\n",
    "            for term in B.args:\n",
    "                comm = PoissonBracket(A, term)\n",
    "                if isinstance(comm, PoissonBracket):\n",
    "                    comm = comm._eval_expand_commutator()\n",
    "                sargs.append(comm)\n",
    "            return Add(*sargs)\n",
    "        elif isinstance(A, Mul):\n",
    "            # [A*B, C] -> A*[B, C] + [A, C]*B\n",
    "            a = A.args[0]\n",
    "            b = Mul(*A.args[1:])\n",
    "            c = B\n",
    "            comm1 = PoissonBracket(b, c)\n",
    "            comm2 = PoissonBracket(a, c)\n",
    "            if isinstance(comm1, PoissonBracket):\n",
    "                comm1 = comm1._eval_expand_commutator()\n",
    "            if isinstance(comm2, PoissonBracket):\n",
    "                comm2 = comm2._eval_expand_commutator()\n",
    "            first = Mul(a, comm1)\n",
    "            second = Mul(comm2, b)\n",
    "#             print(first,second)\n",
    "            return Add(first, second)\n",
    "        elif isinstance(B, Mul):\n",
    "            # [A, B*C] -> [A, B]*C + B*[A, C]\n",
    "            a = A\n",
    "            b = B.args[0]\n",
    "            c = Mul(*B.args[1:])\n",
    "            comm1 = PoissonBracket(a, b)\n",
    "            comm2 = PoissonBracket(a, c)\n",
    "            if isinstance(comm1, PoissonBracket):\n",
    "                comm1 = comm1._eval_expand_commutator()\n",
    "            if isinstance(comm2, PoissonBracket):\n",
    "                comm2 = comm2._eval_expand_commutator()\n",
    "            first = Mul(comm1, c)\n",
    "            second = Mul(b, comm2)\n",
    "            return Add(first, second)\n",
    "        elif isinstance(A, Pow):\n",
    "            # [A**n, C] -> A**(n - 1)*[A, C] + A**(n - 2)*[A, C]*A + ... + [A, C]*A**(n-1)\n",
    "            return self._expand_pow(A, B, 1)\n",
    "        elif isinstance(B, Pow):\n",
    "            # [A, C**n] -> C**(n - 1)*[C, A] + C**(n - 2)*[C, A]*C + ... + [C, A]*C**(n-1)\n",
    "            return self._expand_pow(B, A, -1)\n",
    "        return self\n",
    "    \n",
    "    def _expand_pow(self, A, B, sign):\n",
    "        exp = A.exp\n",
    "        if not exp.is_integer or not exp.is_constant() or abs(exp) <= 1:\n",
    "            # nothing to do\n",
    "            return self\n",
    "        base = A.base\n",
    "        if exp.is_negative:\n",
    "            base = A.base**-1\n",
    "            exp = -exp\n",
    "        comm = PoissonBracket(base, B).expand(commutator=True)\n",
    "\n",
    "        result = base**(exp - 1) * comm\n",
    "        for i in range(1, exp):\n",
    "            result += base**(exp - 1 - i) * comm * base**i\n",
    "        return sign*result.expand()\n",
    "    \n",
    "    \n",
    "    \n",
    "    def _latex(self, printer, *args):\n",
    "#         print(tuple([\n",
    "#             printer._print(arg.func, *args) if arg.__class__.__name__ != \"PoissonBracket\" else  printer._print(arg, *args) for arg in self.args[:2] ]))\n",
    "        news = []\n",
    "        for arg in self.args[:2]:\n",
    "#             print(type(arg))\n",
    "            if isinstance(arg,Add):\n",
    "                news.append(\" + \".join([printer.doprint(a.func, *args) if a.is_Function  else  printer.doprint(a, *args) for a in arg.args]))\n",
    "            \n",
    "            elif isinstance(arg,PoissonBracket):\n",
    "                news.append(printer.doprint(arg,*args))\n",
    "#                 news.append(\"\\\\lbrace %s,%s\\\\rbrace\" %tuple([\n",
    "#             printer.doprint(a.func, *args) if a.is_Function and not isinstance(a,UndefinedFunction)  else  printer.doprint(a, *args) for a in arg.args[:2] ]))\n",
    "            \n",
    "            elif isinstance(arg,Mul):\n",
    "                 news.append(\" * \".join([printer.doprint(a.func, *args) if a.is_Function  else  printer.doprint(a, *args) for a in arg.args]))\n",
    "#                 print([a for a in arg.args])\n",
    "#                 news.append(\" * \".join([ \n",
    "#                     printer._print(a.func, *args) \n",
    "#                     if a.is_Function  and not (isinstance(a,UndefinedFunction))\n",
    "#                     else  printer._print(a, *args) for a in args\n",
    "#                 ]))\n",
    "            elif isinstance(arg,Pow):\n",
    "                if isinstance(arg.args[0], UndefinedFunction):\n",
    "                    news.append(\"{}^{}\".format([printer.doprint(a) for a in arg.args]))\n",
    "                elif isinstance(arg.args[0], Function):\n",
    "                    news.append(\"{}^{}\".format(printer.doprint(arg.args[0].func,*args), printer.doprint(arg.args[1],*args)))\n",
    "                else:\n",
    "                    news.append(printer.doprint(arg, *args))\n",
    "                \n",
    "            elif isinstance(arg, Function) and not (isinstance(arg,UndefinedFunction)):\n",
    "                news.append(printer.doprint(arg.func, *args))\n",
    "                                                    \n",
    "            else: # isinstance(arg, Function) and isinstance(arg,UndefinedFunction):\n",
    "                news.append(printer.doprint(arg, *args))\n",
    "    \n",
    "        print(news)\n",
    "        return \"\\\\lbrace %s,%s\\\\rbrace\" %tuple(news)\n",
    "        \n",
    "        return \"\\\\lbrace %s,%s\\\\rbrace\" %tuple([\n",
    "            printer._print(arg.func, *args) if arg.is_Function  and not (isinstance(arg,UndefinedFunction))\n",
    "            else  printer._print(arg, *args) \n",
    "            for arg in self.args[:2] ])\n",
    "#         return \"\\\\lbrace %s,%s\\\\rbrace\" % tuple([\n",
    "#             printer._print(arg, *args) for arg in self.args[:2]])"
   ]
  },
  {
   "cell_type": "markdown",
   "metadata": {},
   "source": [
    "# Tests Setup"
   ]
  },
  {
   "cell_type": "code",
   "execution_count": 4,
   "metadata": {},
   "outputs": [],
   "source": [
    "A = Function(\"A\", commutative=False)\n",
    "B = Function(\"B\", commutative=False)\n",
    "C = Function(\"C\", commutative=False)\n",
    "D = Function(\"D\", commutative=False)\n",
    "\n",
    "x, px, y, py = symbols(\"x px y py\")\n",
    "\n",
    "half = Rational(1, 2)"
   ]
  },
  {
   "cell_type": "markdown",
   "metadata": {},
   "source": [
    "# Tests"
   ]
  },
  {
   "cell_type": "code",
   "execution_count": 5,
   "metadata": {},
   "outputs": [],
   "source": [
    "_file__ = \"Untitled.ipynb\"\n",
    "import ipytest\n",
    "\n",
    "import pytest\n",
    "ipytest.autoconfig()"
   ]
  },
  {
   "cell_type": "markdown",
   "metadata": {},
   "source": [
    "## Single Brackets"
   ]
  },
  {
   "cell_type": "code",
   "execution_count": 6,
   "metadata": {},
   "outputs": [
    {
     "name": "stdout",
     "output_type": "stream",
     "text": [
      "Interchanging order of arguments and put minus sign in front of bracket.\n",
      "Eval returned a value\n",
      "Interchanging order of arguments and put minus sign in front of bracket.\n",
      "Eval returned a value\n",
      "Interchanging order of arguments and put minus sign in front of bracket.\n",
      "Eval returned a value\n",
      "Interchanging order of arguments and put minus sign in front of bracket.\n",
      "Eval returned a value\n",
      "\u001b[32m.\u001b[0m\u001b[32m.\u001b[0m\u001b[32m.\u001b[0m\u001b[32m.\u001b[0m\u001b[32m.\u001b[0m\u001b[32m.\u001b[0m\u001b[32m.\u001b[0m\u001b[32m.\u001b[0m\u001b[32m.\u001b[0m\u001b[32m.\u001b[0m\u001b[32m.\u001b[0m"
     ]
    },
    {
     "name": "stderr",
     "output_type": "stream",
     "text": [
      "/home/mti/.local/lib/python3.6/site-packages/IPython/core/interactiveshell.py:3144: UserWarning: AST transformer <ipytest._pytest_support.RewriteAssertTransformer object at 0x7f822c666cc0> threw an error. It will be unregistered.\n",
      "  warn(\"AST transformer %r threw an error. It will be unregistered.\" % transformer)\n"
     ]
    },
    {
     "name": "stdout",
     "output_type": "stream",
     "text": [
      "\u001b[32m.\u001b[0m\u001b[32m.\u001b[0m\u001b[32m.\u001b[0m\u001b[32m.\u001b[0m\u001b[32m.\u001b[0m\u001b[32m.\u001b[0m\u001b[32m.\u001b[0m\u001b[32m.\u001b[0m\u001b[32m.\u001b[0m\u001b[32m.\u001b[0m\u001b[32m.\u001b[0m\u001b[32m.\u001b[0m\u001b[32m.\u001b[0m\u001b[32m.\u001b[0m\u001b[32m.\u001b[0m\u001b[32m.\u001b[0m\u001b[32m.\u001b[0m\u001b[32m.\u001b[0m\u001b[32m.\u001b[0m\u001b[32m.\u001b[0m\u001b[32m.\u001b[0m\u001b[32m.\u001b[0m\u001b[32m.\u001b[0m\u001b[32m.\u001b[0m\u001b[32m.\u001b[0m\u001b[32m.\u001b[0m\u001b[32m  [100%]\u001b[0m\n",
      "\u001b[32m\u001b[32m\u001b[1m37 passed\u001b[0m\u001b[32m in 0.16s\u001b[0m\u001b[0m\n"
     ]
    }
   ],
   "source": [
    "%%run_pytest[clean]\n",
    "\n",
    "import pytest\n",
    "\n",
    "single_pb_fail = [\n",
    "    ((1,2)   , 0),\n",
    "    ((1,half), 0),\n",
    "]\n",
    "\n",
    "single_pb_pass = [\n",
    "    ((S.One   , half),{}, 0),\n",
    "    ((A       , half),{}, 0),\n",
    "    ((A(x)    , half),{}, 0),\n",
    "    ((A(x,px) , half),{}, 0),\n",
    "    ((S.One   , half),{\"coords\":[x]}, 0),\n",
    "    ((A       , half),{\"coords\":[x]}, 0),\n",
    "    ((A(x)    , half),{\"coords\":[x]}, 0),\n",
    "    ((A(x,px) , half),{\"coords\":[x]}, 0),\n",
    "    (reversed((S.One   , half)),{}, 0),\n",
    "    (reversed((A       , half)),{}, 0),\n",
    "    (reversed((A(x)    , half)),{}, 0),\n",
    "    (reversed((A(x,px) , half)),{}, 0),\n",
    "    (reversed((S.One   , half)),{\"coords\":[x]}, 0),\n",
    "    (reversed((A       , half)),{\"coords\":[x]}, 0),\n",
    "    (reversed((A(x)    , half)),{\"coords\":[x]}, 0),\n",
    "    (reversed((A(x,px) , half)),{\"coords\":[x]}, 0),\n",
    "]\n",
    "\n",
    "single_pb_doit_fail = [\n",
    "    \n",
    "]\n",
    "\n",
    "single_pb_doit_pass = [\n",
    "    # Brackets doit returns self - no indep coords/mom to take der.\n",
    "    ((A       , B       ),{}, PoissonBracket(A, B)),\n",
    "    ((A(x,px) , B       ),{}, PoissonBracket(A(x,px), B)),\n",
    "    ((A       , B(x,px) ),{}, PoissonBracket(A, B(x,px))),\n",
    "    ((A(x,px) , B(x,px) ),{}, PoissonBracket(A(x,px), B(x,px))),\n",
    "    ((x **2   , x + px  ),{}, PoissonBracket(x ** 2, x + px)),\n",
    "    \n",
    "    (reversed((A       , B       )),{}, PoissonBracket(B, A)),\n",
    "    (reversed((A(x,px) , B       )),{}, PoissonBracket(B, A(x,px))),\n",
    "    (reversed((A       , B(x,px) )),{}, PoissonBracket(B(x,px),A)),\n",
    "    (reversed((A(x,px) , B(x,px) )),{}, PoissonBracket(B(x,px),A(x,px))),\n",
    "    \n",
    "    # Brackets actually performing the doit\n",
    "    ((A       , B       ),{\"coords\":[x]}, PoissonBracket(A, B)),\n",
    "    ((A(x,px) , B       ),{\"coords\":[x]}, PoissonBracket(A(x,px), B)),\n",
    "    ((A       , B(x,px) ),{\"coords\":[x]}, PoissonBracket(A, B(x,px))),\n",
    "    ((A(x,px) , B(x,px) ),{\"coords\":[x]}, PoissonBracket(A(x,px), B(x,px))),\n",
    "    \n",
    "    ((x **2     , x + px     ), {\"coords\":[x]  , \"mom\": [px]   }, 2*x),\n",
    "    ((A(x, px)  , B(x, y, py)), {\"coords\":[x]  , \"mom\": [px]   }, -Derivative(A(x, px), px)*Derivative(B(x, y, py), x)),\n",
    "    ((A(x,y, px), B(x, y, py)), {\"coords\":[x]  , \"mom\": [px]   }, -Derivative(A(x, y, px), px)*Derivative(B(x, y, py), x)),\n",
    "    ((A(x, px)  , B(x, y, py)), {\"coords\":[x,y], \"mom\": [px]   }, -Derivative(A(x, px), px)*Derivative(B(x, y, py), x)),\n",
    "    ((A(x, px)  , B(x, y, py)), {\"coords\":[x,y], \"mom\": [px,py]}, -Derivative(A(x, px), px)*Derivative(B(x, y, py), x)),\n",
    "    ((A(x,y, px), B(x, y, py)), {\"coords\":[x,y], \"mom\": [px,py]}, -Derivative(A(x, y, px), px)*Derivative(B(x, y, py), x) +\n",
    "     Derivative(A(x, y, px), y)*Derivative(B(x, y, py), py))\n",
    "]\n",
    "@pytest.mark.parametrize('input,expected',single_pb_fail)\n",
    "def test_single_pb_parametrized_fail(input, expected):\n",
    "    with pytest.raises(AttributeError):\n",
    "        test = PoissonBracket(*input)\n",
    "        \n",
    "\n",
    "@pytest.mark.parametrize('input,kwargs,expected',single_pb_pass)\n",
    "def test_single_pb_parametrized_pass(input, kwargs, expected):\n",
    "    test = PoissonBracket(*input,**kwargs)\n",
    "    assert test == expected\n",
    "    \n",
    "    \n",
    "@pytest.mark.parametrize('input,kwargs,expected',single_pb_doit_pass)\n",
    "def test_single_pb_doit_parametrized_pass(input, kwargs, expected):\n",
    "    test = PoissonBracket(*input,**kwargs)\n",
    "    assert test.doit() == expected"
   ]
  },
  {
   "cell_type": "markdown",
   "metadata": {},
   "source": [
    "## Double Brackets"
   ]
  },
  {
   "cell_type": "code",
   "execution_count": 7,
   "metadata": {},
   "outputs": [
    {
     "name": "stdout",
     "output_type": "stream",
     "text": [
      "\u001b[32m.\u001b[0m\u001b[32m.\u001b[0m\u001b[32m.\u001b[0m\u001b[32m.\u001b[0m\u001b[32m.\u001b[0m\u001b[32m.\u001b[0m\u001b[32m.\u001b[0m\u001b[32m.\u001b[0m\u001b[32m.\u001b[0m\u001b[32m.\u001b[0m\u001b[32m.\u001b[0m\u001b[32m.\u001b[0m\u001b[32m.\u001b[0m\u001b[32m.\u001b[0m\u001b[32m.\u001b[0m\u001b[32m.\u001b[0m\u001b[32m.\u001b[0m\u001b[32m.\u001b[0m\u001b[32m.\u001b[0m\u001b[32m.\u001b[0m\u001b[32m.\u001b[0m\u001b[32m.\u001b[0m\u001b[32m.\u001b[0m\u001b[32m.\u001b[0m\u001b[32m.\u001b[0m\u001b[32m.\u001b[0m\u001b[32m.\u001b[0m\u001b[32m.\u001b[0m\u001b[32m.\u001b[0m\u001b[32m.\u001b[0m\u001b[32m.\u001b[0m\u001b[32m.\u001b[0m\u001b[32m.\u001b[0m\u001b[32m.\u001b[0m\u001b[32m.\u001b[0m\u001b[32m.\u001b[0m\u001b[32m.\u001b[0m\u001b[32m.\u001b[0m\u001b[32m [ 58%]\n",
      "\u001b[0m\u001b[32m.\u001b[0m\u001b[32m.\u001b[0m\u001b[32m.\u001b[0m\u001b[32m.\u001b[0m\u001b[32m.\u001b[0m\u001b[32m.\u001b[0m\u001b[32m.\u001b[0m\u001b[32m.\u001b[0m\u001b[32m.\u001b[0m\u001b[32m.\u001b[0m\u001b[32m.\u001b[0m\u001b[32m.\u001b[0m\u001b[32m.\u001b[0m\u001b[32m.\u001b[0m\u001b[32m.\u001b[0m\u001b[32m.\u001b[0m\u001b[32m.\u001b[0m\u001b[32m.\u001b[0m\u001b[32m.\u001b[0m\u001b[32m.\u001b[0m\u001b[32m.\u001b[0m\u001b[32m.\u001b[0m\u001b[32m.\u001b[0m\u001b[32m.\u001b[0m\u001b[32m.\u001b[0m\u001b[32m.\u001b[0m\u001b[32m.\u001b[0m\u001b[32m            [100%]\u001b[0m\n",
      "\u001b[32m\u001b[32m\u001b[1m65 passed\u001b[0m\u001b[32m in 0.19s\u001b[0m\u001b[0m\n"
     ]
    }
   ],
   "source": [
    "%%run_pytest[clean]\n",
    "\n",
    "import pytest\n",
    "\n",
    "double_pb_fail = [\n",
    "    \n",
    "]\n",
    "\n",
    "double_pb_pass = [\n",
    "    ((S.One   , half), (S.One,) ,{}            , {}, 0),\n",
    "    ((A       , half), (S.One,) ,{}            , {}, 0),\n",
    "    ((A(x)    , half), (S.One,) ,{}            , {}, 0),\n",
    "    ((A(x,px) , half), (S.One,) ,{}            , {}, 0),\n",
    "    ((S.One   , half), (S.One,) ,{\"coords\":[x]}, {}, 0),\n",
    "    ((A       , half), (S.One,) ,{\"coords\":[x]}, {}, 0),\n",
    "    ((A(x)    , half), (S.One,) ,{\"coords\":[x]}, {}, 0),\n",
    "    ((A(x,px) , half), (S.One,) ,{\"coords\":[x]}, {}, 0),\n",
    "    \n",
    "    ((S.One   , half), (A,) ,{}            , {}, 0),\n",
    "    ((A       , half), (A,) ,{}            , {}, 0),\n",
    "    ((A(x)    , half), (A,) ,{}            , {}, 0),\n",
    "    ((A(x,px) , half), (A,) ,{}            , {}, 0),\n",
    "    ((S.One   , half), (A,) ,{\"coords\":[x]}, {}, 0),\n",
    "    ((A       , half), (A,) ,{\"coords\":[x]}, {}, 0),\n",
    "    ((A(x)    , half), (A,) ,{\"coords\":[x]}, {}, 0),\n",
    "    ((A(x,px) , half), (A,) ,{\"coords\":[x]}, {}, 0),\n",
    "    \n",
    "    ((S.One   , half), (A(x),) ,{}            , {}, 0),\n",
    "    ((A       , half), (A(x),) ,{}            , {}, 0),\n",
    "    ((A(x)    , half), (A(x),) ,{}            , {}, 0),\n",
    "    ((A(x,px) , half), (A(x),) ,{}            , {}, 0),\n",
    "    ((S.One   , half), (A(x),) ,{\"coords\":[x]}, {}, 0),\n",
    "    ((A       , half), (A(x),) ,{\"coords\":[x]}, {}, 0),\n",
    "    ((A(x)    , half), (A(x),) ,{\"coords\":[x]}, {}, 0),\n",
    "    ((A(x,px) , half), (A(x),) ,{\"coords\":[x]}, {}, 0),\n",
    "    \n",
    "    ((S.One   , half), (A(x,px),) ,{}            , {}, 0),\n",
    "    ((A       , half), (A(x,px),) ,{}            , {}, 0),\n",
    "    ((A(x)    , half), (A(x,px),) ,{}            , {}, 0),\n",
    "    ((A(x,px) , half), (A(x,px),) ,{}            , {}, 0),\n",
    "    ((S.One   , half), (A(x,px),) ,{\"coords\":[x]}, {}, 0),\n",
    "    ((A       , half), (A(x,px),) ,{\"coords\":[x]}, {}, 0),\n",
    "    ((A(x)    , half), (A(x,px),) ,{\"coords\":[x]}, {}, 0),\n",
    "    ((A(x,px) , half), (A(x,px),) ,{\"coords\":[x]}, {}, 0),\n",
    "    \n",
    "    (reversed((S.One   , half)), (S.One,) ,{}            , {}, 0),\n",
    "    (reversed((A       , half)), (S.One,) ,{}            , {}, 0),\n",
    "    (reversed((A(x)    , half)), (S.One,) ,{}            , {}, 0),\n",
    "    (reversed((A(x,px) , half)), (S.One,) ,{}            , {}, 0),\n",
    "    (reversed((S.One   , half)), (S.One,) ,{\"coords\":[x]}, {}, 0),\n",
    "    (reversed((A       , half)), (S.One,) ,{\"coords\":[x]}, {}, 0),\n",
    "    (reversed((A(x)    , half)), (S.One,) ,{\"coords\":[x]}, {}, 0),\n",
    "    (reversed((A(x,px) , half)), (S.One,) ,{\"coords\":[x]}, {}, 0),\n",
    "    \n",
    "    (reversed((S.One   , half)), (A,) ,{}            , {}, 0),\n",
    "    (reversed((A       , half)), (A,) ,{}            , {}, 0),\n",
    "    (reversed((A(x)    , half)), (A,) ,{}            , {}, 0),\n",
    "    (reversed((A(x,px) , half)), (A,) ,{}            , {}, 0),\n",
    "    (reversed((S.One   , half)), (A,) ,{\"coords\":[x]}, {}, 0),\n",
    "    (reversed((A       , half)), (A,) ,{\"coords\":[x]}, {}, 0),\n",
    "    (reversed((A(x)    , half)), (A,) ,{\"coords\":[x]}, {}, 0),\n",
    "    (reversed((A(x,px) , half)), (A,) ,{\"coords\":[x]}, {}, 0),\n",
    "    \n",
    "    (reversed((S.One   , half)), (A(x),) ,{}            , {}, 0),\n",
    "    (reversed((A       , half)), (A(x),) ,{}            , {}, 0),\n",
    "    (reversed((A(x)    , half)), (A(x),) ,{}            , {}, 0),\n",
    "    (reversed((A(x,px) , half)), (A(x),) ,{}            , {}, 0),\n",
    "    (reversed((S.One   , half)), (A(x),) ,{\"coords\":[x]}, {}, 0),\n",
    "    (reversed((A       , half)), (A(x),) ,{\"coords\":[x]}, {}, 0),\n",
    "    (reversed((A(x)    , half)), (A(x),) ,{\"coords\":[x]}, {}, 0),\n",
    "    (reversed((A(x,px) , half)), (A(x),) ,{\"coords\":[x]}, {}, 0),\n",
    "    \n",
    "    (reversed((S.One   , half)), (A(x,px),) ,{}            , {}, 0),\n",
    "    (reversed((A       , half)), (A(x,px),) ,{}            , {}, 0),\n",
    "    (reversed((A(x)    , half)), (A(x,px),) ,{}            , {}, 0),\n",
    "    (reversed((A(x,px) , half)), (A(x,px),) ,{}            , {}, 0),\n",
    "    (reversed((S.One   , half)), (A(x,px),) ,{\"coords\":[x]}, {}, 0),\n",
    "    (reversed((A       , half)), (A(x,px),) ,{\"coords\":[x]}, {}, 0),\n",
    "    (reversed((A(x)    , half)), (A(x,px),) ,{\"coords\":[x]}, {}, 0),\n",
    "    (reversed((A(x,px) , half)), (A(x,px),) ,{\"coords\":[x]}, {}, 0),\n",
    "    \n",
    "    ((A     , B    ), (S.One,) ,{}            , {}, 0),\n",
    "]\n",
    "\n",
    "@pytest.mark.parametrize('input1,input2,kwargs1,kwargs2,expected',double_pb_pass)\n",
    "def test_double_pb_parametrized_pass(input1, input2, kwargs1, kwargs2, expected):\n",
    "    pb1 = PoissonBracket(*input1, **kwargs1)\n",
    "    pb2 = PoissonBracket(pb1, *input2, **kwargs2)\n",
    "    assert pb2 == expected"
   ]
  },
  {
   "cell_type": "code",
   "execution_count": 49,
   "metadata": {
    "scrolled": true
   },
   "outputs": [
    {
     "name": "stdout",
     "output_type": "stream",
     "text": [
      "Interchanging order of arguments and put minus sign in front of bracket.\n",
      "Eval returned a value\n",
      "Interchanging order of arguments and put minus sign in front of bracket.\n",
      "Eval returned a value\n",
      "Interchanging order of arguments and put minus sign in front of bracket.\n",
      "Eval returned a value\n",
      "\u001b[32m.\u001b[0m\u001b[32m.\u001b[0m\u001b[32m.\u001b[0m\u001b[32m.\u001b[0m\u001b[32m.\u001b[0m\u001b[32m.\u001b[0m\u001b[32m.\u001b[0m\u001b[32m.\u001b[0m\u001b[32m.\u001b[0m\u001b[32m.\u001b[0m\u001b[32m.\u001b[0m\u001b[32m.\u001b[0m\u001b[32m.\u001b[0m\u001b[32m.\u001b[0m\u001b[32m.\u001b[0m\u001b[32m.\u001b[0m\u001b[32m.\u001b[0m\u001b[32m.\u001b[0m\u001b[32m.\u001b[0m\u001b[32m.\u001b[0m\u001b[32m                   [100%]\u001b[0m\n",
      "\u001b[32m\u001b[32m\u001b[1m20 passed\u001b[0m\u001b[32m in 0.12s\u001b[0m\u001b[0m\n"
     ]
    }
   ],
   "source": [
    "%%run_pytest[clean]\n",
    "\n",
    "import pytest\n",
    "\n",
    "double_pb_fail = [\n",
    "    \n",
    "]\n",
    "\n",
    "double_pb_doit_pass = [\n",
    "    ((A      , B      ), (S.One,) ,{}            , {}, 0),\n",
    "    ((A      , B      ), (C    ,) ,{}            , {}, PoissonBracket(PoissonBracket(A,B),C)),\n",
    "    ((A(x,px), B(x,px)), (C    ,) ,{}            , {}, PoissonBracket(PoissonBracket(A(x,px),B(x,px)),C)),\n",
    "    ((x **2  , x + px ), (C    ,) ,{}            , {}, PoissonBracket(PoissonBracket(x**2,x+px),C)),\n",
    "    \n",
    "    ((A,B),(C,), {}, {}, S.NegativeOne * PoissonBracket(C, PoissonBracket(A, B))),\n",
    "    ((A(x),B),(C,), {}, {}, S.NegativeOne * PoissonBracket(C, PoissonBracket(A(x), B))),\n",
    "    ((A,B(x)),(C,), {}, {}, S.NegativeOne * PoissonBracket(C, PoissonBracket(A, B(x)))),\n",
    "    ((A,B),(C(x),), {}, {}, S.NegativeOne * PoissonBracket(C(x), PoissonBracket(A, B))),\n",
    "    \n",
    "    ((A,B),(C,), {\"coords\":[x]}, {}, S.NegativeOne * PoissonBracket(C, PoissonBracket(A, B))),\n",
    "    ((A(x),B),(C,), {\"coords\":[x]}, {}, S.NegativeOne * PoissonBracket(C, PoissonBracket(A(x), B))),\n",
    "    ((A,B(x)),(C,), {\"coords\":[x]}, {}, S.NegativeOne * PoissonBracket(C, PoissonBracket(A, B(x)))),\n",
    "    ((A,B),(C(x),), {\"coords\":[x]}, {}, S.NegativeOne * PoissonBracket(C(x), PoissonBracket(A, B))),\n",
    "    \n",
    "    ((A,B),(C,),{}, {\"coords\":[x]}, S.NegativeOne * PoissonBracket(C, PoissonBracket(A, B))),\n",
    "    ((A(x),B),(C,),{}, {\"coords\":[x]},  S.NegativeOne * PoissonBracket(C, PoissonBracket(A(x), B))),\n",
    "    ((A,B(x)),(C,),{}, {\"coords\":[x]},  S.NegativeOne * PoissonBracket(C, PoissonBracket(A, B(x)))),\n",
    "    ((A,B),(C(x),),{}, {\"coords\":[x]},  S.NegativeOne * PoissonBracket(C(x), PoissonBracket(A, B))),\n",
    "    \n",
    "    ((A(x),B(x)),(C,), {\"coords\":[x]}, {}, S.NegativeOne * PoissonBracket(C, PoissonBracket(A(x), B(x)))),\n",
    "    ((A(x),B(x)),(C(x),), {\"coords\":[x]}, {}, 0),\n",
    "    ((A(x),B(x)),(C(x),), {},{\"coords\":[x]}, 0),\n",
    "    \n",
    "    ((A(x,px),B),(C,), {}, {}, S.NegativeOne * PoissonBracket(C, PoissonBracket(A(x,px), B))),\n",
    "#     ((x **2  , x + px ), (C       ,) ,{\"coords\":[x], \"mom\": [px]}, {}, PoissonBracket(PoissonBracket(x**2,x+px,coords=[x],mom=[px]),C)),\n",
    "#     ((A(x,px), B(x,px)), (C(x,px) ,) ,{\"coords\":[x], \"mom\": [px]}, {}, PoissonBracket(PoissonBracket(A(x,px),B(x,px)),C(x,px))),\n",
    "#     ((A(x,px), B(x,px)), (C       ,) ,{\"coords\":[x], \"mom\": [px]}, {}, PoissonBracket(PoissonBracket(A(x,px),B(x,px)),C)),\n",
    "    \n",
    "#     ((A(x,px), B(x,px)), (C(x,px) ,) ,{\"coords\":[x], \"mom\": [px]}, {\"coords\":[x], \"mom\": [px]}, S.NegativeOne*(-Derivative(C(x, px), px)*(-Derivative(A(x, px), px)*Derivative(B(x, y, py), (x, 2)) - Derivative(A(x, px), px, x)*Derivative(B(x, y, py), x)) - Derivative(C(x, px), x)*Derivative(A(x, px), (px, 2))*Derivative(B(x, y, py), x))),\n",
    "]\n",
    "\n",
    "@pytest.mark.parametrize('input1,input2,kwargs1,kwargs2,expected',double_pb_doit_pass)\n",
    "def test_double_pb_doit_parametrized_pass(input1, input2, kwargs1, kwargs2, expected):\n",
    "    pb1 = PoissonBracket(*input1, **kwargs1)\n",
    "    pb2 = PoissonBracket(pb1, *input2, **kwargs2)\n",
    "    print(pb2.doit()-expected)\n",
    "    assert pb2.doit() == expected\n",
    "    print(pb2.doit()-expected)"
   ]
  },
  {
   "cell_type": "code",
   "execution_count": 48,
   "metadata": {},
   "outputs": [
    {
     "name": "stdout",
     "output_type": "stream",
     "text": [
      "Interchanging order of arguments and put minus sign in front of bracket.\n",
      "Eval returned a value\n",
      "PoissonBracket(C(x), PoissonBracket(A(x), B(x)))\n",
      "<class '__main__.PoissonBracket'>\n",
      "(C(x), PoissonBracket(A(x), B(x)))\n",
      "0\n",
      "order -1\n",
      "in Function\n",
      "<class '__main__.PoissonBracket'>\n",
      "expr: 0\n",
      "[x]\n"
     ]
    },
    {
     "data": {
      "text/latex": [
       "$\\displaystyle 0$"
      ],
      "text/plain": [
       "0"
      ]
     },
     "execution_count": 48,
     "metadata": {},
     "output_type": "execute_result"
    }
   ],
   "source": [
    "test5 = PoissonBracket(A(x), B(x))\n",
    "test12 = PoissonBracket(test5, C(x),coords=[x])\n",
    "test12.doit()"
   ]
  },
  {
   "cell_type": "code",
   "execution_count": 8,
   "metadata": {
    "scrolled": true
   },
   "outputs": [
    {
     "name": "stdout",
     "output_type": "stream",
     "text": [
      "Interchanging order of arguments and put minus sign in front of bracket.\n",
      "Eval returned a value\n",
      "PoissonBracket(C(x, px), PoissonBracket(A(x, px), B(x, px)))\n",
      "<class '__main__.PoissonBracket'>\n",
      "(C(x, px), PoissonBracket(A(x, px), B(x, px)))\n",
      "-Derivative(C(x, px), px)*(-Derivative(A(x, px), px)*Derivative(B(x, px), (x, 2)) + Derivative(A(x, px), x)*Derivative(B(x, px), px, x) + Derivative(A(x, px), (x, 2))*Derivative(B(x, px), px) - Derivative(A(x, px), px, x)*Derivative(B(x, px), x)) + Derivative(C(x, px), x)*(-Derivative(A(x, px), px)*Derivative(B(x, px), px, x) - Derivative(A(x, px), (px, 2))*Derivative(B(x, px), x) + Derivative(A(x, px), x)*Derivative(B(x, px), (px, 2)) + Derivative(A(x, px), px, x)*Derivative(B(x, px), px))\n",
      "order -1\n",
      "in Function\n",
      "<class '__main__.PoissonBracket'>\n",
      "expr: -Derivative(C(x, px), px)*(-Derivative(A(x, px), px)*Derivative(B(x, px), (x, 2)) + Derivative(A(x, px), x)*Derivative(B(x, px), px, x) + Derivative(A(x, px), (x, 2))*Derivative(B(x, px), px) - Derivative(A(x, px), px, x)*Derivative(B(x, px), x)) + Derivative(C(x, px), x)*(-Derivative(A(x, px), px)*Derivative(B(x, px), px, x) - Derivative(A(x, px), (px, 2))*Derivative(B(x, px), x) + Derivative(A(x, px), x)*Derivative(B(x, px), (px, 2)) + Derivative(A(x, px), px, x)*Derivative(B(x, px), px))\n",
      "[x]\n"
     ]
    },
    {
     "data": {
      "text/latex": [
       "$\\displaystyle - (- \\frac{\\partial}{\\partial px} C{\\left(x,px \\right)} \\left(- \\frac{\\partial}{\\partial px} A{\\left(x,px \\right)} \\frac{\\partial^{2}}{\\partial x^{2}} B{\\left(x,px \\right)} + \\frac{\\partial}{\\partial x} A{\\left(x,px \\right)} \\frac{\\partial^{2}}{\\partial x\\partial px} B{\\left(x,px \\right)} + \\frac{\\partial^{2}}{\\partial x^{2}} A{\\left(x,px \\right)} \\frac{\\partial}{\\partial px} B{\\left(x,px \\right)} - \\frac{\\partial^{2}}{\\partial x\\partial px} A{\\left(x,px \\right)} \\frac{\\partial}{\\partial x} B{\\left(x,px \\right)}\\right) + \\frac{\\partial}{\\partial x} C{\\left(x,px \\right)} \\left(- \\frac{\\partial}{\\partial px} A{\\left(x,px \\right)} \\frac{\\partial^{2}}{\\partial x\\partial px} B{\\left(x,px \\right)} - \\frac{\\partial^{2}}{\\partial px^{2}} A{\\left(x,px \\right)} \\frac{\\partial}{\\partial x} B{\\left(x,px \\right)} + \\frac{\\partial}{\\partial x} A{\\left(x,px \\right)} \\frac{\\partial^{2}}{\\partial px^{2}} B{\\left(x,px \\right)} + \\frac{\\partial^{2}}{\\partial x\\partial px} A{\\left(x,px \\right)} \\frac{\\partial}{\\partial px} B{\\left(x,px \\right)}\\right))$"
      ],
      "text/plain": [
       "-(-Derivative(C(x, px), px)*(-Derivative(A(x, px), px)*Derivative(B(x, px), (x, 2)) + Derivative(A(x, px), x)*Derivative(B(x, px), px, x) + Derivative(A(x, px), (x, 2))*Derivative(B(x, px), px) - Derivative(A(x, px), px, x)*Derivative(B(x, px), x)) + Derivative(C(x, px), x)*(-Derivative(A(x, px), px)*Derivative(B(x, px), px, x) - Derivative(A(x, px), (px, 2))*Derivative(B(x, px), x) + Derivative(A(x, px), x)*Derivative(B(x, px), (px, 2)) + Derivative(A(x, px), px, x)*Derivative(B(x, px), px)))"
      ]
     },
     "execution_count": 8,
     "metadata": {},
     "output_type": "execute_result"
    }
   ],
   "source": [
    "test5 = PoissonBracket(A(x, px), B(x,px),coords=[x],mom=[px])\n",
    "test12 = PoissonBracket(test5, C(x, px), coords=[x], mom=[px])\n",
    "test12.doit()"
   ]
  },
  {
   "cell_type": "code",
   "execution_count": 22,
   "metadata": {},
   "outputs": [
    {
     "name": "stdout",
     "output_type": "stream",
     "text": [
      "Interchanging order of arguments and put minus sign in front of bracket.\n",
      "Eval returned a value\n",
      "PoissonBracket(C(y, py), PoissonBracket(A(x, px), B(x, y, px)))\n",
      "<class '__main__.PoissonBracket'>\n",
      "(C(y, py), PoissonBracket(A(x, px), B(x, y, px)))\n",
      "-Derivative(C(y, py), py)*(-Derivative(A(x, px), px)*Derivative(B(x, y, px), x, y) + Derivative(A(x, px), x)*Derivative(B(x, y, px), px, y))\n",
      "order -1\n",
      "in Function\n",
      "<class '__main__.PoissonBracket'>\n",
      "expr: -Derivative(C(y, py), py)*(-Derivative(A(x, px), px)*Derivative(B(x, y, px), x, y) + Derivative(A(x, px), x)*Derivative(B(x, y, px), px, y))\n",
      "[x]\n"
     ]
    },
    {
     "data": {
      "text/latex": [
       "$\\displaystyle \\frac{\\partial}{\\partial py} C{\\left(y,py \\right)} \\left(- \\frac{\\partial}{\\partial px} A{\\left(x,px \\right)} \\frac{\\partial^{2}}{\\partial y\\partial x} B{\\left(x,y,px \\right)} + \\frac{\\partial}{\\partial x} A{\\left(x,px \\right)} \\frac{\\partial^{2}}{\\partial y\\partial px} B{\\left(x,y,px \\right)}\\right)$"
      ],
      "text/plain": [
       "Derivative(C(y, py), py)*(-Derivative(A(x, px), px)*Derivative(B(x, y, px), x, y) + Derivative(A(x, px), x)*Derivative(B(x, y, px), px, y))"
      ]
     },
     "execution_count": 22,
     "metadata": {},
     "output_type": "execute_result"
    }
   ],
   "source": [
    "test5 = PoissonBracket(A(x,px), B(x,y,px),coords=[x,y],mom=[px,py])\n",
    "test12 = PoissonBracket(test5, C(y,py), coords=[x,y], mom=[px,py])\n",
    "test12.doit()"
   ]
  },
  {
   "cell_type": "code",
   "execution_count": 21,
   "metadata": {},
   "outputs": [
    {
     "name": "stdout",
     "output_type": "stream",
     "text": [
      "Interchanging order of arguments and put minus sign in front of bracket.\n",
      "Eval returned a value\n",
      "PoissonBracket(C(y, py), PoissonBracket(A(x, px), B(x, y, px)))\n",
      "<class '__main__.PoissonBracket'>\n",
      "(C(y, py), PoissonBracket(A(x, px), B(x, y, px)))\n",
      "-Derivative(C(y, py), py)*(-Derivative(A(x, px), px)*Derivative(B(x, y, px), x, y) + Derivative(A(x, px), x)*Derivative(B(x, y, px), px, y))\n",
      "order -1\n",
      "in Function\n",
      "<class '__main__.PoissonBracket'>\n",
      "expr: -Derivative(C(y, py), py)*(-Derivative(A(x, px), px)*Derivative(B(x, y, px), x, y) + Derivative(A(x, px), x)*Derivative(B(x, y, px), px, y))\n",
      "[x]\n"
     ]
    },
    {
     "data": {
      "text/latex": [
       "$\\displaystyle \\frac{\\partial}{\\partial py} C{\\left(y,py \\right)} \\left(- \\frac{\\partial}{\\partial px} A{\\left(x,px \\right)} \\frac{\\partial^{2}}{\\partial y\\partial x} B{\\left(x,y,px \\right)} + \\frac{\\partial}{\\partial x} A{\\left(x,px \\right)} \\frac{\\partial^{2}}{\\partial y\\partial px} B{\\left(x,y,px \\right)}\\right)$"
      ],
      "text/plain": [
       "Derivative(C(y, py), py)*(-Derivative(A(x, px), px)*Derivative(B(x, y, px), x, y) + Derivative(A(x, px), x)*Derivative(B(x, y, px), px, y))"
      ]
     },
     "execution_count": 21,
     "metadata": {},
     "output_type": "execute_result"
    }
   ],
   "source": [
    "test5 = PoissonBracket(A(x,px), B(x,y,px),coords=[x,y],mom=[px,py])\n",
    "test12 = PoissonBracket(test5, C(y,py), coords=[x,y], mom=[py])\n",
    "test12.doit()"
   ]
  },
  {
   "cell_type": "code",
   "execution_count": 20,
   "metadata": {},
   "outputs": [
    {
     "name": "stdout",
     "output_type": "stream",
     "text": [
      "Interchanging order of arguments and put minus sign in front of bracket.\n",
      "Eval returned a value\n",
      "PoissonBracket(C(y, py), PoissonBracket(A(x, px), B(x, y, px)))\n",
      "<class '__main__.PoissonBracket'>\n",
      "(C(y, py), PoissonBracket(A(x, px), B(x, y, px)))\n",
      "-Derivative(C(y, py), py)*(-Derivative(A(x, px), px)*Derivative(B(x, y, px), x, y) + Derivative(A(x, px), x)*Derivative(B(x, y, px), px, y))\n",
      "order -1\n",
      "in Function\n",
      "<class '__main__.PoissonBracket'>\n",
      "expr: -Derivative(C(y, py), py)*(-Derivative(A(x, px), px)*Derivative(B(x, y, px), x, y) + Derivative(A(x, px), x)*Derivative(B(x, y, px), px, y))\n",
      "[x]\n"
     ]
    },
    {
     "data": {
      "text/latex": [
       "$\\displaystyle \\frac{\\partial}{\\partial py} C{\\left(y,py \\right)} \\left(- \\frac{\\partial}{\\partial px} A{\\left(x,px \\right)} \\frac{\\partial^{2}}{\\partial y\\partial x} B{\\left(x,y,px \\right)} + \\frac{\\partial}{\\partial x} A{\\left(x,px \\right)} \\frac{\\partial^{2}}{\\partial y\\partial px} B{\\left(x,y,px \\right)}\\right)$"
      ],
      "text/plain": [
       "Derivative(C(y, py), py)*(-Derivative(A(x, px), px)*Derivative(B(x, y, px), x, y) + Derivative(A(x, px), x)*Derivative(B(x, y, px), px, y))"
      ]
     },
     "execution_count": 20,
     "metadata": {},
     "output_type": "execute_result"
    }
   ],
   "source": [
    "test5 = PoissonBracket(A(x,px), B(x,y,px),coords=[x,y],mom=[px,py])\n",
    "test12 = PoissonBracket(test5, C(y,py), coords=[y], mom=[py])\n",
    "test12.doit()"
   ]
  },
  {
   "cell_type": "code",
   "execution_count": 18,
   "metadata": {},
   "outputs": [
    {
     "name": "stdout",
     "output_type": "stream",
     "text": [
      "Interchanging order of arguments and put minus sign in front of bracket.\n",
      "Eval returned a value\n",
      "PoissonBracket(C(y, py), PoissonBracket(A(x, px), B(x, y, px)))\n",
      "<class '__main__.PoissonBracket'>\n",
      "(C(y, py), PoissonBracket(A(x, px), B(x, y, px)))\n",
      "-Derivative(C(y, py), py)*(-Derivative(A(x, px), px)*Derivative(B(x, y, px), x, y) + Derivative(A(x, px), x)*Derivative(B(x, y, px), px, y))\n",
      "order -1\n",
      "in Function\n",
      "<class '__main__.PoissonBracket'>\n",
      "expr: -Derivative(C(y, py), py)*(-Derivative(A(x, px), px)*Derivative(B(x, y, px), x, y) + Derivative(A(x, px), x)*Derivative(B(x, y, px), px, y))\n",
      "[x]\n"
     ]
    },
    {
     "data": {
      "text/latex": [
       "$\\displaystyle \\frac{\\partial}{\\partial py} C{\\left(y,py \\right)} \\left(- \\frac{\\partial}{\\partial px} A{\\left(x,px \\right)} \\frac{\\partial^{2}}{\\partial y\\partial x} B{\\left(x,y,px \\right)} + \\frac{\\partial}{\\partial x} A{\\left(x,px \\right)} \\frac{\\partial^{2}}{\\partial y\\partial px} B{\\left(x,y,px \\right)}\\right)$"
      ],
      "text/plain": [
       "Derivative(C(y, py), py)*(-Derivative(A(x, px), px)*Derivative(B(x, y, px), x, y) + Derivative(A(x, px), x)*Derivative(B(x, y, px), px, y))"
      ]
     },
     "execution_count": 18,
     "metadata": {},
     "output_type": "execute_result"
    }
   ],
   "source": [
    "test5 = PoissonBracket(A(x,px), B(x,y,px),coords=[x],mom=[px])\n",
    "test12 = PoissonBracket(test5, C(y,py), coords=[y], mom=[py])\n",
    "test12.doit()"
   ]
  },
  {
   "cell_type": "code",
   "execution_count": 17,
   "metadata": {},
   "outputs": [
    {
     "name": "stdout",
     "output_type": "stream",
     "text": [
      "Interchanging order of arguments and put minus sign in front of bracket.\n",
      "Eval returned a value\n",
      "PoissonBracket(C(y, py), PoissonBracket(A(x, px), B(x, px)))\n",
      "<class '__main__.PoissonBracket'>\n",
      "(C(y, py), PoissonBracket(A(x, px), B(x, px)))\n",
      "0\n",
      "order -1\n",
      "in Function\n",
      "<class '__main__.PoissonBracket'>\n",
      "expr: 0\n",
      "[x]\n"
     ]
    },
    {
     "data": {
      "text/latex": [
       "$\\displaystyle 0$"
      ],
      "text/plain": [
       "0"
      ]
     },
     "execution_count": 17,
     "metadata": {},
     "output_type": "execute_result"
    }
   ],
   "source": [
    "test5 = PoissonBracket(A(x,px), B(x,px),coords=[x],mom=[px])\n",
    "test12 = PoissonBracket(test5, C(y,py), coords=[y], mom=[py])\n",
    "test12.doit()"
   ]
  },
  {
   "cell_type": "code",
   "execution_count": 16,
   "metadata": {},
   "outputs": [
    {
     "name": "stdout",
     "output_type": "stream",
     "text": [
      "Interchanging order of arguments and put minus sign in front of bracket.\n",
      "Eval returned a value\n",
      "PoissonBracket(C(y), PoissonBracket(A(x, px), B(x, px)))\n",
      "<class '__main__.PoissonBracket'>\n",
      "(C(y), PoissonBracket(A(x, px), B(x, px)))\n",
      "0\n",
      "order -1\n",
      "in Function\n",
      "<class '__main__.PoissonBracket'>\n",
      "expr: 0\n",
      "[x]\n"
     ]
    },
    {
     "data": {
      "text/latex": [
       "$\\displaystyle 0$"
      ],
      "text/plain": [
       "0"
      ]
     },
     "execution_count": 16,
     "metadata": {},
     "output_type": "execute_result"
    }
   ],
   "source": [
    "test5 = PoissonBracket(A(x,px), B(x,px),coords=[x],mom=[px])\n",
    "test12 = PoissonBracket(test5, C(y), coords=[y], mom=[py])\n",
    "test12.doit()"
   ]
  },
  {
   "cell_type": "code",
   "execution_count": 15,
   "metadata": {},
   "outputs": [
    {
     "name": "stdout",
     "output_type": "stream",
     "text": [
      "Interchanging order of arguments and put minus sign in front of bracket.\n",
      "Eval returned a value\n",
      "PoissonBracket(C(x, px), PoissonBracket(A(x, px), B(x, px)))\n",
      "<class '__main__.PoissonBracket'>\n",
      "(C(x, px), PoissonBracket(A(x, px), B(x, px)))\n",
      "-Derivative(C(x, px), px)*(-Derivative(A(x, px), px)*Derivative(B(x, px), (x, 2)) + Derivative(A(x, px), x)*Derivative(B(x, px), px, x) + Derivative(A(x, px), (x, 2))*Derivative(B(x, px), px) - Derivative(A(x, px), px, x)*Derivative(B(x, px), x)) + Derivative(C(x, px), x)*(-Derivative(A(x, px), px)*Derivative(B(x, px), px, x) - Derivative(A(x, px), (px, 2))*Derivative(B(x, px), x) + Derivative(A(x, px), x)*Derivative(B(x, px), (px, 2)) + Derivative(A(x, px), px, x)*Derivative(B(x, px), px))\n",
      "order -1\n",
      "in Function\n",
      "<class '__main__.PoissonBracket'>\n",
      "expr: -Derivative(C(x, px), px)*(-Derivative(A(x, px), px)*Derivative(B(x, px), (x, 2)) + Derivative(A(x, px), x)*Derivative(B(x, px), px, x) + Derivative(A(x, px), (x, 2))*Derivative(B(x, px), px) - Derivative(A(x, px), px, x)*Derivative(B(x, px), x)) + Derivative(C(x, px), x)*(-Derivative(A(x, px), px)*Derivative(B(x, px), px, x) - Derivative(A(x, px), (px, 2))*Derivative(B(x, px), x) + Derivative(A(x, px), x)*Derivative(B(x, px), (px, 2)) + Derivative(A(x, px), px, x)*Derivative(B(x, px), px))\n",
      "[x]\n"
     ]
    },
    {
     "data": {
      "text/latex": [
       "$\\displaystyle - (- \\frac{\\partial}{\\partial px} C{\\left(x,px \\right)} \\left(- \\frac{\\partial}{\\partial px} A{\\left(x,px \\right)} \\frac{\\partial^{2}}{\\partial x^{2}} B{\\left(x,px \\right)} + \\frac{\\partial}{\\partial x} A{\\left(x,px \\right)} \\frac{\\partial^{2}}{\\partial x\\partial px} B{\\left(x,px \\right)} + \\frac{\\partial^{2}}{\\partial x^{2}} A{\\left(x,px \\right)} \\frac{\\partial}{\\partial px} B{\\left(x,px \\right)} - \\frac{\\partial^{2}}{\\partial x\\partial px} A{\\left(x,px \\right)} \\frac{\\partial}{\\partial x} B{\\left(x,px \\right)}\\right) + \\frac{\\partial}{\\partial x} C{\\left(x,px \\right)} \\left(- \\frac{\\partial}{\\partial px} A{\\left(x,px \\right)} \\frac{\\partial^{2}}{\\partial x\\partial px} B{\\left(x,px \\right)} - \\frac{\\partial^{2}}{\\partial px^{2}} A{\\left(x,px \\right)} \\frac{\\partial}{\\partial x} B{\\left(x,px \\right)} + \\frac{\\partial}{\\partial x} A{\\left(x,px \\right)} \\frac{\\partial^{2}}{\\partial px^{2}} B{\\left(x,px \\right)} + \\frac{\\partial^{2}}{\\partial x\\partial px} A{\\left(x,px \\right)} \\frac{\\partial}{\\partial px} B{\\left(x,px \\right)}\\right))$"
      ],
      "text/plain": [
       "-(-Derivative(C(x, px), px)*(-Derivative(A(x, px), px)*Derivative(B(x, px), (x, 2)) + Derivative(A(x, px), x)*Derivative(B(x, px), px, x) + Derivative(A(x, px), (x, 2))*Derivative(B(x, px), px) - Derivative(A(x, px), px, x)*Derivative(B(x, px), x)) + Derivative(C(x, px), x)*(-Derivative(A(x, px), px)*Derivative(B(x, px), px, x) - Derivative(A(x, px), (px, 2))*Derivative(B(x, px), x) + Derivative(A(x, px), x)*Derivative(B(x, px), (px, 2)) + Derivative(A(x, px), px, x)*Derivative(B(x, px), px)))"
      ]
     },
     "execution_count": 15,
     "metadata": {},
     "output_type": "execute_result"
    }
   ],
   "source": [
    "test5 = PoissonBracket(A(x,px), B(x,px),coords=[x],mom=[px])\n",
    "test12 = PoissonBracket(test5, C(x,px), coords=[x], mom=[px])\n",
    "test12.doit()"
   ]
  },
  {
   "cell_type": "code",
   "execution_count": 14,
   "metadata": {},
   "outputs": [
    {
     "name": "stdout",
     "output_type": "stream",
     "text": [
      "Interchanging order of arguments and put minus sign in front of bracket.\n",
      "Eval returned a value\n",
      "PoissonBracket(C(x), PoissonBracket(A(x, px), B(x, px)))\n",
      "<class '__main__.PoissonBracket'>\n",
      "(C(x), PoissonBracket(A(x, px), B(x, px)))\n",
      "Derivative(C(x), x)*(-Derivative(A(x, px), px)*Derivative(B(x, px), px, x) - Derivative(A(x, px), (px, 2))*Derivative(B(x, px), x) + Derivative(A(x, px), x)*Derivative(B(x, px), (px, 2)) + Derivative(A(x, px), px, x)*Derivative(B(x, px), px))\n",
      "order -1\n",
      "in Function\n",
      "<class '__main__.PoissonBracket'>\n",
      "expr: Derivative(C(x), x)*(-Derivative(A(x, px), px)*Derivative(B(x, px), px, x) - Derivative(A(x, px), (px, 2))*Derivative(B(x, px), x) + Derivative(A(x, px), x)*Derivative(B(x, px), (px, 2)) + Derivative(A(x, px), px, x)*Derivative(B(x, px), px))\n",
      "[x]\n"
     ]
    },
    {
     "data": {
      "text/latex": [
       "$\\displaystyle - \\frac{d}{d x} C{\\left(x \\right)} \\left(- \\frac{\\partial}{\\partial px} A{\\left(x,px \\right)} \\frac{\\partial^{2}}{\\partial x\\partial px} B{\\left(x,px \\right)} - \\frac{\\partial^{2}}{\\partial px^{2}} A{\\left(x,px \\right)} \\frac{\\partial}{\\partial x} B{\\left(x,px \\right)} + \\frac{\\partial}{\\partial x} A{\\left(x,px \\right)} \\frac{\\partial^{2}}{\\partial px^{2}} B{\\left(x,px \\right)} + \\frac{\\partial^{2}}{\\partial x\\partial px} A{\\left(x,px \\right)} \\frac{\\partial}{\\partial px} B{\\left(x,px \\right)}\\right)$"
      ],
      "text/plain": [
       "-Derivative(C(x), x)*(-Derivative(A(x, px), px)*Derivative(B(x, px), px, x) - Derivative(A(x, px), (px, 2))*Derivative(B(x, px), x) + Derivative(A(x, px), x)*Derivative(B(x, px), (px, 2)) + Derivative(A(x, px), px, x)*Derivative(B(x, px), px))"
      ]
     },
     "execution_count": 14,
     "metadata": {},
     "output_type": "execute_result"
    }
   ],
   "source": [
    "test5 = PoissonBracket(A(x,px), B(x,px),coords=[x],mom=[px])\n",
    "test12 = PoissonBracket(test5, C(x), coords=[x], mom=[px])\n",
    "test12.doit()"
   ]
  },
  {
   "cell_type": "code",
   "execution_count": 13,
   "metadata": {},
   "outputs": [
    {
     "name": "stdout",
     "output_type": "stream",
     "text": [
      "Interchanging order of arguments and put minus sign in front of bracket.\n",
      "Eval returned a value\n",
      "PoissonBracket(C, PoissonBracket(A(x, px), B(x)))\n",
      "<class '__main__.PoissonBracket'>\n",
      "(C, PoissonBracket(A(x, px), B(x)))\n",
      "Derivative(A(x, px), px)*Derivative(B(x), (x, 2)) - Derivative(A(x, px), (px, 2))*Derivative(B(x), x) + Derivative(A(x, px), px, x)*Derivative(B(x), x)\n",
      "order -1\n",
      "One is undefined function\n",
      "PoissonBracket(C, PoissonBracket(A(x, px), B(x)))\n",
      "['A', 'B']\n",
      "['C', '\\\\lbrace A,B\\\\rbrace']\n"
     ]
    },
    {
     "data": {
      "text/latex": [
       "$\\displaystyle - \\lbrace C,\\lbrace A,B\\rbrace\\rbrace$"
      ],
      "text/plain": [
       "-PoissonBracket(C, PoissonBracket(A(x, px), B(x)))"
      ]
     },
     "execution_count": 13,
     "metadata": {},
     "output_type": "execute_result"
    }
   ],
   "source": [
    "test5 = PoissonBracket(A(x,px), B(x),coords=[x],mom=[px])\n",
    "test12 = PoissonBracket(test5, C, coords=[x], mom=[px])\n",
    "test12.doit()"
   ]
  },
  {
   "cell_type": "code",
   "execution_count": 12,
   "metadata": {},
   "outputs": [
    {
     "name": "stdout",
     "output_type": "stream",
     "text": [
      "Interchanging order of arguments and put minus sign in front of bracket.\n",
      "Eval returned a value\n",
      "PoissonBracket(C(x), PoissonBracket(A(x, px), B(x, px)))\n",
      "<class '__main__.PoissonBracket'>\n",
      "(C(x), PoissonBracket(A(x, px), B(x, px)))\n",
      "Derivative(C(x), x)*(-Derivative(A(x, px), px)*Derivative(B(x, px), px, x) - Derivative(A(x, px), (px, 2))*Derivative(B(x, px), x) + Derivative(A(x, px), x)*Derivative(B(x, px), (px, 2)) + Derivative(A(x, px), px, x)*Derivative(B(x, px), px))\n",
      "order -1\n",
      "in Function\n",
      "<class '__main__.PoissonBracket'>\n",
      "expr: Derivative(C(x), x)*(-Derivative(A(x, px), px)*Derivative(B(x, px), px, x) - Derivative(A(x, px), (px, 2))*Derivative(B(x, px), x) + Derivative(A(x, px), x)*Derivative(B(x, px), (px, 2)) + Derivative(A(x, px), px, x)*Derivative(B(x, px), px))\n",
      "[x]\n"
     ]
    },
    {
     "data": {
      "text/latex": [
       "$\\displaystyle - \\frac{d}{d x} C{\\left(x \\right)} \\left(- \\frac{\\partial}{\\partial px} A{\\left(x,px \\right)} \\frac{\\partial^{2}}{\\partial x\\partial px} B{\\left(x,px \\right)} - \\frac{\\partial^{2}}{\\partial px^{2}} A{\\left(x,px \\right)} \\frac{\\partial}{\\partial x} B{\\left(x,px \\right)} + \\frac{\\partial}{\\partial x} A{\\left(x,px \\right)} \\frac{\\partial^{2}}{\\partial px^{2}} B{\\left(x,px \\right)} + \\frac{\\partial^{2}}{\\partial x\\partial px} A{\\left(x,px \\right)} \\frac{\\partial}{\\partial px} B{\\left(x,px \\right)}\\right)$"
      ],
      "text/plain": [
       "-Derivative(C(x), x)*(-Derivative(A(x, px), px)*Derivative(B(x, px), px, x) - Derivative(A(x, px), (px, 2))*Derivative(B(x, px), x) + Derivative(A(x, px), x)*Derivative(B(x, px), (px, 2)) + Derivative(A(x, px), px, x)*Derivative(B(x, px), px))"
      ]
     },
     "execution_count": 12,
     "metadata": {},
     "output_type": "execute_result"
    }
   ],
   "source": [
    "test5 = PoissonBracket(A(x,px), B(x,px),coords=[x],mom=[px])\n",
    "test12 = PoissonBracket(test5, C(x), coords=[x], mom=[px])\n",
    "test12.doit()"
   ]
  },
  {
   "cell_type": "code",
   "execution_count": 11,
   "metadata": {},
   "outputs": [
    {
     "name": "stdout",
     "output_type": "stream",
     "text": [
      "Interchanging order of arguments and put minus sign in front of bracket.\n",
      "Eval returned a value\n",
      "PoissonBracket(C(x), PoissonBracket(A(x), B(x, px)))\n",
      "<class '__main__.PoissonBracket'>\n",
      "(C(x), PoissonBracket(A(x), B(x, px)))\n",
      "Derivative(C(x), x)*Derivative(A(x), x)*Derivative(B(x, px), (px, 2))\n",
      "order -1\n",
      "in Function\n",
      "<class '__main__.PoissonBracket'>\n",
      "expr: Derivative(C(x), x)*Derivative(A(x), x)*Derivative(B(x, px), (px, 2))\n",
      "[x]\n"
     ]
    },
    {
     "data": {
      "text/latex": [
       "$\\displaystyle - \\frac{d}{d x} C{\\left(x \\right)} \\frac{d}{d x} A{\\left(x \\right)} \\frac{\\partial^{2}}{\\partial px^{2}} B{\\left(x,px \\right)}$"
      ],
      "text/plain": [
       "-Derivative(C(x), x)*Derivative(A(x), x)*Derivative(B(x, px), (px, 2))"
      ]
     },
     "execution_count": 11,
     "metadata": {},
     "output_type": "execute_result"
    }
   ],
   "source": [
    "test5 = PoissonBracket(A(x), B(x,px),coords=[x],mom=[px])\n",
    "test12 = PoissonBracket(test5, C(x), coords=[x], mom=[px])\n",
    "test12.doit()"
   ]
  },
  {
   "cell_type": "code",
   "execution_count": 10,
   "metadata": {},
   "outputs": [
    {
     "name": "stdout",
     "output_type": "stream",
     "text": [
      "Interchanging order of arguments and put minus sign in front of bracket.\n",
      "Eval returned a value\n",
      "PoissonBracket(C(x), PoissonBracket(A(x, px), B(x)))\n",
      "<class '__main__.PoissonBracket'>\n",
      "(C(x), PoissonBracket(A(x, px), B(x)))\n",
      "-Derivative(C(x), x)*Derivative(A(x, px), (px, 2))*Derivative(B(x), x)\n",
      "order -1\n",
      "in Function\n",
      "<class '__main__.PoissonBracket'>\n",
      "expr: -Derivative(C(x), x)*Derivative(A(x, px), (px, 2))*Derivative(B(x), x)\n",
      "[x]\n"
     ]
    },
    {
     "data": {
      "text/latex": [
       "$\\displaystyle \\frac{d}{d x} C{\\left(x \\right)} \\frac{\\partial^{2}}{\\partial px^{2}} A{\\left(x,px \\right)} \\frac{d}{d x} B{\\left(x \\right)}$"
      ],
      "text/plain": [
       "Derivative(C(x), x)*Derivative(A(x, px), (px, 2))*Derivative(B(x), x)"
      ]
     },
     "execution_count": 10,
     "metadata": {},
     "output_type": "execute_result"
    }
   ],
   "source": [
    "test5 = PoissonBracket(A(x,px), B(x),coords=[x],mom=[px])\n",
    "test12 = PoissonBracket(test5, C(x), coords=[x], mom=[px])\n",
    "test12.doit()"
   ]
  },
  {
   "cell_type": "code",
   "execution_count": 9,
   "metadata": {},
   "outputs": [
    {
     "name": "stdout",
     "output_type": "stream",
     "text": [
      "Interchanging order of arguments and put minus sign in front of bracket.\n",
      "Eval returned a value\n",
      "PoissonBracket(C(x), PoissonBracket(A(x), B(x)))\n",
      "<class '__main__.PoissonBracket'>\n",
      "(C(x), PoissonBracket(A(x), B(x)))\n",
      "0\n",
      "order -1\n",
      "in Function\n",
      "<class '__main__.PoissonBracket'>\n",
      "expr: 0\n",
      "[x]\n"
     ]
    },
    {
     "data": {
      "text/latex": [
       "$\\displaystyle 0$"
      ],
      "text/plain": [
       "0"
      ]
     },
     "execution_count": 9,
     "metadata": {},
     "output_type": "execute_result"
    }
   ],
   "source": [
    "test5 = PoissonBracket(A(x), B(x),coords=[x],mom=[px])\n",
    "test12 = PoissonBracket(test5, C(x), coords=[x], mom=[px])\n",
    "test12.doit()"
   ]
  },
  {
   "cell_type": "code",
   "execution_count": null,
   "metadata": {},
   "outputs": [],
   "source": []
  },
  {
   "cell_type": "code",
   "execution_count": 36,
   "metadata": {},
   "outputs": [],
   "source": [
    "test12.args[1].indep_coords"
   ]
  },
  {
   "cell_type": "code",
   "execution_count": 37,
   "metadata": {},
   "outputs": [
    {
     "name": "stdout",
     "output_type": "stream",
     "text": [
      "['A', 'B']\n"
     ]
    },
    {
     "data": {
      "text/latex": [
       "$\\displaystyle \\lbrace A,B\\rbrace$"
      ],
      "text/plain": [
       "PoissonBracket(A(x, px), B(x, px))"
      ]
     },
     "execution_count": 37,
     "metadata": {},
     "output_type": "execute_result"
    }
   ],
   "source": [
    "PoissonBracket(A(x, px), B(x, px)).expr"
   ]
  },
  {
   "cell_type": "code",
   "execution_count": 38,
   "metadata": {},
   "outputs": [
    {
     "name": "stdout",
     "output_type": "stream",
     "text": [
      "Interchanging order of arguments and put minus sign in front of bracket.\n",
      "Eval returned a value\n",
      "PoissonBracket(C(x, px), PoissonBracket(A(x, px), B(x, y, py)))\n",
      "<class '__main__.PoissonBracket'>\n",
      "(C(x, px), PoissonBracket(A(x, px), B(x, y, py)))\n",
      "-Derivative(C(x, px), px)*(-Derivative(A(x, px), px)*Derivative(B(x, y, py), (x, 2)) - Derivative(A(x, px), px, x)*Derivative(B(x, y, py), x)) - Derivative(C(x, px), x)*Derivative(A(x, px), (px, 2))*Derivative(B(x, y, py), x)\n",
      "order -1\n",
      "in Function\n",
      "<class '__main__.PoissonBracket'>\n",
      "expr: -Derivative(C(x, px), px)*(-Derivative(A(x, px), px)*Derivative(B(x, y, py), (x, 2)) - Derivative(A(x, px), px, x)*Derivative(B(x, y, py), x)) - Derivative(C(x, px), x)*Derivative(A(x, px), (px, 2))*Derivative(B(x, y, py), x)\n",
      "[x, y]\n"
     ]
    },
    {
     "data": {
      "text/latex": [
       "$\\displaystyle - (- \\frac{\\partial}{\\partial px} C{\\left(x,px \\right)} \\left(- \\frac{\\partial}{\\partial px} A{\\left(x,px \\right)} \\frac{\\partial^{2}}{\\partial x^{2}} B{\\left(x,y,py \\right)} - \\frac{\\partial^{2}}{\\partial x\\partial px} A{\\left(x,px \\right)} \\frac{\\partial}{\\partial x} B{\\left(x,y,py \\right)}\\right) - \\frac{\\partial}{\\partial x} C{\\left(x,px \\right)} \\frac{\\partial^{2}}{\\partial px^{2}} A{\\left(x,px \\right)} \\frac{\\partial}{\\partial x} B{\\left(x,y,py \\right)})$"
      ],
      "text/plain": [
       "-(-Derivative(C(x, px), px)*(-Derivative(A(x, px), px)*Derivative(B(x, y, py), (x, 2)) - Derivative(A(x, px), px, x)*Derivative(B(x, y, py), x)) - Derivative(C(x, px), x)*Derivative(A(x, px), (px, 2))*Derivative(B(x, y, py), x))"
      ]
     },
     "execution_count": 38,
     "metadata": {},
     "output_type": "execute_result"
    }
   ],
   "source": [
    "test5 = PoissonBracket(A(x, px), B(x, y, py), coords=[x, y], mom=[px, py])\n",
    "test12 = PoissonBracket(test5, C(x, px), coords=[x, y], mom=[px, py])\n",
    "# test12.doit()==S.NegativeOne*(-Derivative(C(x, px), px)*(-Derivative(A(x, px), px)*Derivative(B(x, y, py), (x, 2)) - Derivative(A(x, px), px, x)*Derivative(B(x, y, py), x)) - Derivative(C(x, px), x)*Derivative(A(x, px), (px, 2))*Derivative(B(x, y, py), x))\n",
    "test12.doit()"
   ]
  },
  {
   "cell_type": "code",
   "execution_count": 71,
   "metadata": {},
   "outputs": [
    {
     "data": {
      "text/plain": [
       "{px, py, x, y}"
      ]
     },
     "execution_count": 71,
     "metadata": {},
     "output_type": "execute_result"
    }
   ],
   "source": [
    "test12.free_symbols"
   ]
  },
  {
   "cell_type": "code",
   "execution_count": 201,
   "metadata": {},
   "outputs": [
    {
     "name": "stdout",
     "output_type": "stream",
     "text": [
      "PoissonBracket(C(x, px), PoissonBracket(A(x, px), B(x, y, py)))\n",
      "<class '__main__.PoissonBracket'>\n",
      "(C(x, px), PoissonBracket(A(x, px), B(x, y, py)))\n",
      "-Derivative(C(x, px), px)*(-Derivative(A(x, px), px)*Derivative(B(x, y, py), (x, 2)) - Derivative(A(x, px), px, x)*Derivative(B(x, y, py), x)) - Derivative(C(x, px), x)*Derivative(A(x, px), (px, 2))*Derivative(B(x, y, py), x)\n",
      "order -1\n",
      "in Function\n",
      "-Derivative(C(x, px), px)*(-Derivative(A(x, px), px)*Derivative(B(x, y, py), (x, 2)) - Derivative(A(x, px), px, x)*Derivative(B(x, y, py), x)) - Derivative(C(x, px), x)*Derivative(A(x, px), (px, 2))*Derivative(B(x, y, py), x)\n"
     ]
    },
    {
     "data": {
      "text/plain": [
       "True"
      ]
     },
     "execution_count": 201,
     "metadata": {},
     "output_type": "execute_result"
    }
   ],
   "source": [
    "test12.doit()==S.NegativeOne*(-Derivative(C(x, px), px)*(-Derivative(A(x, px), px)*Derivative(B(x, y, py), (x, 2)) - Derivative(A(x, px), px, x)*Derivative(B(x, y, py), x)) - Derivative(C(x, px), x)*Derivative(A(x, px), (px, 2))*Derivative(B(x, y, py), x))\n"
   ]
  },
  {
   "cell_type": "code",
   "execution_count": 202,
   "metadata": {},
   "outputs": [
    {
     "name": "stdout",
     "output_type": "stream",
     "text": [
      "PoissonBracket(C(x, px), PoissonBracket(A(x, px), B(x, y, py)))\n",
      "<class '__main__.PoissonBracket'>\n",
      "(C(x, px), PoissonBracket(A(x, px), B(x, y, py)))\n",
      "-Derivative(C(x, px), px)*(-Derivative(A(x, px), px)*Derivative(B(x, y, py), (x, 2)) - Derivative(A(x, px), px, x)*Derivative(B(x, y, py), x)) - Derivative(C(x, px), x)*Derivative(A(x, px), (px, 2))*Derivative(B(x, y, py), x)\n",
      "order -1\n",
      "in Function\n",
      "-Derivative(C(x, px), px)*(-Derivative(A(x, px), px)*Derivative(B(x, y, py), (x, 2)) - Derivative(A(x, px), px, x)*Derivative(B(x, y, py), x)) - Derivative(C(x, px), x)*Derivative(A(x, px), (px, 2))*Derivative(B(x, y, py), x)\n"
     ]
    },
    {
     "data": {
      "text/plain": [
       "(-(-Derivative(C(x, px), px)*(-Derivative(A(x, px), px)*Derivative(B(x, y, py), (x, 2)) - Derivative(A(x, px), px, x)*Derivative(B(x, y, py), x)) - Derivative(C(x, px), x)*Derivative(A(x, px), (px, 2))*Derivative(B(x, y, py), x)),)"
      ]
     },
     "execution_count": 202,
     "metadata": {},
     "output_type": "execute_result"
    }
   ],
   "source": [
    "test12.doit(),"
   ]
  },
  {
   "cell_type": "code",
   "execution_count": 40,
   "metadata": {},
   "outputs": [
    {
     "name": "stdout",
     "output_type": "stream",
     "text": [
      "\u001b[32m.\u001b[0m\u001b[32m.\u001b[0m\u001b[32m.\u001b[0m\u001b[32m.\u001b[0m\u001b[32m.\u001b[0m\u001b[32m.\u001b[0m\u001b[32m.\u001b[0m\u001b[32m.\u001b[0m\u001b[32m.\u001b[0m\u001b[32m.\u001b[0m\u001b[32m.\u001b[0m\u001b[31mF\u001b[0m\u001b[31mF\u001b[0m\u001b[32m.\u001b[0m\u001b[31mF\u001b[0m\u001b[32m.\u001b[0m\u001b[31mF\u001b[0m\u001b[32m.\u001b[0m\u001b[32m.\u001b[0m\u001b[32m.\u001b[0m\u001b[31m                   [100%]\u001b[0m\n",
      "================== FAILURES ==================\n",
      "\u001b[31m\u001b[1m_ test_double_pb_Function_with_var_indep_Function_with_var_no_indep _\u001b[0m\n",
      "\n",
      "    \u001b[94mdef\u001b[39;49;00m \u001b[92mtest_double_pb_Function_with_var_indep_Function_with_var_no_indep\u001b[39;49;00m():\n",
      "        test5 = PoissonBracket(A(x, px), B(x, y, py), coords=[x, y], mom=[px, py])\n",
      "        test11 = PoissonBracket(test5, C(x, px))\n",
      "        \u001b[94massert\u001b[39;49;00m test11.free_symbols == {x, px, py, y}\n",
      ">       \u001b[94massert\u001b[39;49;00m test11.doit() == test11\n",
      "\u001b[1m\u001b[31mE       AssertionError\u001b[0m\n",
      "\n",
      "\u001b[1m\u001b[31m<ipython-input-40-3b334680848e>\u001b[0m:73: AssertionError\n",
      "------------ Captured stdout call ------------\n",
      "-1\n",
      "PoissonBracket(C(x, px), PoissonBracket(A(x, px), B(x, y, py)))\n",
      "<class '__main__.PoissonBracket'>\n",
      "(C(x, px), PoissonBracket(A(x, px), B(x, y, py)))\n",
      "-Derivative(C(x, px), px)*(-Derivative(A(x, px), px)*Derivative(B(x, y, py), (x, 2)) - Derivative(A(x, px), px, x)*Derivative(B(x, y, py), x)) - Derivative(C(x, px), x)*Derivative(A(x, px), (px, 2))*Derivative(B(x, y, py), x)\n",
      "order 1\n",
      "\u001b[31m\u001b[1m_ test_double_pb_Function_with_var_indep_Function_with_var_indep _\u001b[0m\n",
      "\n",
      "    \u001b[94mdef\u001b[39;49;00m \u001b[92mtest_double_pb_Function_with_var_indep_Function_with_var_indep\u001b[39;49;00m():\n",
      "        test5 = PoissonBracket(A(x, px), B(x, y, py), coords=[x, y], mom=[px, py])\n",
      "        test12 = PoissonBracket(test5, C(x, px), coords=[x, y], mom=[px, py])\n",
      "        res12 = (-Derivative(C(x, px), px)*\n",
      "                 (-Derivative(A(x, px), px)*Derivative(B(x, y, py), (x, \u001b[94m2\u001b[39;49;00m))\n",
      "                  - Derivative(A(x, px), px, x)*Derivative(B(x, y, py), x))\n",
      "                 - Derivative(C(x, px), x)*Derivative(A(x, px), (px, \u001b[94m2\u001b[39;49;00m))*Derivative(B(x, y, py), x)\n",
      "                )\n",
      "        \u001b[94massert\u001b[39;49;00m test12.free_symbols == {x, px, py, y}\n",
      ">       \u001b[94massert\u001b[39;49;00m test12.doit() == res12\n",
      "\u001b[1m\u001b[31mE       AssertionError\u001b[0m\n",
      "\n",
      "\u001b[1m\u001b[31m<ipython-input-40-3b334680848e>\u001b[0m:85: AssertionError\n",
      "------------ Captured stdout call ------------\n",
      "-1\n",
      "PoissonBracket(C(x, px), PoissonBracket(A(x, px), B(x, y, py)))\n",
      "<class '__main__.PoissonBracket'>\n",
      "(C(x, px), PoissonBracket(A(x, px), B(x, y, py)))\n",
      "-Derivative(C(x, px), px)*(-Derivative(A(x, px), px)*Derivative(B(x, y, py), (x, 2)) - Derivative(A(x, px), px, x)*Derivative(B(x, y, py), x)) - Derivative(C(x, px), x)*Derivative(A(x, px), (px, 2))*Derivative(B(x, y, py), x)\n",
      "order 1\n",
      "\u001b[31m\u001b[1m_ test_single_pb_Function_with_var_sum_Function_with_var_indep _\u001b[0m\n",
      "\n",
      "    \u001b[94mdef\u001b[39;49;00m \u001b[92mtest_single_pb_Function_with_var_sum_Function_with_var_indep\u001b[39;49;00m():\n",
      "        test14 = PoissonBracket(A(x, px), B(x, y, py) + C(x, px), coords=[x, y], mom=[px, py])\n",
      "        res14 = -Derivative(A(x, px), px) * (\n",
      "            Derivative(B(x, y, py), x) + Derivative(C(x, px), x)\n",
      "        ) + Derivative(A(x, px), x) * Derivative(C(x, px), px)\n",
      "        \u001b[94massert\u001b[39;49;00m test14.free_symbols == {x, px, py, y}\n",
      ">       \u001b[94massert\u001b[39;49;00m test14.doit() == res14\n",
      "\u001b[1m\u001b[31mE       AssertionError\u001b[0m\n",
      "\n",
      "\u001b[1m\u001b[31m<ipython-input-40-3b334680848e>\u001b[0m:103: AssertionError\n",
      "------------ Captured stdout call ------------\n",
      "-1\n",
      "PoissonBracket(B(x, y, py) + C(x, px), A(x, px))\n",
      "<class '__main__.PoissonBracket'>\n",
      "(B(x, y, py) + C(x, px), A(x, px))\n",
      "(Derivative(B(x, y, py), x) + Derivative(C(x, px), x))*Derivative(A(x, px), px) - Derivative(C(x, px), px)*Derivative(A(x, px), x)\n",
      "order 1\n",
      "\u001b[31m\u001b[1m_ test_single_pb_Function_with_var_product_Function_with_var_indep _\u001b[0m\n",
      "\n",
      "    \u001b[94mdef\u001b[39;49;00m \u001b[92mtest_single_pb_Function_with_var_product_Function_with_var_indep\u001b[39;49;00m():\n",
      "        test16 = PoissonBracket(A(x, px), B(x, y, py) * C(x, px), coords=[x, y], mom=[px, py])\n",
      "        res16 = -Derivative(A(x, px), px) * (\n",
      "            B(x, y, py) * Derivative(C(x, px), x) + Derivative(B(x, y, py), x) * C(x, px)\n",
      "        ) + Derivative(A(x, px), x) * B(x, y, py) * Derivative(C(x, px), px)\n",
      "        \u001b[94massert\u001b[39;49;00m test16.free_symbols == {x, px, py, y}\n",
      ">       \u001b[94massert\u001b[39;49;00m test16.doit() == res16\n",
      "\u001b[1m\u001b[31mE       AssertionError\u001b[0m\n",
      "\n",
      "\u001b[1m\u001b[31m<ipython-input-40-3b334680848e>\u001b[0m:121: AssertionError\n",
      "------------ Captured stdout call ------------\n",
      "-1\n",
      "PoissonBracket(B(x, y, py)*C(x, px), A(x, px))\n",
      "<class '__main__.PoissonBracket'>\n",
      "(B(x, y, py)*C(x, px), A(x, px))\n",
      "(B(x, y, py)*Derivative(C(x, px), x) + Derivative(B(x, y, py), x)*C(x, px))*Derivative(A(x, px), px) - B(x, y, py)*Derivative(C(x, px), px)*Derivative(A(x, px), x)\n",
      "order 1\n",
      "========== short test summary info ===========\n",
      "FAILED tmp3qqqka32.py::test_double_pb_Function_with_var_indep_Function_with_var_no_indep\n",
      "FAILED tmp3qqqka32.py::test_double_pb_Function_with_var_indep_Function_with_var_indep\n",
      "FAILED tmp3qqqka32.py::test_single_pb_Function_with_var_sum_Function_with_var_indep\n",
      "FAILED tmp3qqqka32.py::test_single_pb_Function_with_var_product_Function_with_var_indep\n",
      "\u001b[31m\u001b[31m\u001b[1m4 failed\u001b[0m, \u001b[32m16 passed\u001b[0m\u001b[31m in 0.30s\u001b[0m\u001b[0m\n"
     ]
    }
   ],
   "source": [
    "\n",
    "\n",
    "\n",
    "def test_double_pb_Function_with_var_indep_Function_with_var_indep():\n",
    "    test5 = PoissonBracket(A(x, px), B(x, y, py), coords=[x, y], mom=[px, py])\n",
    "    test12 = PoissonBracket(test5, C(x, px), coords=[x, y], mom=[px, py])\n",
    "    res12 = (-Derivative(C(x, px), px)*\n",
    "             (-Derivative(A(x, px), px)*Derivative(B(x, y, py), (x, 2))\n",
    "              - Derivative(A(x, px), px, x)*Derivative(B(x, y, py), x)) \n",
    "             - Derivative(C(x, px), x)*Derivative(A(x, px), (px, 2))*Derivative(B(x, y, py), x)\n",
    "            )\n",
    "    assert test12.free_symbols == {x, px, py, y}\n",
    "    assert test12.doit() == res12\n",
    "\n",
    "\n",
    "def test_single_pb_sum_Function_with_var_Function_with_var_indep():\n",
    "    test13 = PoissonBracket(A(x, px) + B(x, y, py), C(x, px), coords=[x, y], mom=[px, py])\n",
    "    res13 = (Derivative(A(x, px), x) + Derivative(B(x, y, py), x)) * Derivative(\n",
    "        C(x, px), px\n",
    "    ) - Derivative(A(x, px), px) * Derivative(C(x, px), x)\n",
    "    assert test13.free_symbols == {x, px, py, y}\n",
    "    assert test13.doit() == res13\n",
    "\n",
    "\n",
    "def test_single_pb_Function_with_var_sum_Function_with_var_indep():\n",
    "    test14 = PoissonBracket(A(x, px), B(x, y, py) + C(x, px), coords=[x, y], mom=[px, py])\n",
    "    res14 = -Derivative(A(x, px), px) * (\n",
    "        Derivative(B(x, y, py), x) + Derivative(C(x, px), x)\n",
    "    ) + Derivative(A(x, px), x) * Derivative(C(x, px), px)\n",
    "    assert test14.free_symbols == {x, px, py, y}\n",
    "    assert test14.doit() == res14\n",
    "\n",
    "\n",
    "def test_single_pb_product_Function_with_var_Function_with_var_indep():\n",
    "    test15 = PoissonBracket(A(x, px) * B(x, y, py), C(x, px), coords=[x, y], mom=[px, py])\n",
    "    res15 = (\n",
    "        A(x, px) * Derivative(B(x, y, py), x) + Derivative(A(x, px), x) * B(x, y, py)\n",
    "    ) * Derivative(C(x, px), px) - Derivative(A(x, px), px) * B(x, y, py) * Derivative(C(x, px), x)\n",
    "    assert test15.free_symbols == {x, px, py, y}\n",
    "    assert test15.doit() == res15\n",
    "\n",
    "\n",
    "def test_single_pb_Function_with_var_product_Function_with_var_indep():\n",
    "    test16 = PoissonBracket(A(x, px), B(x, y, py) * C(x, px), coords=[x, y], mom=[px, py])\n",
    "    res16 = -Derivative(A(x, px), px) * (\n",
    "        B(x, y, py) * Derivative(C(x, px), x) + Derivative(B(x, y, py), x) * C(x, px)\n",
    "    ) + Derivative(A(x, px), x) * B(x, y, py) * Derivative(C(x, px), px)\n",
    "    assert test16.free_symbols == {x, px, py, y}\n",
    "    assert test16.doit() == res16\n",
    "\n",
    "\n",
    "def test_single_pb_Pow_Function_with_var_Function_with_var_indep():\n",
    "    test17 = PoissonBracket(A(x, px) ** 3, B(x, y, py), coords=[x, y], mom=[px, py])\n",
    "    res17 = (\n",
    "        -3\n",
    "        * A(x, px) ** 3\n",
    "        * Derivative(A(x, px), px)\n",
    "        * A(x, px) ** (-1)\n",
    "        * Derivative(B(x, y, py), x)\n",
    "    )\n",
    "    assert test17.free_symbols == {x, px, py, y}\n",
    "    assert test17.doit() == res17\n",
    "\n",
    "\n",
    "def test_triple_pb_3Function_with_var_indep():\n",
    "    test5 = PoissonBracket(A(x, px), B(x, y, py), coords=[x, y], mom=[px, py])\n",
    "    test12 = PoissonBracket(test5, C(x, px), coords=[x, y], mom=[px, py])\n",
    "    test18 = PoissonBracket(test12, D(x, y), coords=[x, y], mom=[px, py])\n",
    "    res18 = -(\n",
    "        (\n",
    "            -Derivative(A(x, px), px) * Derivative(B(x, y, py), py, (x, 2))\n",
    "            - Derivative(A(x, px), px, x) * Derivative(B(x, y, py), py, x)\n",
    "        )\n",
    "        * Derivative(C(x, px), px)\n",
    "        + Derivative(A(x, px), (px, 2)) * Derivative(B(x, y, py), py, x) * Derivative(C(x, px), x)\n",
    "    ) * Derivative(D(x, y), y) - (\n",
    "        (\n",
    "            -Derivative(A(x, px), px) * Derivative(B(x, y, py), (x, 2))\n",
    "            - Derivative(A(x, px), px, x) * Derivative(B(x, y, py), x)\n",
    "        )\n",
    "        * Derivative(C(x, px), (px, 2))\n",
    "        + (\n",
    "            -Derivative(A(x, px), (px, 2)) * Derivative(B(x, y, py), (x, 2))\n",
    "            - Derivative(A(x, px), (px, 2), x) * Derivative(B(x, y, py), x)\n",
    "        )\n",
    "        * Derivative(C(x, px), px)\n",
    "        + Derivative(A(x, px), (px, 2)) * Derivative(B(x, y, py), x) * Derivative(C(x, px), px, x)\n",
    "        + Derivative(A(x, px), (px, 3)) * Derivative(B(x, y, py), x) * Derivative(C(x, px), x)\n",
    "    ) * Derivative(\n",
    "        D(x, y), x\n",
    "    )\n",
    "    assert test18.free_symbols == {x, px, py, y}\n",
    "\n",
    "\n",
    "def test_doube_pb_rsum_deep():\n",
    "    test13 = PoissonBracket(A(x, px) + B(x, y, py), C(x, px), coords=[x, y], mom=[px, py])\n",
    "    test19 = PoissonBracket(test13, D(x, y), coords=[x, y], mom=[px, py])\n",
    "    res19 = -(\n",
    "        (Derivative(A(x, px), x) + Derivative(B(x, y, py), x)) * Derivative(C(x, px), (px, 2))\n",
    "        - Derivative(A(x, px), px) * Derivative(C(x, px), px, x)\n",
    "        - Derivative(A(x, px), (px, 2)) * Derivative(C(x, px), x)\n",
    "        + Derivative(A(x, px), px, x) * Derivative(C(x, px), px)\n",
    "    ) * Derivative(D(x, y), x) - Derivative(B(x, y, py), py, x) * Derivative(\n",
    "        C(x, px), px\n",
    "    ) * Derivative(\n",
    "        D(x, y), y\n",
    "    )\n",
    "    assert test19.free_symbols == {x, px, py, y}"
   ]
  },
  {
   "cell_type": "code",
   "execution_count": 52,
   "metadata": {},
   "outputs": [
    {
     "ename": "TypeError",
     "evalue": "'C' object is not callable",
     "output_type": "error",
     "traceback": [
      "\u001b[0;31m----------------------------------------------\u001b[0m",
      "\u001b[0;31mTypeError\u001b[0m    Traceback (most recent call last)",
      "\u001b[0;32m<ipython-input-52-10f1698f2dc1>\u001b[0m in \u001b[0;36m<module>\u001b[0;34m\u001b[0m\n\u001b[0;32m----> 1\u001b[0;31m \u001b[0mtest5\u001b[0m \u001b[0;34m=\u001b[0m \u001b[0mPoissonBracket\u001b[0m\u001b[0;34m(\u001b[0m\u001b[0mA\u001b[0m\u001b[0;34m(\u001b[0m\u001b[0mx\u001b[0m\u001b[0;34m,\u001b[0m \u001b[0mpx\u001b[0m\u001b[0;34m)\u001b[0m\u001b[0;34m,\u001b[0m \u001b[0mB\u001b[0m\u001b[0;34m(\u001b[0m\u001b[0mx\u001b[0m\u001b[0;34m,\u001b[0m\u001b[0mpx\u001b[0m\u001b[0;34m)\u001b[0m\u001b[0;34m,\u001b[0m \u001b[0mcoords\u001b[0m\u001b[0;34m=\u001b[0m\u001b[0;34m[\u001b[0m\u001b[0mx\u001b[0m\u001b[0;34m,\u001b[0m \u001b[0my\u001b[0m\u001b[0;34m]\u001b[0m\u001b[0;34m,\u001b[0m \u001b[0mmom\u001b[0m\u001b[0;34m=\u001b[0m\u001b[0;34m[\u001b[0m\u001b[0mpx\u001b[0m\u001b[0;34m,\u001b[0m \u001b[0mpy\u001b[0m\u001b[0;34m]\u001b[0m\u001b[0;34m)\u001b[0m\u001b[0;34m\u001b[0m\u001b[0;34m\u001b[0m\u001b[0m\n\u001b[0m\u001b[1;32m      2\u001b[0m \u001b[0mtest12\u001b[0m \u001b[0;34m=\u001b[0m \u001b[0mPoissonBracket\u001b[0m\u001b[0;34m(\u001b[0m\u001b[0mtest5\u001b[0m\u001b[0;34m,\u001b[0m \u001b[0mC\u001b[0m\u001b[0;34m(\u001b[0m\u001b[0mx\u001b[0m\u001b[0;34m,\u001b[0m \u001b[0mpx\u001b[0m\u001b[0;34m)\u001b[0m\u001b[0;34m,\u001b[0m \u001b[0mcoords\u001b[0m\u001b[0;34m=\u001b[0m\u001b[0;34m[\u001b[0m\u001b[0mx\u001b[0m\u001b[0;34m,\u001b[0m \u001b[0my\u001b[0m\u001b[0;34m]\u001b[0m\u001b[0;34m,\u001b[0m \u001b[0mmom\u001b[0m\u001b[0;34m=\u001b[0m\u001b[0;34m[\u001b[0m\u001b[0mpx\u001b[0m\u001b[0;34m,\u001b[0m \u001b[0mpy\u001b[0m\u001b[0;34m]\u001b[0m\u001b[0;34m)\u001b[0m\u001b[0;34m\u001b[0m\u001b[0;34m\u001b[0m\u001b[0m\n\u001b[1;32m      3\u001b[0m \u001b[0mtest12\u001b[0m\u001b[0;34m.\u001b[0m\u001b[0mdoit\u001b[0m\u001b[0;34m(\u001b[0m\u001b[0;34m)\u001b[0m\u001b[0;34m\u001b[0m\u001b[0;34m\u001b[0m\u001b[0m\n",
      "\u001b[0;31mTypeError\u001b[0m: 'C' object is not callable"
     ]
    }
   ],
   "source": [
    "test5 = PoissonBracket(A(x, px), B(x,px), coords=[x, y], mom=[px, py])\n",
    "test12 = PoissonBracket(test5, C(x, px), coords=[x, y], mom=[px, py])\n",
    "test12.doit()"
   ]
  },
  {
   "cell_type": "code",
   "execution_count": 51,
   "metadata": {},
   "outputs": [
    {
     "ename": "TypeError",
     "evalue": "'C' object is not callable",
     "output_type": "error",
     "traceback": [
      "\u001b[0;31m----------------------------------------------\u001b[0m",
      "\u001b[0;31mTypeError\u001b[0m    Traceback (most recent call last)",
      "\u001b[0;32m<ipython-input-51-5c076a43c69c>\u001b[0m in \u001b[0;36m<module>\u001b[0;34m\u001b[0m\n\u001b[0;32m----> 1\u001b[0;31m \u001b[0mtest5\u001b[0m \u001b[0;34m=\u001b[0m \u001b[0mPoissonBracket\u001b[0m\u001b[0;34m(\u001b[0m\u001b[0mA\u001b[0m\u001b[0;34m(\u001b[0m\u001b[0mx\u001b[0m\u001b[0;34m,\u001b[0m \u001b[0mpx\u001b[0m\u001b[0;34m)\u001b[0m\u001b[0;34m,\u001b[0m \u001b[0mB\u001b[0m\u001b[0;34m(\u001b[0m\u001b[0mx\u001b[0m\u001b[0;34m,\u001b[0m\u001b[0mpx\u001b[0m\u001b[0;34m)\u001b[0m\u001b[0;34m,\u001b[0m \u001b[0mcoords\u001b[0m\u001b[0;34m=\u001b[0m\u001b[0;34m[\u001b[0m\u001b[0mx\u001b[0m\u001b[0;34m,\u001b[0m \u001b[0my\u001b[0m\u001b[0;34m]\u001b[0m\u001b[0;34m,\u001b[0m \u001b[0mmom\u001b[0m\u001b[0;34m=\u001b[0m\u001b[0;34m[\u001b[0m\u001b[0mpx\u001b[0m\u001b[0;34m,\u001b[0m \u001b[0mpy\u001b[0m\u001b[0;34m]\u001b[0m\u001b[0;34m)\u001b[0m\u001b[0;34m\u001b[0m\u001b[0;34m\u001b[0m\u001b[0m\n\u001b[0m\u001b[1;32m      2\u001b[0m \u001b[0mtest12\u001b[0m \u001b[0;34m=\u001b[0m \u001b[0mPoissonBracket\u001b[0m\u001b[0;34m(\u001b[0m\u001b[0mtest5\u001b[0m\u001b[0;34m,\u001b[0m\u001b[0mC\u001b[0m\u001b[0;34m(\u001b[0m\u001b[0mx\u001b[0m\u001b[0;34m,\u001b[0m\u001b[0mpx\u001b[0m\u001b[0;34m)\u001b[0m\u001b[0;34m,\u001b[0m\u001b[0mcoords\u001b[0m\u001b[0;34m=\u001b[0m\u001b[0;34m[\u001b[0m\u001b[0mx\u001b[0m\u001b[0;34m]\u001b[0m\u001b[0;34m,\u001b[0m\u001b[0mmom\u001b[0m\u001b[0;34m=\u001b[0m\u001b[0;34m[\u001b[0m\u001b[0mpx\u001b[0m\u001b[0;34m]\u001b[0m\u001b[0;34m)\u001b[0m\u001b[0;34m\u001b[0m\u001b[0;34m\u001b[0m\u001b[0m\n",
      "\u001b[0;31mTypeError\u001b[0m: 'C' object is not callable"
     ]
    }
   ],
   "source": [
    "test5 = PoissonBracket(A(x, px), B(x,px), coords=[x, y], mom=[px, py])\n",
    "test12 = PoissonBracket(test5,C(x,px),coords=[x],mom=[px])"
   ]
  },
  {
   "cell_type": "code",
   "execution_count": 50,
   "metadata": {},
   "outputs": [
    {
     "name": "stdout",
     "output_type": "stream",
     "text": [
      "-PoissonBracket(C(x, px), PoissonBracket(A(x, px), B(x, y, py)))\n",
      "<class 'sympy.core.mul.Mul'>\n",
      "(-1, PoissonBracket(C(x, px), PoissonBracket(A(x, px), B(x, y, py))))\n",
      "-1\n",
      "-Derivative(C(x, px), px)*(-Derivative(A(x, px), px)*Derivative(B(x, y, py), (x, 2)) - Derivative(A(x, px), px, x)*Derivative(B(x, y, py), x)) - Derivative(C(x, px), x)*Derivative(A(x, px), (px, 2))*Derivative(B(x, y, py), x)\n",
      "order -1\n",
      "in Function\n",
      "<class '__main__.PoissonBracket'>\n",
      "expr: -Derivative(C(x, px), px)*(-Derivative(A(x, px), px)*Derivative(B(x, y, py), (x, 2)) - Derivative(A(x, px), px, x)*Derivative(B(x, y, py), x)) - Derivative(C(x, px), x)*Derivative(A(x, px), (px, 2))*Derivative(B(x, y, py), x)\n",
      "[x, y]\n"
     ]
    },
    {
     "data": {
      "text/latex": [
       "$\\displaystyle - \\frac{\\partial}{\\partial px} C{\\left(x,px \\right)} \\left(- \\frac{\\partial}{\\partial px} A{\\left(x,px \\right)} \\frac{\\partial^{2}}{\\partial x^{2}} B{\\left(x,y,py \\right)} - \\frac{\\partial^{2}}{\\partial x\\partial px} A{\\left(x,px \\right)} \\frac{\\partial}{\\partial x} B{\\left(x,y,py \\right)}\\right) - \\frac{\\partial}{\\partial x} C{\\left(x,px \\right)} \\frac{\\partial^{2}}{\\partial px^{2}} A{\\left(x,px \\right)} \\frac{\\partial}{\\partial x} B{\\left(x,y,py \\right)}$"
      ],
      "text/plain": [
       "-Derivative(C(x, px), px)*(-Derivative(A(x, px), px)*Derivative(B(x, y, py), (x, 2)) - Derivative(A(x, px), px, x)*Derivative(B(x, y, py), x)) - Derivative(C(x, px), x)*Derivative(A(x, px), (px, 2))*Derivative(B(x, y, py), x)"
      ]
     },
     "execution_count": 50,
     "metadata": {},
     "output_type": "execute_result"
    }
   ],
   "source": [
    "def test():\n",
    "    self = test12.args[1]\n",
    "    A = self.args[0]\n",
    "    B = self.args[1]\n",
    "    order = self.order\n",
    "    debug=True\n",
    "    if debug:\n",
    "        print(test12)\n",
    "        print(test12.__class__)\n",
    "        print(test12.args)\n",
    "        print(order)\n",
    "        try:\n",
    "            print(test12.args[1].expr)\n",
    "        except:\n",
    "            print(\"expr failed\")\n",
    "            pass\n",
    "\n",
    "    if self.order == 1:\n",
    "        if debug:\n",
    "            print(\"order 1\")\n",
    "        if isinstance(A, Operator) and isinstance(B, Operator):\n",
    "            try:\n",
    "                comm = A._eval_commutator(B, **hints)\n",
    "            except NotImplementedError:\n",
    "                try:\n",
    "                    comm = -1*B._eval_commutator(A, **hints)\n",
    "                except NotImplementedError:\n",
    "                    comm = None\n",
    "            if comm is not None:\n",
    "                return comm.doit(**hints)\n",
    "\n",
    "        if isinstance(A, UndefinedFunction) or isinstance(B, UndefinedFunction):\n",
    "            if debug:\n",
    "                print(\"One is undefined function\")\n",
    "            return self\n",
    "\n",
    "        elif isinstance(A,Function) or isinstance(B,Function):\n",
    "            if debug:\n",
    "                print(\"in Function\")\n",
    "            h = self.expr \n",
    "            print(self.expr)\n",
    "            return h\n",
    "\n",
    "        return self.expr\n",
    "        \n",
    "    else:\n",
    "        if debug:\n",
    "            print(\"order -1\")\n",
    "\n",
    "        if isinstance(A, UndefinedFunction) or isinstance(B, UndefinedFunction):\n",
    "            if debug:\n",
    "                print(\"One is undefined function\")\n",
    "                print(self)\n",
    "            h = self\n",
    "            return h\n",
    "\n",
    "        elif isinstance(A,Function) or isinstance(B,Function):\n",
    "            if debug:\n",
    "                print(\"in Function\")\n",
    "                print(self.__class__)\n",
    "            h = self.expr \n",
    "            print(\"expr:\",self.expr)\n",
    "            if isinstance(A, PoissonBracket) : print(A.indep_coords);\n",
    "            if isinstance(B, PoissonBracket) : print(B.indep_coords);\n",
    "\n",
    "            return h\n",
    "\n",
    "        return S.NegativeOne * PoissonBracket(A,B,coords=self.indep_coords,mom=self.indep_mom).expr\n",
    "\n",
    "test()"
   ]
  },
  {
   "cell_type": "code",
   "execution_count": 88,
   "metadata": {},
   "outputs": [
    {
     "data": {
      "text/plain": [
       "{px, x}"
      ]
     },
     "execution_count": 88,
     "metadata": {},
     "output_type": "execute_result"
    }
   ],
   "source": [
    "test5.free_symbols"
   ]
  },
  {
   "cell_type": "code",
   "execution_count": 89,
   "metadata": {},
   "outputs": [
    {
     "data": {
      "text/plain": [
       "{px, x}"
      ]
     },
     "execution_count": 89,
     "metadata": {},
     "output_type": "execute_result"
    }
   ],
   "source": [
    "test12.args[1].free_symbols"
   ]
  },
  {
   "cell_type": "code",
   "execution_count": 25,
   "metadata": {},
   "outputs": [
    {
     "name": "stdout",
     "output_type": "stream",
     "text": [
      "Interchanging order of arguments and put minus sign in front of bracket.\n",
      "Eval returned a value\n",
      "PoissonBracket(C(x, px), PoissonBracket(A(x, px), B(x)))\n",
      "<class '__main__.PoissonBracket'>\n",
      "(C(x, px), PoissonBracket(A(x, px), B(x)))\n",
      "-Derivative(C(x, px), px)*(-Derivative(A(x, px), px)*Derivative(B(x), (x, 2)) - Derivative(A(x, px), px, x)*Derivative(B(x), x)) - Derivative(C(x, px), x)*Derivative(A(x, px), (px, 2))*Derivative(B(x), x)\n",
      "order -1\n",
      "in Function\n",
      "-Derivative(C(x, px), px)*(-Derivative(A(x, px), px)*Derivative(B(x), (x, 2)) - Derivative(A(x, px), px, x)*Derivative(B(x), x)) - Derivative(C(x, px), x)*Derivative(A(x, px), (px, 2))*Derivative(B(x), x)\n",
      "[x, y]\n"
     ]
    },
    {
     "data": {
      "text/latex": [
       "$\\displaystyle - (- \\frac{\\partial}{\\partial px} C{\\left(x,px \\right)} \\left(- \\frac{\\partial}{\\partial px} A{\\left(x,px \\right)} \\frac{d^{2}}{d x^{2}} B{\\left(x \\right)} - \\frac{\\partial^{2}}{\\partial x\\partial px} A{\\left(x,px \\right)} \\frac{d}{d x} B{\\left(x \\right)}\\right) - \\frac{\\partial}{\\partial x} C{\\left(x,px \\right)} \\frac{\\partial^{2}}{\\partial px^{2}} A{\\left(x,px \\right)} \\frac{d}{d x} B{\\left(x \\right)})$"
      ],
      "text/plain": [
       "-(-Derivative(C(x, px), px)*(-Derivative(A(x, px), px)*Derivative(B(x), (x, 2)) - Derivative(A(x, px), px, x)*Derivative(B(x), x)) - Derivative(C(x, px), x)*Derivative(A(x, px), (px, 2))*Derivative(B(x), x))"
      ]
     },
     "execution_count": 25,
     "metadata": {},
     "output_type": "execute_result"
    }
   ],
   "source": [
    "test12 = PoissonBracket(test5,C(x,px),coords=[x],mom=[px])\n",
    "test12.doit()"
   ]
  },
  {
   "cell_type": "code",
   "execution_count": 21,
   "metadata": {},
   "outputs": [
    {
     "name": "stdout",
     "output_type": "stream",
     "text": [
      "PoissonBracket(C(x, px), PoissonBracket(A(x, px), B(x, y, py)))\n",
      "<class '__main__.PoissonBracket'>\n",
      "(C(x, px), PoissonBracket(A(x, px), B(x, y, py)))\n",
      "-Derivative(C(x, px), px)*(-Derivative(A(x, px), px)*Derivative(B(x, y, py), (x, 2)) - Derivative(A(x, px), px, x)*Derivative(B(x, y, py), x)) - Derivative(C(x, px), x)*Derivative(A(x, px), (px, 2))*Derivative(B(x, y, py), x)\n",
      "order -1\n",
      "in Function\n",
      "-Derivative(C(x, px), px)*(-Derivative(A(x, px), px)*Derivative(B(x, y, py), (x, 2)) - Derivative(A(x, px), px, x)*Derivative(B(x, y, py), x)) - Derivative(C(x, px), x)*Derivative(A(x, px), (px, 2))*Derivative(B(x, y, py), x)\n",
      "[x, y]\n"
     ]
    },
    {
     "data": {
      "text/latex": [
       "$\\displaystyle - (- \\frac{\\partial}{\\partial px} C{\\left(x,px \\right)} \\left(- \\frac{\\partial}{\\partial px} A{\\left(x,px \\right)} \\frac{\\partial^{2}}{\\partial x^{2}} B{\\left(x,y,py \\right)} - \\frac{\\partial^{2}}{\\partial x\\partial px} A{\\left(x,px \\right)} \\frac{\\partial}{\\partial x} B{\\left(x,y,py \\right)}\\right) - \\frac{\\partial}{\\partial x} C{\\left(x,px \\right)} \\frac{\\partial^{2}}{\\partial px^{2}} A{\\left(x,px \\right)} \\frac{\\partial}{\\partial x} B{\\left(x,y,py \\right)})$"
      ],
      "text/plain": [
       "-(-Derivative(C(x, px), px)*(-Derivative(A(x, px), px)*Derivative(B(x, y, py), (x, 2)) - Derivative(A(x, px), px, x)*Derivative(B(x, y, py), x)) - Derivative(C(x, px), x)*Derivative(A(x, px), (px, 2))*Derivative(B(x, y, py), x))"
      ]
     },
     "execution_count": 21,
     "metadata": {},
     "output_type": "execute_result"
    }
   ],
   "source": [
    "test12.doit()"
   ]
  },
  {
   "cell_type": "code",
   "execution_count": 38,
   "metadata": {},
   "outputs": [],
   "source": [
    "res12 = (-Derivative(C(x, px), px)*\n",
    "             (-Derivative(A(x, px), px)*Derivative(B(x, y, py), (x, 2))\n",
    "              - Derivative(A(x, px), px, x)*Derivative(B(x, y, py), x)) \n",
    "             - Derivative(C(x, px), x)*Derivative(A(x, px), (px, 2))*Derivative(B(x, y, py), x)\n",
    "            )"
   ]
  },
  {
   "cell_type": "code",
   "execution_count": 39,
   "metadata": {},
   "outputs": [
    {
     "name": "stdout",
     "output_type": "stream",
     "text": [
      "PoissonBracket(C(x, px), PoissonBracket(A(x, px), B(x, y, py)))\n",
      "<class '__main__.PoissonBracket'>\n",
      "(C(x, px), PoissonBracket(A(x, px), B(x, y, py)))\n",
      "-Derivative(C(x, px), px)*(-Derivative(A(x, px), px)*Derivative(B(x, y, py), (x, 2)) - Derivative(A(x, px), px, x)*Derivative(B(x, y, py), x)) - Derivative(C(x, px), x)*Derivative(A(x, px), (px, 2))*Derivative(B(x, y, py), x)\n",
      "order 1\n"
     ]
    },
    {
     "data": {
      "text/latex": [
       "$\\displaystyle 0$"
      ],
      "text/plain": [
       "0"
      ]
     },
     "execution_count": 39,
     "metadata": {},
     "output_type": "execute_result"
    }
   ],
   "source": [
    "simplify(test12.doit() -res12)"
   ]
  },
  {
   "cell_type": "code",
   "execution_count": 9,
   "metadata": {},
   "outputs": [
    {
     "data": {
      "text/latex": [
       "$\\displaystyle 0$"
      ],
      "text/plain": [
       "0"
      ]
     },
     "execution_count": 9,
     "metadata": {},
     "output_type": "execute_result"
    }
   ],
   "source": [
    "test12+ PoissonBracket(C(x,px),test5,coords=[x,y],mom=[px,py])"
   ]
  },
  {
   "cell_type": "code",
   "execution_count": 464,
   "metadata": {},
   "outputs": [],
   "source": [
    "1\n",
    "\n",
    "x, px, y, py, z, delta, eps, h , k0, k1, k2, sigma, betag ,f = symbols('x p_x y p_y z delta epsilon h k_0 k_1 k_2 sigma beta_gamma f', real=True)\n",
    "\n",
    "2\n",
    "\n",
    "L, beta0, gamma0 = symbols(\" L beta_0 gamma_0\", real=True, positive=True)"
   ]
  },
  {
   "cell_type": "code",
   "execution_count": 465,
   "metadata": {},
   "outputs": [],
   "source": [
    "A = Function(\"A\", commutative=False)\n",
    "B = Function(\"B\", commutative=False)\n",
    "C = Function(\"C\", commutative=False)\n",
    "D = Function(\"D\", commutative=False)"
   ]
  },
  {
   "cell_type": "code",
   "execution_count": 466,
   "metadata": {},
   "outputs": [
    {
     "name": "stdout",
     "output_type": "stream",
     "text": [
      "['A', 'B']\n"
     ]
    },
    {
     "data": {
      "text/latex": [
       "$\\displaystyle \\lbrace A,B\\rbrace$"
      ],
      "text/plain": [
       "PoissonBracket(A, B)"
      ]
     },
     "execution_count": 466,
     "metadata": {},
     "output_type": "execute_result"
    }
   ],
   "source": [
    "test1 =PoissonBracket(A,B)\n",
    "test1"
   ]
  },
  {
   "cell_type": "code",
   "execution_count": 467,
   "metadata": {},
   "outputs": [
    {
     "data": {
      "text/plain": [
       "True"
      ]
     },
     "execution_count": 467,
     "metadata": {},
     "output_type": "execute_result"
    }
   ],
   "source": [
    "test1 == PoissonBracket(A,B)"
   ]
  },
  {
   "cell_type": "code",
   "execution_count": 468,
   "metadata": {},
   "outputs": [
    {
     "name": "stdout",
     "output_type": "stream",
     "text": [
      "PoissonBracket(A, B)\n",
      "<class '__main__.PoissonBracket'>\n",
      "(A, B)\n",
      "PoissonBracket(A, B)\n",
      "order 1\n",
      "One is undefined function\n",
      "['A', 'B']\n"
     ]
    },
    {
     "data": {
      "text/latex": [
       "$\\displaystyle \\lbrace A,B\\rbrace$"
      ],
      "text/plain": [
       "PoissonBracket(A, B)"
      ]
     },
     "execution_count": 468,
     "metadata": {},
     "output_type": "execute_result"
    }
   ],
   "source": [
    "test1.doit()"
   ]
  },
  {
   "cell_type": "code",
   "execution_count": 469,
   "metadata": {},
   "outputs": [],
   "source": [
    "test1.A= A(x)"
   ]
  },
  {
   "cell_type": "code",
   "execution_count": 470,
   "metadata": {},
   "outputs": [
    {
     "data": {
      "text/plain": [
       "{x}"
      ]
     },
     "execution_count": 470,
     "metadata": {},
     "output_type": "execute_result"
    }
   ],
   "source": [
    "test1.free_symbols"
   ]
  },
  {
   "cell_type": "code",
   "execution_count": 471,
   "metadata": {},
   "outputs": [
    {
     "name": "stdout",
     "output_type": "stream",
     "text": [
      "PoissonBracket(x**2, p_x + x)\n",
      "<class '__main__.PoissonBracket'>\n",
      "(x**2, p_x + x)\n",
      "PoissonBracket(x**2, p_x + x)\n",
      "order 1\n",
      "['x^{2}', 'p_{x} + x']\n"
     ]
    },
    {
     "data": {
      "text/latex": [
       "$\\displaystyle \\lbrace x^{2},p_{x} + x\\rbrace$"
      ],
      "text/plain": [
       "PoissonBracket(x**2, p_x + x)"
      ]
     },
     "execution_count": 471,
     "metadata": {},
     "output_type": "execute_result"
    }
   ],
   "source": [
    "test2 = PoissonBracket(x**2,x+px)\n",
    "test2.doit()"
   ]
  },
  {
   "cell_type": "code",
   "execution_count": 472,
   "metadata": {},
   "outputs": [
    {
     "data": {
      "text/plain": [
       "(p_x, 0)"
      ]
     },
     "execution_count": 472,
     "metadata": {},
     "output_type": "execute_result"
    }
   ],
   "source": [
    "[i for i in test2.free_symbols][0],0"
   ]
  },
  {
   "cell_type": "code",
   "execution_count": 473,
   "metadata": {},
   "outputs": [
    {
     "name": "stdout",
     "output_type": "stream",
     "text": [
      "['A', 'B']\n"
     ]
    },
    {
     "data": {
      "text/latex": [
       "$\\displaystyle \\lbrace A,B\\rbrace$"
      ],
      "text/plain": [
       "PoissonBracket(A(x, p_x), B(y, p_y))"
      ]
     },
     "execution_count": 473,
     "metadata": {},
     "output_type": "execute_result"
    }
   ],
   "source": [
    "test3 = PoissonBracket(A(x,px),B(y,py))\n",
    "test3"
   ]
  },
  {
   "cell_type": "code",
   "execution_count": 474,
   "metadata": {},
   "outputs": [
    {
     "name": "stdout",
     "output_type": "stream",
     "text": [
      "PoissonBracket(A(x, p_x), B(y, p_y))\n",
      "<class '__main__.PoissonBracket'>\n",
      "(A(x, p_x), B(y, p_y))\n",
      "PoissonBracket(A(x, p_x), B(y, p_y))\n",
      "order 1\n",
      "['A', 'B']\n"
     ]
    },
    {
     "data": {
      "text/latex": [
       "$\\displaystyle \\lbrace A,B\\rbrace$"
      ],
      "text/plain": [
       "PoissonBracket(A(x, p_x), B(y, p_y))"
      ]
     },
     "execution_count": 474,
     "metadata": {},
     "output_type": "execute_result"
    }
   ],
   "source": [
    "test3.doit()"
   ]
  },
  {
   "cell_type": "code",
   "execution_count": 475,
   "metadata": {},
   "outputs": [
    {
     "name": "stdout",
     "output_type": "stream",
     "text": [
      "['x^{2}', 'p_{x} + x']\n"
     ]
    },
    {
     "data": {
      "text/latex": [
       "$\\displaystyle \\lbrace x^{2},p_{x} + x\\rbrace$"
      ],
      "text/plain": [
       "PoissonBracket(x**2, p_x + x)"
      ]
     },
     "execution_count": 475,
     "metadata": {},
     "output_type": "execute_result"
    }
   ],
   "source": [
    "test4 = PoissonBracket(x**2,x+px,coords=[x],mom=[px])\n",
    "test4"
   ]
  },
  {
   "cell_type": "code",
   "execution_count": 476,
   "metadata": {},
   "outputs": [
    {
     "name": "stdout",
     "output_type": "stream",
     "text": [
      "PoissonBracket(x**2, p_x + x)\n",
      "<class '__main__.PoissonBracket'>\n",
      "(x**2, p_x + x)\n",
      "2*x\n",
      "order 1\n"
     ]
    },
    {
     "data": {
      "text/latex": [
       "$\\displaystyle 2 x$"
      ],
      "text/plain": [
       "2*x"
      ]
     },
     "execution_count": 476,
     "metadata": {},
     "output_type": "execute_result"
    }
   ],
   "source": [
    "test4.doit()"
   ]
  },
  {
   "cell_type": "code",
   "execution_count": 477,
   "metadata": {},
   "outputs": [
    {
     "name": "stdout",
     "output_type": "stream",
     "text": [
      "['A', 'B']\n"
     ]
    },
    {
     "data": {
      "text/latex": [
       "$\\displaystyle \\lbrace A,B\\rbrace$"
      ],
      "text/plain": [
       "PoissonBracket(A(x, p_x), B(x, y, p_y))"
      ]
     },
     "execution_count": 477,
     "metadata": {},
     "output_type": "execute_result"
    }
   ],
   "source": [
    "test5 = PoissonBracket(A(x,px),B(x,y,py),coords=[x,y],mom=[px,py])\n",
    "test5"
   ]
  },
  {
   "cell_type": "code",
   "execution_count": 478,
   "metadata": {},
   "outputs": [
    {
     "data": {
      "text/latex": [
       "$\\displaystyle - \\frac{\\partial}{\\partial p_{x}} A{\\left(x,p_{x} \\right)} \\frac{\\partial}{\\partial x} B{\\left(x,y,p_{y} \\right)}$"
      ],
      "text/plain": [
       "-Derivative(A(x, p_x), p_x)*Derivative(B(x, y, p_y), x)"
      ]
     },
     "execution_count": 478,
     "metadata": {},
     "output_type": "execute_result"
    }
   ],
   "source": [
    "test5.expr"
   ]
  },
  {
   "cell_type": "code",
   "execution_count": 479,
   "metadata": {},
   "outputs": [
    {
     "name": "stdout",
     "output_type": "stream",
     "text": [
      "PoissonBracket(A(x, p_x), B(x, y, p_y))\n",
      "<class '__main__.PoissonBracket'>\n",
      "(A(x, p_x), B(x, y, p_y))\n",
      "-Derivative(A(x, p_x), p_x)*Derivative(B(x, y, p_y), x)\n",
      "order 1\n"
     ]
    },
    {
     "data": {
      "text/latex": [
       "$\\displaystyle - \\frac{\\partial}{\\partial p_{x}} A{\\left(x,p_{x} \\right)} \\frac{\\partial}{\\partial x} B{\\left(x,y,p_{y} \\right)}$"
      ],
      "text/plain": [
       "-Derivative(A(x, p_x), p_x)*Derivative(B(x, y, p_y), x)"
      ]
     },
     "execution_count": 479,
     "metadata": {},
     "output_type": "execute_result"
    }
   ],
   "source": [
    "test5.doit()"
   ]
  },
  {
   "cell_type": "code",
   "execution_count": 480,
   "metadata": {},
   "outputs": [
    {
     "name": "stdout",
     "output_type": "stream",
     "text": [
      "['A', 'B']\n",
      "['\\\\lbrace A,B\\\\rbrace', 'C']\n"
     ]
    },
    {
     "data": {
      "text/latex": [
       "$\\displaystyle \\lbrace \\lbrace A,B\\rbrace,C\\rbrace$"
      ],
      "text/plain": [
       "PoissonBracket(PoissonBracket(A, B), C)"
      ]
     },
     "execution_count": 480,
     "metadata": {},
     "output_type": "execute_result"
    }
   ],
   "source": [
    "test6 = PoissonBracket(test1,C)\n",
    "test6"
   ]
  },
  {
   "cell_type": "code",
   "execution_count": 481,
   "metadata": {},
   "outputs": [
    {
     "name": "stdout",
     "output_type": "stream",
     "text": [
      "PoissonBracket(PoissonBracket(A, B), C)\n",
      "<class '__main__.PoissonBracket'>\n",
      "(PoissonBracket(A, B), C)\n",
      "PoissonBracket(PoissonBracket(A, B), C)\n",
      "order 1\n",
      "One is undefined function\n",
      "['A', 'B']\n",
      "['\\\\lbrace A,B\\\\rbrace', 'C']\n"
     ]
    },
    {
     "data": {
      "text/latex": [
       "$\\displaystyle \\lbrace \\lbrace A,B\\rbrace,C\\rbrace$"
      ],
      "text/plain": [
       "PoissonBracket(PoissonBracket(A, B), C)"
      ]
     },
     "execution_count": 481,
     "metadata": {},
     "output_type": "execute_result"
    }
   ],
   "source": [
    "test6.doit()"
   ]
  },
  {
   "cell_type": "code",
   "execution_count": 482,
   "metadata": {},
   "outputs": [
    {
     "name": "stdout",
     "output_type": "stream",
     "text": [
      "['x^{2}', 'p_{x} + x']\n",
      "['\\\\lbrace x^{2},p_{x} + x\\\\rbrace', 'C']\n"
     ]
    },
    {
     "data": {
      "text/latex": [
       "$\\displaystyle \\lbrace \\lbrace x^{2},p_{x} + x\\rbrace,C\\rbrace$"
      ],
      "text/plain": [
       "PoissonBracket(PoissonBracket(x**2, p_x + x), C)"
      ]
     },
     "execution_count": 482,
     "metadata": {},
     "output_type": "execute_result"
    }
   ],
   "source": [
    "test7 = PoissonBracket(test2,C)\n",
    "test7"
   ]
  },
  {
   "cell_type": "code",
   "execution_count": 483,
   "metadata": {},
   "outputs": [
    {
     "name": "stdout",
     "output_type": "stream",
     "text": [
      "PoissonBracket(PoissonBracket(x**2, p_x + x), C)\n",
      "<class '__main__.PoissonBracket'>\n",
      "(PoissonBracket(x**2, p_x + x), C)\n",
      "PoissonBracket(PoissonBracket(x**2, p_x + x), C)\n",
      "order 1\n",
      "One is undefined function\n",
      "['x^{2}', 'p_{x} + x']\n",
      "['\\\\lbrace x^{2},p_{x} + x\\\\rbrace', 'C']\n"
     ]
    },
    {
     "data": {
      "text/latex": [
       "$\\displaystyle \\lbrace \\lbrace x^{2},p_{x} + x\\rbrace,C\\rbrace$"
      ],
      "text/plain": [
       "PoissonBracket(PoissonBracket(x**2, p_x + x), C)"
      ]
     },
     "execution_count": 483,
     "metadata": {},
     "output_type": "execute_result"
    }
   ],
   "source": [
    "test7.doit()"
   ]
  },
  {
   "cell_type": "code",
   "execution_count": 484,
   "metadata": {},
   "outputs": [
    {
     "name": "stdout",
     "output_type": "stream",
     "text": [
      "['A', 'B']\n",
      "['\\\\lbrace A,B\\\\rbrace', 'C']\n"
     ]
    },
    {
     "data": {
      "text/latex": [
       "$\\displaystyle \\lbrace \\lbrace A,B\\rbrace,C\\rbrace$"
      ],
      "text/plain": [
       "PoissonBracket(PoissonBracket(A(x, p_x), B(y, p_y)), C)"
      ]
     },
     "execution_count": 484,
     "metadata": {},
     "output_type": "execute_result"
    }
   ],
   "source": [
    "test8 = PoissonBracket(test3,C)\n",
    "test8"
   ]
  },
  {
   "cell_type": "code",
   "execution_count": 485,
   "metadata": {},
   "outputs": [
    {
     "name": "stdout",
     "output_type": "stream",
     "text": [
      "['x^{2}', 'p_{x} + x']\n",
      "['\\\\lbrace x^{2},p_{x} + x\\\\rbrace', 'C']\n"
     ]
    },
    {
     "data": {
      "text/latex": [
       "$\\displaystyle \\lbrace \\lbrace x^{2},p_{x} + x\\rbrace,C\\rbrace$"
      ],
      "text/plain": [
       "PoissonBracket(PoissonBracket(x**2, p_x + x), C)"
      ]
     },
     "execution_count": 485,
     "metadata": {},
     "output_type": "execute_result"
    }
   ],
   "source": [
    "test9 = PoissonBracket(test4,C)\n",
    "test9"
   ]
  },
  {
   "cell_type": "code",
   "execution_count": 486,
   "metadata": {},
   "outputs": [
    {
     "name": "stdout",
     "output_type": "stream",
     "text": [
      "PoissonBracket(PoissonBracket(x**2, p_x + x), C)\n",
      "<class '__main__.PoissonBracket'>\n",
      "(PoissonBracket(x**2, p_x + x), C)\n",
      "PoissonBracket(PoissonBracket(x**2, p_x + x), C)\n",
      "order 1\n",
      "One is undefined function\n",
      "['x^{2}', 'p_{x} + x']\n",
      "['\\\\lbrace x^{2},p_{x} + x\\\\rbrace', 'C']\n"
     ]
    },
    {
     "data": {
      "text/latex": [
       "$\\displaystyle \\lbrace \\lbrace x^{2},p_{x} + x\\rbrace,C\\rbrace$"
      ],
      "text/plain": [
       "PoissonBracket(PoissonBracket(x**2, p_x + x), C)"
      ]
     },
     "execution_count": 486,
     "metadata": {},
     "output_type": "execute_result"
    }
   ],
   "source": [
    "test9.doit()"
   ]
  },
  {
   "cell_type": "code",
   "execution_count": 487,
   "metadata": {},
   "outputs": [
    {
     "name": "stdout",
     "output_type": "stream",
     "text": [
      "['A', 'B']\n",
      "['\\\\lbrace A,B\\\\rbrace', 'C']\n"
     ]
    },
    {
     "data": {
      "text/latex": [
       "$\\displaystyle \\lbrace \\lbrace A,B\\rbrace,C\\rbrace$"
      ],
      "text/plain": [
       "PoissonBracket(PoissonBracket(A(x, p_x), B(x, y, p_y)), C)"
      ]
     },
     "execution_count": 487,
     "metadata": {},
     "output_type": "execute_result"
    }
   ],
   "source": [
    "test10 = PoissonBracket(test5,C)\n",
    "test10"
   ]
  },
  {
   "cell_type": "code",
   "execution_count": 488,
   "metadata": {},
   "outputs": [
    {
     "data": {
      "text/plain": [
       "{p_x, p_y, x, y}"
      ]
     },
     "execution_count": 488,
     "metadata": {},
     "output_type": "execute_result"
    }
   ],
   "source": [
    "test10.free_symbols"
   ]
  },
  {
   "cell_type": "code",
   "execution_count": 489,
   "metadata": {},
   "outputs": [
    {
     "name": "stdout",
     "output_type": "stream",
     "text": [
      "['A', 'B']\n",
      "['C', '\\\\lbrace A,B\\\\rbrace']\n"
     ]
    },
    {
     "data": {
      "text/latex": [
       "$\\displaystyle - \\lbrace C,\\lbrace A,B\\rbrace\\rbrace$"
      ],
      "text/plain": [
       "-PoissonBracket(C(x, p_x), PoissonBracket(A(x, p_x), B(x, y, p_y)))"
      ]
     },
     "execution_count": 489,
     "metadata": {},
     "output_type": "execute_result"
    }
   ],
   "source": [
    "test11 = PoissonBracket(test5,C(x,px))\n",
    "test11"
   ]
  },
  {
   "cell_type": "code",
   "execution_count": 490,
   "metadata": {},
   "outputs": [
    {
     "data": {
      "text/plain": [
       "-1"
      ]
     },
     "execution_count": 490,
     "metadata": {},
     "output_type": "execute_result"
    }
   ],
   "source": [
    "test11.args[1].order"
   ]
  },
  {
   "cell_type": "code",
   "execution_count": 491,
   "metadata": {},
   "outputs": [
    {
     "name": "stdout",
     "output_type": "stream",
     "text": [
      "PoissonBracket(C(x, p_x), PoissonBracket(A(x, p_x), B(x, y, p_y)))\n",
      "<class '__main__.PoissonBracket'>\n",
      "(C(x, p_x), PoissonBracket(A(x, p_x), B(x, y, p_y)))\n",
      "PoissonBracket(C(x, p_x), PoissonBracket(A(x, p_x), B(x, y, p_y)))\n",
      "order 1\n",
      "in Function\n",
      "['A', 'B']\n",
      "['C', '\\\\lbrace A,B\\\\rbrace']\n"
     ]
    },
    {
     "data": {
      "text/latex": [
       "$\\displaystyle - \\lbrace C,\\lbrace A,B\\rbrace\\rbrace$"
      ],
      "text/plain": [
       "-PoissonBracket(C(x, p_x), PoissonBracket(A(x, p_x), B(x, y, p_y)))"
      ]
     },
     "execution_count": 491,
     "metadata": {},
     "output_type": "execute_result"
    }
   ],
   "source": [
    "test11.doit()"
   ]
  },
  {
   "cell_type": "code",
   "execution_count": 492,
   "metadata": {},
   "outputs": [
    {
     "name": "stdout",
     "output_type": "stream",
     "text": [
      "['A', 'B']\n",
      "['C', '\\\\lbrace A,B\\\\rbrace']\n"
     ]
    },
    {
     "data": {
      "text/latex": [
       "$\\displaystyle - \\lbrace C,\\lbrace A,B\\rbrace\\rbrace$"
      ],
      "text/plain": [
       "-PoissonBracket(C(x, p_x), PoissonBracket(A(x, p_x), B(x, y, p_y)))"
      ]
     },
     "execution_count": 492,
     "metadata": {},
     "output_type": "execute_result"
    }
   ],
   "source": [
    "test12 = PoissonBracket(test5,C(x,px),coords=[x,y],mom=[px,py])\n",
    "test12"
   ]
  },
  {
   "cell_type": "code",
   "execution_count": 493,
   "metadata": {},
   "outputs": [
    {
     "name": "stdout",
     "output_type": "stream",
     "text": [
      "PoissonBracket(A(x, p_x), B(x, p_x))\n",
      "<class '__main__.PoissonBracket'>\n",
      "(A(x, p_x), B(x, p_x))\n",
      "-Derivative(A(x, p_x), p_x)*Derivative(B(x, p_x), x) + Derivative(A(x, p_x), x)*Derivative(B(x, p_x), p_x)\n",
      "order 1\n",
      "in Function\n"
     ]
    },
    {
     "data": {
      "text/latex": [
       "$\\displaystyle - (- \\frac{\\partial}{\\partial p_{x}} A{\\left(x,p_{x} \\right)} \\frac{\\partial}{\\partial x} B{\\left(x,p_{x} \\right)} + \\frac{\\partial}{\\partial x} A{\\left(x,p_{x} \\right)} \\frac{\\partial}{\\partial p_{x}} B{\\left(x,p_{x} \\right)})$"
      ],
      "text/plain": [
       "-(-Derivative(A(x, p_x), p_x)*Derivative(B(x, p_x), x) + Derivative(A(x, p_x), x)*Derivative(B(x, p_x), p_x))"
      ]
     },
     "execution_count": 493,
     "metadata": {},
     "output_type": "execute_result"
    }
   ],
   "source": [
    "PoissonBracket(B(x,px),A(x,px),coords=[x],mom=[px]).doit()"
   ]
  },
  {
   "cell_type": "code",
   "execution_count": 494,
   "metadata": {},
   "outputs": [
    {
     "data": {
      "text/latex": [
       "$\\displaystyle 0$"
      ],
      "text/plain": [
       "0"
      ]
     },
     "execution_count": 494,
     "metadata": {},
     "output_type": "execute_result"
    }
   ],
   "source": [
    "PoissonBracket(A,B)+ PoissonBracket(B,A)"
   ]
  },
  {
   "cell_type": "code",
   "execution_count": 495,
   "metadata": {},
   "outputs": [
    {
     "data": {
      "text/plain": [
       "((-1, PoissonBracket(C(x, p_x), PoissonBracket(A(x, p_x), B(x, y, p_y)))), -1)"
      ]
     },
     "execution_count": 495,
     "metadata": {},
     "output_type": "execute_result"
    }
   ],
   "source": [
    "test12.args, test12.args[1].order"
   ]
  },
  {
   "cell_type": "code",
   "execution_count": 496,
   "metadata": {},
   "outputs": [
    {
     "name": "stdout",
     "output_type": "stream",
     "text": [
      "PoissonBracket(C(x, p_x), PoissonBracket(A(x, p_x), B(x, y, p_y)))\n",
      "<class '__main__.PoissonBracket'>\n",
      "(C(x, p_x), PoissonBracket(A(x, p_x), B(x, y, p_y)))\n",
      "PoissonBracket(C(x, p_x), PoissonBracket(A(x, p_x), B(x, y, p_y)))\n",
      "order 1\n",
      "in Function\n",
      "['A', 'B']\n",
      "['C', '\\\\lbrace A,B\\\\rbrace']\n"
     ]
    },
    {
     "data": {
      "text/latex": [
       "$\\displaystyle - \\lbrace C,\\lbrace A,B\\rbrace\\rbrace$"
      ],
      "text/plain": [
       "-PoissonBracket(C(x, p_x), PoissonBracket(A(x, p_x), B(x, y, p_y)))"
      ]
     },
     "execution_count": 496,
     "metadata": {},
     "output_type": "execute_result"
    }
   ],
   "source": [
    "test12.doit()"
   ]
  },
  {
   "cell_type": "code",
   "execution_count": 448,
   "metadata": {},
   "outputs": [
    {
     "name": "stdout",
     "output_type": "stream",
     "text": [
      "['A', 'B']\n",
      "['C', '\\\\lbrace A,B\\\\rbrace']\n"
     ]
    },
    {
     "data": {
      "text/latex": [
       "$\\displaystyle \\lbrace C,\\lbrace A,B\\rbrace\\rbrace$"
      ],
      "text/plain": [
       "PoissonBracket(C(x, p_x), PoissonBracket(A(x, p_x), B(x, y, p_y)))"
      ]
     },
     "execution_count": 448,
     "metadata": {},
     "output_type": "execute_result"
    }
   ],
   "source": [
    "test12.args[1].expr"
   ]
  },
  {
   "cell_type": "code",
   "execution_count": 32,
   "metadata": {},
   "outputs": [
    {
     "name": "stdout",
     "output_type": "stream",
     "text": [
      "['A', 'B']\n",
      "['C', '\\\\lbrace A,B\\\\rbrace']\n"
     ]
    },
    {
     "data": {
      "text/latex": [
       "$\\displaystyle - \\lbrace C,\\lbrace A,B\\rbrace\\rbrace$"
      ],
      "text/plain": [
       "-PoissonBracket(C(x, p_x), PoissonBracket(A(x, p_x), B(x, y, p_y)))"
      ]
     },
     "execution_count": 32,
     "metadata": {},
     "output_type": "execute_result"
    }
   ],
   "source": [
    "test12.doit()"
   ]
  },
  {
   "cell_type": "code",
   "execution_count": 1135,
   "metadata": {},
   "outputs": [
    {
     "name": "stdout",
     "output_type": "stream",
     "text": [
      "['A + B', 'C']\n"
     ]
    },
    {
     "data": {
      "text/latex": [
       "$\\displaystyle \\lbrace A + B,C\\rbrace$"
      ],
      "text/plain": [
       "PoissonBracket(A(x, p_x) + B(x, y, p_y), C(x, p_x))"
      ]
     },
     "execution_count": 1135,
     "metadata": {},
     "output_type": "execute_result"
    }
   ],
   "source": [
    "test13 = PoissonBracket(A(x,px)+B(x,y,py),C(x,px),coords=[x,y],mom=[px,py])\n",
    "test13"
   ]
  },
  {
   "cell_type": "code",
   "execution_count": 1136,
   "metadata": {},
   "outputs": [
    {
     "data": {
      "text/plain": [
       "((Derivative(A(x, p_x), x) + Derivative(B(x, y, p_y), x))*Derivative(C(x, p_x), p_x) - Derivative(A(x, p_x), p_x)*Derivative(C(x, p_x), x),)"
      ]
     },
     "execution_count": 1136,
     "metadata": {},
     "output_type": "execute_result"
    }
   ],
   "source": [
    "test13.doit(),"
   ]
  },
  {
   "cell_type": "code",
   "execution_count": 1137,
   "metadata": {},
   "outputs": [
    {
     "name": "stdout",
     "output_type": "stream",
     "text": [
      "['A', 'B + C']\n"
     ]
    },
    {
     "data": {
      "text/latex": [
       "$\\displaystyle \\lbrace A,B + C\\rbrace$"
      ],
      "text/plain": [
       "PoissonBracket(A(x, p_x), B(x, y, p_y) + C(x, p_x))"
      ]
     },
     "execution_count": 1137,
     "metadata": {},
     "output_type": "execute_result"
    }
   ],
   "source": [
    "test14 = PoissonBracket(A(x,px),B(x,y,py) + C(x,px),coords=[x,y],mom=[px,py])\n",
    "test14"
   ]
  },
  {
   "cell_type": "code",
   "execution_count": 1138,
   "metadata": {},
   "outputs": [
    {
     "data": {
      "text/plain": [
       "(-Derivative(A(x, p_x), p_x)*(Derivative(B(x, y, p_y), x) + Derivative(C(x, p_x), x)) + Derivative(A(x, p_x), x)*Derivative(C(x, p_x), p_x),)"
      ]
     },
     "execution_count": 1138,
     "metadata": {},
     "output_type": "execute_result"
    }
   ],
   "source": [
    "test14.doit(),"
   ]
  },
  {
   "cell_type": "code",
   "execution_count": 1139,
   "metadata": {},
   "outputs": [
    {
     "name": "stdout",
     "output_type": "stream",
     "text": [
      "['A * B', 'C']\n"
     ]
    },
    {
     "data": {
      "text/latex": [
       "$\\displaystyle \\lbrace A * B,C\\rbrace$"
      ],
      "text/plain": [
       "PoissonBracket(A(x, p_x)*B(x, y, p_y), C(x, p_x))"
      ]
     },
     "execution_count": 1139,
     "metadata": {},
     "output_type": "execute_result"
    }
   ],
   "source": [
    "test15 = PoissonBracket(A(x,px)*B(x,y,py),C(x,px),coords=[x,y],mom=[px,py])\n",
    "test15"
   ]
  },
  {
   "cell_type": "code",
   "execution_count": 1140,
   "metadata": {},
   "outputs": [
    {
     "data": {
      "text/plain": [
       "((A(x, p_x)*Derivative(B(x, y, p_y), x) + Derivative(A(x, p_x), x)*B(x, y, p_y))*Derivative(C(x, p_x), p_x) - Derivative(A(x, p_x), p_x)*B(x, y, p_y)*Derivative(C(x, p_x), x),)"
      ]
     },
     "execution_count": 1140,
     "metadata": {},
     "output_type": "execute_result"
    }
   ],
   "source": [
    "test15.doit(),"
   ]
  },
  {
   "cell_type": "code",
   "execution_count": 1141,
   "metadata": {},
   "outputs": [
    {
     "name": "stdout",
     "output_type": "stream",
     "text": [
      "['A', 'B * C']\n"
     ]
    },
    {
     "data": {
      "text/latex": [
       "$\\displaystyle \\lbrace A,B * C\\rbrace$"
      ],
      "text/plain": [
       "PoissonBracket(A(x, p_x), B(x, y, p_y)*C(x, p_x))"
      ]
     },
     "execution_count": 1141,
     "metadata": {},
     "output_type": "execute_result"
    }
   ],
   "source": [
    "test16 = PoissonBracket(A(x,px),B(x,y,py)*C(x,px),coords=[x,y],mom=[px,py])\n",
    "test16"
   ]
  },
  {
   "cell_type": "code",
   "execution_count": 1142,
   "metadata": {},
   "outputs": [
    {
     "data": {
      "text/plain": [
       "(-Derivative(A(x, p_x), p_x)*(B(x, y, p_y)*Derivative(C(x, p_x), x) + Derivative(B(x, y, p_y), x)*C(x, p_x)) + Derivative(A(x, p_x), x)*B(x, y, p_y)*Derivative(C(x, p_x), p_x),)"
      ]
     },
     "execution_count": 1142,
     "metadata": {},
     "output_type": "execute_result"
    }
   ],
   "source": [
    "test16.doit(),"
   ]
  },
  {
   "cell_type": "code",
   "execution_count": 1143,
   "metadata": {},
   "outputs": [
    {
     "name": "stdout",
     "output_type": "stream",
     "text": [
      "['A^3', 'B']\n"
     ]
    },
    {
     "data": {
      "text/latex": [
       "$\\displaystyle \\lbrace A^3,B\\rbrace$"
      ],
      "text/plain": [
       "PoissonBracket(A(x, p_x)**3, B(x, y, p_y))"
      ]
     },
     "execution_count": 1143,
     "metadata": {},
     "output_type": "execute_result"
    }
   ],
   "source": [
    "test17 = PoissonBracket(A(x,px)**3,B(x,y,py),coords=[x,y],mom=[px,py])\n",
    "test17"
   ]
  },
  {
   "cell_type": "code",
   "execution_count": 1160,
   "metadata": {},
   "outputs": [
    {
     "data": {
      "text/latex": [
       "$\\displaystyle - 3 A^{3}{\\left(x,p_{x} \\right)} \\frac{\\partial}{\\partial p_{x}} A{\\left(x,p_{x} \\right)} A^{-1}{\\left(x,p_{x} \\right)} \\frac{\\partial}{\\partial x} B{\\left(x,y,p_{y} \\right)}$"
      ],
      "text/plain": [
       "-3*A(x, p_x)**3*Derivative(A(x, p_x), p_x)*A(x, p_x)**(-1)*Derivative(B(x, y, p_y), x)"
      ]
     },
     "execution_count": 1160,
     "metadata": {},
     "output_type": "execute_result"
    }
   ],
   "source": [
    "test17.doit()"
   ]
  },
  {
   "cell_type": "code",
   "execution_count": 1145,
   "metadata": {},
   "outputs": [
    {
     "name": "stdout",
     "output_type": "stream",
     "text": [
      "['A', 'B']\n",
      "['\\\\lbrace A,B\\\\rbrace', 'C']\n",
      "['\\\\lbrace \\\\lbrace A,B\\\\rbrace,C\\\\rbrace', 'D']\n"
     ]
    },
    {
     "data": {
      "text/latex": [
       "$\\displaystyle \\lbrace \\lbrace \\lbrace A,B\\rbrace,C\\rbrace,D\\rbrace$"
      ],
      "text/plain": [
       "PoissonBracket(PoissonBracket(PoissonBracket(A(x, p_x), B(x, y, p_y)), C(x, p_x)), D(x, y))"
      ]
     },
     "execution_count": 1145,
     "metadata": {},
     "output_type": "execute_result"
    }
   ],
   "source": [
    "test18 = PoissonBracket(test12,D(x,y),coords=[x,y],mom=[px,py])\n",
    "test18"
   ]
  },
  {
   "cell_type": "code",
   "execution_count": 1152,
   "metadata": {},
   "outputs": [
    {
     "data": {
      "text/plain": [
       "False"
      ]
     },
     "execution_count": 1152,
     "metadata": {},
     "output_type": "execute_result"
    }
   ],
   "source": [
    "test18.doit() == -((-Derivative(A(x, px), px)*Derivative(B(x, y, py), py, (x, 2)) - Derivative(A(x, px), px, x)*Derivative(B(x, y, py), py, x))*Derivative(C(x, px), px) + Derivative(A(x, px), (px, 2))*Derivative(B(x, y, py), py, x)*Derivative(C(x, px), x))*Derivative(D(x, y), y) - ((-Derivative(A(x, px), px)*Derivative(B(x, y, py), (x, 2)) - Derivative(A(x, px), px, x)*Derivative(B(x, y, py), x))*Derivative(C(x, px), (px, 2)) + (-Derivative(A(x, px), (px, 2))*Derivative(B(x, y, py), (x, 2)) - Derivative(A(x, px), (px, 2), x)*Derivative(B(x, y, py), x))*Derivative(C(x, px), px) + Derivative(A(x, px), (px, 2))*Derivative(B(x, y, py), x)*Derivative(C(x, px), px, x) + Derivative(A(x, px), (px, 3))*Derivative(B(x, y, py), x)*Derivative(C(x, px), x))*Derivative(D(x, y), x)"
   ]
  },
  {
   "cell_type": "code",
   "execution_count": 1153,
   "metadata": {},
   "outputs": [
    {
     "data": {
      "text/latex": [
       "$\\displaystyle - \\left(\\left(- \\frac{\\partial}{\\partial p_{x}} A{\\left(x,p_{x} \\right)} \\frac{\\partial^{3}}{\\partial x^{2}\\partial p_{y}} B{\\left(x,y,p_{y} \\right)} - \\frac{\\partial^{2}}{\\partial x\\partial p_{x}} A{\\left(x,p_{x} \\right)} \\frac{\\partial^{2}}{\\partial x\\partial p_{y}} B{\\left(x,y,p_{y} \\right)}\\right) \\frac{\\partial}{\\partial p_{x}} C{\\left(x,p_{x} \\right)} + \\frac{\\partial^{2}}{\\partial p_{x}^{2}} A{\\left(x,p_{x} \\right)} \\frac{\\partial^{2}}{\\partial x\\partial p_{y}} B{\\left(x,y,p_{y} \\right)} \\frac{\\partial}{\\partial x} C{\\left(x,p_{x} \\right)}\\right) \\frac{\\partial}{\\partial y} D{\\left(x,y \\right)} - \\left(\\left(- \\frac{\\partial}{\\partial p_{x}} A{\\left(x,p_{x} \\right)} \\frac{\\partial^{2}}{\\partial x^{2}} B{\\left(x,y,p_{y} \\right)} - \\frac{\\partial^{2}}{\\partial x\\partial p_{x}} A{\\left(x,p_{x} \\right)} \\frac{\\partial}{\\partial x} B{\\left(x,y,p_{y} \\right)}\\right) \\frac{\\partial^{2}}{\\partial p_{x}^{2}} C{\\left(x,p_{x} \\right)} + \\left(- \\frac{\\partial^{2}}{\\partial p_{x}^{2}} A{\\left(x,p_{x} \\right)} \\frac{\\partial^{2}}{\\partial x^{2}} B{\\left(x,y,p_{y} \\right)} - \\frac{\\partial^{3}}{\\partial x\\partial p_{x}^{2}} A{\\left(x,p_{x} \\right)} \\frac{\\partial}{\\partial x} B{\\left(x,y,p_{y} \\right)}\\right) \\frac{\\partial}{\\partial p_{x}} C{\\left(x,p_{x} \\right)} + \\frac{\\partial^{2}}{\\partial p_{x}^{2}} A{\\left(x,p_{x} \\right)} \\frac{\\partial}{\\partial x} B{\\left(x,y,p_{y} \\right)} \\frac{\\partial^{2}}{\\partial x\\partial p_{x}} C{\\left(x,p_{x} \\right)} + \\frac{\\partial^{3}}{\\partial p_{x}^{3}} A{\\left(x,p_{x} \\right)} \\frac{\\partial}{\\partial x} B{\\left(x,y,p_{y} \\right)} \\frac{\\partial}{\\partial x} C{\\left(x,p_{x} \\right)}\\right) \\frac{\\partial}{\\partial x} D{\\left(x,y \\right)}$"
      ],
      "text/plain": [
       "-((-Derivative(A(x, p_x), p_x)*Derivative(B(x, y, p_y), p_y, (x, 2)) - Derivative(A(x, p_x), p_x, x)*Derivative(B(x, y, p_y), p_y, x))*Derivative(C(x, p_x), p_x) + Derivative(A(x, p_x), (p_x, 2))*Derivative(B(x, y, p_y), p_y, x)*Derivative(C(x, p_x), x))*Derivative(D(x, y), y) - ((-Derivative(A(x, p_x), p_x)*Derivative(B(x, y, p_y), (x, 2)) - Derivative(A(x, p_x), p_x, x)*Derivative(B(x, y, p_y), x))*Derivative(C(x, p_x), (p_x, 2)) + (-Derivative(A(x, p_x), (p_x, 2))*Derivative(B(x, y, p_y), (x, 2)) - Derivative(A(x, p_x), (p_x, 2), x)*Derivative(B(x, y, p_y), x))*Derivative(C(x, p_x), p_x) + Derivative(A(x, p_x), (p_x, 2))*Derivative(B(x, y, p_y), x)*Derivative(C(x, p_x), p_x, x) + Derivative(A(x, p_x), (p_x, 3))*Derivative(B(x, y, p_y), x)*Derivative(C(x, p_x), x))*Derivative(D(x, y), x)"
      ]
     },
     "execution_count": 1153,
     "metadata": {},
     "output_type": "execute_result"
    }
   ],
   "source": [
    "test18.doit()"
   ]
  },
  {
   "cell_type": "code",
   "execution_count": 1161,
   "metadata": {},
   "outputs": [
    {
     "name": "stdout",
     "output_type": "stream",
     "text": [
      "- \\left(\\left(- \\frac{\\partial}{\\partial p_{x}} A{\\left(x,p_{x} \\right)} \\frac{\\partial^{3}}{\\partial x^{2}\\partial p_{y}} B{\\left(x,y,p_{y} \\right)} - \\frac{\\partial^{2}}{\\partial x\\partial p_{x}} A{\\left(x,p_{x} \\right)} \\frac{\\partial^{2}}{\\partial x\\partial p_{y}} B{\\left(x,y,p_{y} \\right)}\\right) \\frac{\\partial}{\\partial p_{x}} C{\\left(x,p_{x} \\right)} + \\frac{\\partial^{2}}{\\partial p_{x}^{2}} A{\\left(x,p_{x} \\right)} \\frac{\\partial^{2}}{\\partial x\\partial p_{y}} B{\\left(x,y,p_{y} \\right)} \\frac{\\partial}{\\partial x} C{\\left(x,p_{x} \\right)}\\right) \\frac{\\partial}{\\partial y} D{\\left(x,y \\right)} - \\left(\\left(- \\frac{\\partial}{\\partial p_{x}} A{\\left(x,p_{x} \\right)} \\frac{\\partial^{2}}{\\partial x^{2}} B{\\left(x,y,p_{y} \\right)} - \\frac{\\partial^{2}}{\\partial x\\partial p_{x}} A{\\left(x,p_{x} \\right)} \\frac{\\partial}{\\partial x} B{\\left(x,y,p_{y} \\right)}\\right) \\frac{\\partial^{2}}{\\partial p_{x}^{2}} C{\\left(x,p_{x} \\right)} + \\left(- \\frac{\\partial^{2}}{\\partial p_{x}^{2}} A{\\left(x,p_{x} \\right)} \\frac{\\partial^{2}}{\\partial x^{2}} B{\\left(x,y,p_{y} \\right)} - \\frac{\\partial^{3}}{\\partial x\\partial p_{x}^{2}} A{\\left(x,p_{x} \\right)} \\frac{\\partial}{\\partial x} B{\\left(x,y,p_{y} \\right)}\\right) \\frac{\\partial}{\\partial p_{x}} C{\\left(x,p_{x} \\right)} + \\frac{\\partial^{2}}{\\partial p_{x}^{2}} A{\\left(x,p_{x} \\right)} \\frac{\\partial}{\\partial x} B{\\left(x,y,p_{y} \\right)} \\frac{\\partial^{2}}{\\partial x\\partial p_{x}} C{\\left(x,p_{x} \\right)} + \\frac{\\partial^{3}}{\\partial p_{x}^{3}} A{\\left(x,p_{x} \\right)} \\frac{\\partial}{\\partial x} B{\\left(x,y,p_{y} \\right)} \\frac{\\partial}{\\partial x} C{\\left(x,p_{x} \\right)}\\right) \\frac{\\partial}{\\partial x} D{\\left(x,y \\right)}\n"
     ]
    }
   ],
   "source": [
    "print_latex(test18.expr)"
   ]
  },
  {
   "cell_type": "code",
   "execution_count": 1156,
   "metadata": {},
   "outputs": [
    {
     "data": {
      "text/plain": [
       "(-((-Derivative(A(x, p_x), p_x)*Derivative(B(x, y, p_y), p_y, (x, 2)) - Derivative(A(x, p_x), p_x, x)*Derivative(B(x, y, p_y), p_y, x))*Derivative(C(x, p_x), p_x) + Derivative(A(x, p_x), (p_x, 2))*Derivative(B(x, y, p_y), p_y, x)*Derivative(C(x, p_x), x))*Derivative(D(x, y), y) - ((-Derivative(A(x, p_x), p_x)*Derivative(B(x, y, p_y), (x, 2)) - Derivative(A(x, p_x), p_x, x)*Derivative(B(x, y, p_y), x))*Derivative(C(x, p_x), (p_x, 2)) + (-Derivative(A(x, p_x), (p_x, 2))*Derivative(B(x, y, p_y), (x, 2)) - Derivative(A(x, p_x), (p_x, 2), x)*Derivative(B(x, y, p_y), x))*Derivative(C(x, p_x), p_x) + Derivative(A(x, p_x), (p_x, 2))*Derivative(B(x, y, p_y), x)*Derivative(C(x, p_x), p_x, x) + Derivative(A(x, p_x), (p_x, 3))*Derivative(B(x, y, p_y), x)*Derivative(C(x, p_x), x))*Derivative(D(x, y), x),)"
      ]
     },
     "execution_count": 1156,
     "metadata": {},
     "output_type": "execute_result"
    }
   ],
   "source": [
    "test18.doit(),"
   ]
  },
  {
   "cell_type": "code",
   "execution_count": 1147,
   "metadata": {},
   "outputs": [
    {
     "name": "stdout",
     "output_type": "stream",
     "text": [
      "['A + B', 'C']\n",
      "['\\\\lbrace A + B,C\\\\rbrace', 'D']\n"
     ]
    },
    {
     "data": {
      "text/latex": [
       "$\\displaystyle \\lbrace \\lbrace A + B,C\\rbrace,D\\rbrace$"
      ],
      "text/plain": [
       "PoissonBracket(PoissonBracket(A(x, p_x) + B(x, y, p_y), C(x, p_x)), D(x, y))"
      ]
     },
     "execution_count": 1147,
     "metadata": {},
     "output_type": "execute_result"
    }
   ],
   "source": [
    "test19 = PoissonBracket(test13,D(x,y),coords=[x,y],mom=[px,py])\n",
    "test19"
   ]
  },
  {
   "cell_type": "code",
   "execution_count": 1149,
   "metadata": {},
   "outputs": [
    {
     "data": {
      "text/plain": [
       "(-((Derivative(A(x, p_x), x) + Derivative(B(x, y, p_y), x))*Derivative(C(x, p_x), (p_x, 2)) - Derivative(A(x, p_x), p_x)*Derivative(C(x, p_x), p_x, x) - Derivative(A(x, p_x), (p_x, 2))*Derivative(C(x, p_x), x) + Derivative(A(x, p_x), p_x, x)*Derivative(C(x, p_x), p_x))*Derivative(D(x, y), x) - Derivative(B(x, y, p_y), p_y, x)*Derivative(C(x, p_x), p_x)*Derivative(D(x, y), y),)"
      ]
     },
     "execution_count": 1149,
     "metadata": {},
     "output_type": "execute_result"
    }
   ],
   "source": [
    "test19.doit(),"
   ]
  },
  {
   "cell_type": "code",
   "execution_count": 1085,
   "metadata": {},
   "outputs": [
    {
     "data": {
      "text/plain": [
       "(None, None, None, [x], [x, y])"
      ]
     },
     "execution_count": 1085,
     "metadata": {},
     "output_type": "execute_result"
    }
   ],
   "source": [
    "test1.indep_coords,test2.indep_coords,test3.indep_coords, test4.indep_coords, test5.indep_coords"
   ]
  },
  {
   "cell_type": "code",
   "execution_count": 505,
   "metadata": {},
   "outputs": [
    {
     "data": {
      "text/plain": [
       "(None, None, None, None, None, None)"
      ]
     },
     "execution_count": 505,
     "metadata": {},
     "output_type": "execute_result"
    }
   ],
   "source": [
    "test6.indep_coords,test7.indep_coords,test8.indep_coords, test9.indep_coords, test10.indep_coords, test11.indep_coords"
   ]
  },
  {
   "cell_type": "code",
   "execution_count": 506,
   "metadata": {},
   "outputs": [
    {
     "data": {
      "text/plain": [
       "(None, None, None, [p_x], [p_x, p_y])"
      ]
     },
     "execution_count": 506,
     "metadata": {},
     "output_type": "execute_result"
    }
   ],
   "source": [
    "test1.indep_mom, test2.indep_mom, test3.indep_mom, test4.indep_mom, test5.indep_mom"
   ]
  },
  {
   "cell_type": "code",
   "execution_count": 507,
   "metadata": {},
   "outputs": [
    {
     "data": {
      "text/plain": [
       "(set(), {p_x, x}, {p_x, p_y, x, y}, {p_x, x}, {p_x, p_y, x, y})"
      ]
     },
     "execution_count": 507,
     "metadata": {},
     "output_type": "execute_result"
    }
   ],
   "source": [
    "test1.free_symbols, test2.free_symbols, test3.free_symbols, test4.free_symbols, test5.free_symbols"
   ]
  },
  {
   "cell_type": "code",
   "execution_count": 508,
   "metadata": {},
   "outputs": [
    {
     "data": {
      "text/plain": [
       "(set(),\n",
       " {p_x, x},\n",
       " {p_x, p_y, x, y},\n",
       " {p_x, x},\n",
       " {p_x, p_y, x, y},\n",
       " {p_x, p_y, x, y})"
      ]
     },
     "execution_count": 508,
     "metadata": {},
     "output_type": "execute_result"
    }
   ],
   "source": [
    "test6.free_symbols, test7.free_symbols, test8.free_symbols, test9.free_symbols, test10.free_symbols, test11.free_symbols"
   ]
  },
  {
   "cell_type": "code",
   "execution_count": 509,
   "metadata": {},
   "outputs": [
    {
     "data": {
      "text/plain": [
       "(PoissonBracket(A, B),\n",
       " PoissonBracket(x**2, p_x + x),\n",
       " PoissonBracket(A(x, p_x), B(y, p_y)),\n",
       " 2*x,\n",
       " -Derivative(A(x, p_x), p_x)*Derivative(B(x, y, p_y), x))"
      ]
     },
     "execution_count": 509,
     "metadata": {},
     "output_type": "execute_result"
    }
   ],
   "source": [
    "test1.expr, test2.expr, test3.expr, test4.expr, test5.expr"
   ]
  },
  {
   "cell_type": "code",
   "execution_count": 510,
   "metadata": {},
   "outputs": [
    {
     "data": {
      "text/plain": [
       "(PoissonBracket(PoissonBracket(A, B), C),\n",
       " PoissonBracket(PoissonBracket(x**2, p_x + x), C),\n",
       " PoissonBracket(PoissonBracket(A(x, p_x), B(y, p_y)), C),\n",
       " PoissonBracket(PoissonBracket(x**2, p_x + x), C),\n",
       " PoissonBracket(PoissonBracket(A(x, p_x), B(x, y, p_y)), C),\n",
       " PoissonBracket(PoissonBracket(A(x, p_x), B(x, y, p_y)), C(x, p_x)),\n",
       " (-Derivative(A(x, p_x), p_x)*Derivative(B(x, y, p_y), (x, 2)) - Derivative(A(x, p_x), p_x, x)*Derivative(B(x, y, p_y), x))*Derivative(C(x, p_x), p_x) + Derivative(A(x, p_x), (p_x, 2))*Derivative(B(x, y, p_y), x)*Derivative(C(x, p_x), x))"
      ]
     },
     "execution_count": 510,
     "metadata": {},
     "output_type": "execute_result"
    }
   ],
   "source": [
    "test6.expr, test7.expr, test8.expr, test9.expr, test10.expr, test11.expr, test12.expr"
   ]
  },
  {
   "cell_type": "code",
   "execution_count": 511,
   "metadata": {},
   "outputs": [
    {
     "data": {
      "text/plain": [
       "(PoissonBracket(A, B),\n",
       " PoissonBracket(x**2, p_x + x),\n",
       " PoissonBracket(A(x, p_x), B(y, p_y)),\n",
       " 2*x,\n",
       " -Derivative(A(x, p_x), p_x)*Derivative(B(x, y, p_y), x))"
      ]
     },
     "execution_count": 511,
     "metadata": {},
     "output_type": "execute_result"
    }
   ],
   "source": [
    "test1.doit(), test2.doit(), test3.doit(), test4.doit(), test5.doit()"
   ]
  },
  {
   "cell_type": "code",
   "execution_count": 512,
   "metadata": {},
   "outputs": [
    {
     "data": {
      "text/plain": [
       "(PoissonBracket(PoissonBracket(A, B), C),\n",
       " PoissonBracket(PoissonBracket(x**2, p_x + x), C),\n",
       " PoissonBracket(PoissonBracket(A(x, p_x), B(y, p_y)), C),\n",
       " PoissonBracket(PoissonBracket(x**2, p_x + x), C),\n",
       " PoissonBracket(PoissonBracket(A(x, p_x), B(x, y, p_y)), C),\n",
       " PoissonBracket(PoissonBracket(A(x, p_x), B(x, y, p_y)), C(x, p_x)),\n",
       " (-Derivative(A(x, p_x), p_x)*Derivative(B(x, y, p_y), (x, 2)) - Derivative(A(x, p_x), p_x, x)*Derivative(B(x, y, p_y), x))*Derivative(C(x, p_x), p_x) + Derivative(A(x, p_x), (p_x, 2))*Derivative(B(x, y, p_y), x)*Derivative(C(x, p_x), x))"
      ]
     },
     "execution_count": 512,
     "metadata": {},
     "output_type": "execute_result"
    }
   ],
   "source": [
    "test6.doit(), test7.doit(), test8.doit(), test9.doit(), test10.doit(), test11.doit(), test12.doit()"
   ]
  },
  {
   "cell_type": "code",
   "execution_count": 513,
   "metadata": {},
   "outputs": [
    {
     "data": {
      "text/latex": [
       "$\\displaystyle 2 x$"
      ],
      "text/plain": [
       "2*x"
      ]
     },
     "execution_count": 513,
     "metadata": {},
     "output_type": "execute_result"
    }
   ],
   "source": [
    "test4.doit()"
   ]
  },
  {
   "cell_type": "code",
   "execution_count": 514,
   "metadata": {},
   "outputs": [
    {
     "data": {
      "text/latex": [
       "$\\displaystyle - \\frac{\\partial}{\\partial p_{x}} A{\\left(x,p_{x} \\right)} \\frac{\\partial}{\\partial x} B{\\left(x,y,p_{y} \\right)}$"
      ],
      "text/plain": [
       "-Derivative(A(x, p_x), p_x)*Derivative(B(x, y, p_y), x)"
      ]
     },
     "execution_count": 514,
     "metadata": {},
     "output_type": "execute_result"
    }
   ],
   "source": [
    "test5.doit()"
   ]
  },
  {
   "cell_type": "code",
   "execution_count": 515,
   "metadata": {},
   "outputs": [
    {
     "data": {
      "text/latex": [
       "$\\displaystyle \\left(- \\frac{\\partial}{\\partial p_{x}} A{\\left(x,p_{x} \\right)} \\frac{\\partial^{2}}{\\partial x^{2}} B{\\left(x,y,p_{y} \\right)} - \\frac{\\partial^{2}}{\\partial x\\partial p_{x}} A{\\left(x,p_{x} \\right)} \\frac{\\partial}{\\partial x} B{\\left(x,y,p_{y} \\right)}\\right) \\frac{\\partial}{\\partial p_{x}} C{\\left(x,p_{x} \\right)} + \\frac{\\partial^{2}}{\\partial p_{x}^{2}} A{\\left(x,p_{x} \\right)} \\frac{\\partial}{\\partial x} B{\\left(x,y,p_{y} \\right)} \\frac{\\partial}{\\partial x} C{\\left(x,p_{x} \\right)}$"
      ],
      "text/plain": [
       "(-Derivative(A(x, p_x), p_x)*Derivative(B(x, y, p_y), (x, 2)) - Derivative(A(x, p_x), p_x, x)*Derivative(B(x, y, p_y), x))*Derivative(C(x, p_x), p_x) + Derivative(A(x, p_x), (p_x, 2))*Derivative(B(x, y, p_y), x)*Derivative(C(x, p_x), x)"
      ]
     },
     "execution_count": 515,
     "metadata": {},
     "output_type": "execute_result"
    }
   ],
   "source": [
    "test12.doit()"
   ]
  },
  {
   "cell_type": "code",
   "execution_count": 516,
   "metadata": {},
   "outputs": [
    {
     "data": {
      "text/latex": [
       "$\\displaystyle \\left(\\frac{\\partial}{\\partial x} A{\\left(x,p_{x} \\right)} + \\frac{\\partial}{\\partial x} B{\\left(x,y,p_{y} \\right)}\\right) \\frac{\\partial}{\\partial p_{x}} C{\\left(x,p_{x} \\right)} - \\frac{\\partial}{\\partial p_{x}} A{\\left(x,p_{x} \\right)} \\frac{\\partial}{\\partial x} C{\\left(x,p_{x} \\right)}$"
      ],
      "text/plain": [
       "(Derivative(A(x, p_x), x) + Derivative(B(x, y, p_y), x))*Derivative(C(x, p_x), p_x) - Derivative(A(x, p_x), p_x)*Derivative(C(x, p_x), x)"
      ]
     },
     "execution_count": 516,
     "metadata": {},
     "output_type": "execute_result"
    }
   ],
   "source": [
    "test13.doit()"
   ]
  },
  {
   "cell_type": "code",
   "execution_count": 517,
   "metadata": {},
   "outputs": [
    {
     "name": "stdout",
     "output_type": "stream",
     "text": [
      "<class '__main__.PoissonBracket'>\n",
      "<class '__main__.PoissonBracket'>\n",
      "[PoissonBracket(A(x, p_x), C(x, p_x)), PoissonBracket(B(x, y, p_y), C(x, p_x))]\n"
     ]
    },
    {
     "data": {
      "text/latex": [
       "$\\displaystyle \\lbrace A,C\\rbrace + \\lbrace B,C\\rbrace$"
      ],
      "text/plain": [
       "PoissonBracket(A(x, p_x), C(x, p_x)) + PoissonBracket(B(x, y, p_y), C(x, p_x))"
      ]
     },
     "execution_count": 517,
     "metadata": {},
     "output_type": "execute_result"
    }
   ],
   "source": [
    "test13.expand(commutator=True)"
   ]
  },
  {
   "cell_type": "code",
   "execution_count": 1162,
   "metadata": {},
   "outputs": [
    {
     "name": "stdout",
     "output_type": "stream",
     "text": [
      "['A', 'B + C']\n"
     ]
    },
    {
     "data": {
      "text/latex": [
       "$\\displaystyle \\lbrace A,B + C\\rbrace$"
      ],
      "text/plain": [
       "PoissonBracket(A(x, p_x), B(x, y, p_y) + C(x, p_x))"
      ]
     },
     "execution_count": 1162,
     "metadata": {},
     "output_type": "execute_result"
    }
   ],
   "source": [
    "test14"
   ]
  },
  {
   "cell_type": "code",
   "execution_count": 518,
   "metadata": {},
   "outputs": [
    {
     "data": {
      "text/latex": [
       "$\\displaystyle \\lbrace A,B\\rbrace + \\lbrace A,C\\rbrace$"
      ],
      "text/plain": [
       "PoissonBracket(A(x, p_x), B(x, y, p_y)) + PoissonBracket(A(x, p_x), C(x, p_x))"
      ]
     },
     "execution_count": 518,
     "metadata": {},
     "output_type": "execute_result"
    }
   ],
   "source": [
    "test14.expand(commutator=True)"
   ]
  },
  {
   "cell_type": "code",
   "execution_count": 519,
   "metadata": {},
   "outputs": [
    {
     "data": {
      "text/latex": [
       "$\\displaystyle A{\\left(x,p_{x} \\right)} \\lbrace B,C\\rbrace + \\lbrace A,C\\rbrace B{\\left(x,y,p_{y} \\right)}$"
      ],
      "text/plain": [
       "A(x, p_x)*PoissonBracket(B(x, y, p_y), C(x, p_x)) + PoissonBracket(A(x, p_x), C(x, p_x))*B(x, y, p_y)"
      ]
     },
     "execution_count": 519,
     "metadata": {},
     "output_type": "execute_result"
    }
   ],
   "source": [
    "test15.expand(commutator=True)"
   ]
  },
  {
   "cell_type": "code",
   "execution_count": 520,
   "metadata": {},
   "outputs": [
    {
     "data": {
      "text/latex": [
       "$\\displaystyle B{\\left(x,y,p_{y} \\right)} \\lbrace A,C\\rbrace + \\lbrace A,B\\rbrace C{\\left(x,p_{x} \\right)}$"
      ],
      "text/plain": [
       "B(x, y, p_y)*PoissonBracket(A(x, p_x), C(x, p_x)) + PoissonBracket(A(x, p_x), B(x, y, p_y))*C(x, p_x)"
      ]
     },
     "execution_count": 520,
     "metadata": {},
     "output_type": "execute_result"
    }
   ],
   "source": [
    "test16.expand(commutator=True).doit()"
   ]
  },
  {
   "cell_type": "code",
   "execution_count": 1163,
   "metadata": {},
   "outputs": [
    {
     "name": "stdout",
     "output_type": "stream",
     "text": [
      "['A^3', 'B']\n"
     ]
    },
    {
     "data": {
      "text/latex": [
       "$\\displaystyle \\lbrace A^3,B\\rbrace$"
      ],
      "text/plain": [
       "PoissonBracket(A(x, p_x)**3, B(x, y, p_y))"
      ]
     },
     "execution_count": 1163,
     "metadata": {},
     "output_type": "execute_result"
    }
   ],
   "source": [
    "test17"
   ]
  },
  {
   "cell_type": "code",
   "execution_count": 1164,
   "metadata": {},
   "outputs": [
    {
     "name": "stdout",
     "output_type": "stream",
     "text": [
      "['A', 'B']\n",
      "['A', 'B']\n",
      "['A', 'B']\n"
     ]
    },
    {
     "data": {
      "text/latex": [
       "$\\displaystyle A{\\left(x,p_{x} \\right)} \\lbrace A,B\\rbrace A{\\left(x,p_{x} \\right)} + A^{2}{\\left(x,p_{x} \\right)} \\lbrace A,B\\rbrace + \\lbrace A,B\\rbrace A^{2}{\\left(x,p_{x} \\right)}$"
      ],
      "text/plain": [
       "A(x, p_x)*PoissonBracket(A(x, p_x), B(x, y, p_y))*A(x, p_x) + A(x, p_x)**2*PoissonBracket(A(x, p_x), B(x, y, p_y)) + PoissonBracket(A(x, p_x), B(x, y, p_y))*A(x, p_x)**2"
      ]
     },
     "execution_count": 1164,
     "metadata": {},
     "output_type": "execute_result"
    }
   ],
   "source": [
    "test17.expand(commutator=True).doit()"
   ]
  },
  {
   "cell_type": "code",
   "execution_count": 522,
   "metadata": {},
   "outputs": [
    {
     "data": {
      "text/latex": [
       "$\\displaystyle - \\left(\\left(- \\frac{\\partial}{\\partial p_{x}} A{\\left(x,p_{x} \\right)} \\frac{\\partial^{3}}{\\partial x^{2}\\partial p_{y}} B{\\left(x,y,p_{y} \\right)} - \\frac{\\partial^{2}}{\\partial x\\partial p_{x}} A{\\left(x,p_{x} \\right)} \\frac{\\partial^{2}}{\\partial x\\partial p_{y}} B{\\left(x,y,p_{y} \\right)}\\right) \\frac{\\partial}{\\partial p_{x}} C{\\left(x,p_{x} \\right)} + \\frac{\\partial^{2}}{\\partial p_{x}^{2}} A{\\left(x,p_{x} \\right)} \\frac{\\partial^{2}}{\\partial x\\partial p_{y}} B{\\left(x,y,p_{y} \\right)} \\frac{\\partial}{\\partial x} C{\\left(x,p_{x} \\right)}\\right) \\frac{\\partial}{\\partial y} D{\\left(x,y \\right)} - \\left(\\left(- \\frac{\\partial}{\\partial p_{x}} A{\\left(x,p_{x} \\right)} \\frac{\\partial^{2}}{\\partial x^{2}} B{\\left(x,y,p_{y} \\right)} - \\frac{\\partial^{2}}{\\partial x\\partial p_{x}} A{\\left(x,p_{x} \\right)} \\frac{\\partial}{\\partial x} B{\\left(x,y,p_{y} \\right)}\\right) \\frac{\\partial^{2}}{\\partial p_{x}^{2}} C{\\left(x,p_{x} \\right)} + \\left(- \\frac{\\partial^{2}}{\\partial p_{x}^{2}} A{\\left(x,p_{x} \\right)} \\frac{\\partial^{2}}{\\partial x^{2}} B{\\left(x,y,p_{y} \\right)} - \\frac{\\partial^{3}}{\\partial x\\partial p_{x}^{2}} A{\\left(x,p_{x} \\right)} \\frac{\\partial}{\\partial x} B{\\left(x,y,p_{y} \\right)}\\right) \\frac{\\partial}{\\partial p_{x}} C{\\left(x,p_{x} \\right)} + \\frac{\\partial^{2}}{\\partial p_{x}^{2}} A{\\left(x,p_{x} \\right)} \\frac{\\partial}{\\partial x} B{\\left(x,y,p_{y} \\right)} \\frac{\\partial^{2}}{\\partial x\\partial p_{x}} C{\\left(x,p_{x} \\right)} + \\frac{\\partial^{3}}{\\partial p_{x}^{3}} A{\\left(x,p_{x} \\right)} \\frac{\\partial}{\\partial x} B{\\left(x,y,p_{y} \\right)} \\frac{\\partial}{\\partial x} C{\\left(x,p_{x} \\right)}\\right) \\frac{\\partial}{\\partial x} D{\\left(x,y \\right)}$"
      ],
      "text/plain": [
       "-((-Derivative(A(x, p_x), p_x)*Derivative(B(x, y, p_y), p_y, (x, 2)) - Derivative(A(x, p_x), p_x, x)*Derivative(B(x, y, p_y), p_y, x))*Derivative(C(x, p_x), p_x) + Derivative(A(x, p_x), (p_x, 2))*Derivative(B(x, y, p_y), p_y, x)*Derivative(C(x, p_x), x))*Derivative(D(x, y), y) - ((-Derivative(A(x, p_x), p_x)*Derivative(B(x, y, p_y), (x, 2)) - Derivative(A(x, p_x), p_x, x)*Derivative(B(x, y, p_y), x))*Derivative(C(x, p_x), (p_x, 2)) + (-Derivative(A(x, p_x), (p_x, 2))*Derivative(B(x, y, p_y), (x, 2)) - Derivative(A(x, p_x), (p_x, 2), x)*Derivative(B(x, y, p_y), x))*Derivative(C(x, p_x), p_x) + Derivative(A(x, p_x), (p_x, 2))*Derivative(B(x, y, p_y), x)*Derivative(C(x, p_x), p_x, x) + Derivative(A(x, p_x), (p_x, 3))*Derivative(B(x, y, p_y), x)*Derivative(C(x, p_x), x))*Derivative(D(x, y), x)"
      ]
     },
     "execution_count": 522,
     "metadata": {},
     "output_type": "execute_result"
    }
   ],
   "source": [
    "test18.doit()"
   ]
  },
  {
   "cell_type": "code",
   "execution_count": 523,
   "metadata": {},
   "outputs": [
    {
     "data": {
      "text/latex": [
       "$\\displaystyle \\lbrace \\lbrace \\lbrace A,B\\rbrace,C\\rbrace,D\\rbrace$"
      ],
      "text/plain": [
       "PoissonBracket(PoissonBracket(PoissonBracket(A(x, p_x), B(x, y, p_y)), C(x, p_x)), D(x, y))"
      ]
     },
     "execution_count": 523,
     "metadata": {},
     "output_type": "execute_result"
    }
   ],
   "source": [
    "test18.expand(commutator=True)"
   ]
  },
  {
   "cell_type": "code",
   "execution_count": 524,
   "metadata": {},
   "outputs": [
    {
     "data": {
      "text/latex": [
       "$\\displaystyle - \\left(\\left(\\frac{\\partial}{\\partial x} A{\\left(x,p_{x} \\right)} + \\frac{\\partial}{\\partial x} B{\\left(x,y,p_{y} \\right)}\\right) \\frac{\\partial^{2}}{\\partial p_{x}^{2}} C{\\left(x,p_{x} \\right)} - \\frac{\\partial}{\\partial p_{x}} A{\\left(x,p_{x} \\right)} \\frac{\\partial^{2}}{\\partial x\\partial p_{x}} C{\\left(x,p_{x} \\right)} - \\frac{\\partial^{2}}{\\partial p_{x}^{2}} A{\\left(x,p_{x} \\right)} \\frac{\\partial}{\\partial x} C{\\left(x,p_{x} \\right)} + \\frac{\\partial^{2}}{\\partial x\\partial p_{x}} A{\\left(x,p_{x} \\right)} \\frac{\\partial}{\\partial p_{x}} C{\\left(x,p_{x} \\right)}\\right) \\frac{\\partial}{\\partial x} D{\\left(x,y \\right)} - \\frac{\\partial^{2}}{\\partial x\\partial p_{y}} B{\\left(x,y,p_{y} \\right)} \\frac{\\partial}{\\partial p_{x}} C{\\left(x,p_{x} \\right)} \\frac{\\partial}{\\partial y} D{\\left(x,y \\right)}$"
      ],
      "text/plain": [
       "-((Derivative(A(x, p_x), x) + Derivative(B(x, y, p_y), x))*Derivative(C(x, p_x), (p_x, 2)) - Derivative(A(x, p_x), p_x)*Derivative(C(x, p_x), p_x, x) - Derivative(A(x, p_x), (p_x, 2))*Derivative(C(x, p_x), x) + Derivative(A(x, p_x), p_x, x)*Derivative(C(x, p_x), p_x))*Derivative(D(x, y), x) - Derivative(B(x, y, p_y), p_y, x)*Derivative(C(x, p_x), p_x)*Derivative(D(x, y), y)"
      ]
     },
     "execution_count": 524,
     "metadata": {},
     "output_type": "execute_result"
    }
   ],
   "source": [
    "test19.doit()"
   ]
  },
  {
   "cell_type": "code",
   "execution_count": 525,
   "metadata": {},
   "outputs": [
    {
     "name": "stdout",
     "output_type": "stream",
     "text": [
      "<class '__main__.PoissonBracket'>\n",
      "<class '__main__.PoissonBracket'>\n",
      "[PoissonBracket(A(x, p_x), C(x, p_x)), PoissonBracket(B(x, y, p_y), C(x, p_x))]\n",
      "<class '__main__.PoissonBracket'>\n",
      "<class '__main__.PoissonBracket'>\n",
      "[PoissonBracket(PoissonBracket(A(x, p_x), C(x, p_x)), D(x, y)), PoissonBracket(PoissonBracket(B(x, y, p_y), C(x, p_x)), D(x, y))]\n"
     ]
    },
    {
     "data": {
      "text/latex": [
       "$\\displaystyle \\lbrace \\lbrace A,C\\rbrace,D\\rbrace + \\lbrace \\lbrace B,C\\rbrace,D\\rbrace$"
      ],
      "text/plain": [
       "PoissonBracket(PoissonBracket(A(x, p_x), C(x, p_x)), D(x, y)) + PoissonBracket(PoissonBracket(B(x, y, p_y), C(x, p_x)), D(x, y))"
      ]
     },
     "execution_count": 525,
     "metadata": {},
     "output_type": "execute_result"
    }
   ],
   "source": [
    "test19.expand(commutator=True)"
   ]
  },
  {
   "cell_type": "code",
   "execution_count": 546,
   "metadata": {},
   "outputs": [],
   "source": [
    "from sympy.printing.latex import print_latex\n",
    "from sympy import latex, Derivative"
   ]
  },
  {
   "cell_type": "code",
   "execution_count": 531,
   "metadata": {},
   "outputs": [
    {
     "data": {
      "text/plain": [
       "sympy.core.add.Add"
      ]
     },
     "execution_count": 531,
     "metadata": {},
     "output_type": "execute_result"
    }
   ],
   "source": [
    "test19.doit().__class__"
   ]
  },
  {
   "cell_type": "code",
   "execution_count": 541,
   "metadata": {},
   "outputs": [
    {
     "data": {
      "text/plain": [
       "'\\\\lbrace \\\\lbrace A{\\\\left(x,p_{x} \\\\right)} + B{\\\\left(x,y,p_{y} \\\\right)},C\\\\rbrace,D\\\\rbrace'"
      ]
     },
     "execution_count": 541,
     "metadata": {},
     "output_type": "execute_result"
    }
   ],
   "source": [
    "latex(test19)"
   ]
  },
  {
   "cell_type": "code",
   "execution_count": 543,
   "metadata": {},
   "outputs": [
    {
     "name": "stdout",
     "output_type": "stream",
     "text": [
      "\\lbrace \\lbrace A{\\left(x,p_{x} \\right)} + B{\\left(x,y,p_{y} \\right)},C\\rbrace,D\\rbrace\n"
     ]
    }
   ],
   "source": [
    "print_latex(test19)"
   ]
  },
  {
   "cell_type": "code",
   "execution_count": 551,
   "metadata": {},
   "outputs": [],
   "source": [
    "res12 = (-Derivative(A(x, px), px)*Derivative(B(x, y, py), (x, 2)) - Derivative(A(x, px), px, x)*Derivative(B(x, y, py), x))*Derivative(C(x, px), px) + Derivative(A(x, px), (px, 2))*Derivative(B(x, y, py), x)*Derivative(C(x, px), x)"
   ]
  },
  {
   "cell_type": "code",
   "execution_count": 552,
   "metadata": {},
   "outputs": [
    {
     "data": {
      "text/plain": [
       "True"
      ]
     },
     "execution_count": 552,
     "metadata": {},
     "output_type": "execute_result"
    }
   ],
   "source": [
    "test12.doit() == res12"
   ]
  },
  {
   "cell_type": "code",
   "execution_count": null,
   "metadata": {},
   "outputs": [],
   "source": []
  }
 ],
 "metadata": {
  "kernelspec": {
   "display_name": "Python 3",
   "language": "python",
   "name": "python3"
  },
  "language_info": {
   "codemirror_mode": {
    "name": "ipython",
    "version": 3
   },
   "file_extension": ".py",
   "mimetype": "text/x-python",
   "name": "python",
   "nbconvert_exporter": "python",
   "pygments_lexer": "ipython3",
   "version": "3.6.10"
  }
 },
 "nbformat": 4,
 "nbformat_minor": 4
}
