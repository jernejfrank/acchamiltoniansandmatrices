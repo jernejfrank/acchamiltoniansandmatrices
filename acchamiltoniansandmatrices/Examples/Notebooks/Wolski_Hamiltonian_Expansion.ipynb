{
 "cells": [
  {
   "cell_type": "code",
   "execution_count": 1,
   "metadata": {},
   "outputs": [
    {
     "data": {
      "text/html": [
       "<style>.container { width:90% !important; }</style>"
      ],
      "text/plain": [
       "<IPython.core.display.HTML object>"
      ]
     },
     "metadata": {},
     "output_type": "display_data"
    }
   ],
   "source": [
    "from IPython.core.display import display, HTML\n",
    "display(HTML(\"<style>.container { width:90% !important; }</style>\"))"
   ]
  },
  {
   "cell_type": "code",
   "execution_count": 2,
   "metadata": {},
   "outputs": [],
   "source": [
    "%load_ext autoreload\n",
    "%autoreload 2"
   ]
  },
  {
   "cell_type": "code",
   "execution_count": 72,
   "metadata": {},
   "outputs": [],
   "source": [
    "from sympy import (\n",
    "    Derivative, \n",
    "    S, \n",
    "    Symbol, \n",
    "    series, \n",
    "    sqrt, \n",
    "    symbols, \n",
    "    oo, \n",
    "    limit, \n",
    "    Rational, \n",
    "    cos, \n",
    "    sin, \n",
    "    cosh, \n",
    "    sinh, \n",
    "    Matrix, \n",
    "    simplify, \n",
    "    latex, \n",
    "    lambdify,\n",
    "    Function,\n",
    "    collect,\n",
    "    lambdify,\n",
    "    solve,\n",
    "    Eq,\n",
    "    Poly,\n",
    "    together\n",
    ")\n",
    "import numpy as np\n",
    "import pandas as pd\n",
    "from sympy import init_printing\n",
    "init_printing() \n",
    "\n",
    "from sympy.printing.latex import print_latex\n",
    "from matplotlib import pyplot as plt\n",
    "from mpl_toolkits.mplot3d import axes3d\n",
    "import matplotlib.pyplot as plt\n",
    "from matplotlib import cm\n",
    "%matplotlib notebook\n",
    "from pymad_hzb.PlotTools import new_plot_elems_madx\n",
    "from mpl_toolkits.mplot3d import axes3d\n",
    "import matplotlib.pyplot as plt\n",
    "from matplotlib import cm"
   ]
  },
  {
   "cell_type": "code",
   "execution_count": 4,
   "metadata": {},
   "outputs": [],
   "source": [
    "from acchamiltoniansandmatrices.Matrices.SymbMatrices import (\n",
    "    RsymbFODO, \n",
    "    RsymbDrift6D, \n",
    "    RsymbQuad6D, \n",
    "    RsymbQuad6DChroma, \n",
    "    RsymbQuad6DThin\n",
    ")\n",
    "from acchamiltoniansandmatrices.Matrices.NumpyMatrices import (\n",
    "    RnpFODO, \n",
    "    RnpDrift6D, \n",
    "    RnpQuad6D, \n",
    "    RnpQuad6DChroma, \n",
    "    RnpQuad6DThin\n",
    ")\n",
    "from acchamiltoniansandmatrices.Hamiltonians.LatticeElementHamiltonians import (\n",
    "    HamDrift6D, \n",
    "    HamDrift6DParaxialSecondOrder, \n",
    "    HamQuad6D, \n",
    "    HamQuad6DParaxialSecondOrder, \n",
    "    HamQuad6DParaxialSecondOrderChroma,\n",
    ")\n",
    "from acchamiltoniansandmatrices.Hamiltonians.Operators import Poisson\n",
    "from acchamiltoniansandmatrices.Tracking.LinearMatrixTracking import nestList, LinMap, GenerateNDimCoordinateGrid\n",
    "from acchamiltoniansandmatrices.LieMaps.LieOperator import LieOperator\n",
    "from acchamiltoniansandmatrices.LieMaps.Poisson import PoissonBracket\n",
    "\n",
    "from acchamiltoniansandmatrices.Utils.JupyterHelpFunctions import hide_toggle\n",
    "from acchamiltoniansandmatrices.Utils.SymbolicFunctions import SymbolTrick, fixedpoints2D"
   ]
  },
  {
   "cell_type": "code",
   "execution_count": 5,
   "metadata": {},
   "outputs": [],
   "source": [
    "x, px, y, py, z, delta, eps, h , k0, k1, k2, sigma, betag ,f = symbols('x p_x y p_y z delta epsilon h k_0 k_1 k_2 sigma beta_gamma f', real=True)\n",
    "L, beta0, gamma0 = symbols(\" L beta_0 gamma_0\", real=True, positive=True)"
   ]
  },
  {
   "cell_type": "markdown",
   "metadata": {},
   "source": [
    "# Generic expansion of root"
   ]
  },
  {
   "cell_type": "code",
   "execution_count": 21,
   "metadata": {},
   "outputs": [
    {
     "data": {
      "image/png": "[encoded data removed]",
      "text/latex": [
       "$\\displaystyle 1 - \\frac{x^{2}}{2} + O\\left(x^{4}\\right)$"
      ],
      "text/plain": [
       "     2        \n",
       "    x     ⎛ 4⎞\n",
       "1 - ── + O⎝x ⎠\n",
       "    2         "
      ]
     },
     "execution_count": 21,
     "metadata": {},
     "output_type": "execute_result"
    }
   ],
   "source": [
    "series(sqrt(1-x**2),x,0,4)"
   ]
  },
  {
   "cell_type": "code",
   "execution_count": 22,
   "metadata": {},
   "outputs": [
    {
     "data": {
      "image/png": "[encoded data removed]",
      "text/latex": [
       "$\\displaystyle 1 + \\frac{x^{2}}{2} + O\\left(x^{4}\\right)$"
      ],
      "text/plain": [
       "     2        \n",
       "    x     ⎛ 4⎞\n",
       "1 + ── + O⎝x ⎠\n",
       "    2         "
      ]
     },
     "execution_count": 22,
     "metadata": {},
     "output_type": "execute_result"
    }
   ],
   "source": [
    "series(sqrt(1+x**2),x,0,4)"
   ]
  },
  {
   "cell_type": "markdown",
   "metadata": {},
   "source": [
    "# Relativistic Relations"
   ]
  },
  {
   "cell_type": "markdown",
   "metadata": {},
   "source": [
    "$$\\gamma_0^2 = \\frac{1}{1-\\beta_0^2} \\\\\n",
    "\\gamma_0^2 \\beta_0^2 = \\frac{\\beta_0^2}{1-\\beta_0^2} \\\\\n",
    "\\frac{1}{\\beta_0^2 \\gamma_0^2} = \\frac{1}{\\beta_0^2}-1\n",
    "$$"
   ]
  },
  {
   "cell_type": "markdown",
   "metadata": {},
   "source": [
    "#  Derivation of Eq 3.2"
   ]
  },
  {
   "cell_type": "code",
   "execution_count": 104,
   "metadata": {},
   "outputs": [
    {
     "data": {
      "image/png": "[encoded data removed]",
      "text/latex": [
       "$\\displaystyle L \\left(- \\sqrt{- p_{x}^{2} - p_{y}^{2} + \\left(\\delta + \\frac{1}{\\beta_{0}}\\right)^{2} - \\frac{1}{\\beta_{0}^{2} \\gamma_{0}^{2}}} + \\frac{\\delta}{\\beta_{0}}\\right)$"
      ],
      "text/plain": [
       "  ⎛        ____________________________________     ⎞\n",
       "  ⎜       ╱                        2                ⎟\n",
       "  ⎜      ╱      2      2   ⎛    1 ⎞       1       δ ⎟\n",
       "L⋅⎜-    ╱   - pₓ  - p_y  + ⎜δ + ──⎟  - ───────  + ──⎟\n",
       "  ⎜    ╱                   ⎝    β₀⎠      2   2    β₀⎟\n",
       "  ⎝  ╲╱                                β₀ ⋅γ₀       ⎠"
      ]
     },
     "execution_count": 104,
     "metadata": {},
     "output_type": "execute_result"
    }
   ],
   "source": [
    "H0 = HamDrift6D(beta0, gamma0, L, x, px, y, py, delta)\n",
    "H0"
   ]
  },
  {
   "cell_type": "code",
   "execution_count": 105,
   "metadata": {},
   "outputs": [
    {
     "data": {
      "image/png": "[encoded data removed]",
      "text/latex": [
       "$\\displaystyle L \\left(- \\sqrt{- p_{x}^{2} - p_{y}^{2} + \\left(\\delta + \\frac{1}{\\beta_{0}}\\right)^{2} + 1 - \\frac{1}{\\beta_{0}^{2}}} + \\frac{\\delta}{\\beta_{0}}\\right)$"
      ],
      "text/plain": [
       "  ⎛        ____________________________________     ⎞\n",
       "  ⎜       ╱                        2                ⎟\n",
       "  ⎜      ╱      2      2   ⎛    1 ⎞         1     δ ⎟\n",
       "L⋅⎜-    ╱   - pₓ  - p_y  + ⎜δ + ──⎟  + 1 - ───  + ──⎟\n",
       "  ⎜    ╱                   ⎝    β₀⎠          2    β₀⎟\n",
       "  ⎝  ╲╱                                    β₀       ⎠"
      ]
     },
     "execution_count": 105,
     "metadata": {},
     "output_type": "execute_result"
    }
   ],
   "source": [
    "H1 = H0.subs(1/(beta0**2*gamma0**2),1/beta0**2-1)\n",
    "H1"
   ]
  },
  {
   "cell_type": "code",
   "execution_count": 106,
   "metadata": {},
   "outputs": [
    {
     "data": {
      "image/png": "[encoded data removed]",
      "text/latex": [
       "$\\displaystyle - p_{x}^{2} - p_{y}^{2} + \\left(\\delta + \\frac{1}{\\beta_{0}}\\right)^{2} + 1 - \\frac{1}{\\beta_{0}^{2}}$"
      ],
      "text/plain": [
       "                       2          \n",
       "    2      2   ⎛    1 ⎞         1 \n",
       "- pₓ  - p_y  + ⎜δ + ──⎟  + 1 - ───\n",
       "               ⎝    β₀⎠          2\n",
       "                               β₀ "
      ]
     },
     "execution_count": 106,
     "metadata": {},
     "output_type": "execute_result"
    }
   ],
   "source": [
    "rootarg = H1.args[1].args[0].args[1].args[0]\n",
    "rootarg"
   ]
  },
  {
   "cell_type": "code",
   "execution_count": 107,
   "metadata": {},
   "outputs": [
    {
     "data": {
      "image/png": "[encoded data removed]",
      "text/latex": [
       "$\\displaystyle \\delta^{2} - p_{x}^{2} - p_{y}^{2} + 1 + \\frac{2 \\delta}{\\beta_{0}}$"
      ],
      "text/plain": [
       " 2     2      2       2⋅δ\n",
       "δ  - pₓ  - p_y  + 1 + ───\n",
       "                       β₀"
      ]
     },
     "execution_count": 107,
     "metadata": {},
     "output_type": "execute_result"
    }
   ],
   "source": [
    "rootargs = simplify(rootarg)\n",
    "rootargs"
   ]
  },
  {
   "cell_type": "code",
   "execution_count": 108,
   "metadata": {},
   "outputs": [
    {
     "data": {
      "image/png": "[encoded data removed]",
      "text/latex": [
       "$\\displaystyle D - p_{x}^{2} - p_{y}^{2}$"
      ],
      "text/plain": [
       "      2      2\n",
       "D - pₓ  - p_y "
      ]
     },
     "execution_count": 108,
     "metadata": {},
     "output_type": "execute_result"
    }
   ],
   "source": [
    "D = symbols(\"D\")\n",
    "rootargs = rootargs.subs(delta**2+2*delta/beta0+1,D)\n",
    "rootargs"
   ]
  },
  {
   "cell_type": "code",
   "execution_count": 109,
   "metadata": {},
   "outputs": [
    {
     "data": {
      "image/png": "[encoded data removed]",
      "text/latex": [
       "$\\displaystyle \\frac{D - p_{x}^{2} - p_{y}^{2}}{D}$"
      ],
      "text/plain": [
       "      2      2\n",
       "D - pₓ  - p_y \n",
       "──────────────\n",
       "      D       "
      ]
     },
     "execution_count": 109,
     "metadata": {},
     "output_type": "execute_result"
    }
   ],
   "source": [
    "rootargs = rootargs/D\n",
    "rootargs"
   ]
  },
  {
   "cell_type": "code",
   "execution_count": 110,
   "metadata": {},
   "outputs": [
    {
     "data": {
      "image/png": "[encoded data removed]",
      "text/latex": [
       "$\\displaystyle 1 - \\frac{p_{x}^{2}}{D^{2}} - \\frac{p_{y}^{2}}{D^{2}}$"
      ],
      "text/plain": [
       "      2      2\n",
       "    pₓ    p_y \n",
       "1 - ─── - ────\n",
       "      2     2 \n",
       "     D     D  "
      ]
     },
     "execution_count": 110,
     "metadata": {},
     "output_type": "execute_result"
    }
   ],
   "source": [
    "sub1 = list(zip([D,px,py],[1,px/D,py/D]))\n",
    "rootargsp = rootargs.subs(sub1)\n",
    "rootargsp"
   ]
  },
  {
   "cell_type": "code",
   "execution_count": 111,
   "metadata": {},
   "outputs": [
    {
     "data": {
      "image/png": "[encoded data removed]",
      "text/latex": [
       "$\\displaystyle \\sqrt{1 - \\frac{p_{x}^{2}}{D^{2}} - \\frac{p_{y}^{2}}{D^{2}}}$"
      ],
      "text/plain": [
       "      ________________\n",
       "     ╱       2      2 \n",
       "    ╱      pₓ    p_y  \n",
       "   ╱   1 - ─── - ──── \n",
       "  ╱          2     2  \n",
       "╲╱          D     D   "
      ]
     },
     "execution_count": 111,
     "metadata": {},
     "output_type": "execute_result"
    }
   ],
   "source": [
    "newroot = sqrt(rootargsp)\n",
    "newroot"
   ]
  },
  {
   "cell_type": "code",
   "execution_count": 112,
   "metadata": {},
   "outputs": [
    {
     "data": {
      "image/png": "[encoded data removed]",
      "text/latex": [
       "$\\displaystyle D - \\frac{p_{x}^{2}}{2 D} - \\frac{p_{y}^{2}}{2 D}$"
      ],
      "text/plain": [
       "      2      2\n",
       "    pₓ    p_y \n",
       "D - ─── - ────\n",
       "    2⋅D   2⋅D "
      ]
     },
     "execution_count": 112,
     "metadata": {},
     "output_type": "execute_result"
    }
   ],
   "source": [
    "H33 = (D*series(newroot.subs(sub0),eps,0,4).removeO().subs(eps,1)).expand()\n",
    "H33"
   ]
  },
  {
   "cell_type": "markdown",
   "metadata": {},
   "source": [
    "# Derivation of Eq 3.25"
   ]
  },
  {
   "cell_type": "code",
   "execution_count": 113,
   "metadata": {},
   "outputs": [
    {
     "data": {
      "image/png": "[encoded data removed]",
      "text/latex": [
       "$\\displaystyle L \\left(- \\sqrt{- p_{x}^{2} - p_{y}^{2} + \\left(\\delta + \\frac{1}{\\beta_{0}}\\right)^{2} - \\frac{1}{\\beta_{0}^{2} \\gamma_{0}^{2}}} + \\frac{\\delta}{\\beta_{0}}\\right)$"
      ],
      "text/plain": [
       "  ⎛        ____________________________________     ⎞\n",
       "  ⎜       ╱                        2                ⎟\n",
       "  ⎜      ╱      2      2   ⎛    1 ⎞       1       δ ⎟\n",
       "L⋅⎜-    ╱   - pₓ  - p_y  + ⎜δ + ──⎟  - ───────  + ──⎟\n",
       "  ⎜    ╱                   ⎝    β₀⎠      2   2    β₀⎟\n",
       "  ⎝  ╲╱                                β₀ ⋅γ₀       ⎠"
      ]
     },
     "execution_count": 113,
     "metadata": {},
     "output_type": "execute_result"
    }
   ],
   "source": [
    "H0"
   ]
  },
  {
   "cell_type": "code",
   "execution_count": 114,
   "metadata": {},
   "outputs": [
    {
     "data": {
      "image/png": "[encoded data removed]",
      "text/latex": [
       "$\\displaystyle - p_{x}^{2} - p_{y}^{2} + \\left(\\delta + \\frac{1}{\\beta_{0}}\\right)^{2} + 1 - \\frac{1}{\\beta_{0}^{2}}$"
      ],
      "text/plain": [
       "                       2          \n",
       "    2      2   ⎛    1 ⎞         1 \n",
       "- pₓ  - p_y  + ⎜δ + ──⎟  + 1 - ───\n",
       "               ⎝    β₀⎠          2\n",
       "                               β₀ "
      ]
     },
     "execution_count": 114,
     "metadata": {},
     "output_type": "execute_result"
    }
   ],
   "source": [
    "arg = -px**2-py**2+(delta+1/beta0)**2+1-1/beta0**2\n",
    "arg"
   ]
  },
  {
   "cell_type": "code",
   "execution_count": 121,
   "metadata": {},
   "outputs": [
    {
     "data": {
      "image/png": "[encoded data removed]",
      "text/latex": [
       "$\\displaystyle \\frac{\\delta^{2}}{2} - \\frac{p_{x}^{2}}{2} - \\frac{p_{y}^{2}}{2} + 1 - \\frac{\\delta^{2}}{2 \\beta_{0}^{2}}$"
      ],
      "text/plain": [
       " 2     2      2          2 \n",
       "δ    pₓ    p_y          δ  \n",
       "── - ─── - ──── + 1 - ─────\n",
       "2     2     2             2\n",
       "                      2⋅β₀ "
      ]
     },
     "execution_count": 121,
     "metadata": {},
     "output_type": "execute_result"
    }
   ],
   "source": [
    "sub0 = list(zip([px,py,delta],[eps*px,eps*py,eps*delta]))\n",
    "HA = series(sqrt(simplify(arg)).subs(sub0),eps,0,3).removeO().subs(eps,1)-delta/beta0\n",
    "HA"
   ]
  },
  {
   "cell_type": "code",
   "execution_count": 122,
   "metadata": {},
   "outputs": [
    {
     "data": {
      "image/png": "[encoded data removed]",
      "text/latex": [
       "$\\displaystyle \\delta^{2} \\left(\\frac{1}{2} - \\frac{1}{2 \\beta_{0}^{2}}\\right) - \\frac{p_{x}^{2}}{2} - \\frac{p_{y}^{2}}{2} + 1$"
      ],
      "text/plain": [
       "                   2      2    \n",
       " 2 ⎛1     1  ⎞   pₓ    p_y     \n",
       "δ ⋅⎜─ - ─────⎟ - ─── - ──── + 1\n",
       "   ⎜2       2⎟    2     2      \n",
       "   ⎝    2⋅β₀ ⎠                 "
      ]
     },
     "execution_count": 122,
     "metadata": {},
     "output_type": "execute_result"
    }
   ],
   "source": [
    "HA0 = HA.collect(delta**2)\n",
    "HA0"
   ]
  },
  {
   "cell_type": "code",
   "execution_count": 125,
   "metadata": {},
   "outputs": [
    {
     "data": {
      "image/png": "[encoded data removed]",
      "text/latex": [
       "$\\displaystyle \\frac{p_{x}^{2}}{2} + \\frac{p_{y}^{2}}{2} - 1 + \\frac{\\delta^{2}}{2 \\beta_{0}^{2} \\gamma_{0}^{2}}$"
      ],
      "text/plain": [
       "  2      2            2   \n",
       "pₓ    p_y            δ    \n",
       "─── + ──── - 1 + ─────────\n",
       " 2     2             2   2\n",
       "                 2⋅β₀ ⋅γ₀ "
      ]
     },
     "execution_count": 125,
     "metadata": {},
     "output_type": "execute_result"
    }
   ],
   "source": [
    "HA325= HA0.subs(1/beta0**2,1+1/(beta0**2*gamma0**2))\n",
    "-HA325"
   ]
  }
 ],
 "metadata": {
  "kernelspec": {
   "display_name": "Python 3",
   "language": "python",
   "name": "python3"
  },
  "language_info": {
   "codemirror_mode": {
    "name": "ipython",
    "version": 3
   },
   "file_extension": ".py",
   "mimetype": "text/x-python",
   "name": "python",
   "nbconvert_exporter": "python",
   "pygments_lexer": "ipython3",
   "version": "3.6.10"
  },
  "toc": {
   "base_numbering": 1,
   "nav_menu": {},
   "number_sections": true,
   "sideBar": true,
   "skip_h1_title": false,
   "title_cell": "Table of Contents",
   "title_sidebar": "Contents",
   "toc_cell": false,
   "toc_position": {},
   "toc_section_display": true,
   "toc_window_display": false
  }
 },
 "nbformat": 4,
 "nbformat_minor": 4
}
