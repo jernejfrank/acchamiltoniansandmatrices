{
 "cells": [
  {
   "cell_type": "code",
   "execution_count": 1,
   "metadata": {},
   "outputs": [
    {
     "data": {
      "text/html": [
       "<style>.container { width:90% !important; }</style>"
      ],
      "text/plain": [
       "<IPython.core.display.HTML object>"
      ]
     },
     "metadata": {},
     "output_type": "display_data"
    }
   ],
   "source": [
    "from IPython.core.display import display, HTML\n",
    "display(HTML(\"<style>.container { width:90% !important; }</style>\"))"
   ]
  },
  {
   "cell_type": "code",
   "execution_count": 2,
   "metadata": {},
   "outputs": [],
   "source": [
    "%load_ext autoreload\n",
    "%autoreload 2"
   ]
  },
  {
   "cell_type": "code",
   "execution_count": 3,
   "metadata": {},
   "outputs": [],
   "source": [
    "from sympy import (\n",
    "    Derivative, \n",
    "    S, \n",
    "    Symbol, \n",
    "    series, \n",
    "    sqrt, \n",
    "    symbols, \n",
    "    oo, \n",
    "    limit, \n",
    "    Rational, \n",
    "    cos, \n",
    "    sin, \n",
    "    cosh, \n",
    "    sinh, \n",
    "    Matrix, \n",
    "    simplify, \n",
    "    latex, \n",
    "    lambdify,\n",
    "    Function,\n",
    "    collect,\n",
    "    lambdify,\n",
    "    solve,\n",
    "    Eq,\n",
    "    Poly\n",
    ")\n",
    "import numpy as np\n",
    "import pandas as pd\n",
    "from sympy import init_printing\n",
    "init_printing() \n",
    "\n",
    "from sympy.printing.latex import print_latex\n",
    "from matplotlib import pyplot as plt\n",
    "from mpl_toolkits.mplot3d import axes3d\n",
    "import matplotlib.pyplot as plt\n",
    "from matplotlib import cm\n",
    "%matplotlib notebook\n",
    "from pymad_hzb.PlotTools import new_plot_elems_madx\n",
    "from mpl_toolkits.mplot3d import axes3d\n",
    "import matplotlib.pyplot as plt\n",
    "from matplotlib import cm"
   ]
  },
  {
   "cell_type": "code",
   "execution_count": 4,
   "metadata": {},
   "outputs": [],
   "source": [
    "from acchamiltoniansandmatrices.Matrices.SymbMatrices import (\n",
    "    RsymbFODO, \n",
    "    RsymbDrift6D, \n",
    "    RsymbQuad6D, \n",
    "    RsymbQuad6DChroma, \n",
    "    RsymbQuad6DThin\n",
    ")\n",
    "from acchamiltoniansandmatrices.Matrices.NumpyMatrices import (\n",
    "    RnpFODO, \n",
    "    RnpDrift6D, \n",
    "    RnpQuad6D, \n",
    "    RnpQuad6DChroma, \n",
    "    RnpQuad6DThin\n",
    ")\n",
    "from acchamiltoniansandmatrices.Hamiltonians.LatticeElementHamiltonians import (\n",
    "    HamDrift6D, \n",
    "    HamDrift6DParaxialSecondOrder, \n",
    "    HamQuad6D, \n",
    "    HamQuad6DParaxialSecondOrder, \n",
    "    HamQuad6DParaxialSecondOrderChroma,\n",
    ")\n",
    "from acchamiltoniansandmatrices.Hamiltonians.Operators import Poisson\n",
    "from acchamiltoniansandmatrices.Tracking.LinearMatrixTracking import nestList, LinMap, GenerateNDimCoordinateGrid\n",
    "from acchamiltoniansandmatrices.LieMaps.LieOperator import LieOperator\n",
    "from acchamiltoniansandmatrices.LieMaps.Poisson import PoissonBracket\n",
    "\n",
    "from acchamiltoniansandmatrices.Utils.JupyterHelpFunctions import hide_toggle\n",
    "from acchamiltoniansandmatrices.Utils.SymbolicFunctions import SymbolTrick, fixedpoints2D"
   ]
  },
  {
   "cell_type": "code",
   "execution_count": 5,
   "metadata": {},
   "outputs": [],
   "source": [
    "x, px, y, py, z, delta, eps, h , k0, k1, k2, sigma, betag ,f = symbols('x p_x y p_y z delta epsilon h k_0 k_1 k_2 sigma beta_gamma f', real=True)\n",
    "L, beta0, gamma0 = symbols(\" L beta_0 gamma_0\", real=True, positive=True)"
   ]
  },
  {
   "cell_type": "markdown",
   "metadata": {},
   "source": [
    "# Generic expansion of root"
   ]
  },
  {
   "cell_type": "code",
   "execution_count": 6,
   "metadata": {},
   "outputs": [
    {
     "data": {
      "image/png": "[encoded data removed]",
      "text/latex": [
       "$\\displaystyle 1 - \\frac{x^{2}}{2} + O\\left(x^{4}\\right)$"
      ],
      "text/plain": [
       "     2        \n",
       "    x     ⎛ 4⎞\n",
       "1 - ── + O⎝x ⎠\n",
       "    2         "
      ]
     },
     "execution_count": 6,
     "metadata": {},
     "output_type": "execute_result"
    }
   ],
   "source": [
    "series(sqrt(1-x**2),x,0,4)"
   ]
  },
  {
   "cell_type": "markdown",
   "metadata": {},
   "source": [
    "#  Approximations to full Hamiltonian"
   ]
  },
  {
   "cell_type": "code",
   "execution_count": 49,
   "metadata": {},
   "outputs": [
    {
     "data": {
      "image/png": "[encoded data removed]",
      "text/latex": [
       "$\\displaystyle L \\left(- \\sqrt{- p_{x}^{2} - p_{y}^{2} + \\left(\\delta + \\frac{1}{\\beta_{0}}\\right)^{2} - \\frac{1}{\\beta_{0}^{2} \\gamma_{0}^{2}}} + \\frac{\\delta}{\\beta_{0}}\\right)$"
      ],
      "text/plain": [
       "  ⎛        ____________________________________     ⎞\n",
       "  ⎜       ╱                        2                ⎟\n",
       "  ⎜      ╱      2      2   ⎛    1 ⎞       1       δ ⎟\n",
       "L⋅⎜-    ╱   - pₓ  - p_y  + ⎜δ + ──⎟  - ───────  + ──⎟\n",
       "  ⎜    ╱                   ⎝    β₀⎠      2   2    β₀⎟\n",
       "  ⎝  ╲╱                                β₀ ⋅γ₀       ⎠"
      ]
     },
     "execution_count": 49,
     "metadata": {},
     "output_type": "execute_result"
    }
   ],
   "source": [
    "H0 = HamDrift6D(beta0, gamma0, L, x, px, y, py, delta)\n",
    "H0"
   ]
  },
  {
   "cell_type": "markdown",
   "metadata": {},
   "source": [
    "The following approximations is first applied:\n",
    "$$\\frac{1}{\\beta_0^2\\gamma_0^2} \\rightarrow 0 \\\\\n",
    "$$\n"
   ]
  },
  {
   "cell_type": "code",
   "execution_count": 50,
   "metadata": {},
   "outputs": [
    {
     "data": {
      "image/png": "[encoded data removed]",
      "text/latex": [
       "$\\displaystyle L \\left(- \\sqrt{- p_{x}^{2} - p_{y}^{2} + \\left(\\delta + \\frac{1}{\\beta_{0}}\\right)^{2}} + \\frac{\\delta}{\\beta_{0}}\\right)$"
      ],
      "text/plain": [
       "  ⎛       __________________________     ⎞\n",
       "  ⎜      ╱                        2      ⎟\n",
       "  ⎜     ╱      2      2   ⎛    1 ⎞     δ ⎟\n",
       "L⋅⎜-   ╱   - pₓ  - p_y  + ⎜δ + ──⎟   + ──⎟\n",
       "  ⎝  ╲╱                   ⎝    β₀⎠     β₀⎠"
      ]
     },
     "execution_count": 50,
     "metadata": {},
     "output_type": "execute_result"
    }
   ],
   "source": [
    "H1 = H0.subs(beta0*gamma0,oo)\n",
    "H1"
   ]
  },
  {
   "cell_type": "code",
   "execution_count": 51,
   "metadata": {},
   "outputs": [
    {
     "data": {
      "image/png": "[encoded data removed]",
      "text/latex": [
       "$\\displaystyle L \\left(- \\sqrt{D^{2} - p_{x}^{2} - p_{y}^{2}} + \\frac{\\delta}{\\beta_{0}}\\right)$"
      ],
      "text/plain": [
       "  ⎛     _________________     ⎞\n",
       "  ⎜    ╱  2     2      2    δ ⎟\n",
       "L⋅⎜- ╲╱  D  - pₓ  - p_y   + ──⎟\n",
       "  ⎝                         β₀⎠"
      ]
     },
     "execution_count": 51,
     "metadata": {},
     "output_type": "execute_result"
    }
   ],
   "source": [
    "D = symbols(\"D\")\n",
    "H2 = H1.subs(delta+1/beta0,D)\n",
    "H2"
   ]
  },
  {
   "cell_type": "code",
   "execution_count": 53,
   "metadata": {},
   "outputs": [
    {
     "data": {
      "image/png": "[encoded data removed]",
      "text/latex": [
       "$\\displaystyle L \\left(- D \\sqrt{1 - \\frac{p_{x}^{2}}{D^{2}} - \\frac{p_{y}^{2}}{D^{2}}} + \\frac{\\delta}{\\beta_{0}}\\right)$"
      ],
      "text/plain": [
       "  ⎛          ________________     ⎞\n",
       "  ⎜         ╱       2      2      ⎟\n",
       "  ⎜        ╱      pₓ    p_y     δ ⎟\n",
       "L⋅⎜- D⋅   ╱   1 - ─── - ────  + ──⎟\n",
       "  ⎜      ╱          2     2     β₀⎟\n",
       "  ⎝    ╲╱          D     D        ⎠"
      ]
     },
     "execution_count": 53,
     "metadata": {},
     "output_type": "execute_result"
    }
   ],
   "source": [
    "H3 = H2.subs(D**2-px**2-py**2,1-px**2/D**2-py**2/D**2)\n",
    "srt = H3.as_terms()[1][1].as_terms()[1][2]\n",
    "H4 = H3.subs(srt, D*srt)\n",
    "H4"
   ]
  },
  {
   "cell_type": "code",
   "execution_count": 54,
   "metadata": {},
   "outputs": [
    {
     "data": {
      "image/png": "[encoded data removed]",
      "text/latex": [
       "$\\displaystyle 1 + \\epsilon^{2} \\left(- \\frac{p_{x}^{2}}{2 D^{2}} - \\frac{p_{y}^{2}}{2 D^{2}}\\right) + O\\left(\\epsilon^{4}\\right)$"
      ],
      "text/plain": [
       "       ⎛    2       2⎞        \n",
       "     2 ⎜  pₓ     p_y ⎟    ⎛ 4⎞\n",
       "1 + ε ⋅⎜- ──── - ────⎟ + O⎝ε ⎠\n",
       "       ⎜     2      2⎟        \n",
       "       ⎝  2⋅D    2⋅D ⎠        "
      ]
     },
     "execution_count": 54,
     "metadata": {},
     "output_type": "execute_result"
    }
   ],
   "source": [
    "sub0 = list(zip([px,py],[eps*px,eps*py]))\n",
    "temp =series(H4.as_terms()[1][1].as_terms()[1][3].subs(sub0),eps,0,4)\n",
    "temp"
   ]
  },
  {
   "cell_type": "code",
   "execution_count": 55,
   "metadata": {},
   "outputs": [],
   "source": [
    "temp = temp.removeO().subs(eps,1)"
   ]
  },
  {
   "cell_type": "code",
   "execution_count": 56,
   "metadata": {},
   "outputs": [
    {
     "data": {
      "image/png": "[encoded data removed]",
      "text/latex": [
       "$\\displaystyle 1 - \\frac{p_{x}^{2}}{2 D^{2}} - \\frac{p_{y}^{2}}{2 D^{2}}$"
      ],
      "text/plain": [
       "      2       2\n",
       "    pₓ     p_y \n",
       "1 - ──── - ────\n",
       "       2      2\n",
       "    2⋅D    2⋅D "
      ]
     },
     "execution_count": 56,
     "metadata": {},
     "output_type": "execute_result"
    }
   ],
   "source": [
    "temp"
   ]
  },
  {
   "cell_type": "code",
   "execution_count": 57,
   "metadata": {},
   "outputs": [
    {
     "data": {
      "image/png": "[encoded data removed]",
      "text/latex": [
       "$\\displaystyle L \\left(- D \\left(1 - \\frac{p_{x}^{2}}{2 D^{2}} - \\frac{p_{y}^{2}}{2 D^{2}}\\right) + \\frac{\\delta}{\\beta_{0}}\\right)$"
      ],
      "text/plain": [
       "  ⎛    ⎛      2       2⎞     ⎞\n",
       "  ⎜    ⎜    pₓ     p_y ⎟   δ ⎟\n",
       "L⋅⎜- D⋅⎜1 - ──── - ────⎟ + ──⎟\n",
       "  ⎜    ⎜       2      2⎟   β₀⎟\n",
       "  ⎝    ⎝    2⋅D    2⋅D ⎠     ⎠"
      ]
     },
     "execution_count": 57,
     "metadata": {},
     "output_type": "execute_result"
    }
   ],
   "source": [
    "H5 = H4.subs(H4.as_terms()[1][1].as_terms()[1][3],temp)\n",
    "H5"
   ]
  },
  {
   "cell_type": "code",
   "execution_count": 58,
   "metadata": {},
   "outputs": [
    {
     "data": {
      "image/png": "[encoded data removed]",
      "text/latex": [
       "$\\displaystyle - D L + \\frac{L \\delta}{\\beta_{0}} + \\frac{L p_{x}^{2}}{2 D} + \\frac{L p_{y}^{2}}{2 D}$"
      ],
      "text/plain": [
       "                 2        2\n",
       "       L⋅δ   L⋅pₓ    L⋅p_y \n",
       "-D⋅L + ─── + ───── + ──────\n",
       "        β₀    2⋅D     2⋅D  "
      ]
     },
     "execution_count": 58,
     "metadata": {},
     "output_type": "execute_result"
    }
   ],
   "source": [
    "simplify(H5)"
   ]
  },
  {
   "cell_type": "markdown",
   "metadata": {},
   "source": [
    "With\n",
    "$$D = \\sqrt{\\delta^{2} + \\frac{2 \\delta}{\\beta_{0}} + \\frac{1}{\\beta_{0}^{2}}}$$\n",
    "\n",
    "These are Eq 3.2 and 3.3 in Wolski where for some reason his $\\frac{1}{\\beta_{0}^{2}}=1$."
   ]
  }
 ],
 "metadata": {
  "kernelspec": {
   "display_name": "Python 3",
   "language": "python",
   "name": "python3"
  },
  "language_info": {
   "codemirror_mode": {
    "name": "ipython",
    "version": 3
   },
   "file_extension": ".py",
   "mimetype": "text/x-python",
   "name": "python",
   "nbconvert_exporter": "python",
   "pygments_lexer": "ipython3",
   "version": "3.6.10"
  },
  "toc": {
   "base_numbering": 1,
   "nav_menu": {},
   "number_sections": true,
   "sideBar": true,
   "skip_h1_title": false,
   "title_cell": "Table of Contents",
   "title_sidebar": "Contents",
   "toc_cell": false,
   "toc_position": {},
   "toc_section_display": true,
   "toc_window_display": false
  }
 },
 "nbformat": 4,
 "nbformat_minor": 4
}
