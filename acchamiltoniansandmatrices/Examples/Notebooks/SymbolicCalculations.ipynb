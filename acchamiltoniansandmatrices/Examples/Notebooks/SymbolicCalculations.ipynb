{
 "cells": [
  {
   "cell_type": "code",
   "execution_count": 1,
   "metadata": {},
   "outputs": [
    {
     "data": {
      "text/html": [
       "<style>.container { width:90% !important; }</style>"
      ],
      "text/plain": [
       "<IPython.core.display.HTML object>"
      ]
     },
     "metadata": {},
     "output_type": "display_data"
    }
   ],
   "source": [
    "from IPython.core.display import display, HTML\n",
    "display(HTML(\"<style>.container { width:90% !important; }</style>\"))"
   ]
  },
  {
   "cell_type": "code",
   "execution_count": 2,
   "metadata": {},
   "outputs": [],
   "source": [
    "%load_ext autoreload\n",
    "%autoreload 2"
   ]
  },
  {
   "cell_type": "code",
   "execution_count": 3,
   "metadata": {},
   "outputs": [],
   "source": [
    "from sympy import (\n",
    "    Derivative, \n",
    "    S, \n",
    "    Symbol, \n",
    "    series, \n",
    "    sqrt, \n",
    "    symbols, \n",
    "    oo, \n",
    "    limit, \n",
    "    Rational, \n",
    "    cos, \n",
    "    sin, \n",
    "    cosh, \n",
    "    sinh, \n",
    "    Matrix, \n",
    "    simplify, \n",
    "    latex, \n",
    "    lambdify,\n",
    "    Function\n",
    ")\n",
    "import numpy as np\n",
    "from sympy import init_printing\n",
    "init_printing() \n",
    "\n",
    "from sympy.printing.latex import print_latex\n",
    "from matplotlib import pyplot as plt\n",
    "from mpl_toolkits.mplot3d import axes3d\n",
    "import matplotlib.pyplot as plt\n",
    "from matplotlib import cm\n",
    "%matplotlib notebook"
   ]
  },
  {
   "cell_type": "code",
   "execution_count": 4,
   "metadata": {},
   "outputs": [],
   "source": [
    "from acchamiltoniansandmatrices.Matrices.SymbMatrices import (\n",
    "    RsymbFODO, \n",
    "    RsymbDrift6D, \n",
    "    RsymbQuad6D, \n",
    "    RsymbQuad6DChroma, \n",
    "    RsymbQuad6DThin\n",
    ")\n",
    "from acchamiltoniansandmatrices.Matrices.NumpyMatrices import (\n",
    "    RnpFODO, \n",
    "    RnpDrift6D, \n",
    "    RnpQuad6D, \n",
    "    RnpQuad6DChroma, \n",
    "    RnpQuad6DThin\n",
    ")\n",
    "from acchamiltoniansandmatrices.Hamiltonians.LatticeElementHamiltonians import (\n",
    "    HamDrift6D, \n",
    "    HamDrift6DParaxialSecondOrder, \n",
    "    HamQuad6D, \n",
    "    HamQuad6DParaxialSecondOrder, \n",
    "    HamQuad6DParaxialSecondOrderChroma,\n",
    ")\n",
    "from acchamiltoniansandmatrices.Hamiltonians.Operators import Poisson\n",
    "from acchamiltoniansandmatrices.Tracking.LinearMatrixTracking import nestList, LinMap, GenerateNDimCoordinateGrid\n",
    "from acchamiltoniansandmatrices.LieMaps.LieOperator import LieOperator\n",
    "from acchamiltoniansandmatrices.LieMaps.PoissonOperator import PoissonBracket"
   ]
  },
  {
   "cell_type": "code",
   "execution_count": 5,
   "metadata": {},
   "outputs": [],
   "source": [
    "x, px, y, py, z, delta, eps, h , k0, k1, k2, sigma, betag ,f = symbols('x p_x y p_y z delta epsilon h k_0 k_1 k_2 sigma beta_gamma f', real=True)\n",
    "L, beta0, gamma0 = symbols(\" L beta_0 gamma_0\", real=True, positive=True)"
   ]
  },
  {
   "cell_type": "markdown",
   "metadata": {},
   "source": [
    "# General"
   ]
  },
  {
   "cell_type": "markdown",
   "metadata": {},
   "source": [
    "We  start by considering the following lattice:\n",
    "$$A-B-C-D-E$$\n",
    "where A,B,C,D,E are generic lattice elements and we consider the beam coming from the left (this important for the ordering of the operators).\n",
    "\n",
    "The corresponding Lie map is given by:\n",
    "$$e^{A}e^{B}e^{C}e^{D}e^{E}$$\n",
    "and after the correct coordinate transformations this becomes:\n",
    "$$e^{E}e^{D}e^{C}e^{B}e^{A}$$\n",
    "\n",
    "The operators A,..,E in the exponents need to be combined using the BCH formula. Doing this order by order, where with order we mean the number of iterative Poisson brackets and not the order of the resulting polynomial in the independent coordinates, we get:\n",
    "$$H_0 = A +B + C + D + E$$"
   ]
  },
  {
   "cell_type": "code",
   "execution_count": 6,
   "metadata": {},
   "outputs": [
    {
     "data": {
      "image/png": "[encoded data removed]",
      "text/latex": [
       "$\\displaystyle \\left( 2 L \\left(- \\sqrt{- p_{x}^{2} - p_{y}^{2} + \\left(\\delta + \\frac{1}{\\beta_{0}}\\right)^{2} - \\frac{1}{\\beta_{0}^{2} \\gamma_{0}^{2}}} + \\frac{\\delta}{\\beta_{0}}\\right), \\  \\frac{L k_{1} \\left(x^{2} - y^{2}\\right)}{2}\\right)$"
      ],
      "text/plain": [
       "⎛    ⎛        ____________________________________     ⎞                ⎞\n",
       "⎜    ⎜       ╱                        2                ⎟       ⎛ 2    2⎞⎟\n",
       "⎜    ⎜      ╱      2      2   ⎛    1 ⎞       1       δ ⎟  L⋅k₁⋅⎝x  - y ⎠⎟\n",
       "⎜2⋅L⋅⎜-    ╱   - pₓ  - p_y  + ⎜δ + ──⎟  - ───────  + ──⎟, ──────────────⎟\n",
       "⎜    ⎜    ╱                   ⎝    β₀⎠      2   2    β₀⎟        2       ⎟\n",
       "⎝    ⎝  ╲╱                                β₀ ⋅γ₀       ⎠                ⎠"
      ]
     },
     "execution_count": 6,
     "metadata": {},
     "output_type": "execute_result"
    }
   ],
   "source": [
    "(HamDrift6D(beta0,gamma0,L,x,px,y,py,delta) + HamQuad6D(beta0,gamma0,L,x,px,y,py,delta,k1)).args"
   ]
  },
  {
   "cell_type": "code",
   "execution_count": 82,
   "metadata": {},
   "outputs": [],
   "source": [
    "A = Function(\"A\", commutative=False)(x,px)\n",
    "B = Function(\"B\", commutative=False)(x,px)\n",
    "C = Function(\"C\")(x,px)\n",
    "D = Function(\"D\")(x,px)\n",
    "E = Function(\"E\")(x,px)"
   ]
  },
  {
   "cell_type": "code",
   "execution_count": 8,
   "metadata": {},
   "outputs": [],
   "source": [
    "Aop = LieOperator(A,x,px)\n",
    "Bop = LieOperator(B,x,px)"
   ]
  },
  {
   "cell_type": "code",
   "execution_count": 11,
   "metadata": {},
   "outputs": [
    {
     "data": {
      "image/png": "[encoded data removed]",
      "text/latex": [
       "$\\displaystyle \\left\\{p_{x}, x\\right\\}$"
      ],
      "text/plain": [
       "{pₓ, x}"
      ]
     },
     "execution_count": 11,
     "metadata": {},
     "output_type": "execute_result"
    }
   ],
   "source": [
    "PoissonBracket(A,B,[x],[px]).free_symbols"
   ]
  },
  {
   "cell_type": "code",
   "execution_count": 21,
   "metadata": {},
   "outputs": [
    {
     "data": {
      "image/png": "[encoded data removed]",
      "text/latex": [
       "$\\displaystyle - \\frac{\\partial}{\\partial p_{x}} A{\\left(x,p_{x} \\right)} \\frac{\\partial}{\\partial x} B{\\left(x,p_{x} \\right)} + \\frac{\\partial}{\\partial x} A{\\left(x,p_{x} \\right)} \\frac{\\partial}{\\partial p_{x}} B{\\left(x,p_{x} \\right)}$"
      ],
      "text/plain": [
       "   ∂            ∂              ∂             ∂           \n",
       "- ───(A(x, pₓ))⋅──(B(x, pₓ)) + ──(A(x, pₓ))⋅───(B(x, pₓ))\n",
       "  ∂pₓ           ∂x             ∂x           ∂pₓ          "
      ]
     },
     "execution_count": 21,
     "metadata": {},
     "output_type": "execute_result"
    }
   ],
   "source": [
    "PoissonBracket(A,B,[x],[px]).expr"
   ]
  },
  {
   "cell_type": "code",
   "execution_count": 24,
   "metadata": {},
   "outputs": [
    {
     "data": {
      "image/png": "[encoded data removed]",
      "text/latex": [
       "$\\displaystyle - \\frac{\\partial}{\\partial p_{x}} A{\\left(x,p_{x} \\right)} \\frac{\\partial}{\\partial x} B{\\left(x,p_{x} \\right)} + \\frac{\\partial}{\\partial x} A{\\left(x,p_{x} \\right)} \\frac{\\partial}{\\partial p_{x}} B{\\left(x,p_{x} \\right)}$"
      ],
      "text/plain": [
       "   ∂            ∂              ∂             ∂           \n",
       "- ───(A(x, pₓ))⋅──(B(x, pₓ)) + ──(A(x, pₓ))⋅───(B(x, pₓ))\n",
       "  ∂pₓ           ∂x             ∂x           ∂pₓ          "
      ]
     },
     "execution_count": 24,
     "metadata": {},
     "output_type": "execute_result"
    }
   ],
   "source": [
    "PoissonBracket(A,B,[x],[px])._eval()"
   ]
  },
  {
   "cell_type": "code",
   "execution_count": 14,
   "metadata": {},
   "outputs": [
    {
     "data": {
      "image/png": "[encoded data removed]",
      "text/latex": [
       "$\\displaystyle e^{:A:}$"
      ],
      "text/plain": [
       "LieOperator(A(x, p_x), [x], [p_x])"
      ]
     },
     "execution_count": 14,
     "metadata": {},
     "output_type": "execute_result"
    }
   ],
   "source": [
    "Aop"
   ]
  },
  {
   "cell_type": "code",
   "execution_count": 16,
   "metadata": {},
   "outputs": [
    {
     "data": {
      "image/png": "[encoded data removed]",
      "text/latex": [
       "$\\displaystyle x$"
      ],
      "text/plain": [
       "x"
      ]
     },
     "execution_count": 16,
     "metadata": {},
     "output_type": "execute_result"
    }
   ],
   "source": [
    "Aop.ham.subs(A,x)"
   ]
  },
  {
   "cell_type": "code",
   "execution_count": 17,
   "metadata": {},
   "outputs": [
    {
     "data": {
      "image/png": "[encoded data removed]",
      "text/latex": [
       "$\\displaystyle e^{:B:}$"
      ],
      "text/plain": [
       "LieOperator(B(x, p_x), [x], [p_x])"
      ]
     },
     "execution_count": 17,
     "metadata": {},
     "output_type": "execute_result"
    }
   ],
   "source": [
    "Bop"
   ]
  },
  {
   "cell_type": "code",
   "execution_count": 18,
   "metadata": {},
   "outputs": [
    {
     "data": {
      "image/png": "[encoded data removed]",
      "text/latex": [
       "$\\displaystyle e^{:A+B:}$"
      ],
      "text/plain": [
       "LieOperator(A(x, p_x) + B(x, p_x), [x], [p_x])"
      ]
     },
     "execution_count": 18,
     "metadata": {},
     "output_type": "execute_result"
    }
   ],
   "source": [
    "Aop.BCH(Bop,1)"
   ]
  },
  {
   "cell_type": "code",
   "execution_count": 20,
   "metadata": {},
   "outputs": [
    {
     "ename": "AttributeError",
     "evalue": "'Add' object has no attribute 'expr'",
     "output_type": "error",
     "traceback": [
      "\u001b[0;31m----------------------------------------------\u001b[0m",
      "\u001b[0;31mAttributeError\u001b[0mTraceback (most recent call last)",
      "\u001b[0;32m<ipython-input-20-5d2be16760fe>\u001b[0m in \u001b[0;36m<module>\u001b[0;34m\u001b[0m\n\u001b[0;32m----> 1\u001b[0;31m \u001b[0mAop\u001b[0m\u001b[0;34m.\u001b[0m\u001b[0mBCH\u001b[0m\u001b[0;34m(\u001b[0m\u001b[0mBop\u001b[0m\u001b[0;34m,\u001b[0m\u001b[0;36m1\u001b[0m\u001b[0;34m)\u001b[0m\u001b[0;34m.\u001b[0m\u001b[0mham\u001b[0m\u001b[0;34m.\u001b[0m\u001b[0mexpr\u001b[0m\u001b[0;34m\u001b[0m\u001b[0;34m\u001b[0m\u001b[0m\n\u001b[0m",
      "\u001b[0;31mAttributeError\u001b[0m: 'Add' object has no attribute 'expr'"
     ]
    }
   ],
   "source": [
    "Aop.BCH(Bop,1).ham"
   ]
  },
  {
   "cell_type": "code",
   "execution_count": 25,
   "metadata": {},
   "outputs": [
    {
     "data": {
      "image/png": "[encoded data removed]",
      "text/latex": [
       "$\\displaystyle e^{:A+B + \\frac{\\lbrace A, B \\rbrace}{2}:}$"
      ],
      "text/plain": [
       "LieOperator(A(x, p_x) + B(x, p_x) + PoissonBracket(A(x, p_x),B(x, p_x),(x,),(p\n",
       "_x,))/2, [x], [p_x])"
      ]
     },
     "execution_count": 25,
     "metadata": {},
     "output_type": "execute_result"
    }
   ],
   "source": [
    "Aop.BCH(Bop,2)"
   ]
  },
  {
   "cell_type": "code",
   "execution_count": 27,
   "metadata": {},
   "outputs": [
    {
     "ename": "AttributeError",
     "evalue": "'Add' object has no attribute 'eval'",
     "output_type": "error",
     "traceback": [
      "\u001b[0;31m----------------------------------------------\u001b[0m",
      "\u001b[0;31mAttributeError\u001b[0mTraceback (most recent call last)",
      "\u001b[0;32m<ipython-input-27-8e49cd45ede2>\u001b[0m in \u001b[0;36m<module>\u001b[0;34m\u001b[0m\n\u001b[0;32m----> 1\u001b[0;31m \u001b[0mAop\u001b[0m\u001b[0;34m.\u001b[0m\u001b[0mBCH\u001b[0m\u001b[0;34m(\u001b[0m\u001b[0mBop\u001b[0m\u001b[0;34m,\u001b[0m\u001b[0;36m2\u001b[0m\u001b[0;34m)\u001b[0m\u001b[0;34m.\u001b[0m\u001b[0mham\u001b[0m\u001b[0;34m.\u001b[0m\u001b[0meval\u001b[0m\u001b[0;34m\u001b[0m\u001b[0;34m\u001b[0m\u001b[0m\n\u001b[0m",
      "\u001b[0;31mAttributeError\u001b[0m: 'Add' object has no attribute 'eval'"
     ]
    }
   ],
   "source": [
    "Aop.BCH(Bop,2).ham"
   ]
  },
  {
   "cell_type": "code",
   "execution_count": 170,
   "metadata": {},
   "outputs": [
    {
     "data": {
      "image/png": "[encoded data removed]",
      "text/latex": [
       "$\\displaystyle e^{:A+B + \\frac{\\lbrace A, B \\rbrace}{2} + \\frac{\\lbrace A, \\lbrace A, B \\rbrace \\rbrace}{12} + \\frac{\\lbrace B, \\lbrace B, A \\rbrace \\rbrace}{12}:}$"
      ],
      "text/plain": [
       "LieOperator(A(x, p_x) + B(x, p_x) + PoissonBracket(A(x, p_x),B(x, p_x),(x,),(p\n",
       "_x,))/2 + PoissonBracket(A(x, p_x),PoissonBracket(A(x, p_x),B(x, p_x),(x,),(p_\n",
       "x,)),(x,),(p_x,))/12 + PoissonBracket(B(x, p_x),PoissonBracket(B(x, p_x),A(x, \n",
       "p_x),(x,),(p_x,)),(x,),(p_x,))/12, [x], [p_x])"
      ]
     },
     "execution_count": 170,
     "metadata": {},
     "output_type": "execute_result"
    }
   ],
   "source": [
    "Aop.BCH(Bop,3)"
   ]
  },
  {
   "cell_type": "code",
   "execution_count": 171,
   "metadata": {},
   "outputs": [
    {
     "data": {
      "image/png": "[encoded data removed]",
      "text/latex": [
       "$\\displaystyle e^{:A+B + \\frac{\\lbrace A, B \\rbrace}{2} + \\frac{\\lbrace A, \\lbrace A, B \\rbrace \\rbrace}{12} - \\frac{\\lbrace B, \\lbrace A, \\lbrace A, B \\rbrace \\rbrace \\rbrace}{24} + \\frac{\\lbrace B, \\lbrace B, A \\rbrace \\rbrace}{12}:}$"
      ],
      "text/plain": [
       "LieOperator(A(x, p_x) + B(x, p_x) + PoissonBracket(A(x, p_x),B(x, p_x),(x,),(p\n",
       "_x,))/2 + PoissonBracket(A(x, p_x),PoissonBracket(A(x, p_x),B(x, p_x),(x,),(p_\n",
       "x,)),(x,),(p_x,))/12 - PoissonBracket(B(x, p_x),PoissonBracket(A(x, p_x),Poiss\n",
       "onBracket(A(x, p_x),B(x, p_x),(x,),(p_x,)),(x,),(p_x,)),(x,),(p_x,))/24 + Pois\n",
       "sonBracket(B(x, p_x),PoissonBracket(B(x, p_x),A(x, p_x),(x,),(p_x,)),(x,),(p_x\n",
       ",))/12, [x], [p_x])"
      ]
     },
     "execution_count": 171,
     "metadata": {},
     "output_type": "execute_result"
    }
   ],
   "source": [
    "Aop.BCH(Bop,4)"
   ]
  },
  {
   "cell_type": "code",
   "execution_count": 172,
   "metadata": {},
   "outputs": [
    {
     "data": {
      "image/png": "[encoded data removed]",
      "text/latex": [
       "$\\displaystyle - \\frac{\\partial}{\\partial p_{x}} A{\\left(x,p_{x} \\right)} \\frac{\\partial}{\\partial x} B{\\left(x,p_{x} \\right)} + \\frac{\\partial}{\\partial x} A{\\left(x,p_{x} \\right)} \\frac{\\partial}{\\partial p_{x}} B{\\left(x,p_{x} \\right)}$"
      ],
      "text/plain": [
       "   ∂            ∂              ∂             ∂           \n",
       "- ───(A(x, pₓ))⋅──(B(x, pₓ)) + ──(A(x, pₓ))⋅───(B(x, pₓ))\n",
       "  ∂pₓ           ∂x             ∂x           ∂pₓ          "
      ]
     },
     "execution_count": 172,
     "metadata": {},
     "output_type": "execute_result"
    }
   ],
   "source": [
    "Aop.BCH(Bop,4).ham.args[0].args[1].expr"
   ]
  },
  {
   "cell_type": "code",
   "execution_count": 188,
   "metadata": {},
   "outputs": [
    {
     "data": {
      "image/png": "[encoded data removed]",
      "text/latex": [
       "$\\displaystyle p_{x}^{2} + x^{2} + \\frac{\\lbrace <class 'sympy.core.power.Pow'>, <class 'sympy.core.power.Pow'> \\rbrace}{2}$"
      ],
      "text/plain": [
       "                         ⎛ 2   2           ⎞\n",
       "  2    2   PoissonBracket⎝x ,pₓ ,(x,),(pₓ,)⎠\n",
       "pₓ  + x  + ─────────────────────────────────\n",
       "                           2                "
      ]
     },
     "execution_count": 188,
     "metadata": {},
     "output_type": "execute_result"
    }
   ],
   "source": [
    "simplify((Aop.BCH(Bop,2).ham.as_expr()).subs(A,x**2).subs(B,px**2).doit())"
   ]
  },
  {
   "cell_type": "code",
   "execution_count": 92,
   "metadata": {},
   "outputs": [
    {
     "data": {
      "image/png": "[encoded data removed]",
      "text/latex": [
       "$\\displaystyle \\left( \\right)$"
      ],
      "text/plain": [
       "()"
      ]
     },
     "execution_count": 92,
     "metadata": {},
     "output_type": "execute_result"
    }
   ],
   "source": [
    "A.args[0].args"
   ]
  },
  {
   "cell_type": "code",
   "execution_count": 203,
   "metadata": {},
   "outputs": [
    {
     "ename": "AttributeError",
     "evalue": "module 'sympy' has no attribute 'eval'",
     "output_type": "error",
     "traceback": [
      "\u001b[0;31m----------------------------------------------\u001b[0m",
      "\u001b[0;31mAttributeError\u001b[0mTraceback (most recent call last)",
      "\u001b[0;32m<ipython-input-203-734ac883dcad>\u001b[0m in \u001b[0;36m<module>\u001b[0;34m\u001b[0m\n\u001b[0;32m----> 1\u001b[0;31m \u001b[0msympy\u001b[0m\u001b[0;34m.\u001b[0m\u001b[0meval\u001b[0m\u001b[0;34m(\u001b[0m\u001b[0mAop\u001b[0m\u001b[0;34m.\u001b[0m\u001b[0mBCH\u001b[0m\u001b[0;34m(\u001b[0m\u001b[0mBop\u001b[0m\u001b[0;34m,\u001b[0m\u001b[0;36m2\u001b[0m\u001b[0;34m)\u001b[0m\u001b[0;34m.\u001b[0m\u001b[0mham\u001b[0m\u001b[0;34m.\u001b[0m\u001b[0mreplace\u001b[0m\u001b[0;34m(\u001b[0m\u001b[0mPoissonBracket\u001b[0m\u001b[0;34m,\u001b[0m \u001b[0;32mlambda\u001b[0m \u001b[0marg\u001b[0m\u001b[0;34m:\u001b[0m \u001b[0marg\u001b[0m\u001b[0;34m.\u001b[0m\u001b[0mexpr\u001b[0m\u001b[0;34m(\u001b[0m\u001b[0;34m)\u001b[0m\u001b[0;34m)\u001b[0m\u001b[0;34m)\u001b[0m\u001b[0;34m\u001b[0m\u001b[0;34m\u001b[0m\u001b[0m\n\u001b[0m",
      "\u001b[0;31mAttributeError\u001b[0m: module 'sympy' has no attribute 'eval'"
     ]
    }
   ],
   "source": [
    "sympy.eval(Aop.BCH(Bop,2).ham.replace(PoissonBracket, lambda arg: arg.expr()))"
   ]
  },
  {
   "cell_type": "code",
   "execution_count": 37,
   "metadata": {},
   "outputs": [],
   "source": [
    " def doit(ob, **kwargs):\n",
    "        print(ob.args)\n",
    "        if kwargs.get(\"deep\", True):\n",
    "            return obs.args[0].expr\n",
    "            return ob.args[0].doit(**kwargs)\n",
    "        else:\n",
    "            return ob.args[0].expr"
   ]
  },
  {
   "cell_type": "code",
   "execution_count": 48,
   "metadata": {},
   "outputs": [
    {
     "data": {
      "image/png": "[encoded data removed]",
      "text/latex": [
       "$\\displaystyle p_{x}^{2} + 2 p_{x} x + x^{2}$"
      ],
      "text/plain": [
       "  2             2\n",
       "pₓ  + 2⋅pₓ⋅x + x "
      ]
     },
     "execution_count": 48,
     "metadata": {},
     "output_type": "execute_result"
    }
   ],
   "source": [
    "((x+px)**2).expand()"
   ]
  },
  {
   "cell_type": "code",
   "execution_count": 41,
   "metadata": {},
   "outputs": [
    {
     "data": {
      "text/plain": [
       "sympy.core.add.Add"
      ]
     },
     "execution_count": 41,
     "metadata": {},
     "output_type": "execute_result"
    }
   ],
   "source": [
    "Aop.BCH(Bop,2).ham.func"
   ]
  },
  {
   "cell_type": "code",
   "execution_count": 38,
   "metadata": {},
   "outputs": [
    {
     "name": "stdout",
     "output_type": "stream",
     "text": [
      "(PoissonBracket(A(x, p_x),B(x, p_x),(x,),(p_x,))/2, A(x, p_x), B(x, p_x))\n"
     ]
    },
    {
     "ename": "AttributeError",
     "evalue": "'Mul' object has no attribute 'expr'",
     "output_type": "error",
     "traceback": [
      "\u001b[0;31m----------------------------------------------\u001b[0m",
      "\u001b[0;31mAttributeError\u001b[0mTraceback (most recent call last)",
      "\u001b[0;32m<ipython-input-38-5815c4e2975c>\u001b[0m in \u001b[0;36m<module>\u001b[0;34m\u001b[0m\n\u001b[0;32m----> 1\u001b[0;31m \u001b[0mdoit\u001b[0m\u001b[0;34m(\u001b[0m\u001b[0mAop\u001b[0m\u001b[0;34m.\u001b[0m\u001b[0mBCH\u001b[0m\u001b[0;34m(\u001b[0m\u001b[0mBop\u001b[0m\u001b[0;34m,\u001b[0m\u001b[0;36m2\u001b[0m\u001b[0;34m)\u001b[0m\u001b[0;34m.\u001b[0m\u001b[0mham\u001b[0m\u001b[0;34m,\u001b[0m\u001b[0mdeep\u001b[0m\u001b[0;34m=\u001b[0m\u001b[0;32mFalse\u001b[0m\u001b[0;34m)\u001b[0m\u001b[0;34m\u001b[0m\u001b[0;34m\u001b[0m\u001b[0m\n\u001b[0m",
      "\u001b[0;32m<ipython-input-37-b75e66e7cb22>\u001b[0m in \u001b[0;36mdoit\u001b[0;34m(ob, **kwargs)\u001b[0m\n\u001b[1;32m      5\u001b[0m            \u001b[0;32mreturn\u001b[0m \u001b[0mob\u001b[0m\u001b[0;34m.\u001b[0m\u001b[0margs\u001b[0m\u001b[0;34m[\u001b[0m\u001b[0;36m0\u001b[0m\u001b[0;34m]\u001b[0m\u001b[0;34m.\u001b[0m\u001b[0mdoit\u001b[0m\u001b[0;34m(\u001b[0m\u001b[0;34m**\u001b[0m\u001b[0mkwargs\u001b[0m\u001b[0;34m)\u001b[0m\u001b[0;34m\u001b[0m\u001b[0;34m\u001b[0m\u001b[0m\n\u001b[1;32m      6\u001b[0m        \u001b[0;32melse\u001b[0m\u001b[0;34m:\u001b[0m\u001b[0;34m\u001b[0m\u001b[0;34m\u001b[0m\u001b[0m\n\u001b[0;32m----> 7\u001b[0;31m            \u001b[0;32mreturn\u001b[0m \u001b[0mob\u001b[0m\u001b[0;34m.\u001b[0m\u001b[0margs\u001b[0m\u001b[0;34m[\u001b[0m\u001b[0;36m0\u001b[0m\u001b[0;34m]\u001b[0m\u001b[0;34m.\u001b[0m\u001b[0mexpr\u001b[0m\u001b[0;34m\u001b[0m\u001b[0;34m\u001b[0m\u001b[0m\n\u001b[0m",
      "\u001b[0;31mAttributeError\u001b[0m: 'Mul' object has no attribute 'expr'"
     ]
    }
   ],
   "source": [
    "doit(Aop.BCH(Bop,2).ham,deep=False)"
   ]
  },
  {
   "cell_type": "code",
   "execution_count": 201,
   "metadata": {},
   "outputs": [
    {
     "data": {
      "text/plain": [
       "\"Add(Function('A')(Symbol('x', real=True), Symbol('p_x', real=True)), Function('B')(Symbol('x', real=True), Symbol('p_x', real=True)), Mul(Rational(1, 2), PoissonBracket(Function('A')(Symbol('x', real=True), Symbol('p_x', real=True)),Function('B')(Symbol('x', real=True), Symbol('p_x', real=True)),Tuple(Symbol('x', real=True)),Tuple(Symbol('p_x', real=True)))))\""
      ]
     },
     "execution_count": 201,
     "metadata": {},
     "output_type": "execute_result"
    }
   ],
   "source": [
    "sympy.srepr(Aop.BCH(Bop,2).ham)"
   ]
  },
  {
   "cell_type": "code",
   "execution_count": 196,
   "metadata": {},
   "outputs": [
    {
     "name": "stdout",
     "output_type": "stream",
     "text": [
      "A(x, p_x) + B(x, p_x) + PoissonBracket(A(x, p_x),B(x, p_x),(x,),(p_x,))/2\n",
      "PoissonBracket(A(x, p_x),B(x, p_x),(x,),(p_x,))/2\n",
      "1/2\n",
      "PoissonBracket(A(x, p_x),B(x, p_x),(x,),(p_x,))\n",
      "A(x, p_x)\n",
      "x\n",
      "p_x\n",
      "B(x, p_x)\n",
      "x\n",
      "p_x\n",
      "(x,)\n",
      "x\n",
      "(p_x,)\n",
      "p_x\n",
      "A(x, p_x)\n",
      "x\n",
      "p_x\n",
      "B(x, p_x)\n",
      "x\n",
      "p_x\n"
     ]
    }
   ],
   "source": [
    "for arg in sympy.preorder_traversal(Aop.BCH(Bop,2).ham):\n",
    "    print(arg)"
   ]
  },
  {
   "cell_type": "code",
   "execution_count": 193,
   "metadata": {},
   "outputs": [
    {
     "data": {
      "text/plain": [
       "\"Add(Function('A')(Symbol('x', real=True), Symbol('p_x', real=True)), Function('B')(Symbol('x', real=True), Symbol('p_x', real=True)), Mul(Rational(1, 2), PoissonBracket(Function('A')(Symbol('x', real=True), Symbol('p_x', real=True)),Function('B')(Symbol('x', real=True), Symbol('p_x', real=True)),Tuple(Symbol('x', real=True)),Tuple(Symbol('p_x', real=True)))))\""
      ]
     },
     "execution_count": 193,
     "metadata": {},
     "output_type": "execute_result"
    }
   ],
   "source": [
    "sympy.srepr(Aop.BCH(Bop,2).ham"
   ]
  },
  {
   "cell_type": "code",
   "execution_count": 21,
   "metadata": {},
   "outputs": [
    {
     "data": {
      "text/plain": [
       "True"
      ]
     },
     "execution_count": 21,
     "metadata": {},
     "output_type": "execute_result"
    }
   ],
   "source": [
    "import sympy\n",
    "Aop.BCH(Bop,1).ham.__class__ == sympy.core.add.Add"
   ]
  },
  {
   "cell_type": "code",
   "execution_count": 70,
   "metadata": {},
   "outputs": [
    {
     "ename": "TypeError",
     "evalue": "(LieOperator(B(x, p_x), [x], [p_x]), ' has to be a Lie Operator')",
     "output_type": "error",
     "traceback": [
      "\u001b[0;31m----------------------------------------------\u001b[0m",
      "\u001b[0;31mTypeError\u001b[0m    Traceback (most recent call last)",
      "\u001b[0;32m<ipython-input-70-23df20b24d95>\u001b[0m in \u001b[0;36m<module>\u001b[0;34m\u001b[0m\n\u001b[0;32m----> 1\u001b[0;31m \u001b[0mfunction\u001b[0m\u001b[0;34m,\u001b[0m \u001b[0;34m*\u001b[0m\u001b[0mvars\u001b[0m \u001b[0;34m=\u001b[0m \u001b[0mAop\u001b[0m\u001b[0;34m.\u001b[0m\u001b[0mBCH\u001b[0m\u001b[0;34m(\u001b[0m\u001b[0mBop\u001b[0m\u001b[0;34m,\u001b[0m\u001b[0;36m1\u001b[0m\u001b[0;34m)\u001b[0m\u001b[0;34m.\u001b[0m\u001b[0mham\u001b[0m\u001b[0;34m.\u001b[0m\u001b[0mdoit\u001b[0m\u001b[0;34m(\u001b[0m\u001b[0;34m)\u001b[0m\u001b[0;34m.\u001b[0m\u001b[0margs\u001b[0m\u001b[0;34m\u001b[0m\u001b[0;34m\u001b[0m\u001b[0m\n\u001b[0m\u001b[1;32m      2\u001b[0m \u001b[0mfunction\u001b[0m\u001b[0;34m,\u001b[0m \u001b[0mvars\u001b[0m\u001b[0;34m\u001b[0m\u001b[0;34m\u001b[0m\u001b[0m\n",
      "\u001b[0;32m~/github-tomerten/acchamiltoniansandmatrices/acchamiltoniansandmatrices/LieMaps/LieOperator.py\u001b[0m in \u001b[0;36mBCH\u001b[0;34m(self, other, n)\u001b[0m\n\u001b[1;32m    169\u001b[0m     \u001b[0;32mdef\u001b[0m \u001b[0mBCH\u001b[0m\u001b[0;34m(\u001b[0m\u001b[0mself\u001b[0m\u001b[0;34m,\u001b[0m \u001b[0mother\u001b[0m\u001b[0;34m,\u001b[0m \u001b[0mn\u001b[0m\u001b[0;34m)\u001b[0m\u001b[0;34m:\u001b[0m\u001b[0;34m\u001b[0m\u001b[0;34m\u001b[0m\u001b[0m\n\u001b[1;32m    170\u001b[0m         \u001b[0;32mif\u001b[0m \u001b[0;32mnot\u001b[0m \u001b[0misinstance\u001b[0m\u001b[0;34m(\u001b[0m\u001b[0mother\u001b[0m\u001b[0;34m,\u001b[0m \u001b[0mLieOperator\u001b[0m\u001b[0;34m)\u001b[0m\u001b[0;34m:\u001b[0m\u001b[0;34m\u001b[0m\u001b[0;34m\u001b[0m\u001b[0m\n\u001b[0;32m--> 171\u001b[0;31m             \u001b[0;32mraise\u001b[0m \u001b[0mTypeError\u001b[0m\u001b[0;34m(\u001b[0m\u001b[0mother\u001b[0m\u001b[0;34m,\u001b[0m \u001b[0;34m\" has to be a Lie Operator\"\u001b[0m\u001b[0;34m)\u001b[0m\u001b[0;34m\u001b[0m\u001b[0;34m\u001b[0m\u001b[0m\n\u001b[0m\u001b[1;32m    172\u001b[0m         \u001b[0;32melif\u001b[0m \u001b[0;32mnot\u001b[0m \u001b[0mCounter\u001b[0m\u001b[0;34m(\u001b[0m\u001b[0mself\u001b[0m\u001b[0;34m.\u001b[0m\u001b[0mindep_coords\u001b[0m\u001b[0;34m)\u001b[0m \u001b[0;34m==\u001b[0m \u001b[0mCounter\u001b[0m\u001b[0;34m(\u001b[0m\u001b[0mother\u001b[0m\u001b[0;34m.\u001b[0m\u001b[0mindep_coords\u001b[0m\u001b[0;34m)\u001b[0m\u001b[0;34m:\u001b[0m\u001b[0;34m\u001b[0m\u001b[0;34m\u001b[0m\u001b[0m\n\u001b[1;32m    173\u001b[0m             \u001b[0;32mraise\u001b[0m \u001b[0mTypeError\u001b[0m\u001b[0;34m(\u001b[0m\u001b[0;34m\"Lie Operators do not have the same dimension.\"\u001b[0m\u001b[0;34m)\u001b[0m\u001b[0;34m\u001b[0m\u001b[0;34m\u001b[0m\u001b[0m\n",
      "\u001b[0;31mTypeError\u001b[0m: (LieOperator(B(x, p_x), [x], [p_x]), ' has to be a Lie Operator')"
     ]
    }
   ],
   "source": [
    "function, *vars = Aop.BCH(Bop,1).ham.doit().args\n",
    "function, vars"
   ]
  },
  {
   "cell_type": "code",
   "execution_count": 57,
   "metadata": {},
   "outputs": [
    {
     "data": {
      "image/png": "[encoded data removed]",
      "text/latex": [
       "$\\displaystyle A{\\left(x,p_{x} \\right)} + B{\\left(x,p_{x} \\right)}$"
      ],
      "text/plain": [
       "A(x, pₓ) + B(x, pₓ)"
      ]
     },
     "execution_count": 57,
     "metadata": {},
     "output_type": "execute_result"
    }
   ],
   "source": [
    "Aop.BCH(Bop,1)._ham"
   ]
  },
  {
   "cell_type": "code",
   "execution_count": 42,
   "metadata": {},
   "outputs": [
    {
     "name": "stdout",
     "output_type": "stream",
     "text": [
      "A{\\left(x,p_{x} \\right)} + B{\\left(x,p_{x} \\right)}\n"
     ]
    }
   ],
   "source": [
    "print_latex(Aop.BCH(Bop,1)._ham)"
   ]
  },
  {
   "cell_type": "code",
   "execution_count": 20,
   "metadata": {},
   "outputs": [
    {
     "data": {
      "image/png": "[encoded data removed]",
      "text/latex": [
       "$\\displaystyle A{\\left(x,p_{x} \\right)} + B{\\left(x,p_{x} \\right)}$"
      ],
      "text/plain": [
       "A(x, pₓ) + B(x, pₓ)"
      ]
     },
     "execution_count": 20,
     "metadata": {},
     "output_type": "execute_result"
    }
   ],
   "source": [
    "Aop.BCH(Bop,1).args[0]"
   ]
  },
  {
   "cell_type": "code",
   "execution_count": 21,
   "metadata": {},
   "outputs": [
    {
     "data": {
      "image/png": "[encoded data removed]",
      "text/latex": [
       "$\\displaystyle A{\\left(x,p_{x} \\right)} + B{\\left(x,p_{x} \\right)} - \\frac{\\frac{\\partial}{\\partial p_{x}} A{\\left(x,p_{x} \\right)} \\frac{\\partial}{\\partial x} B{\\left(x,p_{x} \\right)}}{2} + \\frac{\\frac{\\partial}{\\partial x} A{\\left(x,p_{x} \\right)} \\frac{\\partial}{\\partial p_{x}} B{\\left(x,p_{x} \\right)}}{2}$"
      ],
      "text/plain": [
       "                       ∂            ∂              ∂             ∂           \n",
       "                      ───(A(x, pₓ))⋅──(B(x, pₓ))   ──(A(x, pₓ))⋅───(B(x, pₓ))\n",
       "                      ∂pₓ           ∂x             ∂x           ∂pₓ          \n",
       "A(x, pₓ) + B(x, pₓ) - ────────────────────────── + ──────────────────────────\n",
       "                                  2                            2             "
      ]
     },
     "execution_count": 21,
     "metadata": {},
     "output_type": "execute_result"
    }
   ],
   "source": [
    "Aop.BCH(Bop,2).args[0]"
   ]
  },
  {
   "cell_type": "code",
   "execution_count": 23,
   "metadata": {},
   "outputs": [
    {
     "data": {
      "image/png": "[encoded data removed]",
      "text/latex": [
       "$\\displaystyle - \\frac{\\left(- \\frac{\\partial}{\\partial p_{x}} A{\\left(x,p_{x} \\right)} \\frac{\\partial^{2}}{\\partial x^{2}} B{\\left(x,p_{x} \\right)} + \\frac{\\partial}{\\partial x} A{\\left(x,p_{x} \\right)} \\frac{\\partial^{2}}{\\partial x\\partial p_{x}} B{\\left(x,p_{x} \\right)} + \\frac{\\partial^{2}}{\\partial x^{2}} A{\\left(x,p_{x} \\right)} \\frac{\\partial}{\\partial p_{x}} B{\\left(x,p_{x} \\right)} - \\frac{\\partial}{\\partial x} B{\\left(x,p_{x} \\right)} \\frac{\\partial^{2}}{\\partial x\\partial p_{x}} A{\\left(x,p_{x} \\right)}\\right) \\frac{\\partial}{\\partial p_{x}} A{\\left(x,p_{x} \\right)}}{12} - \\frac{\\left(\\frac{\\partial}{\\partial p_{x}} A{\\left(x,p_{x} \\right)} \\frac{\\partial^{2}}{\\partial x^{2}} B{\\left(x,p_{x} \\right)} - \\frac{\\partial}{\\partial x} A{\\left(x,p_{x} \\right)} \\frac{\\partial^{2}}{\\partial x\\partial p_{x}} B{\\left(x,p_{x} \\right)} - \\frac{\\partial^{2}}{\\partial x^{2}} A{\\left(x,p_{x} \\right)} \\frac{\\partial}{\\partial p_{x}} B{\\left(x,p_{x} \\right)} + \\frac{\\partial}{\\partial x} B{\\left(x,p_{x} \\right)} \\frac{\\partial^{2}}{\\partial x\\partial p_{x}} A{\\left(x,p_{x} \\right)}\\right) \\frac{\\partial}{\\partial p_{x}} B{\\left(x,p_{x} \\right)}}{12} + \\frac{\\left(- \\frac{\\partial}{\\partial p_{x}} A{\\left(x,p_{x} \\right)} \\frac{\\partial^{2}}{\\partial x\\partial p_{x}} B{\\left(x,p_{x} \\right)} - \\frac{\\partial^{2}}{\\partial p_{x}^{2}} A{\\left(x,p_{x} \\right)} \\frac{\\partial}{\\partial x} B{\\left(x,p_{x} \\right)} + \\frac{\\partial}{\\partial x} A{\\left(x,p_{x} \\right)} \\frac{\\partial^{2}}{\\partial p_{x}^{2}} B{\\left(x,p_{x} \\right)} + \\frac{\\partial}{\\partial p_{x}} B{\\left(x,p_{x} \\right)} \\frac{\\partial^{2}}{\\partial x\\partial p_{x}} A{\\left(x,p_{x} \\right)}\\right) \\frac{\\partial}{\\partial x} A{\\left(x,p_{x} \\right)}}{12} + \\frac{\\left(\\frac{\\partial}{\\partial p_{x}} A{\\left(x,p_{x} \\right)} \\frac{\\partial^{2}}{\\partial x\\partial p_{x}} B{\\left(x,p_{x} \\right)} + \\frac{\\partial^{2}}{\\partial p_{x}^{2}} A{\\left(x,p_{x} \\right)} \\frac{\\partial}{\\partial x} B{\\left(x,p_{x} \\right)} - \\frac{\\partial}{\\partial x} A{\\left(x,p_{x} \\right)} \\frac{\\partial^{2}}{\\partial p_{x}^{2}} B{\\left(x,p_{x} \\right)} - \\frac{\\partial}{\\partial p_{x}} B{\\left(x,p_{x} \\right)} \\frac{\\partial^{2}}{\\partial x\\partial p_{x}} A{\\left(x,p_{x} \\right)}\\right) \\frac{\\partial}{\\partial x} B{\\left(x,p_{x} \\right)}}{12} + A{\\left(x,p_{x} \\right)} + B{\\left(x,p_{x} \\right)} - \\frac{\\frac{\\partial}{\\partial p_{x}} A{\\left(x,p_{x} \\right)} \\frac{\\partial}{\\partial x} B{\\left(x,p_{x} \\right)}}{2} + \\frac{\\frac{\\partial}{\\partial x} A{\\left(x,p_{x} \\right)} \\frac{\\partial}{\\partial p_{x}} B{\\left(x,p_{x} \\right)}}{2}$"
      ],
      "text/plain": [
       "  ⎛                  2                             2                 2        \n",
       "  ⎜   ∂             ∂              ∂              ∂                 ∂         \n",
       "  ⎜- ───(A(x, pₓ))⋅───(B(x, pₓ)) + ──(A(x, pₓ))⋅──────(B(x, pₓ)) + ───(A(x, pₓ\n",
       "  ⎜  ∂pₓ             2             ∂x           ∂x ∂pₓ               2        \n",
       "  ⎝                ∂x                                              ∂x         \n",
       "- ────────────────────────────────────────────────────────────────────────────\n",
       "                                                                       12     \n",
       "\n",
       "                                   2            ⎞                 ⎛           \n",
       "    ∂              ∂              ∂             ⎟  ∂              ⎜ ∂         \n",
       "))⋅───(B(x, pₓ)) - ──(B(x, pₓ))⋅──────(A(x, pₓ))⎟⋅───(A(x, pₓ))   ⎜───(A(x, pₓ\n",
       "   ∂pₓ             ∂x           ∂x ∂pₓ          ⎟ ∂pₓ             ⎜∂pₓ        \n",
       "                                                ⎠                 ⎝           \n",
       "─────────────────────────────────────────────────────────────── - ────────────\n",
       "                                                                              \n",
       "\n",
       "     2                             2                 2                        \n",
       "    ∂              ∂              ∂                 ∂             ∂           \n",
       "))⋅───(B(x, pₓ)) - ──(A(x, pₓ))⋅──────(B(x, pₓ)) - ───(A(x, pₓ))⋅───(B(x, pₓ))\n",
       "     2             ∂x           ∂x ∂pₓ               2           ∂pₓ          \n",
       "   ∂x                                              ∂x                         \n",
       "──────────────────────────────────────────────────────────────────────────────\n",
       "                                                        12                    \n",
       "\n",
       "                   2            ⎞                 ⎛                   2       \n",
       "   ∂              ∂             ⎟  ∂              ⎜   ∂              ∂        \n",
       " + ──(B(x, pₓ))⋅──────(A(x, pₓ))⎟⋅───(B(x, pₓ))   ⎜- ───(A(x, pₓ))⋅──────(B(x,\n",
       "   ∂x           ∂x ∂pₓ          ⎟ ∂pₓ             ⎜  ∂pₓ           ∂x ∂pₓ     \n",
       "                                ⎠                 ⎝                           \n",
       "─────────────────────────────────────────────── + ────────────────────────────\n",
       "                                                                              \n",
       "\n",
       "          2                                          2                        \n",
       "         ∂             ∂              ∂             ∂                ∂        \n",
       " pₓ)) - ────(A(x, pₓ))⋅──(B(x, pₓ)) + ──(A(x, pₓ))⋅────(B(x, pₓ)) + ───(B(x, p\n",
       "           2           ∂x             ∂x              2             ∂pₓ       \n",
       "        ∂pₓ                                        ∂pₓ                        \n",
       "──────────────────────────────────────────────────────────────────────────────\n",
       "                                         12                                   \n",
       "\n",
       "       2            ⎞                ⎛                 2                 2    \n",
       "      ∂             ⎟ ∂              ⎜ ∂              ∂                 ∂     \n",
       "ₓ))⋅──────(A(x, pₓ))⎟⋅──(A(x, pₓ))   ⎜───(A(x, pₓ))⋅──────(B(x, pₓ)) + ────(A(\n",
       "    ∂x ∂pₓ          ⎟ ∂x             ⎜∂pₓ           ∂x ∂pₓ                2   \n",
       "                    ⎠                ⎝                                 ∂pₓ    \n",
       "────────────────────────────────── + ─────────────────────────────────────────\n",
       "                                                                              \n",
       "\n",
       "                                      2                               2       \n",
       "        ∂              ∂             ∂                ∂              ∂        \n",
       "x, pₓ))⋅──(B(x, pₓ)) - ──(A(x, pₓ))⋅────(B(x, pₓ)) - ───(B(x, pₓ))⋅──────(A(x,\n",
       "        ∂x             ∂x              2             ∂pₓ           ∂x ∂pₓ     \n",
       "                                    ∂pₓ                                       \n",
       "──────────────────────────────────────────────────────────────────────────────\n",
       "                           12                                                 \n",
       "\n",
       "     ⎞                                                                        \n",
       "     ⎟ ∂                                                                      \n",
       " pₓ))⎟⋅──(B(x, pₓ))                          ∂            ∂              ∂    \n",
       "     ⎟ ∂x                                   ───(A(x, pₓ))⋅──(B(x, pₓ))   ──(A(\n",
       "     ⎠                                      ∂pₓ           ∂x             ∂x   \n",
       "─────────────────── + A(x, pₓ) + B(x, pₓ) - ────────────────────────── + ─────\n",
       "                                                        2                     \n",
       "\n",
       "                     \n",
       "                     \n",
       "         ∂           \n",
       "x, pₓ))⋅───(B(x, pₓ))\n",
       "        ∂pₓ          \n",
       "─────────────────────\n",
       "       2             "
      ]
     },
     "execution_count": 23,
     "metadata": {},
     "output_type": "execute_result"
    }
   ],
   "source": [
    "Aop.BCH(Bop,3).args[0]"
   ]
  },
  {
   "cell_type": "code",
   "execution_count": 103,
   "metadata": {},
   "outputs": [],
   "source": [
    "from sympy.physics.quantum import Operator\n",
    "from sympy.printing.pretty.stringpict import prettyForm\n",
    "from sympy.printing.latex import print_latex\n",
    "\n",
    "class PoissonBracket(Operator):\n",
    "    _is_commutative = False\n",
    "    \n",
    "    def __init__(self, *args):\n",
    "        if not len(args) == 4:\n",
    "            raise ValueError('4 parameters expected, got %s' % args)\n",
    "\n",
    "        self.A = args[0] \n",
    "        self.B = args[1]\n",
    "        self.indep_coords = args[2]\n",
    "        self.indep_mom    = args[3]\n",
    "        \n",
    "        \n",
    "    @property\n",
    "    def free_symbols(self):\n",
    "        return self.A.free_symbols.union(self.B.free_symbols)\n",
    "    \n",
    "    @property\n",
    "    def expr(self):\n",
    "        hp = S(0)\n",
    "        for qi, pi in zip(self.indep_coords, self.indep_mom):\n",
    "            hp += self.A.diff(qi) * self.B.diff(pi)\n",
    "            hp -= self.A.diff(pi) * self.B.diff(qi)\n",
    "        return hp\n",
    "    \n",
    "    def _eval_derivative(self, symbol):\n",
    "        new_expr = self.expr.diff(symbol)\n",
    "        return new_expr\n",
    "    def _evalf(self):\n",
    "        return self.expr\n",
    "        return new_expr\n",
    "    def _latex(self, printer=None):\n",
    "        a,b = [printer.doprint(i) if i.__class__.__name__ == self.__class__.__name__ else printer.doprint(i.func) for i in self.args[:2]]\n",
    "        print_latex(a)\n",
    "        print_latex(b)\n",
    "        return r\"\\lbrace {}, {} \\rbrace\".format(a,b)\n",
    "    \n",
    "   \n"
   ]
  },
  {
   "cell_type": "code",
   "execution_count": 104,
   "metadata": {},
   "outputs": [],
   "source": [
    "apb =PoissonBracket(A,B,[x],[px])"
   ]
  },
  {
   "cell_type": "code",
   "execution_count": 95,
   "metadata": {},
   "outputs": [
    {
     "name": "stdout",
     "output_type": "stream",
     "text": [
      "PoissonBracket(A(x, p_x),B(x, p_x),(x,),(p_x,))\n"
     ]
    }
   ],
   "source": [
    "print(apb)"
   ]
  },
  {
   "cell_type": "code",
   "execution_count": 96,
   "metadata": {},
   "outputs": [
    {
     "name": "stdout",
     "output_type": "stream",
     "text": [
      "A\n",
      "B\n",
      "A\n",
      "B\n"
     ]
    },
    {
     "data": {
      "image/png": "[encoded data removed]",
      "text/latex": [
       "$\\displaystyle \\lbrace A, B \\rbrace$"
      ],
      "text/plain": [
       "PoissonBracket(A(x, pₓ),B(x, pₓ),(x,),(pₓ,))"
      ]
     },
     "execution_count": 96,
     "metadata": {},
     "output_type": "execute_result"
    }
   ],
   "source": [
    "apb"
   ]
  },
  {
   "cell_type": "code",
   "execution_count": 97,
   "metadata": {},
   "outputs": [
    {
     "name": "stdout",
     "output_type": "stream",
     "text": [
      "A\n",
      "B\n",
      "\\lbrace A, B \\rbrace\n"
     ]
    }
   ],
   "source": [
    "print_latex(apb)"
   ]
  },
  {
   "cell_type": "code",
   "execution_count": 105,
   "metadata": {},
   "outputs": [
    {
     "name": "stdout",
     "output_type": "stream",
     "text": [
      "A\n",
      "B\n",
      "A\n",
      "B\n"
     ]
    },
    {
     "data": {
      "image/png": "[encoded data removed]",
      "text/latex": [
       "$\\displaystyle \\frac{\\lbrace A, B \\rbrace}{2}$"
      ],
      "text/plain": [
       "PoissonBracket(A(x, pₓ),B(x, pₓ),(x,),(pₓ,))\n",
       "────────────────────────────────────────────\n",
       "                     2                      "
      ]
     },
     "execution_count": 105,
     "metadata": {},
     "output_type": "execute_result"
    }
   ],
   "source": [
    "(Rational(1,2)*apb.evalf()).as_expr()"
   ]
  },
  {
   "cell_type": "code",
   "execution_count": 184,
   "metadata": {},
   "outputs": [
    {
     "name": "stdout",
     "output_type": "stream",
     "text": [
      "- \\frac{\\partial}{\\partial p_{x}} A{\\left(x,p_{x} \\right)} \\frac{\\partial}{\\partial x} B{\\left(x,p_{x} \\right)} + \\frac{\\partial}{\\partial x} A{\\left(x,p_{x} \\right)} \\frac{\\partial}{\\partial p_{x}} B{\\left(x,p_{x} \\right)}\n"
     ]
    }
   ],
   "source": [
    "print_latex(apb.expr)"
   ]
  },
  {
   "cell_type": "code",
   "execution_count": 185,
   "metadata": {},
   "outputs": [
    {
     "data": {
      "image/png": "[encoded data removed]",
      "text/latex": [
       "$\\displaystyle - \\frac{\\partial}{\\partial p_{x}} A{\\left(x,p_{x} \\right)} \\frac{\\partial^{2}}{\\partial x^{2}} B{\\left(x,p_{x} \\right)} + \\frac{\\partial}{\\partial x} A{\\left(x,p_{x} \\right)} \\frac{\\partial^{2}}{\\partial x\\partial p_{x}} B{\\left(x,p_{x} \\right)} + \\frac{\\partial^{2}}{\\partial x^{2}} A{\\left(x,p_{x} \\right)} \\frac{\\partial}{\\partial p_{x}} B{\\left(x,p_{x} \\right)} - \\frac{\\partial}{\\partial x} B{\\left(x,p_{x} \\right)} \\frac{\\partial^{2}}{\\partial x\\partial p_{x}} A{\\left(x,p_{x} \\right)}$"
      ],
      "text/plain": [
       "                  2                             2                 2           \n",
       "   ∂             ∂              ∂              ∂                 ∂            \n",
       "- ───(A(x, pₓ))⋅───(B(x, pₓ)) + ──(A(x, pₓ))⋅──────(B(x, pₓ)) + ───(A(x, pₓ))⋅\n",
       "  ∂pₓ             2             ∂x           ∂x ∂pₓ               2           \n",
       "                ∂x                                              ∂x            \n",
       "\n",
       "                                2            \n",
       " ∂              ∂              ∂             \n",
       "───(B(x, pₓ)) - ──(B(x, pₓ))⋅──────(A(x, pₓ))\n",
       "∂pₓ             ∂x           ∂x ∂pₓ          \n",
       "                                             "
      ]
     },
     "execution_count": 185,
     "metadata": {},
     "output_type": "execute_result"
    }
   ],
   "source": [
    "apb.diff(x)"
   ]
  },
  {
   "cell_type": "code",
   "execution_count": 186,
   "metadata": {},
   "outputs": [],
   "source": [
    "apbpc = PoissonBracket(C,apb,[x],[px])"
   ]
  },
  {
   "cell_type": "code",
   "execution_count": 187,
   "metadata": {},
   "outputs": [
    {
     "name": "stdout",
     "output_type": "stream",
     "text": [
      "A\n",
      "B\n",
      "C\n",
      "\\lbrace A, B \\rbrace\n",
      "A\n",
      "B\n",
      "C\n",
      "\\lbrace A, B \\rbrace\n"
     ]
    },
    {
     "data": {
      "image/png": "[encoded data removed]",
      "text/latex": [
       "$\\displaystyle \\lbrace C, \\lbrace A, B \\rbrace \\rbrace$"
      ],
      "text/plain": [
       "PoissonBracket(C(x, pₓ),PoissonBracket(A(x, pₓ),B(x, pₓ),(x,),(pₓ,)),(x,),(pₓ,\n",
       "))"
      ]
     },
     "execution_count": 187,
     "metadata": {},
     "output_type": "execute_result"
    }
   ],
   "source": [
    "apbpc"
   ]
  },
  {
   "cell_type": "code",
   "execution_count": 188,
   "metadata": {},
   "outputs": [
    {
     "data": {
      "image/png": "[encoded data removed]",
      "text/latex": [
       "$\\displaystyle - \\left(- \\frac{\\partial}{\\partial p_{x}} A{\\left(x,p_{x} \\right)} \\frac{\\partial^{2}}{\\partial x^{2}} B{\\left(x,p_{x} \\right)} + \\frac{\\partial}{\\partial x} A{\\left(x,p_{x} \\right)} \\frac{\\partial^{2}}{\\partial x\\partial p_{x}} B{\\left(x,p_{x} \\right)} + \\frac{\\partial^{2}}{\\partial x^{2}} A{\\left(x,p_{x} \\right)} \\frac{\\partial}{\\partial p_{x}} B{\\left(x,p_{x} \\right)} - \\frac{\\partial}{\\partial x} B{\\left(x,p_{x} \\right)} \\frac{\\partial^{2}}{\\partial x\\partial p_{x}} A{\\left(x,p_{x} \\right)}\\right) \\frac{\\partial}{\\partial p_{x}} C{\\left(x,p_{x} \\right)} + \\left(- \\frac{\\partial}{\\partial p_{x}} A{\\left(x,p_{x} \\right)} \\frac{\\partial^{2}}{\\partial x\\partial p_{x}} B{\\left(x,p_{x} \\right)} - \\frac{\\partial^{2}}{\\partial p_{x}^{2}} A{\\left(x,p_{x} \\right)} \\frac{\\partial}{\\partial x} B{\\left(x,p_{x} \\right)} + \\frac{\\partial}{\\partial x} A{\\left(x,p_{x} \\right)} \\frac{\\partial^{2}}{\\partial p_{x}^{2}} B{\\left(x,p_{x} \\right)} + \\frac{\\partial}{\\partial p_{x}} B{\\left(x,p_{x} \\right)} \\frac{\\partial^{2}}{\\partial x\\partial p_{x}} A{\\left(x,p_{x} \\right)}\\right) \\frac{\\partial}{\\partial x} C{\\left(x,p_{x} \\right)}$"
      ],
      "text/plain": [
       "  ⎛                  2                             2                 2        \n",
       "  ⎜   ∂             ∂              ∂              ∂                 ∂         \n",
       "- ⎜- ───(A(x, pₓ))⋅───(B(x, pₓ)) + ──(A(x, pₓ))⋅──────(B(x, pₓ)) + ───(A(x, pₓ\n",
       "  ⎜  ∂pₓ             2             ∂x           ∂x ∂pₓ               2        \n",
       "  ⎝                ∂x                                              ∂x         \n",
       "\n",
       "                                   2            ⎞                 ⎛           \n",
       "    ∂              ∂              ∂             ⎟  ∂              ⎜   ∂       \n",
       "))⋅───(B(x, pₓ)) - ──(B(x, pₓ))⋅──────(A(x, pₓ))⎟⋅───(C(x, pₓ)) + ⎜- ───(A(x, \n",
       "   ∂pₓ             ∂x           ∂x ∂pₓ          ⎟ ∂pₓ             ⎜  ∂pₓ      \n",
       "                                                ⎠                 ⎝           \n",
       "\n",
       "        2                 2                                          2        \n",
       "       ∂                 ∂             ∂              ∂             ∂         \n",
       "pₓ))⋅──────(B(x, pₓ)) - ────(A(x, pₓ))⋅──(B(x, pₓ)) + ──(A(x, pₓ))⋅────(B(x, p\n",
       "     ∂x ∂pₓ                2           ∂x             ∂x              2       \n",
       "                        ∂pₓ                                        ∂pₓ        \n",
       "\n",
       "                       2            ⎞             \n",
       "       ∂              ∂             ⎟ ∂           \n",
       "ₓ)) + ───(B(x, pₓ))⋅──────(A(x, pₓ))⎟⋅──(C(x, pₓ))\n",
       "      ∂pₓ           ∂x ∂pₓ          ⎟ ∂x          \n",
       "                                    ⎠             "
      ]
     },
     "execution_count": 188,
     "metadata": {},
     "output_type": "execute_result"
    }
   ],
   "source": [
    "apbpc.expr"
   ]
  },
  {
   "cell_type": "code",
   "execution_count": 175,
   "metadata": {},
   "outputs": [
    {
     "name": "stdout",
     "output_type": "stream",
     "text": [
      "A\n",
      "B\n",
      "A\n",
      "B\n",
      "A\n",
      "B\n",
      "A\n",
      "B\n"
     ]
    },
    {
     "data": {
      "image/png": "[encoded data removed]",
      "text/latex": [
       "$\\displaystyle - \\frac{\\partial}{\\partial p_{x}} C{\\left(x,p_{x} \\right)} \\frac{\\partial}{\\partial x} \\lbrace A, B \\rbrace + \\frac{\\partial}{\\partial x} C{\\left(x,p_{x} \\right)} \\frac{\\partial}{\\partial p_{x}} \\lbrace A, B \\rbrace$"
      ],
      "text/plain": [
       "   ∂            ∂                                                  ∂          \n",
       "- ───(C(x, pₓ))⋅──(PoissonBracket(A(x, pₓ),B(x, pₓ),(x,),(pₓ,))) + ──(C(x, pₓ)\n",
       "  ∂pₓ           ∂x                                                 ∂x         \n",
       "\n",
       "   ∂                                               \n",
       ")⋅───(PoissonBracket(A(x, pₓ),B(x, pₓ),(x,),(pₓ,)))\n",
       "  ∂pₓ                                              "
      ]
     },
     "execution_count": 175,
     "metadata": {},
     "output_type": "execute_result"
    }
   ],
   "source": [
    "apbpc.expr.expand()"
   ]
  },
  {
   "cell_type": "code",
   "execution_count": 162,
   "metadata": {},
   "outputs": [
    {
     "data": {
      "text/plain": [
       "'A'"
      ]
     },
     "execution_count": 162,
     "metadata": {},
     "output_type": "execute_result"
    }
   ],
   "source": [
    "A.__class__.__name__"
   ]
  },
  {
   "cell_type": "code",
   "execution_count": 641,
   "metadata": {},
   "outputs": [
    {
     "data": {
      "image/png": "[encoded data removed]",
      "text/latex": [
       "$\\displaystyle \\left( x\\right)$"
      ],
      "text/plain": [
       "(x,)"
      ]
     },
     "execution_count": 641,
     "metadata": {},
     "output_type": "execute_result"
    }
   ],
   "source": [
    "A = Function(\"A\")\n",
    "\n",
    "A(x)._hashable_content()"
   ]
  },
  {
   "cell_type": "code",
   "execution_count": 636,
   "metadata": {},
   "outputs": [
    {
     "data": {
      "image/png": "[encoded data removed]",
      "text/latex": [
       "$\\displaystyle \\left[ x, \\  p_{x}\\right]$"
      ],
      "text/plain": [
       "[x, pₓ]"
      ]
     },
     "execution_count": 636,
     "metadata": {},
     "output_type": "execute_result"
    }
   ],
   "source": [
    "list(set(A._hashable_content() +B._hashable_content()))"
   ]
  },
  {
   "cell_type": "code",
   "execution_count": 643,
   "metadata": {},
   "outputs": [],
   "source": [
    "from __future__ import print_function, division\n",
    "\n",
    "from sympy import S, Expr, Mul,Add, Pow\n",
    "from sympy.physics.quantum import Operator\n",
    "from sympy.printing.latex import print_latex\n",
    "from sympy.printing.pretty.stringpict import prettyForm\n",
    "\n",
    "\n",
    "from sympy import S, Expr, Mul, Add, Pow\n",
    "from sympy.printing.pretty.stringpict import prettyForm\n",
    "\n",
    "from sympy.physics.quantum.dagger import Dagger\n",
    "from sympy.physics.quantum.operator import Operator\n",
    "\n",
    "from sympy.core.decorators import _sympifyit, call_highest_priority\n",
    "\n",
    "class PoissonBracket(Expr):\n",
    "    \"\"\"\n",
    "    Operator class for the Poisson Bracket - allows to have it as a symbolic operator\n",
    "    \"\"\"\n",
    "    \n",
    "    _op_priority = 11.0\n",
    "    _is_commutative = False\n",
    "    \n",
    "    def __new__(cls,A,B,indep_coords, indep_mom):\n",
    "         # create list of coords\n",
    "        if not isinstance(indep_coords, list):\n",
    "            indep_coords = [indep_coords]\n",
    "\n",
    "        # create list of momenta\n",
    "        if not isinstance(indep_mom, list):\n",
    "            indep_mom = [indep_mom]\n",
    "\n",
    "        # same number of coordinates and momenta have to be entered\n",
    "        assert len(indep_coords) == len(\n",
    "            indep_mom\n",
    "        ), \"The number of coords and momenta is not the same\"\n",
    "        \n",
    "        r=cls.eval(A,B, indep_coords, indep_mom)\n",
    "        if r is not None:\n",
    "            return r\n",
    "        obj = Expr.__new__(cls,A,B,indep_coords, indep_mom)\n",
    "        obj.A = A\n",
    "        obj.B = B\n",
    "        obj.indep_coords = indep_coords\n",
    "        obj.indep_mom = indep_mom\n",
    "        return obj\n",
    "    \n",
    "    @classmethod\n",
    "    def eval(cls,a,b,indep_coords,indep_mom):\n",
    "        if not (a and b):\n",
    "#             print(\"here\")\n",
    "            return S.Zero\n",
    "        if a==b:\n",
    "            print(\"here\")\n",
    "            print(a,b)\n",
    "            return S.Zero\n",
    "#         if a.compare(b) ==1:\n",
    "#             return S.NegativeOne*cls(b,a,indep_coords,indep_mom)\n",
    "        \n",
    "    @property\n",
    "    def free_symbols(self):\n",
    "        return self.A.free_symbols.union(self.B.free_symbols)\n",
    "    \n",
    "    @property\n",
    "    def expr(self):\n",
    "        hp = S(0)\n",
    "        for qi, pi in zip(self.indep_coords, self.indep_mom):\n",
    "            hp += self.A.diff(qi) * self.B.diff(pi)\n",
    "            hp -= self.A.diff(pi) * self.B.diff(qi)\n",
    "        return hp\n",
    "\n",
    "    def _eval_derivative(self, symbol):\n",
    "        \"\"\"\n",
    "        Necessary to get the full expanded expression\n",
    "        when one of the arguments is itself a PoissonBracket.\n",
    "        In other words to allow evalutation of nested Poisson Brackets.\n",
    "        \"\"\"\n",
    "        new_expr = self.expr.diff(symbol)\n",
    "        return new_expr\n",
    "    \n",
    "    def doit(self, **hints):\n",
    "        \"\"\" Evaluate commutator \"\"\"\n",
    "        A = self.args[0]\n",
    "        B = self.args[1]\n",
    "        if isinstance(A, Operator) and isinstance(B, Operator):\n",
    "            try:\n",
    "                comm = A._eval_commutator(B, **hints)\n",
    "            except NotImplementedError:\n",
    "                try:\n",
    "                    comm = -1*B._eval_commutator(A, **hints)\n",
    "                except NotImplementedError:\n",
    "                    comm = None\n",
    "            if comm is not None:\n",
    "                return comm.doit(**hints)\n",
    "            \n",
    "        hp = self.expr\n",
    "        return hp.doit(**hints)\n",
    "#         return (A*B - B*A).doit(**hints)\n",
    "\n",
    "    def _eval_expand_commutator(self, **hints):\n",
    "        A = self.A #self.args[0]\n",
    "        B = self.B #self.args[1]\n",
    "\n",
    "        if isinstance(A, Add):\n",
    "            # [A + B, C]  ->  [A, C] + [B, C]\n",
    "            sargs = []\n",
    "            for term in A.args:\n",
    "                comm = PoissonBracket(term, B,self.indep_coords, self.indep_mom)\n",
    "                print(comm.__class__)\n",
    "                if isinstance(comm, PoissonBracket):\n",
    "                    comm = comm._eval_expand_commutator()\n",
    "                sargs.append(comm)\n",
    "            print(sargs)\n",
    "            return Add(*sargs)\n",
    "        \n",
    "        \n",
    "        return self\n",
    "    \n",
    "    # Define Addition\n",
    "    @_sympifyit(\"other\", NotImplemented)\n",
    "    @call_highest_priority(\"__radd__\")\n",
    "    def __add__(self,other):\n",
    "        if self.A == other.A:\n",
    "            return PoissonBracket(self.A, self.B+other.B,self.indep_coords,self.indep_mom)\n",
    "        elif self.B == other.B:\n",
    "            return PoissonBracket(self.A+other.A,self.B, self.indep_coords,self.indep_mom)\n",
    "        return self\n",
    "    \n",
    "    def _latex(self, printer, *args):\n",
    "#         print(tuple([\n",
    "#             printer._print(arg.func, *args) if arg.__class__.__name__ != \"PoissonBracket\" else  printer._print(arg, *args) for arg in self.args[:2] ]))\n",
    "        news = []\n",
    "        for arg in self.args[:2]:\n",
    "#             print(type(arg))\n",
    "            if isinstance(arg,Add):\n",
    "                news.append(\" + \".join([printer._print(a.func, *args) if a.is_Function  else  printer._print(a, *args) for a in arg.args]))\n",
    "            elif isinstance(arg,PoissonBracket):\n",
    "                news.append(\"\\\\lbrace %s,%s\\\\rbrace\" %tuple([\n",
    "            printer._print(a.func, *args) if a.is_Function  else  printer._print(a, *args) for a in arg.args[:2] ]))\n",
    "            elif isinstance(arg,Mul):\n",
    "                news.append([ printer._print(arg, *args) for arg in self.args[:2] ])\n",
    "            elif isinstance(arg, Function):\n",
    "                news.append(printer._print(arg.func, *args))\n",
    "#         print(news)\n",
    "#         return \"\\\\lbrace %s,%s\\\\rbrace\" %tuple(news)\n",
    "        \n",
    "        return \"\\\\lbrace %s,%s\\\\rbrace\" %tuple([\n",
    "            printer._print(arg.func, *args) if arg.is_Function  else  printer._print(arg, *args) for arg in self.args[:2] ])\n",
    "#         return \"\\\\lbrace %s,%s\\\\rbrace\" % tuple([\n",
    "#             printer._print(arg, *args) for arg in self.args[:2]])"
   ]
  },
  {
   "cell_type": "code",
   "execution_count": 607,
   "metadata": {},
   "outputs": [
    {
     "name": "stdout",
     "output_type": "stream",
     "text": [
      "<class '__main__.Commutator'>\n",
      "<class '__main__.Commutator'>\n",
      "[[G,I], [H,I]]\n"
     ]
    },
    {
     "data": {
      "image/png": "[encoded data removed]",
      "text/latex": [
       "$\\displaystyle \\left[G,I\\right] + \\left[H,I\\right]$"
      ],
      "text/plain": [
       "[G,I] + [H,I]"
      ]
     },
     "execution_count": 607,
     "metadata": {},
     "output_type": "execute_result"
    }
   ],
   "source": [
    "Commutator(G+H,I).expand(commutator=True)"
   ]
  },
  {
   "cell_type": "code",
   "execution_count": 491,
   "metadata": {},
   "outputs": [],
   "source": [
    "A = Function(\"A\")(x,px)\n",
    "B = Function(\"B\")(x,px)\n",
    "C = Function(\"C\")(x,px)\n",
    "D = Function(\"D\")(x,px)\n",
    "E = Function(\"E\")(x,px)"
   ]
  },
  {
   "cell_type": "code",
   "execution_count": 569,
   "metadata": {},
   "outputs": [],
   "source": [
    "G = Operator(\"G\")\n",
    "H = Operator(\"H\")\n",
    "I = Operator(\"I\")"
   ]
  },
  {
   "cell_type": "code",
   "execution_count": 644,
   "metadata": {},
   "outputs": [],
   "source": [
    "p1,p2 = (PoissonBracket(A,B,x,px),PoissonBracket(C,B,x,px))"
   ]
  },
  {
   "cell_type": "code",
   "execution_count": 611,
   "metadata": {},
   "outputs": [
    {
     "name": "stdout",
     "output_type": "stream",
     "text": [
      "<class '__main__.PoissonBracket'>\n",
      "<class '__main__.PoissonBracket'>\n",
      "[PoissonBracket(A(x, p_x), C(x, p_x), [x], [p_x]), PoissonBracket(B(x, p_x), C(x, p_x), [x], [p_x])]\n"
     ]
    },
    {
     "ename": "TypeError",
     "evalue": "unhashable type: 'list'",
     "output_type": "error",
     "traceback": [
      "\u001b[0;31m----------------------------------------------\u001b[0m",
      "\u001b[0;31mTypeError\u001b[0m    Traceback (most recent call last)",
      "\u001b[0;32m~/.local/lib/python3.6/site-packages/sympy/core/cache.py\u001b[0m in \u001b[0;36mwrapper\u001b[0;34m(*args, **kwargs)\u001b[0m\n\u001b[1;32m     93\u001b[0m                 \u001b[0;32mtry\u001b[0m\u001b[0;34m:\u001b[0m\u001b[0;34m\u001b[0m\u001b[0;34m\u001b[0m\u001b[0m\n\u001b[0;32m---> 94\u001b[0;31m                     \u001b[0mretval\u001b[0m \u001b[0;34m=\u001b[0m \u001b[0mcfunc\u001b[0m\u001b[0;34m(\u001b[0m\u001b[0;34m*\u001b[0m\u001b[0margs\u001b[0m\u001b[0;34m,\u001b[0m \u001b[0;34m**\u001b[0m\u001b[0mkwargs\u001b[0m\u001b[0;34m)\u001b[0m\u001b[0;34m\u001b[0m\u001b[0;34m\u001b[0m\u001b[0m\n\u001b[0m\u001b[1;32m     95\u001b[0m                 \u001b[0;32mexcept\u001b[0m \u001b[0mTypeError\u001b[0m\u001b[0;34m:\u001b[0m\u001b[0;34m\u001b[0m\u001b[0;34m\u001b[0m\u001b[0m\n",
      "\u001b[0;32m~/.local/lib/python3.6/site-packages/sympy/core/expr.py\u001b[0m in \u001b[0;36m__hash__\u001b[0;34m(self)\u001b[0m\n\u001b[1;32m    110\u001b[0m         \u001b[0;32mif\u001b[0m \u001b[0mh\u001b[0m \u001b[0;32mis\u001b[0m \u001b[0;32mNone\u001b[0m\u001b[0;34m:\u001b[0m\u001b[0;34m\u001b[0m\u001b[0;34m\u001b[0m\u001b[0m\n\u001b[0;32m--> 111\u001b[0;31m             \u001b[0mh\u001b[0m \u001b[0;34m=\u001b[0m \u001b[0mhash\u001b[0m\u001b[0;34m(\u001b[0m\u001b[0;34m(\u001b[0m\u001b[0mtype\u001b[0m\u001b[0;34m(\u001b[0m\u001b[0mself\u001b[0m\u001b[0;34m)\u001b[0m\u001b[0;34m.\u001b[0m\u001b[0m__name__\u001b[0m\u001b[0;34m,\u001b[0m\u001b[0;34m)\u001b[0m \u001b[0;34m+\u001b[0m \u001b[0mself\u001b[0m\u001b[0;34m.\u001b[0m\u001b[0m_hashable_content\u001b[0m\u001b[0;34m(\u001b[0m\u001b[0;34m)\u001b[0m\u001b[0;34m)\u001b[0m\u001b[0;34m\u001b[0m\u001b[0;34m\u001b[0m\u001b[0m\n\u001b[0m\u001b[1;32m    112\u001b[0m             \u001b[0mself\u001b[0m\u001b[0;34m.\u001b[0m\u001b[0m_mhash\u001b[0m \u001b[0;34m=\u001b[0m \u001b[0mh\u001b[0m\u001b[0;34m\u001b[0m\u001b[0;34m\u001b[0m\u001b[0m\n",
      "\u001b[0;31mTypeError\u001b[0m: unhashable type: 'list'",
      "\nDuring handling of the above exception, another exception occurred:\n",
      "\u001b[0;31mTypeError\u001b[0m    Traceback (most recent call last)",
      "\u001b[0;32m~/.local/lib/python3.6/site-packages/sympy/core/cache.py\u001b[0m in \u001b[0;36mwrapper\u001b[0;34m(*args, **kwargs)\u001b[0m\n\u001b[1;32m     93\u001b[0m                 \u001b[0;32mtry\u001b[0m\u001b[0;34m:\u001b[0m\u001b[0;34m\u001b[0m\u001b[0;34m\u001b[0m\u001b[0m\n\u001b[0;32m---> 94\u001b[0;31m                     \u001b[0mretval\u001b[0m \u001b[0;34m=\u001b[0m \u001b[0mcfunc\u001b[0m\u001b[0;34m(\u001b[0m\u001b[0;34m*\u001b[0m\u001b[0margs\u001b[0m\u001b[0;34m,\u001b[0m \u001b[0;34m**\u001b[0m\u001b[0mkwargs\u001b[0m\u001b[0;34m)\u001b[0m\u001b[0;34m\u001b[0m\u001b[0;34m\u001b[0m\u001b[0m\n\u001b[0m\u001b[1;32m     95\u001b[0m                 \u001b[0;32mexcept\u001b[0m \u001b[0mTypeError\u001b[0m\u001b[0;34m:\u001b[0m\u001b[0;34m\u001b[0m\u001b[0;34m\u001b[0m\u001b[0m\n",
      "\u001b[0;32m~/.local/lib/python3.6/site-packages/sympy/core/expr.py\u001b[0m in \u001b[0;36m__hash__\u001b[0;34m(self)\u001b[0m\n\u001b[1;32m    110\u001b[0m         \u001b[0;32mif\u001b[0m \u001b[0mh\u001b[0m \u001b[0;32mis\u001b[0m \u001b[0;32mNone\u001b[0m\u001b[0;34m:\u001b[0m\u001b[0;34m\u001b[0m\u001b[0;34m\u001b[0m\u001b[0m\n\u001b[0;32m--> 111\u001b[0;31m             \u001b[0mh\u001b[0m \u001b[0;34m=\u001b[0m \u001b[0mhash\u001b[0m\u001b[0;34m(\u001b[0m\u001b[0;34m(\u001b[0m\u001b[0mtype\u001b[0m\u001b[0;34m(\u001b[0m\u001b[0mself\u001b[0m\u001b[0;34m)\u001b[0m\u001b[0;34m.\u001b[0m\u001b[0m__name__\u001b[0m\u001b[0;34m,\u001b[0m\u001b[0;34m)\u001b[0m \u001b[0;34m+\u001b[0m \u001b[0mself\u001b[0m\u001b[0;34m.\u001b[0m\u001b[0m_hashable_content\u001b[0m\u001b[0;34m(\u001b[0m\u001b[0;34m)\u001b[0m\u001b[0;34m)\u001b[0m\u001b[0;34m\u001b[0m\u001b[0;34m\u001b[0m\u001b[0m\n\u001b[0m\u001b[1;32m    112\u001b[0m             \u001b[0mself\u001b[0m\u001b[0;34m.\u001b[0m\u001b[0m_mhash\u001b[0m \u001b[0;34m=\u001b[0m \u001b[0mh\u001b[0m\u001b[0;34m\u001b[0m\u001b[0;34m\u001b[0m\u001b[0m\n",
      "\u001b[0;31mTypeError\u001b[0m: unhashable type: 'list'",
      "\nDuring handling of the above exception, another exception occurred:\n",
      "\u001b[0;31mTypeError\u001b[0m    Traceback (most recent call last)",
      "\u001b[0;32m<ipython-input-611-972566275776>\u001b[0m in \u001b[0;36m<module>\u001b[0;34m\u001b[0m\n\u001b[0;32m----> 1\u001b[0;31m \u001b[0mPoissonBracket\u001b[0m\u001b[0;34m(\u001b[0m\u001b[0mA\u001b[0m\u001b[0;34m+\u001b[0m\u001b[0mB\u001b[0m\u001b[0;34m,\u001b[0m\u001b[0mC\u001b[0m\u001b[0;34m,\u001b[0m\u001b[0mx\u001b[0m\u001b[0;34m,\u001b[0m\u001b[0mpx\u001b[0m\u001b[0;34m)\u001b[0m\u001b[0;34m.\u001b[0m\u001b[0mexpand\u001b[0m\u001b[0;34m(\u001b[0m\u001b[0mcommutator\u001b[0m\u001b[0;34m=\u001b[0m\u001b[0;32mTrue\u001b[0m\u001b[0;34m)\u001b[0m\u001b[0;34m\u001b[0m\u001b[0;34m\u001b[0m\u001b[0m\n\u001b[0m",
      "\u001b[0;32m~/.local/lib/python3.6/site-packages/sympy/core/cache.py\u001b[0m in \u001b[0;36mwrapper\u001b[0;34m(*args, **kwargs)\u001b[0m\n\u001b[1;32m     94\u001b[0m                     \u001b[0mretval\u001b[0m \u001b[0;34m=\u001b[0m \u001b[0mcfunc\u001b[0m\u001b[0;34m(\u001b[0m\u001b[0;34m*\u001b[0m\u001b[0margs\u001b[0m\u001b[0;34m,\u001b[0m \u001b[0;34m**\u001b[0m\u001b[0mkwargs\u001b[0m\u001b[0;34m)\u001b[0m\u001b[0;34m\u001b[0m\u001b[0;34m\u001b[0m\u001b[0m\n\u001b[1;32m     95\u001b[0m                 \u001b[0;32mexcept\u001b[0m \u001b[0mTypeError\u001b[0m\u001b[0;34m:\u001b[0m\u001b[0;34m\u001b[0m\u001b[0;34m\u001b[0m\u001b[0m\n\u001b[0;32m---> 96\u001b[0;31m                     \u001b[0mretval\u001b[0m \u001b[0;34m=\u001b[0m \u001b[0mfunc\u001b[0m\u001b[0;34m(\u001b[0m\u001b[0;34m*\u001b[0m\u001b[0margs\u001b[0m\u001b[0;34m,\u001b[0m \u001b[0;34m**\u001b[0m\u001b[0mkwargs\u001b[0m\u001b[0;34m)\u001b[0m\u001b[0;34m\u001b[0m\u001b[0;34m\u001b[0m\u001b[0m\n\u001b[0m\u001b[1;32m     97\u001b[0m                 \u001b[0;32mreturn\u001b[0m \u001b[0mretval\u001b[0m\u001b[0;34m\u001b[0m\u001b[0;34m\u001b[0m\u001b[0m\n\u001b[1;32m     98\u001b[0m \u001b[0;34m\u001b[0m\u001b[0m\n",
      "\u001b[0;32m~/.local/lib/python3.6/site-packages/sympy/core/expr.py\u001b[0m in \u001b[0;36mexpand\u001b[0;34m(self, deep, modulus, power_base, power_exp, mul, log, multinomial, basic, **hints)\u001b[0m\n\u001b[1;32m   3481\u001b[0m             \u001b[0;32mif\u001b[0m \u001b[0muse_hint\u001b[0m\u001b[0;34m:\u001b[0m\u001b[0;34m\u001b[0m\u001b[0;34m\u001b[0m\u001b[0m\n\u001b[1;32m   3482\u001b[0m                 \u001b[0mhint\u001b[0m \u001b[0;34m=\u001b[0m \u001b[0;34m'_eval_expand_'\u001b[0m \u001b[0;34m+\u001b[0m \u001b[0mhint\u001b[0m\u001b[0;34m\u001b[0m\u001b[0;34m\u001b[0m\u001b[0m\n\u001b[0;32m-> 3483\u001b[0;31m                 \u001b[0mexpr\u001b[0m\u001b[0;34m,\u001b[0m \u001b[0mhit\u001b[0m \u001b[0;34m=\u001b[0m \u001b[0mExpr\u001b[0m\u001b[0;34m.\u001b[0m\u001b[0m_expand_hint\u001b[0m\u001b[0;34m(\u001b[0m\u001b[0mexpr\u001b[0m\u001b[0;34m,\u001b[0m \u001b[0mhint\u001b[0m\u001b[0;34m,\u001b[0m \u001b[0mdeep\u001b[0m\u001b[0;34m=\u001b[0m\u001b[0mdeep\u001b[0m\u001b[0;34m,\u001b[0m \u001b[0;34m**\u001b[0m\u001b[0mhints\u001b[0m\u001b[0;34m)\u001b[0m\u001b[0;34m\u001b[0m\u001b[0;34m\u001b[0m\u001b[0m\n\u001b[0m\u001b[1;32m   3484\u001b[0m \u001b[0;34m\u001b[0m\u001b[0m\n\u001b[1;32m   3485\u001b[0m         \u001b[0;32mwhile\u001b[0m \u001b[0;32mTrue\u001b[0m\u001b[0;34m:\u001b[0m\u001b[0;34m\u001b[0m\u001b[0;34m\u001b[0m\u001b[0m\n",
      "\u001b[0;32m~/.local/lib/python3.6/site-packages/sympy/core/expr.py\u001b[0m in \u001b[0;36m_expand_hint\u001b[0;34m(expr, hint, deep, **hints)\u001b[0m\n\u001b[1;32m   3422\u001b[0m \u001b[0;34m\u001b[0m\u001b[0m\n\u001b[1;32m   3423\u001b[0m         \u001b[0;32mif\u001b[0m \u001b[0mhasattr\u001b[0m\u001b[0;34m(\u001b[0m\u001b[0mexpr\u001b[0m\u001b[0;34m,\u001b[0m \u001b[0mhint\u001b[0m\u001b[0;34m)\u001b[0m\u001b[0;34m:\u001b[0m\u001b[0;34m\u001b[0m\u001b[0;34m\u001b[0m\u001b[0m\n\u001b[0;32m-> 3424\u001b[0;31m             \u001b[0mnewexpr\u001b[0m \u001b[0;34m=\u001b[0m \u001b[0mgetattr\u001b[0m\u001b[0;34m(\u001b[0m\u001b[0mexpr\u001b[0m\u001b[0;34m,\u001b[0m \u001b[0mhint\u001b[0m\u001b[0;34m)\u001b[0m\u001b[0;34m(\u001b[0m\u001b[0;34m**\u001b[0m\u001b[0mhints\u001b[0m\u001b[0;34m)\u001b[0m\u001b[0;34m\u001b[0m\u001b[0;34m\u001b[0m\u001b[0m\n\u001b[0m\u001b[1;32m   3425\u001b[0m             \u001b[0;32mif\u001b[0m \u001b[0mnewexpr\u001b[0m \u001b[0;34m!=\u001b[0m \u001b[0mexpr\u001b[0m\u001b[0;34m:\u001b[0m\u001b[0;34m\u001b[0m\u001b[0;34m\u001b[0m\u001b[0m\n\u001b[1;32m   3426\u001b[0m                 \u001b[0;32mreturn\u001b[0m \u001b[0;34m(\u001b[0m\u001b[0mnewexpr\u001b[0m\u001b[0;34m,\u001b[0m \u001b[0;32mTrue\u001b[0m\u001b[0;34m)\u001b[0m\u001b[0;34m\u001b[0m\u001b[0;34m\u001b[0m\u001b[0m\n",
      "\u001b[0;32m<ipython-input-605-a7bdebcd12d6>\u001b[0m in \u001b[0;36m_eval_expand_commutator\u001b[0;34m(self, **hints)\u001b[0m\n\u001b[1;32m    112\u001b[0m                 \u001b[0msargs\u001b[0m\u001b[0;34m.\u001b[0m\u001b[0mappend\u001b[0m\u001b[0;34m(\u001b[0m\u001b[0mcomm\u001b[0m\u001b[0;34m)\u001b[0m\u001b[0;34m\u001b[0m\u001b[0;34m\u001b[0m\u001b[0m\n\u001b[1;32m    113\u001b[0m             \u001b[0mprint\u001b[0m\u001b[0;34m(\u001b[0m\u001b[0msargs\u001b[0m\u001b[0;34m)\u001b[0m\u001b[0;34m\u001b[0m\u001b[0;34m\u001b[0m\u001b[0m\n\u001b[0;32m--> 114\u001b[0;31m             \u001b[0;32mreturn\u001b[0m \u001b[0mAdd\u001b[0m\u001b[0;34m(\u001b[0m\u001b[0;34m*\u001b[0m\u001b[0msargs\u001b[0m\u001b[0;34m)\u001b[0m\u001b[0;34m\u001b[0m\u001b[0;34m\u001b[0m\u001b[0m\n\u001b[0m\u001b[1;32m    115\u001b[0m         \u001b[0;32mreturn\u001b[0m \u001b[0mself\u001b[0m\u001b[0;34m\u001b[0m\u001b[0;34m\u001b[0m\u001b[0m\n\u001b[1;32m    116\u001b[0m \u001b[0;34m\u001b[0m\u001b[0m\n",
      "\u001b[0;32m~/.local/lib/python3.6/site-packages/sympy/core/cache.py\u001b[0m in \u001b[0;36mwrapper\u001b[0;34m(*args, **kwargs)\u001b[0m\n\u001b[1;32m     94\u001b[0m                     \u001b[0mretval\u001b[0m \u001b[0;34m=\u001b[0m \u001b[0mcfunc\u001b[0m\u001b[0;34m(\u001b[0m\u001b[0;34m*\u001b[0m\u001b[0margs\u001b[0m\u001b[0;34m,\u001b[0m \u001b[0;34m**\u001b[0m\u001b[0mkwargs\u001b[0m\u001b[0;34m)\u001b[0m\u001b[0;34m\u001b[0m\u001b[0;34m\u001b[0m\u001b[0m\n\u001b[1;32m     95\u001b[0m                 \u001b[0;32mexcept\u001b[0m \u001b[0mTypeError\u001b[0m\u001b[0;34m:\u001b[0m\u001b[0;34m\u001b[0m\u001b[0;34m\u001b[0m\u001b[0m\n\u001b[0;32m---> 96\u001b[0;31m                     \u001b[0mretval\u001b[0m \u001b[0;34m=\u001b[0m \u001b[0mfunc\u001b[0m\u001b[0;34m(\u001b[0m\u001b[0;34m*\u001b[0m\u001b[0margs\u001b[0m\u001b[0;34m,\u001b[0m \u001b[0;34m**\u001b[0m\u001b[0mkwargs\u001b[0m\u001b[0;34m)\u001b[0m\u001b[0;34m\u001b[0m\u001b[0;34m\u001b[0m\u001b[0m\n\u001b[0m\u001b[1;32m     97\u001b[0m                 \u001b[0;32mreturn\u001b[0m \u001b[0mretval\u001b[0m\u001b[0;34m\u001b[0m\u001b[0;34m\u001b[0m\u001b[0m\n\u001b[1;32m     98\u001b[0m \u001b[0;34m\u001b[0m\u001b[0m\n",
      "\u001b[0;32m~/.local/lib/python3.6/site-packages/sympy/core/operations.py\u001b[0m in \u001b[0;36m__new__\u001b[0;34m(cls, *args, **options)\u001b[0m\n\u001b[1;32m     50\u001b[0m             \u001b[0;32mreturn\u001b[0m \u001b[0margs\u001b[0m\u001b[0;34m[\u001b[0m\u001b[0;36m0\u001b[0m\u001b[0;34m]\u001b[0m\u001b[0;34m\u001b[0m\u001b[0;34m\u001b[0m\u001b[0m\n\u001b[1;32m     51\u001b[0m \u001b[0;34m\u001b[0m\u001b[0m\n\u001b[0;32m---> 52\u001b[0;31m         \u001b[0mc_part\u001b[0m\u001b[0;34m,\u001b[0m \u001b[0mnc_part\u001b[0m\u001b[0;34m,\u001b[0m \u001b[0morder_symbols\u001b[0m \u001b[0;34m=\u001b[0m \u001b[0mcls\u001b[0m\u001b[0;34m.\u001b[0m\u001b[0mflatten\u001b[0m\u001b[0;34m(\u001b[0m\u001b[0margs\u001b[0m\u001b[0;34m)\u001b[0m\u001b[0;34m\u001b[0m\u001b[0;34m\u001b[0m\u001b[0m\n\u001b[0m\u001b[1;32m     53\u001b[0m         \u001b[0mis_commutative\u001b[0m \u001b[0;34m=\u001b[0m \u001b[0;32mnot\u001b[0m \u001b[0mnc_part\u001b[0m\u001b[0;34m\u001b[0m\u001b[0;34m\u001b[0m\u001b[0m\n\u001b[1;32m     54\u001b[0m         \u001b[0mobj\u001b[0m \u001b[0;34m=\u001b[0m \u001b[0mcls\u001b[0m\u001b[0;34m.\u001b[0m\u001b[0m_from_args\u001b[0m\u001b[0;34m(\u001b[0m\u001b[0mc_part\u001b[0m \u001b[0;34m+\u001b[0m \u001b[0mnc_part\u001b[0m\u001b[0;34m,\u001b[0m \u001b[0mis_commutative\u001b[0m\u001b[0;34m)\u001b[0m\u001b[0;34m\u001b[0m\u001b[0;34m\u001b[0m\u001b[0m\n",
      "\u001b[0;32m~/.local/lib/python3.6/site-packages/sympy/core/add.py\u001b[0m in \u001b[0;36mflatten\u001b[0;34m(cls, seq)\u001b[0m\n\u001b[1;32m    197\u001b[0m             \u001b[0;31m# let's collect terms with the same s, so e.g.\u001b[0m\u001b[0;34m\u001b[0m\u001b[0;34m\u001b[0m\u001b[0;34m\u001b[0m\u001b[0m\n\u001b[1;32m    198\u001b[0m             \u001b[0;31m# 2*x**2 + 3*x**2  ->  5*x**2\u001b[0m\u001b[0;34m\u001b[0m\u001b[0;34m\u001b[0m\u001b[0;34m\u001b[0m\u001b[0m\n\u001b[0;32m--> 199\u001b[0;31m             \u001b[0;32mif\u001b[0m \u001b[0ms\u001b[0m \u001b[0;32min\u001b[0m \u001b[0mterms\u001b[0m\u001b[0;34m:\u001b[0m\u001b[0;34m\u001b[0m\u001b[0;34m\u001b[0m\u001b[0m\n\u001b[0m\u001b[1;32m    200\u001b[0m                 \u001b[0mterms\u001b[0m\u001b[0;34m[\u001b[0m\u001b[0ms\u001b[0m\u001b[0;34m]\u001b[0m \u001b[0;34m+=\u001b[0m \u001b[0mc\u001b[0m\u001b[0;34m\u001b[0m\u001b[0;34m\u001b[0m\u001b[0m\n\u001b[1;32m    201\u001b[0m                 \u001b[0;32mif\u001b[0m \u001b[0mterms\u001b[0m\u001b[0;34m[\u001b[0m\u001b[0ms\u001b[0m\u001b[0;34m]\u001b[0m \u001b[0;32mis\u001b[0m \u001b[0mS\u001b[0m\u001b[0;34m.\u001b[0m\u001b[0mNaN\u001b[0m \u001b[0;32mand\u001b[0m \u001b[0;32mnot\u001b[0m \u001b[0mextra\u001b[0m\u001b[0;34m:\u001b[0m\u001b[0;34m\u001b[0m\u001b[0;34m\u001b[0m\u001b[0m\n",
      "\u001b[0;32m~/.local/lib/python3.6/site-packages/sympy/core/expr.py\u001b[0m in \u001b[0;36m__hash__\u001b[0;34m(self)\u001b[0m\n\u001b[1;32m    109\u001b[0m         \u001b[0mh\u001b[0m \u001b[0;34m=\u001b[0m \u001b[0mself\u001b[0m\u001b[0;34m.\u001b[0m\u001b[0m_mhash\u001b[0m\u001b[0;34m\u001b[0m\u001b[0;34m\u001b[0m\u001b[0m\n\u001b[1;32m    110\u001b[0m         \u001b[0;32mif\u001b[0m \u001b[0mh\u001b[0m \u001b[0;32mis\u001b[0m \u001b[0;32mNone\u001b[0m\u001b[0;34m:\u001b[0m\u001b[0;34m\u001b[0m\u001b[0;34m\u001b[0m\u001b[0m\n\u001b[0;32m--> 111\u001b[0;31m             \u001b[0mh\u001b[0m \u001b[0;34m=\u001b[0m \u001b[0mhash\u001b[0m\u001b[0;34m(\u001b[0m\u001b[0;34m(\u001b[0m\u001b[0mtype\u001b[0m\u001b[0;34m(\u001b[0m\u001b[0mself\u001b[0m\u001b[0;34m)\u001b[0m\u001b[0;34m.\u001b[0m\u001b[0m__name__\u001b[0m\u001b[0;34m,\u001b[0m\u001b[0;34m)\u001b[0m \u001b[0;34m+\u001b[0m \u001b[0mself\u001b[0m\u001b[0;34m.\u001b[0m\u001b[0m_hashable_content\u001b[0m\u001b[0;34m(\u001b[0m\u001b[0;34m)\u001b[0m\u001b[0;34m)\u001b[0m\u001b[0;34m\u001b[0m\u001b[0;34m\u001b[0m\u001b[0m\n\u001b[0m\u001b[1;32m    112\u001b[0m             \u001b[0mself\u001b[0m\u001b[0;34m.\u001b[0m\u001b[0m_mhash\u001b[0m \u001b[0;34m=\u001b[0m \u001b[0mh\u001b[0m\u001b[0;34m\u001b[0m\u001b[0;34m\u001b[0m\u001b[0m\n\u001b[1;32m    113\u001b[0m         \u001b[0;32mreturn\u001b[0m \u001b[0mh\u001b[0m\u001b[0;34m\u001b[0m\u001b[0;34m\u001b[0m\u001b[0m\n",
      "\u001b[0;31mTypeError\u001b[0m: unhashable type: 'list'"
     ]
    }
   ],
   "source": [
    "PoissonBracket(A+B,C,x,px).expand(commutator=True)"
   ]
  },
  {
   "cell_type": "code",
   "execution_count": 492,
   "metadata": {},
   "outputs": [
    {
     "data": {
      "image/png": "[encoded data removed]",
      "text/latex": [
       "$\\displaystyle \\lbrace A,B\\rbrace$"
      ],
      "text/plain": [
       "PoissonBracket(A(x, p_x), B(x, p_x), [x], [p_x])"
      ]
     },
     "execution_count": 492,
     "metadata": {},
     "output_type": "execute_result"
    }
   ],
   "source": [
    "PoissonBracket(A,B,x,px)"
   ]
  },
  {
   "cell_type": "code",
   "execution_count": 493,
   "metadata": {},
   "outputs": [
    {
     "data": {
      "image/png": "[encoded data removed]",
      "text/latex": [
       "$\\displaystyle \\left\\{p_{x}, x\\right\\}$"
      ],
      "text/plain": [
       "{pₓ, x}"
      ]
     },
     "execution_count": 493,
     "metadata": {},
     "output_type": "execute_result"
    }
   ],
   "source": [
    "PoissonBracket(A,B,x,px).free_symbols"
   ]
  },
  {
   "cell_type": "code",
   "execution_count": 591,
   "metadata": {},
   "outputs": [
    {
     "data": {
      "image/png": "[encoded data removed]",
      "text/latex": [
       "$\\displaystyle \\lbrace A,B{\\left(x,p_{x} \\right)} + C{\\left(x,p_{x} \\right)}\\rbrace$"
      ],
      "text/plain": [
       "PoissonBracket(A(x, p_x), B(x, p_x) + C(x, p_x), [x], [p_x])"
      ]
     },
     "execution_count": 591,
     "metadata": {},
     "output_type": "execute_result"
    }
   ],
   "source": [
    "PoissonBracket(A,B,x,px) + PoissonBracket(A,C,x,px)"
   ]
  },
  {
   "cell_type": "code",
   "execution_count": 494,
   "metadata": {},
   "outputs": [
    {
     "data": {
      "image/png": "[encoded data removed]",
      "text/latex": [
       "$\\displaystyle - \\frac{\\partial}{\\partial p_{x}} A{\\left(x,p_{x} \\right)} \\frac{\\partial}{\\partial x} B{\\left(x,p_{x} \\right)} + \\frac{\\partial}{\\partial x} A{\\left(x,p_{x} \\right)} \\frac{\\partial}{\\partial p_{x}} B{\\left(x,p_{x} \\right)}$"
      ],
      "text/plain": [
       "   ∂            ∂              ∂             ∂           \n",
       "- ───(A(x, pₓ))⋅──(B(x, pₓ)) + ──(A(x, pₓ))⋅───(B(x, pₓ))\n",
       "  ∂pₓ           ∂x             ∂x           ∂pₓ          "
      ]
     },
     "execution_count": 494,
     "metadata": {},
     "output_type": "execute_result"
    }
   ],
   "source": [
    "PoissonBracket(A,B,x,px).doit()"
   ]
  },
  {
   "cell_type": "code",
   "execution_count": 495,
   "metadata": {},
   "outputs": [
    {
     "data": {
      "image/png": "[encoded data removed]",
      "text/latex": [
       "$\\displaystyle - \\lbrace C,\\lbrace A,B\\rbrace\\rbrace$"
      ],
      "text/plain": [
       "-PoissonBracket(C(x, p_x), PoissonBracket(A(x, p_x), B(x, p_x), [x], [p_x]), [\n",
       "x], [p_x])"
      ]
     },
     "execution_count": 495,
     "metadata": {},
     "output_type": "execute_result"
    }
   ],
   "source": [
    "lev2 = PoissonBracket(PoissonBracket(A,B,x,px),C,x,px)\n",
    "lev2"
   ]
  },
  {
   "cell_type": "code",
   "execution_count": 496,
   "metadata": {
    "scrolled": false
   },
   "outputs": [
    {
     "data": {
      "image/png": "[encoded data removed]",
      "text/latex": [
       "$\\displaystyle \\left(- \\frac{\\partial}{\\partial p_{x}} A{\\left(x,p_{x} \\right)} \\frac{\\partial^{2}}{\\partial x^{2}} B{\\left(x,p_{x} \\right)} + \\frac{\\partial}{\\partial x} A{\\left(x,p_{x} \\right)} \\frac{\\partial^{2}}{\\partial x\\partial p_{x}} B{\\left(x,p_{x} \\right)} + \\frac{\\partial^{2}}{\\partial x^{2}} A{\\left(x,p_{x} \\right)} \\frac{\\partial}{\\partial p_{x}} B{\\left(x,p_{x} \\right)} - \\frac{\\partial}{\\partial x} B{\\left(x,p_{x} \\right)} \\frac{\\partial^{2}}{\\partial x\\partial p_{x}} A{\\left(x,p_{x} \\right)}\\right) \\frac{\\partial}{\\partial p_{x}} C{\\left(x,p_{x} \\right)} - \\left(- \\frac{\\partial}{\\partial p_{x}} A{\\left(x,p_{x} \\right)} \\frac{\\partial^{2}}{\\partial x\\partial p_{x}} B{\\left(x,p_{x} \\right)} - \\frac{\\partial^{2}}{\\partial p_{x}^{2}} A{\\left(x,p_{x} \\right)} \\frac{\\partial}{\\partial x} B{\\left(x,p_{x} \\right)} + \\frac{\\partial}{\\partial x} A{\\left(x,p_{x} \\right)} \\frac{\\partial^{2}}{\\partial p_{x}^{2}} B{\\left(x,p_{x} \\right)} + \\frac{\\partial}{\\partial p_{x}} B{\\left(x,p_{x} \\right)} \\frac{\\partial^{2}}{\\partial x\\partial p_{x}} A{\\left(x,p_{x} \\right)}\\right) \\frac{\\partial}{\\partial x} C{\\left(x,p_{x} \\right)}$"
      ],
      "text/plain": [
       "⎛                  2                             2                 2          \n",
       "⎜   ∂             ∂              ∂              ∂                 ∂           \n",
       "⎜- ───(A(x, pₓ))⋅───(B(x, pₓ)) + ──(A(x, pₓ))⋅──────(B(x, pₓ)) + ───(A(x, pₓ))\n",
       "⎜  ∂pₓ             2             ∂x           ∂x ∂pₓ               2          \n",
       "⎝                ∂x                                              ∂x           \n",
       "\n",
       "                                 2            ⎞                 ⎛             \n",
       "  ∂              ∂              ∂             ⎟  ∂              ⎜   ∂         \n",
       "⋅───(B(x, pₓ)) - ──(B(x, pₓ))⋅──────(A(x, pₓ))⎟⋅───(C(x, pₓ)) - ⎜- ───(A(x, pₓ\n",
       " ∂pₓ             ∂x           ∂x ∂pₓ          ⎟ ∂pₓ             ⎜  ∂pₓ        \n",
       "                                              ⎠                 ⎝             \n",
       "\n",
       "      2                 2                                          2          \n",
       "     ∂                 ∂             ∂              ∂             ∂           \n",
       "))⋅──────(B(x, pₓ)) - ────(A(x, pₓ))⋅──(B(x, pₓ)) + ──(A(x, pₓ))⋅────(B(x, pₓ)\n",
       "   ∂x ∂pₓ                2           ∂x             ∂x              2         \n",
       "                      ∂pₓ                                        ∂pₓ          \n",
       "\n",
       "                     2            ⎞             \n",
       "     ∂              ∂             ⎟ ∂           \n",
       ") + ───(B(x, pₓ))⋅──────(A(x, pₓ))⎟⋅──(C(x, pₓ))\n",
       "    ∂pₓ           ∂x ∂pₓ          ⎟ ∂x          \n",
       "                                  ⎠             "
      ]
     },
     "execution_count": 496,
     "metadata": {},
     "output_type": "execute_result"
    }
   ],
   "source": [
    "lev2.doit()"
   ]
  },
  {
   "cell_type": "code",
   "execution_count": 497,
   "metadata": {},
   "outputs": [
    {
     "data": {
      "image/png": "[encoded data removed]",
      "text/latex": [
       "$\\displaystyle \\lbrace - \\lbrace C,\\lbrace A,B\\rbrace\\rbrace,D\\rbrace$"
      ],
      "text/plain": [
       "PoissonBracket(-PoissonBracket(C(x, p_x), PoissonBracket(A(x, p_x), B(x, p_x),\n",
       " [x], [p_x]), [x], [p_x]), D(x, p_x), [x], [p_x])"
      ]
     },
     "execution_count": 497,
     "metadata": {},
     "output_type": "execute_result"
    }
   ],
   "source": [
    "lev3 = PoissonBracket(lev2,D,x,px)#|.doit()\n",
    "lev3"
   ]
  },
  {
   "cell_type": "code",
   "execution_count": 498,
   "metadata": {},
   "outputs": [
    {
     "data": {
      "image/png": "[encoded data removed]",
      "text/latex": [
       "$\\displaystyle - \\left(- \\left(\\frac{\\partial}{\\partial p_{x}} A{\\left(x,p_{x} \\right)} \\frac{\\partial^{2}}{\\partial x^{2}} B{\\left(x,p_{x} \\right)} - \\frac{\\partial}{\\partial x} A{\\left(x,p_{x} \\right)} \\frac{\\partial^{2}}{\\partial x\\partial p_{x}} B{\\left(x,p_{x} \\right)} - \\frac{\\partial^{2}}{\\partial x^{2}} A{\\left(x,p_{x} \\right)} \\frac{\\partial}{\\partial p_{x}} B{\\left(x,p_{x} \\right)} + \\frac{\\partial}{\\partial x} B{\\left(x,p_{x} \\right)} \\frac{\\partial^{2}}{\\partial x\\partial p_{x}} A{\\left(x,p_{x} \\right)}\\right) \\frac{\\partial^{2}}{\\partial p_{x}^{2}} C{\\left(x,p_{x} \\right)} - \\left(- \\frac{\\partial}{\\partial p_{x}} A{\\left(x,p_{x} \\right)} \\frac{\\partial^{2}}{\\partial x\\partial p_{x}} B{\\left(x,p_{x} \\right)} - \\frac{\\partial^{2}}{\\partial p_{x}^{2}} A{\\left(x,p_{x} \\right)} \\frac{\\partial}{\\partial x} B{\\left(x,p_{x} \\right)} + \\frac{\\partial}{\\partial x} A{\\left(x,p_{x} \\right)} \\frac{\\partial^{2}}{\\partial p_{x}^{2}} B{\\left(x,p_{x} \\right)} + \\frac{\\partial}{\\partial p_{x}} B{\\left(x,p_{x} \\right)} \\frac{\\partial^{2}}{\\partial x\\partial p_{x}} A{\\left(x,p_{x} \\right)}\\right) \\frac{\\partial^{2}}{\\partial x\\partial p_{x}} C{\\left(x,p_{x} \\right)} - \\left(\\frac{\\partial}{\\partial p_{x}} A{\\left(x,p_{x} \\right)} \\frac{\\partial^{3}}{\\partial x^{2}\\partial p_{x}} B{\\left(x,p_{x} \\right)} + \\frac{\\partial^{2}}{\\partial p_{x}^{2}} A{\\left(x,p_{x} \\right)} \\frac{\\partial^{2}}{\\partial x^{2}} B{\\left(x,p_{x} \\right)} - \\frac{\\partial}{\\partial x} A{\\left(x,p_{x} \\right)} \\frac{\\partial^{3}}{\\partial x\\partial p_{x}^{2}} B{\\left(x,p_{x} \\right)} - \\frac{\\partial^{2}}{\\partial x^{2}} A{\\left(x,p_{x} \\right)} \\frac{\\partial^{2}}{\\partial p_{x}^{2}} B{\\left(x,p_{x} \\right)} - \\frac{\\partial}{\\partial p_{x}} B{\\left(x,p_{x} \\right)} \\frac{\\partial^{3}}{\\partial x^{2}\\partial p_{x}} A{\\left(x,p_{x} \\right)} + \\frac{\\partial}{\\partial x} B{\\left(x,p_{x} \\right)} \\frac{\\partial^{3}}{\\partial x\\partial p_{x}^{2}} A{\\left(x,p_{x} \\right)}\\right) \\frac{\\partial}{\\partial p_{x}} C{\\left(x,p_{x} \\right)} - \\left(- \\frac{\\partial}{\\partial p_{x}} A{\\left(x,p_{x} \\right)} \\frac{\\partial^{3}}{\\partial x\\partial p_{x}^{2}} B{\\left(x,p_{x} \\right)} - 2 \\frac{\\partial^{2}}{\\partial p_{x}^{2}} A{\\left(x,p_{x} \\right)} \\frac{\\partial^{2}}{\\partial x\\partial p_{x}} B{\\left(x,p_{x} \\right)} - \\frac{\\partial^{3}}{\\partial p_{x}^{3}} A{\\left(x,p_{x} \\right)} \\frac{\\partial}{\\partial x} B{\\left(x,p_{x} \\right)} + \\frac{\\partial}{\\partial x} A{\\left(x,p_{x} \\right)} \\frac{\\partial^{3}}{\\partial p_{x}^{3}} B{\\left(x,p_{x} \\right)} + \\frac{\\partial}{\\partial p_{x}} B{\\left(x,p_{x} \\right)} \\frac{\\partial^{3}}{\\partial x\\partial p_{x}^{2}} A{\\left(x,p_{x} \\right)} + 2 \\frac{\\partial^{2}}{\\partial p_{x}^{2}} B{\\left(x,p_{x} \\right)} \\frac{\\partial^{2}}{\\partial x\\partial p_{x}} A{\\left(x,p_{x} \\right)}\\right) \\frac{\\partial}{\\partial x} C{\\left(x,p_{x} \\right)}\\right) \\frac{\\partial}{\\partial x} D{\\left(x,p_{x} \\right)} + \\left(- \\left(\\frac{\\partial}{\\partial p_{x}} A{\\left(x,p_{x} \\right)} \\frac{\\partial^{2}}{\\partial x^{2}} B{\\left(x,p_{x} \\right)} - \\frac{\\partial}{\\partial x} A{\\left(x,p_{x} \\right)} \\frac{\\partial^{2}}{\\partial x\\partial p_{x}} B{\\left(x,p_{x} \\right)} - \\frac{\\partial^{2}}{\\partial x^{2}} A{\\left(x,p_{x} \\right)} \\frac{\\partial}{\\partial p_{x}} B{\\left(x,p_{x} \\right)} + \\frac{\\partial}{\\partial x} B{\\left(x,p_{x} \\right)} \\frac{\\partial^{2}}{\\partial x\\partial p_{x}} A{\\left(x,p_{x} \\right)}\\right) \\frac{\\partial^{2}}{\\partial x\\partial p_{x}} C{\\left(x,p_{x} \\right)} - \\left(- \\frac{\\partial}{\\partial p_{x}} A{\\left(x,p_{x} \\right)} \\frac{\\partial^{2}}{\\partial x\\partial p_{x}} B{\\left(x,p_{x} \\right)} - \\frac{\\partial^{2}}{\\partial p_{x}^{2}} A{\\left(x,p_{x} \\right)} \\frac{\\partial}{\\partial x} B{\\left(x,p_{x} \\right)} + \\frac{\\partial}{\\partial x} A{\\left(x,p_{x} \\right)} \\frac{\\partial^{2}}{\\partial p_{x}^{2}} B{\\left(x,p_{x} \\right)} + \\frac{\\partial}{\\partial p_{x}} B{\\left(x,p_{x} \\right)} \\frac{\\partial^{2}}{\\partial x\\partial p_{x}} A{\\left(x,p_{x} \\right)}\\right) \\frac{\\partial^{2}}{\\partial x^{2}} C{\\left(x,p_{x} \\right)} - \\left(\\frac{\\partial}{\\partial p_{x}} A{\\left(x,p_{x} \\right)} \\frac{\\partial^{3}}{\\partial x^{3}} B{\\left(x,p_{x} \\right)} - \\frac{\\partial}{\\partial x} A{\\left(x,p_{x} \\right)} \\frac{\\partial^{3}}{\\partial x^{2}\\partial p_{x}} B{\\left(x,p_{x} \\right)} - 2 \\frac{\\partial^{2}}{\\partial x^{2}} A{\\left(x,p_{x} \\right)} \\frac{\\partial^{2}}{\\partial x\\partial p_{x}} B{\\left(x,p_{x} \\right)} - \\frac{\\partial^{3}}{\\partial x^{3}} A{\\left(x,p_{x} \\right)} \\frac{\\partial}{\\partial p_{x}} B{\\left(x,p_{x} \\right)} + \\frac{\\partial}{\\partial x} B{\\left(x,p_{x} \\right)} \\frac{\\partial^{3}}{\\partial x^{2}\\partial p_{x}} A{\\left(x,p_{x} \\right)} + 2 \\frac{\\partial^{2}}{\\partial x^{2}} B{\\left(x,p_{x} \\right)} \\frac{\\partial^{2}}{\\partial x\\partial p_{x}} A{\\left(x,p_{x} \\right)}\\right) \\frac{\\partial}{\\partial p_{x}} C{\\left(x,p_{x} \\right)} - \\left(- \\frac{\\partial}{\\partial p_{x}} A{\\left(x,p_{x} \\right)} \\frac{\\partial^{3}}{\\partial x^{2}\\partial p_{x}} B{\\left(x,p_{x} \\right)} - \\frac{\\partial^{2}}{\\partial p_{x}^{2}} A{\\left(x,p_{x} \\right)} \\frac{\\partial^{2}}{\\partial x^{2}} B{\\left(x,p_{x} \\right)} + \\frac{\\partial}{\\partial x} A{\\left(x,p_{x} \\right)} \\frac{\\partial^{3}}{\\partial x\\partial p_{x}^{2}} B{\\left(x,p_{x} \\right)} + \\frac{\\partial^{2}}{\\partial x^{2}} A{\\left(x,p_{x} \\right)} \\frac{\\partial^{2}}{\\partial p_{x}^{2}} B{\\left(x,p_{x} \\right)} + \\frac{\\partial}{\\partial p_{x}} B{\\left(x,p_{x} \\right)} \\frac{\\partial^{3}}{\\partial x^{2}\\partial p_{x}} A{\\left(x,p_{x} \\right)} - \\frac{\\partial}{\\partial x} B{\\left(x,p_{x} \\right)} \\frac{\\partial^{3}}{\\partial x\\partial p_{x}^{2}} A{\\left(x,p_{x} \\right)}\\right) \\frac{\\partial}{\\partial x} C{\\left(x,p_{x} \\right)}\\right) \\frac{\\partial}{\\partial p_{x}} D{\\left(x,p_{x} \\right)}$"
      ],
      "text/plain": [
       "  ⎛  ⎛                2                             2                 2       \n",
       "  ⎜  ⎜ ∂             ∂              ∂              ∂                 ∂        \n",
       "- ⎜- ⎜───(A(x, pₓ))⋅───(B(x, pₓ)) - ──(A(x, pₓ))⋅──────(B(x, pₓ)) - ───(A(x, p\n",
       "  ⎜  ⎜∂pₓ             2             ∂x           ∂x ∂pₓ               2       \n",
       "  ⎝  ⎝              ∂x                                              ∂x        \n",
       "\n",
       "                                    2            ⎞   2              ⎛         \n",
       "     ∂              ∂              ∂             ⎟  ∂               ⎜   ∂     \n",
       "ₓ))⋅───(B(x, pₓ)) + ──(B(x, pₓ))⋅──────(A(x, pₓ))⎟⋅────(C(x, pₓ)) - ⎜- ───(A(x\n",
       "    ∂pₓ             ∂x           ∂x ∂pₓ          ⎟    2             ⎜  ∂pₓ    \n",
       "                                                 ⎠ ∂pₓ              ⎝         \n",
       "\n",
       "          2                 2                                          2      \n",
       "         ∂                 ∂             ∂              ∂             ∂       \n",
       ", pₓ))⋅──────(B(x, pₓ)) - ────(A(x, pₓ))⋅──(B(x, pₓ)) + ──(A(x, pₓ))⋅────(B(x,\n",
       "       ∂x ∂pₓ                2           ∂x             ∂x              2     \n",
       "                          ∂pₓ                                        ∂pₓ      \n",
       "\n",
       "                         2            ⎞    2               ⎛                  \n",
       "         ∂              ∂             ⎟   ∂                ⎜ ∂               ∂\n",
       " pₓ)) + ───(B(x, pₓ))⋅──────(A(x, pₓ))⎟⋅──────(C(x, pₓ)) - ⎜───(A(x, pₓ))⋅────\n",
       "        ∂pₓ           ∂x ∂pₓ          ⎟ ∂x ∂pₓ             ⎜∂pₓ             2 \n",
       "                                      ⎠                    ⎝              ∂x  \n",
       "\n",
       "3                 2              2                              3             \n",
       "                 ∂              ∂              ∂               ∂              \n",
       "───(B(x, pₓ)) + ────(A(x, pₓ))⋅───(B(x, pₓ)) - ──(A(x, pₓ))⋅───────(B(x, pₓ)) \n",
       "                   2             2             ∂x                 2           \n",
       "∂pₓ             ∂pₓ            ∂x                           ∂x ∂pₓ            \n",
       "\n",
       "    2             2                                3                          \n",
       "   ∂             ∂                ∂               ∂                ∂          \n",
       "- ───(A(x, pₓ))⋅────(B(x, pₓ)) - ───(B(x, pₓ))⋅───────(A(x, pₓ)) + ──(B(x, pₓ)\n",
       "    2              2             ∂pₓ             2                 ∂x         \n",
       "  ∂x            ∂pₓ                            ∂x  ∂pₓ                        \n",
       "\n",
       "      3            ⎞                 ⎛                    3                   \n",
       "     ∂             ⎟  ∂              ⎜   ∂               ∂                   ∂\n",
       ")⋅───────(A(x, pₓ))⎟⋅───(C(x, pₓ)) - ⎜- ───(A(x, pₓ))⋅───────(B(x, pₓ)) - 2⋅──\n",
       "        2          ⎟ ∂pₓ             ⎜  ∂pₓ                 2                 \n",
       "  ∂x ∂pₓ           ⎠                 ⎝                ∂x ∂pₓ                ∂p\n",
       "\n",
       "2               2                 3                                          3\n",
       "               ∂                 ∂             ∂              ∂             ∂ \n",
       "──(A(x, pₓ))⋅──────(B(x, pₓ)) - ────(A(x, pₓ))⋅──(B(x, pₓ)) + ──(A(x, pₓ))⋅───\n",
       " 2           ∂x ∂pₓ                3           ∂x             ∂x              \n",
       "ₓ                               ∂pₓ                                        ∂pₓ\n",
       "\n",
       "                                3                   2               2         \n",
       "               ∂               ∂                   ∂               ∂          \n",
       "─(B(x, pₓ)) + ───(B(x, pₓ))⋅───────(A(x, pₓ)) + 2⋅────(B(x, pₓ))⋅──────(A(x, p\n",
       "3             ∂pₓ                 2                  2           ∂x ∂pₓ       \n",
       "                            ∂x ∂pₓ                ∂pₓ                         \n",
       "\n",
       "   ⎞             ⎞                ⎛  ⎛                2                       \n",
       "   ⎟ ∂           ⎟ ∂              ⎜  ⎜ ∂             ∂              ∂         \n",
       "ₓ))⎟⋅──(C(x, pₓ))⎟⋅──(D(x, pₓ)) + ⎜- ⎜───(A(x, pₓ))⋅───(B(x, pₓ)) - ──(A(x, pₓ\n",
       "   ⎟ ∂x          ⎟ ∂x             ⎜  ⎜∂pₓ             2             ∂x        \n",
       "   ⎠             ⎠                ⎝  ⎝              ∂x                        \n",
       "\n",
       "      2                 2                                           2         \n",
       "     ∂                 ∂             ∂              ∂              ∂          \n",
       "))⋅──────(B(x, pₓ)) - ───(A(x, pₓ))⋅───(B(x, pₓ)) + ──(B(x, pₓ))⋅──────(A(x, p\n",
       "   ∂x ∂pₓ               2           ∂pₓ             ∂x           ∂x ∂pₓ       \n",
       "                      ∂x                                                      \n",
       "\n",
       "   ⎞    2               ⎛                   2                 2               \n",
       "   ⎟   ∂                ⎜   ∂              ∂                 ∂             ∂  \n",
       "ₓ))⎟⋅──────(C(x, pₓ)) - ⎜- ───(A(x, pₓ))⋅──────(B(x, pₓ)) - ────(A(x, pₓ))⋅──(\n",
       "   ⎟ ∂x ∂pₓ             ⎜  ∂pₓ           ∂x ∂pₓ                2           ∂x \n",
       "   ⎠                    ⎝                                   ∂pₓ               \n",
       "\n",
       "                           2                               2            ⎞   2 \n",
       "            ∂             ∂                ∂              ∂             ⎟  ∂  \n",
       "B(x, pₓ)) + ──(A(x, pₓ))⋅────(B(x, pₓ)) + ───(B(x, pₓ))⋅──────(A(x, pₓ))⎟⋅───(\n",
       "            ∂x              2             ∂pₓ           ∂x ∂pₓ          ⎟   2 \n",
       "                         ∂pₓ                                            ⎠ ∂x  \n",
       "\n",
       "            ⎛                3                              3                 \n",
       "            ⎜ ∂             ∂              ∂               ∂                  \n",
       "C(x, pₓ)) - ⎜───(A(x, pₓ))⋅───(B(x, pₓ)) - ──(A(x, pₓ))⋅───────(B(x, pₓ)) - 2⋅\n",
       "            ⎜∂pₓ             3             ∂x             2                   \n",
       "            ⎝              ∂x                           ∂x  ∂pₓ               \n",
       "\n",
       "  2              2                 3                                          \n",
       " ∂              ∂                 ∂             ∂              ∂              \n",
       "───(A(x, pₓ))⋅──────(B(x, pₓ)) - ───(A(x, pₓ))⋅───(B(x, pₓ)) + ──(B(x, pₓ))⋅──\n",
       "  2           ∂x ∂pₓ               3           ∂pₓ             ∂x             \n",
       "∂x                               ∂x                                         ∂x\n",
       "\n",
       "  3                   2              2            ⎞                 ⎛         \n",
       " ∂                   ∂              ∂             ⎟  ∂              ⎜   ∂     \n",
       "─────(A(x, pₓ)) + 2⋅───(B(x, pₓ))⋅──────(A(x, pₓ))⎟⋅───(C(x, pₓ)) - ⎜- ───(A(x\n",
       "2                     2           ∂x ∂pₓ          ⎟ ∂pₓ             ⎜  ∂pₓ    \n",
       "  ∂pₓ               ∂x                            ⎠                 ⎝         \n",
       "\n",
       "           3                 2              2                              3  \n",
       "          ∂                 ∂              ∂              ∂               ∂   \n",
       ", pₓ))⋅───────(B(x, pₓ)) - ────(A(x, pₓ))⋅───(B(x, pₓ)) + ──(A(x, pₓ))⋅───────\n",
       "         2                    2             2             ∂x                 2\n",
       "       ∂x  ∂pₓ             ∂pₓ            ∂x                           ∂x ∂pₓ \n",
       "\n",
       "               2             2                                3               \n",
       "              ∂             ∂                ∂               ∂                \n",
       "(B(x, pₓ)) + ───(A(x, pₓ))⋅────(B(x, pₓ)) + ───(B(x, pₓ))⋅───────(A(x, pₓ)) - \n",
       "               2              2             ∂pₓ             2                 \n",
       "             ∂x            ∂pₓ                            ∂x  ∂pₓ             \n",
       "\n",
       "                 3            ⎞             ⎞              \n",
       "∂               ∂             ⎟ ∂           ⎟  ∂           \n",
       "──(B(x, pₓ))⋅───────(A(x, pₓ))⎟⋅──(C(x, pₓ))⎟⋅───(D(x, pₓ))\n",
       "∂x                 2          ⎟ ∂x          ⎟ ∂pₓ          \n",
       "             ∂x ∂pₓ           ⎠             ⎠              "
      ]
     },
     "execution_count": 498,
     "metadata": {},
     "output_type": "execute_result"
    }
   ],
   "source": [
    "lev3doit = lev3.doit()\n",
    "lev3doit"
   ]
  },
  {
   "cell_type": "code",
   "execution_count": 499,
   "metadata": {},
   "outputs": [
    {
     "data": {
      "image/png": "[encoded data removed]",
      "text/latex": [
       "$\\displaystyle \\left(- \\frac{\\partial}{\\partial p_{x}} A{\\left(x,p_{x} \\right)} \\frac{\\partial^{2}}{\\partial x^{2}} B{\\left(x,p_{x} \\right)} + \\frac{\\partial}{\\partial x} A{\\left(x,p_{x} \\right)} \\frac{\\partial^{2}}{\\partial x\\partial p_{x}} B{\\left(x,p_{x} \\right)} + \\frac{\\partial^{2}}{\\partial x^{2}} A{\\left(x,p_{x} \\right)} \\frac{\\partial}{\\partial p_{x}} B{\\left(x,p_{x} \\right)} - \\frac{\\partial}{\\partial x} B{\\left(x,p_{x} \\right)} \\frac{\\partial^{2}}{\\partial x\\partial p_{x}} A{\\left(x,p_{x} \\right)}\\right) \\frac{\\partial}{\\partial p_{x}} C{\\left(x,p_{x} \\right)} - \\left(- \\frac{\\partial}{\\partial p_{x}} A{\\left(x,p_{x} \\right)} \\frac{\\partial^{2}}{\\partial x\\partial p_{x}} B{\\left(x,p_{x} \\right)} - \\frac{\\partial^{2}}{\\partial p_{x}^{2}} A{\\left(x,p_{x} \\right)} \\frac{\\partial}{\\partial x} B{\\left(x,p_{x} \\right)} + \\frac{\\partial}{\\partial x} A{\\left(x,p_{x} \\right)} \\frac{\\partial^{2}}{\\partial p_{x}^{2}} B{\\left(x,p_{x} \\right)} + \\frac{\\partial}{\\partial p_{x}} B{\\left(x,p_{x} \\right)} \\frac{\\partial^{2}}{\\partial x\\partial p_{x}} A{\\left(x,p_{x} \\right)}\\right) \\frac{\\partial}{\\partial x} C{\\left(x,p_{x} \\right)}$"
      ],
      "text/plain": [
       "⎛                  2                             2                 2          \n",
       "⎜   ∂             ∂              ∂              ∂                 ∂           \n",
       "⎜- ───(A(x, pₓ))⋅───(B(x, pₓ)) + ──(A(x, pₓ))⋅──────(B(x, pₓ)) + ───(A(x, pₓ))\n",
       "⎜  ∂pₓ             2             ∂x           ∂x ∂pₓ               2          \n",
       "⎝                ∂x                                              ∂x           \n",
       "\n",
       "                                 2            ⎞                 ⎛             \n",
       "  ∂              ∂              ∂             ⎟  ∂              ⎜   ∂         \n",
       "⋅───(B(x, pₓ)) - ──(B(x, pₓ))⋅──────(A(x, pₓ))⎟⋅───(C(x, pₓ)) - ⎜- ───(A(x, pₓ\n",
       " ∂pₓ             ∂x           ∂x ∂pₓ          ⎟ ∂pₓ             ⎜  ∂pₓ        \n",
       "                                              ⎠                 ⎝             \n",
       "\n",
       "      2                 2                                          2          \n",
       "     ∂                 ∂             ∂              ∂             ∂           \n",
       "))⋅──────(B(x, pₓ)) - ────(A(x, pₓ))⋅──(B(x, pₓ)) + ──(A(x, pₓ))⋅────(B(x, pₓ)\n",
       "   ∂x ∂pₓ                2           ∂x             ∂x              2         \n",
       "                      ∂pₓ                                        ∂pₓ          \n",
       "\n",
       "                     2            ⎞             \n",
       "     ∂              ∂             ⎟ ∂           \n",
       ") + ───(B(x, pₓ))⋅──────(A(x, pₓ))⎟⋅──(C(x, pₓ))\n",
       "    ∂pₓ           ∂x ∂pₓ          ⎟ ∂x          \n",
       "                                  ⎠             "
      ]
     },
     "execution_count": 499,
     "metadata": {},
     "output_type": "execute_result"
    }
   ],
   "source": [
    "lev2doit = lev2.doit()\n",
    "lev2doit"
   ]
  },
  {
   "cell_type": "code",
   "execution_count": 500,
   "metadata": {},
   "outputs": [
    {
     "data": {
      "image/png": "[encoded data removed]",
      "text/latex": [
       "$\\displaystyle - 2 p_{x} \\frac{\\partial^{2}}{\\partial x^{2}} B{\\left(x,p_{x} \\right)} \\frac{\\partial}{\\partial p_{x}} C{\\left(x,p_{x} \\right)} - \\left(- 2 p_{x} \\frac{\\partial^{2}}{\\partial x\\partial p_{x}} B{\\left(x,p_{x} \\right)} - 2 \\frac{\\partial}{\\partial x} B{\\left(x,p_{x} \\right)}\\right) \\frac{\\partial}{\\partial x} C{\\left(x,p_{x} \\right)}$"
      ],
      "text/plain": [
       "         2                           ⎛          2                             \n",
       "        ∂             ∂              ⎜         ∂                  ∂           \n",
       "- 2⋅pₓ⋅───(B(x, pₓ))⋅───(C(x, pₓ)) - ⎜- 2⋅pₓ⋅──────(B(x, pₓ)) - 2⋅──(B(x, pₓ))\n",
       "         2           ∂pₓ             ⎝       ∂x ∂pₓ               ∂x          \n",
       "       ∂x                                                                     \n",
       "\n",
       "⎞             \n",
       "⎟ ∂           \n",
       "⎟⋅──(C(x, pₓ))\n",
       "⎠ ∂x          \n",
       "              "
      ]
     },
     "execution_count": 500,
     "metadata": {},
     "output_type": "execute_result"
    }
   ],
   "source": [
    "lev2doit.subs(A,px**2).doit()"
   ]
  },
  {
   "cell_type": "code",
   "execution_count": 567,
   "metadata": {},
   "outputs": [
    {
     "data": {
      "text/plain": [
       "__main__.PoissonBracket"
      ]
     },
     "execution_count": 567,
     "metadata": {},
     "output_type": "execute_result"
    }
   ],
   "source": [
    "(PoissonBracket(A, C, [x], [px])+ PoissonBracket(B, C, [x], [px])).__class__"
   ]
  },
  {
   "cell_type": "code",
   "execution_count": 568,
   "metadata": {},
   "outputs": [
    {
     "data": {
      "text/plain": [
       "sympy.core.add.Add"
      ]
     },
     "execution_count": 568,
     "metadata": {},
     "output_type": "execute_result"
    }
   ],
   "source": [
    "(A+B).__class__"
   ]
  },
  {
   "cell_type": "code",
   "execution_count": 570,
   "metadata": {},
   "outputs": [
    {
     "data": {
      "text/plain": [
       "sympy.core.add.Add"
      ]
     },
     "execution_count": 570,
     "metadata": {},
     "output_type": "execute_result"
    }
   ],
   "source": [
    "(G+H).__class__"
   ]
  },
  {
   "cell_type": "code",
   "execution_count": 572,
   "metadata": {},
   "outputs": [
    {
     "data": {
      "image/png": "[encoded data removed]",
      "text/latex": [
       "$\\displaystyle A{\\left(x,p_{x} \\right)} + B{\\left(x,p_{x} \\right)}$"
      ],
      "text/plain": [
       "A(x, pₓ) + B(x, pₓ)"
      ]
     },
     "execution_count": 572,
     "metadata": {},
     "output_type": "execute_result"
    }
   ],
   "source": [
    "A+B"
   ]
  },
  {
   "cell_type": "code",
   "execution_count": 571,
   "metadata": {},
   "outputs": [
    {
     "data": {
      "image/png": "[encoded data removed]",
      "text/latex": [
       "$\\displaystyle G + H$"
      ],
      "text/plain": [
       "G + H"
      ]
     },
     "execution_count": 571,
     "metadata": {},
     "output_type": "execute_result"
    }
   ],
   "source": [
    "G+H"
   ]
  },
  {
   "cell_type": "code",
   "execution_count": 563,
   "metadata": {},
   "outputs": [
    {
     "ename": "TypeError",
     "evalue": "unhashable type: 'list'",
     "output_type": "error",
     "traceback": [
      "\u001b[0;31m----------------------------------------------\u001b[0m",
      "\u001b[0;31mTypeError\u001b[0m    Traceback (most recent call last)",
      "\u001b[0;32m~/.local/lib/python3.6/site-packages/sympy/core/cache.py\u001b[0m in \u001b[0;36mwrapper\u001b[0;34m(*args, **kwargs)\u001b[0m\n\u001b[1;32m     93\u001b[0m                 \u001b[0;32mtry\u001b[0m\u001b[0;34m:\u001b[0m\u001b[0;34m\u001b[0m\u001b[0;34m\u001b[0m\u001b[0m\n\u001b[0;32m---> 94\u001b[0;31m                     \u001b[0mretval\u001b[0m \u001b[0;34m=\u001b[0m \u001b[0mcfunc\u001b[0m\u001b[0;34m(\u001b[0m\u001b[0;34m*\u001b[0m\u001b[0margs\u001b[0m\u001b[0;34m,\u001b[0m \u001b[0;34m**\u001b[0m\u001b[0mkwargs\u001b[0m\u001b[0;34m)\u001b[0m\u001b[0;34m\u001b[0m\u001b[0;34m\u001b[0m\u001b[0m\n\u001b[0m\u001b[1;32m     95\u001b[0m                 \u001b[0;32mexcept\u001b[0m \u001b[0mTypeError\u001b[0m\u001b[0;34m:\u001b[0m\u001b[0;34m\u001b[0m\u001b[0;34m\u001b[0m\u001b[0m\n",
      "\u001b[0;32m~/.local/lib/python3.6/site-packages/sympy/core/expr.py\u001b[0m in \u001b[0;36m__hash__\u001b[0;34m(self)\u001b[0m\n\u001b[1;32m    110\u001b[0m         \u001b[0;32mif\u001b[0m \u001b[0mh\u001b[0m \u001b[0;32mis\u001b[0m \u001b[0;32mNone\u001b[0m\u001b[0;34m:\u001b[0m\u001b[0;34m\u001b[0m\u001b[0;34m\u001b[0m\u001b[0m\n\u001b[0;32m--> 111\u001b[0;31m             \u001b[0mh\u001b[0m \u001b[0;34m=\u001b[0m \u001b[0mhash\u001b[0m\u001b[0;34m(\u001b[0m\u001b[0;34m(\u001b[0m\u001b[0mtype\u001b[0m\u001b[0;34m(\u001b[0m\u001b[0mself\u001b[0m\u001b[0;34m)\u001b[0m\u001b[0;34m.\u001b[0m\u001b[0m__name__\u001b[0m\u001b[0;34m,\u001b[0m\u001b[0;34m)\u001b[0m \u001b[0;34m+\u001b[0m \u001b[0mself\u001b[0m\u001b[0;34m.\u001b[0m\u001b[0m_hashable_content\u001b[0m\u001b[0;34m(\u001b[0m\u001b[0;34m)\u001b[0m\u001b[0;34m)\u001b[0m\u001b[0;34m\u001b[0m\u001b[0;34m\u001b[0m\u001b[0m\n\u001b[0m\u001b[1;32m    112\u001b[0m             \u001b[0mself\u001b[0m\u001b[0;34m.\u001b[0m\u001b[0m_mhash\u001b[0m \u001b[0;34m=\u001b[0m \u001b[0mh\u001b[0m\u001b[0;34m\u001b[0m\u001b[0;34m\u001b[0m\u001b[0m\n",
      "\u001b[0;31mTypeError\u001b[0m: unhashable type: 'list'",
      "\nDuring handling of the above exception, another exception occurred:\n",
      "\u001b[0;31mTypeError\u001b[0m    Traceback (most recent call last)",
      "\u001b[0;32m<ipython-input-563-8e3551969e1b>\u001b[0m in \u001b[0;36m<module>\u001b[0;34m\u001b[0m\n\u001b[1;32m      1\u001b[0m \u001b[0msargs\u001b[0m \u001b[0;34m=\u001b[0m\u001b[0;34m[\u001b[0m\u001b[0mPoissonBracket\u001b[0m\u001b[0;34m(\u001b[0m\u001b[0mA\u001b[0m\u001b[0;34m,\u001b[0m \u001b[0mC\u001b[0m\u001b[0;34m,\u001b[0m \u001b[0;34m[\u001b[0m\u001b[0mx\u001b[0m\u001b[0;34m]\u001b[0m\u001b[0;34m,\u001b[0m \u001b[0;34m[\u001b[0m\u001b[0mpx\u001b[0m\u001b[0;34m]\u001b[0m\u001b[0;34m)\u001b[0m\u001b[0;34m,\u001b[0m \u001b[0mPoissonBracket\u001b[0m\u001b[0;34m(\u001b[0m\u001b[0mB\u001b[0m\u001b[0;34m,\u001b[0m \u001b[0mC\u001b[0m\u001b[0;34m,\u001b[0m \u001b[0;34m[\u001b[0m\u001b[0mx\u001b[0m\u001b[0;34m]\u001b[0m\u001b[0;34m,\u001b[0m \u001b[0;34m[\u001b[0m\u001b[0mpx\u001b[0m\u001b[0;34m]\u001b[0m\u001b[0;34m)\u001b[0m\u001b[0;34m]\u001b[0m\u001b[0;34m\u001b[0m\u001b[0;34m\u001b[0m\u001b[0m\n\u001b[0;32m----> 2\u001b[0;31m \u001b[0mAdd\u001b[0m\u001b[0;34m(\u001b[0m\u001b[0;34m*\u001b[0m\u001b[0msargs\u001b[0m\u001b[0;34m)\u001b[0m\u001b[0;34m\u001b[0m\u001b[0;34m\u001b[0m\u001b[0m\n\u001b[0m",
      "\u001b[0;32m~/.local/lib/python3.6/site-packages/sympy/core/cache.py\u001b[0m in \u001b[0;36mwrapper\u001b[0;34m(*args, **kwargs)\u001b[0m\n\u001b[1;32m     94\u001b[0m                     \u001b[0mretval\u001b[0m \u001b[0;34m=\u001b[0m \u001b[0mcfunc\u001b[0m\u001b[0;34m(\u001b[0m\u001b[0;34m*\u001b[0m\u001b[0margs\u001b[0m\u001b[0;34m,\u001b[0m \u001b[0;34m**\u001b[0m\u001b[0mkwargs\u001b[0m\u001b[0;34m)\u001b[0m\u001b[0;34m\u001b[0m\u001b[0;34m\u001b[0m\u001b[0m\n\u001b[1;32m     95\u001b[0m                 \u001b[0;32mexcept\u001b[0m \u001b[0mTypeError\u001b[0m\u001b[0;34m:\u001b[0m\u001b[0;34m\u001b[0m\u001b[0;34m\u001b[0m\u001b[0m\n\u001b[0;32m---> 96\u001b[0;31m                     \u001b[0mretval\u001b[0m \u001b[0;34m=\u001b[0m \u001b[0mfunc\u001b[0m\u001b[0;34m(\u001b[0m\u001b[0;34m*\u001b[0m\u001b[0margs\u001b[0m\u001b[0;34m,\u001b[0m \u001b[0;34m**\u001b[0m\u001b[0mkwargs\u001b[0m\u001b[0;34m)\u001b[0m\u001b[0;34m\u001b[0m\u001b[0;34m\u001b[0m\u001b[0m\n\u001b[0m\u001b[1;32m     97\u001b[0m                 \u001b[0;32mreturn\u001b[0m \u001b[0mretval\u001b[0m\u001b[0;34m\u001b[0m\u001b[0;34m\u001b[0m\u001b[0m\n\u001b[1;32m     98\u001b[0m \u001b[0;34m\u001b[0m\u001b[0m\n",
      "\u001b[0;32m~/.local/lib/python3.6/site-packages/sympy/core/operations.py\u001b[0m in \u001b[0;36m__new__\u001b[0;34m(cls, *args, **options)\u001b[0m\n\u001b[1;32m     50\u001b[0m             \u001b[0;32mreturn\u001b[0m \u001b[0margs\u001b[0m\u001b[0;34m[\u001b[0m\u001b[0;36m0\u001b[0m\u001b[0;34m]\u001b[0m\u001b[0;34m\u001b[0m\u001b[0;34m\u001b[0m\u001b[0m\n\u001b[1;32m     51\u001b[0m \u001b[0;34m\u001b[0m\u001b[0m\n\u001b[0;32m---> 52\u001b[0;31m         \u001b[0mc_part\u001b[0m\u001b[0;34m,\u001b[0m \u001b[0mnc_part\u001b[0m\u001b[0;34m,\u001b[0m \u001b[0morder_symbols\u001b[0m \u001b[0;34m=\u001b[0m \u001b[0mcls\u001b[0m\u001b[0;34m.\u001b[0m\u001b[0mflatten\u001b[0m\u001b[0;34m(\u001b[0m\u001b[0margs\u001b[0m\u001b[0;34m)\u001b[0m\u001b[0;34m\u001b[0m\u001b[0;34m\u001b[0m\u001b[0m\n\u001b[0m\u001b[1;32m     53\u001b[0m         \u001b[0mis_commutative\u001b[0m \u001b[0;34m=\u001b[0m \u001b[0;32mnot\u001b[0m \u001b[0mnc_part\u001b[0m\u001b[0;34m\u001b[0m\u001b[0;34m\u001b[0m\u001b[0m\n\u001b[1;32m     54\u001b[0m         \u001b[0mobj\u001b[0m \u001b[0;34m=\u001b[0m \u001b[0mcls\u001b[0m\u001b[0;34m.\u001b[0m\u001b[0m_from_args\u001b[0m\u001b[0;34m(\u001b[0m\u001b[0mc_part\u001b[0m \u001b[0;34m+\u001b[0m \u001b[0mnc_part\u001b[0m\u001b[0;34m,\u001b[0m \u001b[0mis_commutative\u001b[0m\u001b[0;34m)\u001b[0m\u001b[0;34m\u001b[0m\u001b[0;34m\u001b[0m\u001b[0m\n",
      "\u001b[0;32m~/.local/lib/python3.6/site-packages/sympy/core/add.py\u001b[0m in \u001b[0;36mflatten\u001b[0;34m(cls, seq)\u001b[0m\n\u001b[1;32m    197\u001b[0m             \u001b[0;31m# let's collect terms with the same s, so e.g.\u001b[0m\u001b[0;34m\u001b[0m\u001b[0;34m\u001b[0m\u001b[0;34m\u001b[0m\u001b[0m\n\u001b[1;32m    198\u001b[0m             \u001b[0;31m# 2*x**2 + 3*x**2  ->  5*x**2\u001b[0m\u001b[0;34m\u001b[0m\u001b[0;34m\u001b[0m\u001b[0;34m\u001b[0m\u001b[0m\n\u001b[0;32m--> 199\u001b[0;31m             \u001b[0;32mif\u001b[0m \u001b[0ms\u001b[0m \u001b[0;32min\u001b[0m \u001b[0mterms\u001b[0m\u001b[0;34m:\u001b[0m\u001b[0;34m\u001b[0m\u001b[0;34m\u001b[0m\u001b[0m\n\u001b[0m\u001b[1;32m    200\u001b[0m                 \u001b[0mterms\u001b[0m\u001b[0;34m[\u001b[0m\u001b[0ms\u001b[0m\u001b[0;34m]\u001b[0m \u001b[0;34m+=\u001b[0m \u001b[0mc\u001b[0m\u001b[0;34m\u001b[0m\u001b[0;34m\u001b[0m\u001b[0m\n\u001b[1;32m    201\u001b[0m                 \u001b[0;32mif\u001b[0m \u001b[0mterms\u001b[0m\u001b[0;34m[\u001b[0m\u001b[0ms\u001b[0m\u001b[0;34m]\u001b[0m \u001b[0;32mis\u001b[0m \u001b[0mS\u001b[0m\u001b[0;34m.\u001b[0m\u001b[0mNaN\u001b[0m \u001b[0;32mand\u001b[0m \u001b[0;32mnot\u001b[0m \u001b[0mextra\u001b[0m\u001b[0;34m:\u001b[0m\u001b[0;34m\u001b[0m\u001b[0;34m\u001b[0m\u001b[0m\n",
      "\u001b[0;32m~/.local/lib/python3.6/site-packages/sympy/core/expr.py\u001b[0m in \u001b[0;36m__hash__\u001b[0;34m(self)\u001b[0m\n\u001b[1;32m    109\u001b[0m         \u001b[0mh\u001b[0m \u001b[0;34m=\u001b[0m \u001b[0mself\u001b[0m\u001b[0;34m.\u001b[0m\u001b[0m_mhash\u001b[0m\u001b[0;34m\u001b[0m\u001b[0;34m\u001b[0m\u001b[0m\n\u001b[1;32m    110\u001b[0m         \u001b[0;32mif\u001b[0m \u001b[0mh\u001b[0m \u001b[0;32mis\u001b[0m \u001b[0;32mNone\u001b[0m\u001b[0;34m:\u001b[0m\u001b[0;34m\u001b[0m\u001b[0;34m\u001b[0m\u001b[0m\n\u001b[0;32m--> 111\u001b[0;31m             \u001b[0mh\u001b[0m \u001b[0;34m=\u001b[0m \u001b[0mhash\u001b[0m\u001b[0;34m(\u001b[0m\u001b[0;34m(\u001b[0m\u001b[0mtype\u001b[0m\u001b[0;34m(\u001b[0m\u001b[0mself\u001b[0m\u001b[0;34m)\u001b[0m\u001b[0;34m.\u001b[0m\u001b[0m__name__\u001b[0m\u001b[0;34m,\u001b[0m\u001b[0;34m)\u001b[0m \u001b[0;34m+\u001b[0m \u001b[0mself\u001b[0m\u001b[0;34m.\u001b[0m\u001b[0m_hashable_content\u001b[0m\u001b[0;34m(\u001b[0m\u001b[0;34m)\u001b[0m\u001b[0;34m)\u001b[0m\u001b[0;34m\u001b[0m\u001b[0;34m\u001b[0m\u001b[0m\n\u001b[0m\u001b[1;32m    112\u001b[0m             \u001b[0mself\u001b[0m\u001b[0;34m.\u001b[0m\u001b[0m_mhash\u001b[0m \u001b[0;34m=\u001b[0m \u001b[0mh\u001b[0m\u001b[0;34m\u001b[0m\u001b[0;34m\u001b[0m\u001b[0m\n\u001b[1;32m    113\u001b[0m         \u001b[0;32mreturn\u001b[0m \u001b[0mh\u001b[0m\u001b[0;34m\u001b[0m\u001b[0;34m\u001b[0m\u001b[0m\n",
      "\u001b[0;31mTypeError\u001b[0m: unhashable type: 'list'"
     ]
    }
   ],
   "source": [
    "sargs =[PoissonBracket(A, C, [x], [px]), PoissonBracket(B, C, [x], [px])]\n",
    "Add(*sargs)"
   ]
  },
  {
   "cell_type": "code",
   "execution_count": 531,
   "metadata": {},
   "outputs": [
    {
     "data": {
      "image/png": "[encoded data removed]",
      "text/latex": [
       "$\\displaystyle - \\left(\\frac{\\partial}{\\partial p_{x}} A{\\left(x,p_{x} \\right)} + \\frac{\\partial}{\\partial p_{x}} B{\\left(x,p_{x} \\right)}\\right) \\frac{\\partial}{\\partial x} C{\\left(x,p_{x} \\right)} + \\left(\\frac{\\partial}{\\partial x} A{\\left(x,p_{x} \\right)} + \\frac{\\partial}{\\partial x} B{\\left(x,p_{x} \\right)}\\right) \\frac{\\partial}{\\partial p_{x}} C{\\left(x,p_{x} \\right)}$"
      ],
      "text/plain": [
       "  ⎛ ∂               ∂           ⎞ ∂              ⎛∂              ∂           ⎞\n",
       "- ⎜───(A(x, pₓ)) + ───(B(x, pₓ))⎟⋅──(C(x, pₓ)) + ⎜──(A(x, pₓ)) + ──(B(x, pₓ))⎟\n",
       "  ⎝∂pₓ             ∂pₓ          ⎠ ∂x             ⎝∂x             ∂x          ⎠\n",
       "\n",
       "  ∂           \n",
       "⋅───(C(x, pₓ))\n",
       " ∂pₓ          "
      ]
     },
     "execution_count": 531,
     "metadata": {},
     "output_type": "execute_result"
    }
   ],
   "source": []
  },
  {
   "cell_type": "code",
   "execution_count": 521,
   "metadata": {},
   "outputs": [
    {
     "name": "stdout",
     "output_type": "stream",
     "text": [
      "PoissonBracket(A(x, p_x), C(x, p_x), [x], [p_x])\n",
      "PoissonBracket(B(x, p_x), C(x, p_x), [x], [p_x])\n",
      "[PoissonBracket(A(x, p_x), C(x, p_x), [x], [p_x]), PoissonBracket(B(x, p_x), C(x, p_x), [x], [p_x])]\n"
     ]
    },
    {
     "ename": "TypeError",
     "evalue": "unhashable type: 'list'",
     "output_type": "error",
     "traceback": [
      "\u001b[0;31m----------------------------------------------\u001b[0m",
      "\u001b[0;31mTypeError\u001b[0m    Traceback (most recent call last)",
      "\u001b[0;32m~/.local/lib/python3.6/site-packages/sympy/core/cache.py\u001b[0m in \u001b[0;36mwrapper\u001b[0;34m(*args, **kwargs)\u001b[0m\n\u001b[1;32m     93\u001b[0m                 \u001b[0;32mtry\u001b[0m\u001b[0;34m:\u001b[0m\u001b[0;34m\u001b[0m\u001b[0;34m\u001b[0m\u001b[0m\n\u001b[0;32m---> 94\u001b[0;31m                     \u001b[0mretval\u001b[0m \u001b[0;34m=\u001b[0m \u001b[0mcfunc\u001b[0m\u001b[0;34m(\u001b[0m\u001b[0;34m*\u001b[0m\u001b[0margs\u001b[0m\u001b[0;34m,\u001b[0m \u001b[0;34m**\u001b[0m\u001b[0mkwargs\u001b[0m\u001b[0;34m)\u001b[0m\u001b[0;34m\u001b[0m\u001b[0;34m\u001b[0m\u001b[0m\n\u001b[0m\u001b[1;32m     95\u001b[0m                 \u001b[0;32mexcept\u001b[0m \u001b[0mTypeError\u001b[0m\u001b[0;34m:\u001b[0m\u001b[0;34m\u001b[0m\u001b[0;34m\u001b[0m\u001b[0m\n",
      "\u001b[0;32m~/.local/lib/python3.6/site-packages/sympy/core/expr.py\u001b[0m in \u001b[0;36m__hash__\u001b[0;34m(self)\u001b[0m\n\u001b[1;32m    110\u001b[0m         \u001b[0;32mif\u001b[0m \u001b[0mh\u001b[0m \u001b[0;32mis\u001b[0m \u001b[0;32mNone\u001b[0m\u001b[0;34m:\u001b[0m\u001b[0;34m\u001b[0m\u001b[0;34m\u001b[0m\u001b[0m\n\u001b[0;32m--> 111\u001b[0;31m             \u001b[0mh\u001b[0m \u001b[0;34m=\u001b[0m \u001b[0mhash\u001b[0m\u001b[0;34m(\u001b[0m\u001b[0;34m(\u001b[0m\u001b[0mtype\u001b[0m\u001b[0;34m(\u001b[0m\u001b[0mself\u001b[0m\u001b[0;34m)\u001b[0m\u001b[0;34m.\u001b[0m\u001b[0m__name__\u001b[0m\u001b[0;34m,\u001b[0m\u001b[0;34m)\u001b[0m \u001b[0;34m+\u001b[0m \u001b[0mself\u001b[0m\u001b[0;34m.\u001b[0m\u001b[0m_hashable_content\u001b[0m\u001b[0;34m(\u001b[0m\u001b[0;34m)\u001b[0m\u001b[0;34m)\u001b[0m\u001b[0;34m\u001b[0m\u001b[0;34m\u001b[0m\u001b[0m\n\u001b[0m\u001b[1;32m    112\u001b[0m             \u001b[0mself\u001b[0m\u001b[0;34m.\u001b[0m\u001b[0m_mhash\u001b[0m \u001b[0;34m=\u001b[0m \u001b[0mh\u001b[0m\u001b[0;34m\u001b[0m\u001b[0;34m\u001b[0m\u001b[0m\n",
      "\u001b[0;31mTypeError\u001b[0m: unhashable type: 'list'",
      "\nDuring handling of the above exception, another exception occurred:\n",
      "\u001b[0;31mTypeError\u001b[0m    Traceback (most recent call last)",
      "\u001b[0;32m~/.local/lib/python3.6/site-packages/sympy/core/cache.py\u001b[0m in \u001b[0;36mwrapper\u001b[0;34m(*args, **kwargs)\u001b[0m\n\u001b[1;32m     93\u001b[0m                 \u001b[0;32mtry\u001b[0m\u001b[0;34m:\u001b[0m\u001b[0;34m\u001b[0m\u001b[0;34m\u001b[0m\u001b[0m\n\u001b[0;32m---> 94\u001b[0;31m                     \u001b[0mretval\u001b[0m \u001b[0;34m=\u001b[0m \u001b[0mcfunc\u001b[0m\u001b[0;34m(\u001b[0m\u001b[0;34m*\u001b[0m\u001b[0margs\u001b[0m\u001b[0;34m,\u001b[0m \u001b[0;34m**\u001b[0m\u001b[0mkwargs\u001b[0m\u001b[0;34m)\u001b[0m\u001b[0;34m\u001b[0m\u001b[0;34m\u001b[0m\u001b[0m\n\u001b[0m\u001b[1;32m     95\u001b[0m                 \u001b[0;32mexcept\u001b[0m \u001b[0mTypeError\u001b[0m\u001b[0;34m:\u001b[0m\u001b[0;34m\u001b[0m\u001b[0;34m\u001b[0m\u001b[0m\n",
      "\u001b[0;32m~/.local/lib/python3.6/site-packages/sympy/core/expr.py\u001b[0m in \u001b[0;36m__hash__\u001b[0;34m(self)\u001b[0m\n\u001b[1;32m    110\u001b[0m         \u001b[0;32mif\u001b[0m \u001b[0mh\u001b[0m \u001b[0;32mis\u001b[0m \u001b[0;32mNone\u001b[0m\u001b[0;34m:\u001b[0m\u001b[0;34m\u001b[0m\u001b[0;34m\u001b[0m\u001b[0m\n\u001b[0;32m--> 111\u001b[0;31m             \u001b[0mh\u001b[0m \u001b[0;34m=\u001b[0m \u001b[0mhash\u001b[0m\u001b[0;34m(\u001b[0m\u001b[0;34m(\u001b[0m\u001b[0mtype\u001b[0m\u001b[0;34m(\u001b[0m\u001b[0mself\u001b[0m\u001b[0;34m)\u001b[0m\u001b[0;34m.\u001b[0m\u001b[0m__name__\u001b[0m\u001b[0;34m,\u001b[0m\u001b[0;34m)\u001b[0m \u001b[0;34m+\u001b[0m \u001b[0mself\u001b[0m\u001b[0;34m.\u001b[0m\u001b[0m_hashable_content\u001b[0m\u001b[0;34m(\u001b[0m\u001b[0;34m)\u001b[0m\u001b[0;34m)\u001b[0m\u001b[0;34m\u001b[0m\u001b[0;34m\u001b[0m\u001b[0m\n\u001b[0m\u001b[1;32m    112\u001b[0m             \u001b[0mself\u001b[0m\u001b[0;34m.\u001b[0m\u001b[0m_mhash\u001b[0m \u001b[0;34m=\u001b[0m \u001b[0mh\u001b[0m\u001b[0;34m\u001b[0m\u001b[0;34m\u001b[0m\u001b[0m\n",
      "\u001b[0;31mTypeError\u001b[0m: unhashable type: 'list'",
      "\nDuring handling of the above exception, another exception occurred:\n",
      "\u001b[0;31mTypeError\u001b[0m    Traceback (most recent call last)",
      "\u001b[0;32m<ipython-input-521-aaed3adc8a46>\u001b[0m in \u001b[0;36m<module>\u001b[0;34m\u001b[0m\n\u001b[1;32m      1\u001b[0m \u001b[0mpbadd\u001b[0m \u001b[0;34m=\u001b[0m \u001b[0mPoissonBracket\u001b[0m\u001b[0;34m(\u001b[0m\u001b[0mA\u001b[0m\u001b[0;34m+\u001b[0m\u001b[0mB\u001b[0m\u001b[0;34m,\u001b[0m\u001b[0mC\u001b[0m\u001b[0;34m,\u001b[0m\u001b[0mx\u001b[0m\u001b[0;34m,\u001b[0m\u001b[0mpx\u001b[0m\u001b[0;34m)\u001b[0m\u001b[0;34m\u001b[0m\u001b[0;34m\u001b[0m\u001b[0m\n\u001b[0;32m----> 2\u001b[0;31m \u001b[0mpbadd\u001b[0m\u001b[0;34m,\u001b[0m \u001b[0mpbadd\u001b[0m\u001b[0;34m.\u001b[0m\u001b[0mexpand\u001b[0m\u001b[0;34m(\u001b[0m\u001b[0mcommutator\u001b[0m\u001b[0;34m=\u001b[0m\u001b[0;32mTrue\u001b[0m\u001b[0;34m)\u001b[0m\u001b[0;34m\u001b[0m\u001b[0;34m\u001b[0m\u001b[0m\n\u001b[0m",
      "\u001b[0;32m~/.local/lib/python3.6/site-packages/sympy/core/cache.py\u001b[0m in \u001b[0;36mwrapper\u001b[0;34m(*args, **kwargs)\u001b[0m\n\u001b[1;32m     94\u001b[0m                     \u001b[0mretval\u001b[0m \u001b[0;34m=\u001b[0m \u001b[0mcfunc\u001b[0m\u001b[0;34m(\u001b[0m\u001b[0;34m*\u001b[0m\u001b[0margs\u001b[0m\u001b[0;34m,\u001b[0m \u001b[0;34m**\u001b[0m\u001b[0mkwargs\u001b[0m\u001b[0;34m)\u001b[0m\u001b[0;34m\u001b[0m\u001b[0;34m\u001b[0m\u001b[0m\n\u001b[1;32m     95\u001b[0m                 \u001b[0;32mexcept\u001b[0m \u001b[0mTypeError\u001b[0m\u001b[0;34m:\u001b[0m\u001b[0;34m\u001b[0m\u001b[0;34m\u001b[0m\u001b[0m\n\u001b[0;32m---> 96\u001b[0;31m                     \u001b[0mretval\u001b[0m \u001b[0;34m=\u001b[0m \u001b[0mfunc\u001b[0m\u001b[0;34m(\u001b[0m\u001b[0;34m*\u001b[0m\u001b[0margs\u001b[0m\u001b[0;34m,\u001b[0m \u001b[0;34m**\u001b[0m\u001b[0mkwargs\u001b[0m\u001b[0;34m)\u001b[0m\u001b[0;34m\u001b[0m\u001b[0;34m\u001b[0m\u001b[0m\n\u001b[0m\u001b[1;32m     97\u001b[0m                 \u001b[0;32mreturn\u001b[0m \u001b[0mretval\u001b[0m\u001b[0;34m\u001b[0m\u001b[0;34m\u001b[0m\u001b[0m\n\u001b[1;32m     98\u001b[0m \u001b[0;34m\u001b[0m\u001b[0m\n",
      "\u001b[0;32m~/.local/lib/python3.6/site-packages/sympy/core/expr.py\u001b[0m in \u001b[0;36mexpand\u001b[0;34m(self, deep, modulus, power_base, power_exp, mul, log, multinomial, basic, **hints)\u001b[0m\n\u001b[1;32m   3481\u001b[0m             \u001b[0;32mif\u001b[0m \u001b[0muse_hint\u001b[0m\u001b[0;34m:\u001b[0m\u001b[0;34m\u001b[0m\u001b[0;34m\u001b[0m\u001b[0m\n\u001b[1;32m   3482\u001b[0m                 \u001b[0mhint\u001b[0m \u001b[0;34m=\u001b[0m \u001b[0;34m'_eval_expand_'\u001b[0m \u001b[0;34m+\u001b[0m \u001b[0mhint\u001b[0m\u001b[0;34m\u001b[0m\u001b[0;34m\u001b[0m\u001b[0m\n\u001b[0;32m-> 3483\u001b[0;31m                 \u001b[0mexpr\u001b[0m\u001b[0;34m,\u001b[0m \u001b[0mhit\u001b[0m \u001b[0;34m=\u001b[0m \u001b[0mExpr\u001b[0m\u001b[0;34m.\u001b[0m\u001b[0m_expand_hint\u001b[0m\u001b[0;34m(\u001b[0m\u001b[0mexpr\u001b[0m\u001b[0;34m,\u001b[0m \u001b[0mhint\u001b[0m\u001b[0;34m,\u001b[0m \u001b[0mdeep\u001b[0m\u001b[0;34m=\u001b[0m\u001b[0mdeep\u001b[0m\u001b[0;34m,\u001b[0m \u001b[0;34m**\u001b[0m\u001b[0mhints\u001b[0m\u001b[0;34m)\u001b[0m\u001b[0;34m\u001b[0m\u001b[0;34m\u001b[0m\u001b[0m\n\u001b[0m\u001b[1;32m   3484\u001b[0m \u001b[0;34m\u001b[0m\u001b[0m\n\u001b[1;32m   3485\u001b[0m         \u001b[0;32mwhile\u001b[0m \u001b[0;32mTrue\u001b[0m\u001b[0;34m:\u001b[0m\u001b[0;34m\u001b[0m\u001b[0;34m\u001b[0m\u001b[0m\n",
      "\u001b[0;32m~/.local/lib/python3.6/site-packages/sympy/core/expr.py\u001b[0m in \u001b[0;36m_expand_hint\u001b[0;34m(expr, hint, deep, **hints)\u001b[0m\n\u001b[1;32m   3422\u001b[0m \u001b[0;34m\u001b[0m\u001b[0m\n\u001b[1;32m   3423\u001b[0m         \u001b[0;32mif\u001b[0m \u001b[0mhasattr\u001b[0m\u001b[0;34m(\u001b[0m\u001b[0mexpr\u001b[0m\u001b[0;34m,\u001b[0m \u001b[0mhint\u001b[0m\u001b[0;34m)\u001b[0m\u001b[0;34m:\u001b[0m\u001b[0;34m\u001b[0m\u001b[0;34m\u001b[0m\u001b[0m\n\u001b[0;32m-> 3424\u001b[0;31m             \u001b[0mnewexpr\u001b[0m \u001b[0;34m=\u001b[0m \u001b[0mgetattr\u001b[0m\u001b[0;34m(\u001b[0m\u001b[0mexpr\u001b[0m\u001b[0;34m,\u001b[0m \u001b[0mhint\u001b[0m\u001b[0;34m)\u001b[0m\u001b[0;34m(\u001b[0m\u001b[0;34m**\u001b[0m\u001b[0mhints\u001b[0m\u001b[0;34m)\u001b[0m\u001b[0;34m\u001b[0m\u001b[0;34m\u001b[0m\u001b[0m\n\u001b[0m\u001b[1;32m   3425\u001b[0m             \u001b[0;32mif\u001b[0m \u001b[0mnewexpr\u001b[0m \u001b[0;34m!=\u001b[0m \u001b[0mexpr\u001b[0m\u001b[0;34m:\u001b[0m\u001b[0;34m\u001b[0m\u001b[0;34m\u001b[0m\u001b[0m\n\u001b[1;32m   3426\u001b[0m                 \u001b[0;32mreturn\u001b[0m \u001b[0;34m(\u001b[0m\u001b[0mnewexpr\u001b[0m\u001b[0;34m,\u001b[0m \u001b[0;32mTrue\u001b[0m\u001b[0;34m)\u001b[0m\u001b[0;34m\u001b[0m\u001b[0;34m\u001b[0m\u001b[0m\n",
      "\u001b[0;32m<ipython-input-520-cdffc73c39ae>\u001b[0m in \u001b[0;36m_eval_expand_commutator\u001b[0;34m(self, **hints)\u001b[0m\n\u001b[1;32m    110\u001b[0m                 \u001b[0msargs\u001b[0m\u001b[0;34m.\u001b[0m\u001b[0mappend\u001b[0m\u001b[0;34m(\u001b[0m\u001b[0mcomm\u001b[0m\u001b[0;34m)\u001b[0m\u001b[0;34m\u001b[0m\u001b[0;34m\u001b[0m\u001b[0m\n\u001b[1;32m    111\u001b[0m             \u001b[0mprint\u001b[0m\u001b[0;34m(\u001b[0m\u001b[0msargs\u001b[0m\u001b[0;34m)\u001b[0m\u001b[0;34m\u001b[0m\u001b[0;34m\u001b[0m\u001b[0m\n\u001b[0;32m--> 112\u001b[0;31m             \u001b[0;32mreturn\u001b[0m \u001b[0mAdd\u001b[0m\u001b[0;34m(\u001b[0m\u001b[0;34m*\u001b[0m\u001b[0msargs\u001b[0m\u001b[0;34m)\u001b[0m\u001b[0;34m\u001b[0m\u001b[0;34m\u001b[0m\u001b[0m\n\u001b[0m\u001b[1;32m    113\u001b[0m         \u001b[0;32mreturn\u001b[0m \u001b[0mself\u001b[0m\u001b[0;34m\u001b[0m\u001b[0;34m\u001b[0m\u001b[0m\n\u001b[1;32m    114\u001b[0m \u001b[0;34m\u001b[0m\u001b[0m\n",
      "\u001b[0;32m~/.local/lib/python3.6/site-packages/sympy/core/cache.py\u001b[0m in \u001b[0;36mwrapper\u001b[0;34m(*args, **kwargs)\u001b[0m\n\u001b[1;32m     94\u001b[0m                     \u001b[0mretval\u001b[0m \u001b[0;34m=\u001b[0m \u001b[0mcfunc\u001b[0m\u001b[0;34m(\u001b[0m\u001b[0;34m*\u001b[0m\u001b[0margs\u001b[0m\u001b[0;34m,\u001b[0m \u001b[0;34m**\u001b[0m\u001b[0mkwargs\u001b[0m\u001b[0;34m)\u001b[0m\u001b[0;34m\u001b[0m\u001b[0;34m\u001b[0m\u001b[0m\n\u001b[1;32m     95\u001b[0m                 \u001b[0;32mexcept\u001b[0m \u001b[0mTypeError\u001b[0m\u001b[0;34m:\u001b[0m\u001b[0;34m\u001b[0m\u001b[0;34m\u001b[0m\u001b[0m\n\u001b[0;32m---> 96\u001b[0;31m                     \u001b[0mretval\u001b[0m \u001b[0;34m=\u001b[0m \u001b[0mfunc\u001b[0m\u001b[0;34m(\u001b[0m\u001b[0;34m*\u001b[0m\u001b[0margs\u001b[0m\u001b[0;34m,\u001b[0m \u001b[0;34m**\u001b[0m\u001b[0mkwargs\u001b[0m\u001b[0;34m)\u001b[0m\u001b[0;34m\u001b[0m\u001b[0;34m\u001b[0m\u001b[0m\n\u001b[0m\u001b[1;32m     97\u001b[0m                 \u001b[0;32mreturn\u001b[0m \u001b[0mretval\u001b[0m\u001b[0;34m\u001b[0m\u001b[0;34m\u001b[0m\u001b[0m\n\u001b[1;32m     98\u001b[0m \u001b[0;34m\u001b[0m\u001b[0m\n",
      "\u001b[0;32m~/.local/lib/python3.6/site-packages/sympy/core/operations.py\u001b[0m in \u001b[0;36m__new__\u001b[0;34m(cls, *args, **options)\u001b[0m\n\u001b[1;32m     50\u001b[0m             \u001b[0;32mreturn\u001b[0m \u001b[0margs\u001b[0m\u001b[0;34m[\u001b[0m\u001b[0;36m0\u001b[0m\u001b[0;34m]\u001b[0m\u001b[0;34m\u001b[0m\u001b[0;34m\u001b[0m\u001b[0m\n\u001b[1;32m     51\u001b[0m \u001b[0;34m\u001b[0m\u001b[0m\n\u001b[0;32m---> 52\u001b[0;31m         \u001b[0mc_part\u001b[0m\u001b[0;34m,\u001b[0m \u001b[0mnc_part\u001b[0m\u001b[0;34m,\u001b[0m \u001b[0morder_symbols\u001b[0m \u001b[0;34m=\u001b[0m \u001b[0mcls\u001b[0m\u001b[0;34m.\u001b[0m\u001b[0mflatten\u001b[0m\u001b[0;34m(\u001b[0m\u001b[0margs\u001b[0m\u001b[0;34m)\u001b[0m\u001b[0;34m\u001b[0m\u001b[0;34m\u001b[0m\u001b[0m\n\u001b[0m\u001b[1;32m     53\u001b[0m         \u001b[0mis_commutative\u001b[0m \u001b[0;34m=\u001b[0m \u001b[0;32mnot\u001b[0m \u001b[0mnc_part\u001b[0m\u001b[0;34m\u001b[0m\u001b[0;34m\u001b[0m\u001b[0m\n\u001b[1;32m     54\u001b[0m         \u001b[0mobj\u001b[0m \u001b[0;34m=\u001b[0m \u001b[0mcls\u001b[0m\u001b[0;34m.\u001b[0m\u001b[0m_from_args\u001b[0m\u001b[0;34m(\u001b[0m\u001b[0mc_part\u001b[0m \u001b[0;34m+\u001b[0m \u001b[0mnc_part\u001b[0m\u001b[0;34m,\u001b[0m \u001b[0mis_commutative\u001b[0m\u001b[0;34m)\u001b[0m\u001b[0;34m\u001b[0m\u001b[0;34m\u001b[0m\u001b[0m\n",
      "\u001b[0;32m~/.local/lib/python3.6/site-packages/sympy/core/add.py\u001b[0m in \u001b[0;36mflatten\u001b[0;34m(cls, seq)\u001b[0m\n\u001b[1;32m    197\u001b[0m             \u001b[0;31m# let's collect terms with the same s, so e.g.\u001b[0m\u001b[0;34m\u001b[0m\u001b[0;34m\u001b[0m\u001b[0;34m\u001b[0m\u001b[0m\n\u001b[1;32m    198\u001b[0m             \u001b[0;31m# 2*x**2 + 3*x**2  ->  5*x**2\u001b[0m\u001b[0;34m\u001b[0m\u001b[0;34m\u001b[0m\u001b[0;34m\u001b[0m\u001b[0m\n\u001b[0;32m--> 199\u001b[0;31m             \u001b[0;32mif\u001b[0m \u001b[0ms\u001b[0m \u001b[0;32min\u001b[0m \u001b[0mterms\u001b[0m\u001b[0;34m:\u001b[0m\u001b[0;34m\u001b[0m\u001b[0;34m\u001b[0m\u001b[0m\n\u001b[0m\u001b[1;32m    200\u001b[0m                 \u001b[0mterms\u001b[0m\u001b[0;34m[\u001b[0m\u001b[0ms\u001b[0m\u001b[0;34m]\u001b[0m \u001b[0;34m+=\u001b[0m \u001b[0mc\u001b[0m\u001b[0;34m\u001b[0m\u001b[0;34m\u001b[0m\u001b[0m\n\u001b[1;32m    201\u001b[0m                 \u001b[0;32mif\u001b[0m \u001b[0mterms\u001b[0m\u001b[0;34m[\u001b[0m\u001b[0ms\u001b[0m\u001b[0;34m]\u001b[0m \u001b[0;32mis\u001b[0m \u001b[0mS\u001b[0m\u001b[0;34m.\u001b[0m\u001b[0mNaN\u001b[0m \u001b[0;32mand\u001b[0m \u001b[0;32mnot\u001b[0m \u001b[0mextra\u001b[0m\u001b[0;34m:\u001b[0m\u001b[0;34m\u001b[0m\u001b[0;34m\u001b[0m\u001b[0m\n",
      "\u001b[0;32m~/.local/lib/python3.6/site-packages/sympy/core/expr.py\u001b[0m in \u001b[0;36m__hash__\u001b[0;34m(self)\u001b[0m\n\u001b[1;32m    109\u001b[0m         \u001b[0mh\u001b[0m \u001b[0;34m=\u001b[0m \u001b[0mself\u001b[0m\u001b[0;34m.\u001b[0m\u001b[0m_mhash\u001b[0m\u001b[0;34m\u001b[0m\u001b[0;34m\u001b[0m\u001b[0m\n\u001b[1;32m    110\u001b[0m         \u001b[0;32mif\u001b[0m \u001b[0mh\u001b[0m \u001b[0;32mis\u001b[0m \u001b[0;32mNone\u001b[0m\u001b[0;34m:\u001b[0m\u001b[0;34m\u001b[0m\u001b[0;34m\u001b[0m\u001b[0m\n\u001b[0;32m--> 111\u001b[0;31m             \u001b[0mh\u001b[0m \u001b[0;34m=\u001b[0m \u001b[0mhash\u001b[0m\u001b[0;34m(\u001b[0m\u001b[0;34m(\u001b[0m\u001b[0mtype\u001b[0m\u001b[0;34m(\u001b[0m\u001b[0mself\u001b[0m\u001b[0;34m)\u001b[0m\u001b[0;34m.\u001b[0m\u001b[0m__name__\u001b[0m\u001b[0;34m,\u001b[0m\u001b[0;34m)\u001b[0m \u001b[0;34m+\u001b[0m \u001b[0mself\u001b[0m\u001b[0;34m.\u001b[0m\u001b[0m_hashable_content\u001b[0m\u001b[0;34m(\u001b[0m\u001b[0;34m)\u001b[0m\u001b[0;34m)\u001b[0m\u001b[0;34m\u001b[0m\u001b[0;34m\u001b[0m\u001b[0m\n\u001b[0m\u001b[1;32m    112\u001b[0m             \u001b[0mself\u001b[0m\u001b[0;34m.\u001b[0m\u001b[0m_mhash\u001b[0m \u001b[0;34m=\u001b[0m \u001b[0mh\u001b[0m\u001b[0;34m\u001b[0m\u001b[0;34m\u001b[0m\u001b[0m\n\u001b[1;32m    113\u001b[0m         \u001b[0;32mreturn\u001b[0m \u001b[0mh\u001b[0m\u001b[0;34m\u001b[0m\u001b[0;34m\u001b[0m\u001b[0m\n",
      "\u001b[0;31mTypeError\u001b[0m: unhashable type: 'list'"
     ]
    }
   ],
   "source": [
    "pbadd = PoissonBracket(A+B,C,x,px)\n",
    "pbadd, pbadd.expand(commutator=True)"
   ]
  },
  {
   "cell_type": "code",
   "execution_count": 516,
   "metadata": {},
   "outputs": [
    {
     "data": {
      "image/png": "[encoded data removed]",
      "text/latex": [
       "$\\displaystyle \\lbrace A{\\left(x,p_{x} \\right)} + B{\\left(x,p_{x} \\right)},C\\rbrace$"
      ],
      "text/plain": [
       "PoissonBracket(A(x, p_x) + B(x, p_x), C(x, p_x), [x], [p_x])"
      ]
     },
     "execution_count": 516,
     "metadata": {},
     "output_type": "execute_result"
    }
   ],
   "source": []
  },
  {
   "cell_type": "code",
   "execution_count": 342,
   "metadata": {},
   "outputs": [],
   "source": [
    "from __future__ import print_function, division\n",
    "\n",
    "from sympy import S, Expr, Mul,Add, Pow\n",
    "from sympy.physics.quantum import Operator\n",
    "from sympy.printing.latex import print_latex\n",
    "from sympy.printing.pretty.stringpict import prettyForm\n",
    "\n",
    "\n",
    "from sympy import S, Expr, Mul, Add, Pow\n",
    "from sympy.printing.pretty.stringpict import prettyForm\n",
    "\n",
    "from sympy.physics.quantum.dagger import Dagger\n",
    "from sympy.physics.quantum.operator import Operator\n",
    "class PoissonBracket(Expr):\n",
    "    \"\"\"\n",
    "    Operator class for the Poisson Bracket - allows to have it as a symbolic operator\n",
    "    \"\"\"\n",
    "\n",
    "    _is_commutative = False\n",
    "    \n",
    "    def __new__(cls,A,B,indep_coords, indep_mom):\n",
    "        # create list of coords\n",
    "        if not isinstance(indep_coords, list):\n",
    "            indep_coords = [indep_coords]\n",
    "\n",
    "        # create list of momenta\n",
    "        if not isinstance(indep_mom, list):\n",
    "            indep_mom = [indep_mom]\n",
    "\n",
    "        # same number of coordinates and momenta have to be entered\n",
    "        assert len(indep_coords) == len(\n",
    "            indep_mom\n",
    "        ), \"The number of coords and momenta is not the same\"\n",
    "        \n",
    "        r=cls.eval(A,B, indep_coords, indep_mom)\n",
    "        if r is not None:\n",
    "            return r\n",
    "        obj = Expr.__new__(cls,A,B,indep_coords, indep_mom)\n",
    "        obj.A = A\n",
    "        obj.B = B\n",
    "        obj.indep_coords = indep_coords\n",
    "        obj.indep_mom = indep_mom\n",
    "        return obj\n",
    "\n",
    "    @classmethod\n",
    "    def eval(cls,a,b,indep_coords,indep_mom):\n",
    "        if not (a and b):\n",
    "#             print(\"here\")\n",
    "            return S.Zero\n",
    "        if a==b:\n",
    "            print(\"here\")\n",
    "            print(a,b)\n",
    "            return S.Zero\n",
    "        \n",
    "        # {xA,yB} = xy{A,B}\n",
    "        ca, nca = a.args_cnc()\n",
    "        cb, ncb = b.args_cnc()\n",
    "        print(ca, nca)\n",
    "        print(cb, ncb)\n",
    "        c_part=ca+cb\n",
    "        if c_part:\n",
    "            return Mul(Mul(*c_part), cls(Mul._from_args(nca), Mul._from_args(ncb), indep_coords, indep_mom))\n",
    "        \n",
    "        if a.compare(b) ==1:\n",
    "            return S.NegativeOne*cls(b,a,indep_coords,indep_mom)\n",
    "        \n",
    "    def doit(self, **hints):\n",
    "        \"\"\" Evaluate commutator \"\"\"\n",
    "        A = self.args[0]\n",
    "        B = self.args[1]\n",
    "        if isinstance(A, Operator) and isinstance(B, Operator):\n",
    "            try:\n",
    "                comm = A._eval_commutator(B, **hints)\n",
    "            except NotImplementedError:\n",
    "                try:\n",
    "                    comm = -1*B._eval_commutator(A, **hints)\n",
    "                except NotImplementedError:\n",
    "                    comm = None\n",
    "            if comm is not None:\n",
    "                return comm.doit(**hints)\n",
    "            \n",
    "        hp = S(0)\n",
    "        for qi, pi in zip(self.indep_coords, self.indep_mom):\n",
    "            hp += self.A.diff(qi) * self.B.diff(pi)\n",
    "            hp -= self.A.diff(pi) * self.B.diff(qi)\n",
    "        return hp.doit(**hints)\n",
    "        return (A*B - B*A).doit(**hints)\n",
    "    \n",
    "    def _expand_pow(self, A, B, sign):\n",
    "        exp = A.exp\n",
    "        if not exp.is_integer or not exp.is_constant() or abs(exp) <= 1:\n",
    "            # nothing to do\n",
    "            return self\n",
    "        base = A.base\n",
    "        if exp.is_negative:\n",
    "            base = A.base**-1\n",
    "            exp = -exp\n",
    "        comm = PoissonBracket(base, B).expand(commutator=True)\n",
    "\n",
    "        result = base**(exp - 1) * comm\n",
    "        for i in range(1, exp):\n",
    "            result += base**(exp - 1 - i) * comm * base**i\n",
    "        return sign*result.expand()\n",
    "    \n",
    "    def _eval_expand_commutator(self, **hints):\n",
    "        A = self.args[0]\n",
    "        B = self.args[1]\n",
    "\n",
    "        if isinstance(A, Add):\n",
    "            # [A + B, C]  ->  [A, C] + [B, C]\n",
    "            sargs = []\n",
    "            for term in A.args:\n",
    "                comm = PoissonBracket(term, B,self.indep_coords, self.indep_mom)\n",
    "                print(comm)\n",
    "                if isinstance(comm, PoissonBracket):\n",
    "                    comm = comm._eval_expand_commutator()\n",
    "                sargs.append(comm)\n",
    "            print(sargs)\n",
    "            return Add(*sargs)\n",
    "        elif isinstance(B, Add):\n",
    "            # [A, B + C]  ->  [A, B] + [A, C]\n",
    "            sargs = []\n",
    "            for term in B.args:\n",
    "                comm = PoissonBracket(A, term, self.indep_coords, self.indep_mom)\n",
    "                if isinstance(comm, PoissonBracket):\n",
    "                    comm = comm._eval_expand_commutator()\n",
    "                sargs.append(comm)\n",
    "            return Add(*sargs)\n",
    "        elif isinstance(A, Mul):\n",
    "            # [A*B, C] -> A*[B, C] + [A, C]*B\n",
    "            a = A.args[0]\n",
    "            b = Mul(*A.args[1:])\n",
    "            c = B\n",
    "            comm1 = PoissonBracket(b, c,self.indep_coords,self.indep_mom)\n",
    "            comm2 = PoissonBracket(a, c,self.indep_coords,self.indep_mom)\n",
    "            if isinstance(comm1, PoissonBracket):\n",
    "                comm1 = comm1._eval_expand_commutator()\n",
    "            if isinstance(comm2, PoissonBracket):\n",
    "                comm2 = comm2._eval_expand_commutator()\n",
    "            first = Mul(a, comm1)\n",
    "            second = Mul(comm2, b)\n",
    "            return Add(first, second)\n",
    "        elif isinstance(B, Mul):\n",
    "            # [A, B*C] -> [A, B]*C + B*[A, C]\n",
    "            a = A\n",
    "            b = B.args[0]\n",
    "            c = Mul(*B.args[1:])\n",
    "            comm1 = PoissonBracket(a, b,self.indep_coords,self.indep_mom)\n",
    "            comm2 = PoissonBracket(a, c,self.indep_coords,self.indep_mom)\n",
    "            if isinstance(comm1, PoissonBracket):\n",
    "                comm1 = comm1._eval_expand_commutator()\n",
    "            if isinstance(comm2, PoissonBracket):\n",
    "                comm2 = comm2._eval_expand_commutator()\n",
    "            first = Mul(comm1, c)\n",
    "            second = Mul(b, comm2)\n",
    "            return Add(first, second)\n",
    "        elif isinstance(A, Pow):\n",
    "            # [A**n, C] -> A**(n - 1)*[A, C] + A**(n - 2)*[A, C]*A + ... + [A, C]*A**(n-1)\n",
    "            return self._expand_pow(A, B, 1)\n",
    "        elif isinstance(B, Pow):\n",
    "            # [A, C**n] -> C**(n - 1)*[C, A] + C**(n - 2)*[C, A]*C + ... + [C, A]*C**(n-1)\n",
    "            return self._expand_pow(B, A, -1)\n",
    "\n",
    "        # No changes, so return self\n",
    "        return self\n",
    "    \n",
    "    def _sympyrepr(self, printer, *args):\n",
    "        return \"%s(%s,%s)\" % (\n",
    "            self.__class__.__name__, printer._print(\n",
    "                self.args[0]), printer._print(self.args[1])\n",
    "        )\n",
    "\n",
    "    def _sympystr(self, printer, *args):\n",
    "        return \"[%s,%s]\" % (self.args[0], self.args[1])\n",
    "\n",
    "    def _pretty(self, printer, *args):\n",
    "        pform = printer._print(self.args[0], *args)\n",
    "        pform = prettyForm(*pform.right((prettyForm(u','))))\n",
    "        pform = prettyForm(*pform.right((printer._print(self.args[1], *args))))\n",
    "        pform = prettyForm(*pform.parens(left='[', right=']'))\n",
    "        return pform\n",
    "    \n",
    "    def _latex(self, printer, *args):\n",
    "        return \"\\\\lbrace %s,%s\\\\rbrace\" % tuple([\n",
    "            printer._print(arg, *args) for arg in self.args[:2]])\n",
    "    \n",
    "#     def __init__(self, *args):\n",
    "#         if not len(args) == 4:\n",
    "#             raise ValueError(\"4 parameters expected, got %s\" % args)\n",
    "\n",
    "#         self.A = args[0]\n",
    "#         self.B = args[1]\n",
    "#         self.indep_coords = args[2]\n",
    "#         self.indep_mom = args[3]\n",
    "\n",
    "#     @property\n",
    "#     def free_symbols(self):\n",
    "#         return self.A.free_symbols.union(self.B.free_symbols)\n",
    "\n",
    "#     @property\n",
    "#     def expr(self):\n",
    "#         hp = S(0)\n",
    "#         for qi, pi in zip(self.indep_coords, self.indep_mom):\n",
    "#             hp += self.A.diff(qi) * self.B.diff(pi)\n",
    "#             hp -= self.A.diff(pi) * self.B.diff(qi)\n",
    "#         return hp\n",
    "\n",
    "#     def _eval_derivative(self, symbol):\n",
    "#         \"\"\"\n",
    "#         Necessary to get the full expanded expression\n",
    "#         when one of the arguments is itself a PoissonBracket.\n",
    "#         In other words to allow evalutation of nested Poisson Brackets.\n",
    "#         \"\"\"\n",
    "#         new_expr = self.expr.diff(symbol)\n",
    "#         return new_expr\n",
    "\n",
    "#     def _eval(self):\n",
    "#         return self.expr\n",
    "\n",
    "#     def _latex(self, printer=None):\n",
    "#         a, b = [\n",
    "#             printer.doprint(i)\n",
    "#             if i.__class__.__name__ == self.__class__.__name__\n",
    "#             else printer.doprint(i.func)\n",
    "#             for i in self.args[:2]\n",
    "#         ]\n",
    "#         return r\"\\lbrace {}, {} \\rbrace\".format(a, b)\n"
   ]
  },
  {
   "cell_type": "code",
   "execution_count": 244,
   "metadata": {},
   "outputs": [
    {
     "name": "stdout",
     "output_type": "stream",
     "text": [
      "[] [G + I]\n",
      "[] [H]\n",
      "[] [G]\n",
      "[] [H]\n",
      "[G,H]\n",
      "[] [I]\n",
      "[] [H]\n",
      "[] [H]\n",
      "[] [I]\n",
      "-[H,I]\n",
      "[[G,H], -[H,I]]\n"
     ]
    },
    {
     "ename": "TypeError",
     "evalue": "unhashable type: 'list'",
     "output_type": "error",
     "traceback": [
      "\u001b[0;31m----------------------------------------------\u001b[0m",
      "\u001b[0;31mTypeError\u001b[0m    Traceback (most recent call last)",
      "\u001b[0;32m~/.local/lib/python3.6/site-packages/sympy/core/cache.py\u001b[0m in \u001b[0;36mwrapper\u001b[0;34m(*args, **kwargs)\u001b[0m\n\u001b[1;32m     93\u001b[0m                 \u001b[0;32mtry\u001b[0m\u001b[0;34m:\u001b[0m\u001b[0;34m\u001b[0m\u001b[0;34m\u001b[0m\u001b[0m\n\u001b[0;32m---> 94\u001b[0;31m                     \u001b[0mretval\u001b[0m \u001b[0;34m=\u001b[0m \u001b[0mcfunc\u001b[0m\u001b[0;34m(\u001b[0m\u001b[0;34m*\u001b[0m\u001b[0margs\u001b[0m\u001b[0;34m,\u001b[0m \u001b[0;34m**\u001b[0m\u001b[0mkwargs\u001b[0m\u001b[0;34m)\u001b[0m\u001b[0;34m\u001b[0m\u001b[0;34m\u001b[0m\u001b[0m\n\u001b[0m\u001b[1;32m     95\u001b[0m                 \u001b[0;32mexcept\u001b[0m \u001b[0mTypeError\u001b[0m\u001b[0;34m:\u001b[0m\u001b[0;34m\u001b[0m\u001b[0;34m\u001b[0m\u001b[0m\n",
      "\u001b[0;32m~/.local/lib/python3.6/site-packages/sympy/core/expr.py\u001b[0m in \u001b[0;36m__hash__\u001b[0;34m(self)\u001b[0m\n\u001b[1;32m    110\u001b[0m         \u001b[0;32mif\u001b[0m \u001b[0mh\u001b[0m \u001b[0;32mis\u001b[0m \u001b[0;32mNone\u001b[0m\u001b[0;34m:\u001b[0m\u001b[0;34m\u001b[0m\u001b[0;34m\u001b[0m\u001b[0m\n\u001b[0;32m--> 111\u001b[0;31m             \u001b[0mh\u001b[0m \u001b[0;34m=\u001b[0m \u001b[0mhash\u001b[0m\u001b[0;34m(\u001b[0m\u001b[0;34m(\u001b[0m\u001b[0mtype\u001b[0m\u001b[0;34m(\u001b[0m\u001b[0mself\u001b[0m\u001b[0;34m)\u001b[0m\u001b[0;34m.\u001b[0m\u001b[0m__name__\u001b[0m\u001b[0;34m,\u001b[0m\u001b[0;34m)\u001b[0m \u001b[0;34m+\u001b[0m \u001b[0mself\u001b[0m\u001b[0;34m.\u001b[0m\u001b[0m_hashable_content\u001b[0m\u001b[0;34m(\u001b[0m\u001b[0;34m)\u001b[0m\u001b[0;34m)\u001b[0m\u001b[0;34m\u001b[0m\u001b[0;34m\u001b[0m\u001b[0m\n\u001b[0m\u001b[1;32m    112\u001b[0m             \u001b[0mself\u001b[0m\u001b[0;34m.\u001b[0m\u001b[0m_mhash\u001b[0m \u001b[0;34m=\u001b[0m \u001b[0mh\u001b[0m\u001b[0;34m\u001b[0m\u001b[0;34m\u001b[0m\u001b[0m\n",
      "\u001b[0;31mTypeError\u001b[0m: unhashable type: 'list'",
      "\nDuring handling of the above exception, another exception occurred:\n",
      "\u001b[0;31mTypeError\u001b[0m    Traceback (most recent call last)",
      "\u001b[0;32m~/.local/lib/python3.6/site-packages/sympy/core/cache.py\u001b[0m in \u001b[0;36mwrapper\u001b[0;34m(*args, **kwargs)\u001b[0m\n\u001b[1;32m     93\u001b[0m                 \u001b[0;32mtry\u001b[0m\u001b[0;34m:\u001b[0m\u001b[0;34m\u001b[0m\u001b[0;34m\u001b[0m\u001b[0m\n\u001b[0;32m---> 94\u001b[0;31m                     \u001b[0mretval\u001b[0m \u001b[0;34m=\u001b[0m \u001b[0mcfunc\u001b[0m\u001b[0;34m(\u001b[0m\u001b[0;34m*\u001b[0m\u001b[0margs\u001b[0m\u001b[0;34m,\u001b[0m \u001b[0;34m**\u001b[0m\u001b[0mkwargs\u001b[0m\u001b[0;34m)\u001b[0m\u001b[0;34m\u001b[0m\u001b[0;34m\u001b[0m\u001b[0m\n\u001b[0m\u001b[1;32m     95\u001b[0m                 \u001b[0;32mexcept\u001b[0m \u001b[0mTypeError\u001b[0m\u001b[0;34m:\u001b[0m\u001b[0;34m\u001b[0m\u001b[0;34m\u001b[0m\u001b[0m\n",
      "\u001b[0;32m~/.local/lib/python3.6/site-packages/sympy/core/expr.py\u001b[0m in \u001b[0;36m__hash__\u001b[0;34m(self)\u001b[0m\n\u001b[1;32m    110\u001b[0m         \u001b[0;32mif\u001b[0m \u001b[0mh\u001b[0m \u001b[0;32mis\u001b[0m \u001b[0;32mNone\u001b[0m\u001b[0;34m:\u001b[0m\u001b[0;34m\u001b[0m\u001b[0;34m\u001b[0m\u001b[0m\n\u001b[0;32m--> 111\u001b[0;31m             \u001b[0mh\u001b[0m \u001b[0;34m=\u001b[0m \u001b[0mhash\u001b[0m\u001b[0;34m(\u001b[0m\u001b[0;34m(\u001b[0m\u001b[0mtype\u001b[0m\u001b[0;34m(\u001b[0m\u001b[0mself\u001b[0m\u001b[0;34m)\u001b[0m\u001b[0;34m.\u001b[0m\u001b[0m__name__\u001b[0m\u001b[0;34m,\u001b[0m\u001b[0;34m)\u001b[0m \u001b[0;34m+\u001b[0m \u001b[0mself\u001b[0m\u001b[0;34m.\u001b[0m\u001b[0m_hashable_content\u001b[0m\u001b[0;34m(\u001b[0m\u001b[0;34m)\u001b[0m\u001b[0;34m)\u001b[0m\u001b[0;34m\u001b[0m\u001b[0;34m\u001b[0m\u001b[0m\n\u001b[0m\u001b[1;32m    112\u001b[0m             \u001b[0mself\u001b[0m\u001b[0;34m.\u001b[0m\u001b[0m_mhash\u001b[0m \u001b[0;34m=\u001b[0m \u001b[0mh\u001b[0m\u001b[0;34m\u001b[0m\u001b[0;34m\u001b[0m\u001b[0m\n",
      "\u001b[0;31mTypeError\u001b[0m: unhashable type: 'list'",
      "\nDuring handling of the above exception, another exception occurred:\n",
      "\u001b[0;31mTypeError\u001b[0m    Traceback (most recent call last)",
      "\u001b[0;32m<ipython-input-244-3c6a17100d09>\u001b[0m in \u001b[0;36m<module>\u001b[0;34m\u001b[0m\n\u001b[0;32m----> 1\u001b[0;31m \u001b[0mPoissonBracket\u001b[0m\u001b[0;34m(\u001b[0m\u001b[0mOperator\u001b[0m\u001b[0;34m(\u001b[0m\u001b[0;34m\"I\"\u001b[0m\u001b[0;34m)\u001b[0m\u001b[0;34m+\u001b[0m\u001b[0mOperator\u001b[0m\u001b[0;34m(\u001b[0m\u001b[0;34m\"G\"\u001b[0m\u001b[0;34m)\u001b[0m\u001b[0;34m,\u001b[0m\u001b[0mOperator\u001b[0m\u001b[0;34m(\u001b[0m\u001b[0;34m\"H\"\u001b[0m\u001b[0;34m)\u001b[0m\u001b[0;34m,\u001b[0m\u001b[0mx\u001b[0m\u001b[0;34m,\u001b[0m\u001b[0mpx\u001b[0m\u001b[0;34m)\u001b[0m\u001b[0;34m.\u001b[0m\u001b[0mexpand\u001b[0m\u001b[0;34m(\u001b[0m\u001b[0mcommutator\u001b[0m\u001b[0;34m=\u001b[0m\u001b[0;32mTrue\u001b[0m\u001b[0;34m)\u001b[0m\u001b[0;34m\u001b[0m\u001b[0;34m\u001b[0m\u001b[0m\n\u001b[0m",
      "\u001b[0;32m~/.local/lib/python3.6/site-packages/sympy/core/cache.py\u001b[0m in \u001b[0;36mwrapper\u001b[0;34m(*args, **kwargs)\u001b[0m\n\u001b[1;32m     94\u001b[0m                     \u001b[0mretval\u001b[0m \u001b[0;34m=\u001b[0m \u001b[0mcfunc\u001b[0m\u001b[0;34m(\u001b[0m\u001b[0;34m*\u001b[0m\u001b[0margs\u001b[0m\u001b[0;34m,\u001b[0m \u001b[0;34m**\u001b[0m\u001b[0mkwargs\u001b[0m\u001b[0;34m)\u001b[0m\u001b[0;34m\u001b[0m\u001b[0;34m\u001b[0m\u001b[0m\n\u001b[1;32m     95\u001b[0m                 \u001b[0;32mexcept\u001b[0m \u001b[0mTypeError\u001b[0m\u001b[0;34m:\u001b[0m\u001b[0;34m\u001b[0m\u001b[0;34m\u001b[0m\u001b[0m\n\u001b[0;32m---> 96\u001b[0;31m                     \u001b[0mretval\u001b[0m \u001b[0;34m=\u001b[0m \u001b[0mfunc\u001b[0m\u001b[0;34m(\u001b[0m\u001b[0;34m*\u001b[0m\u001b[0margs\u001b[0m\u001b[0;34m,\u001b[0m \u001b[0;34m**\u001b[0m\u001b[0mkwargs\u001b[0m\u001b[0;34m)\u001b[0m\u001b[0;34m\u001b[0m\u001b[0;34m\u001b[0m\u001b[0m\n\u001b[0m\u001b[1;32m     97\u001b[0m                 \u001b[0;32mreturn\u001b[0m \u001b[0mretval\u001b[0m\u001b[0;34m\u001b[0m\u001b[0;34m\u001b[0m\u001b[0m\n\u001b[1;32m     98\u001b[0m \u001b[0;34m\u001b[0m\u001b[0m\n",
      "\u001b[0;32m~/.local/lib/python3.6/site-packages/sympy/core/expr.py\u001b[0m in \u001b[0;36mexpand\u001b[0;34m(self, deep, modulus, power_base, power_exp, mul, log, multinomial, basic, **hints)\u001b[0m\n\u001b[1;32m   3481\u001b[0m             \u001b[0;32mif\u001b[0m \u001b[0muse_hint\u001b[0m\u001b[0;34m:\u001b[0m\u001b[0;34m\u001b[0m\u001b[0;34m\u001b[0m\u001b[0m\n\u001b[1;32m   3482\u001b[0m                 \u001b[0mhint\u001b[0m \u001b[0;34m=\u001b[0m \u001b[0;34m'_eval_expand_'\u001b[0m \u001b[0;34m+\u001b[0m \u001b[0mhint\u001b[0m\u001b[0;34m\u001b[0m\u001b[0;34m\u001b[0m\u001b[0m\n\u001b[0;32m-> 3483\u001b[0;31m                 \u001b[0mexpr\u001b[0m\u001b[0;34m,\u001b[0m \u001b[0mhit\u001b[0m \u001b[0;34m=\u001b[0m \u001b[0mExpr\u001b[0m\u001b[0;34m.\u001b[0m\u001b[0m_expand_hint\u001b[0m\u001b[0;34m(\u001b[0m\u001b[0mexpr\u001b[0m\u001b[0;34m,\u001b[0m \u001b[0mhint\u001b[0m\u001b[0;34m,\u001b[0m \u001b[0mdeep\u001b[0m\u001b[0;34m=\u001b[0m\u001b[0mdeep\u001b[0m\u001b[0;34m,\u001b[0m \u001b[0;34m**\u001b[0m\u001b[0mhints\u001b[0m\u001b[0;34m)\u001b[0m\u001b[0;34m\u001b[0m\u001b[0;34m\u001b[0m\u001b[0m\n\u001b[0m\u001b[1;32m   3484\u001b[0m \u001b[0;34m\u001b[0m\u001b[0m\n\u001b[1;32m   3485\u001b[0m         \u001b[0;32mwhile\u001b[0m \u001b[0;32mTrue\u001b[0m\u001b[0;34m:\u001b[0m\u001b[0;34m\u001b[0m\u001b[0;34m\u001b[0m\u001b[0m\n",
      "\u001b[0;32m~/.local/lib/python3.6/site-packages/sympy/core/expr.py\u001b[0m in \u001b[0;36m_expand_hint\u001b[0;34m(expr, hint, deep, **hints)\u001b[0m\n\u001b[1;32m   3422\u001b[0m \u001b[0;34m\u001b[0m\u001b[0m\n\u001b[1;32m   3423\u001b[0m         \u001b[0;32mif\u001b[0m \u001b[0mhasattr\u001b[0m\u001b[0;34m(\u001b[0m\u001b[0mexpr\u001b[0m\u001b[0;34m,\u001b[0m \u001b[0mhint\u001b[0m\u001b[0;34m)\u001b[0m\u001b[0;34m:\u001b[0m\u001b[0;34m\u001b[0m\u001b[0;34m\u001b[0m\u001b[0m\n\u001b[0;32m-> 3424\u001b[0;31m             \u001b[0mnewexpr\u001b[0m \u001b[0;34m=\u001b[0m \u001b[0mgetattr\u001b[0m\u001b[0;34m(\u001b[0m\u001b[0mexpr\u001b[0m\u001b[0;34m,\u001b[0m \u001b[0mhint\u001b[0m\u001b[0;34m)\u001b[0m\u001b[0;34m(\u001b[0m\u001b[0;34m**\u001b[0m\u001b[0mhints\u001b[0m\u001b[0;34m)\u001b[0m\u001b[0;34m\u001b[0m\u001b[0;34m\u001b[0m\u001b[0m\n\u001b[0m\u001b[1;32m   3425\u001b[0m             \u001b[0;32mif\u001b[0m \u001b[0mnewexpr\u001b[0m \u001b[0;34m!=\u001b[0m \u001b[0mexpr\u001b[0m\u001b[0;34m:\u001b[0m\u001b[0;34m\u001b[0m\u001b[0;34m\u001b[0m\u001b[0m\n\u001b[1;32m   3426\u001b[0m                 \u001b[0;32mreturn\u001b[0m \u001b[0;34m(\u001b[0m\u001b[0mnewexpr\u001b[0m\u001b[0;34m,\u001b[0m \u001b[0;32mTrue\u001b[0m\u001b[0;34m)\u001b[0m\u001b[0;34m\u001b[0m\u001b[0;34m\u001b[0m\u001b[0m\n",
      "\u001b[0;32m<ipython-input-234-4e949727ecf9>\u001b[0m in \u001b[0;36m_eval_expand_commutator\u001b[0;34m(self, **hints)\u001b[0m\n\u001b[1;32m    117\u001b[0m                 \u001b[0msargs\u001b[0m\u001b[0;34m.\u001b[0m\u001b[0mappend\u001b[0m\u001b[0;34m(\u001b[0m\u001b[0mcomm\u001b[0m\u001b[0;34m)\u001b[0m\u001b[0;34m\u001b[0m\u001b[0;34m\u001b[0m\u001b[0m\n\u001b[1;32m    118\u001b[0m             \u001b[0mprint\u001b[0m\u001b[0;34m(\u001b[0m\u001b[0msargs\u001b[0m\u001b[0;34m)\u001b[0m\u001b[0;34m\u001b[0m\u001b[0;34m\u001b[0m\u001b[0m\n\u001b[0;32m--> 119\u001b[0;31m             \u001b[0;32mreturn\u001b[0m \u001b[0mAdd\u001b[0m\u001b[0;34m(\u001b[0m\u001b[0;34m*\u001b[0m\u001b[0msargs\u001b[0m\u001b[0;34m)\u001b[0m\u001b[0;34m\u001b[0m\u001b[0;34m\u001b[0m\u001b[0m\n\u001b[0m\u001b[1;32m    120\u001b[0m         \u001b[0;32melif\u001b[0m \u001b[0misinstance\u001b[0m\u001b[0;34m(\u001b[0m\u001b[0mB\u001b[0m\u001b[0;34m,\u001b[0m \u001b[0mAdd\u001b[0m\u001b[0;34m)\u001b[0m\u001b[0;34m:\u001b[0m\u001b[0;34m\u001b[0m\u001b[0;34m\u001b[0m\u001b[0m\n\u001b[1;32m    121\u001b[0m             \u001b[0;31m# [A, B + C]  ->  [A, B] + [A, C]\u001b[0m\u001b[0;34m\u001b[0m\u001b[0;34m\u001b[0m\u001b[0;34m\u001b[0m\u001b[0m\n",
      "\u001b[0;32m~/.local/lib/python3.6/site-packages/sympy/core/cache.py\u001b[0m in \u001b[0;36mwrapper\u001b[0;34m(*args, **kwargs)\u001b[0m\n\u001b[1;32m     94\u001b[0m                     \u001b[0mretval\u001b[0m \u001b[0;34m=\u001b[0m \u001b[0mcfunc\u001b[0m\u001b[0;34m(\u001b[0m\u001b[0;34m*\u001b[0m\u001b[0margs\u001b[0m\u001b[0;34m,\u001b[0m \u001b[0;34m**\u001b[0m\u001b[0mkwargs\u001b[0m\u001b[0;34m)\u001b[0m\u001b[0;34m\u001b[0m\u001b[0;34m\u001b[0m\u001b[0m\n\u001b[1;32m     95\u001b[0m                 \u001b[0;32mexcept\u001b[0m \u001b[0mTypeError\u001b[0m\u001b[0;34m:\u001b[0m\u001b[0;34m\u001b[0m\u001b[0;34m\u001b[0m\u001b[0m\n\u001b[0;32m---> 96\u001b[0;31m                     \u001b[0mretval\u001b[0m \u001b[0;34m=\u001b[0m \u001b[0mfunc\u001b[0m\u001b[0;34m(\u001b[0m\u001b[0;34m*\u001b[0m\u001b[0margs\u001b[0m\u001b[0;34m,\u001b[0m \u001b[0;34m**\u001b[0m\u001b[0mkwargs\u001b[0m\u001b[0;34m)\u001b[0m\u001b[0;34m\u001b[0m\u001b[0;34m\u001b[0m\u001b[0m\n\u001b[0m\u001b[1;32m     97\u001b[0m                 \u001b[0;32mreturn\u001b[0m \u001b[0mretval\u001b[0m\u001b[0;34m\u001b[0m\u001b[0;34m\u001b[0m\u001b[0m\n\u001b[1;32m     98\u001b[0m \u001b[0;34m\u001b[0m\u001b[0m\n",
      "\u001b[0;32m~/.local/lib/python3.6/site-packages/sympy/core/operations.py\u001b[0m in \u001b[0;36m__new__\u001b[0;34m(cls, *args, **options)\u001b[0m\n\u001b[1;32m     50\u001b[0m             \u001b[0;32mreturn\u001b[0m \u001b[0margs\u001b[0m\u001b[0;34m[\u001b[0m\u001b[0;36m0\u001b[0m\u001b[0;34m]\u001b[0m\u001b[0;34m\u001b[0m\u001b[0;34m\u001b[0m\u001b[0m\n\u001b[1;32m     51\u001b[0m \u001b[0;34m\u001b[0m\u001b[0m\n\u001b[0;32m---> 52\u001b[0;31m         \u001b[0mc_part\u001b[0m\u001b[0;34m,\u001b[0m \u001b[0mnc_part\u001b[0m\u001b[0;34m,\u001b[0m \u001b[0morder_symbols\u001b[0m \u001b[0;34m=\u001b[0m \u001b[0mcls\u001b[0m\u001b[0;34m.\u001b[0m\u001b[0mflatten\u001b[0m\u001b[0;34m(\u001b[0m\u001b[0margs\u001b[0m\u001b[0;34m)\u001b[0m\u001b[0;34m\u001b[0m\u001b[0;34m\u001b[0m\u001b[0m\n\u001b[0m\u001b[1;32m     53\u001b[0m         \u001b[0mis_commutative\u001b[0m \u001b[0;34m=\u001b[0m \u001b[0;32mnot\u001b[0m \u001b[0mnc_part\u001b[0m\u001b[0;34m\u001b[0m\u001b[0;34m\u001b[0m\u001b[0m\n\u001b[1;32m     54\u001b[0m         \u001b[0mobj\u001b[0m \u001b[0;34m=\u001b[0m \u001b[0mcls\u001b[0m\u001b[0;34m.\u001b[0m\u001b[0m_from_args\u001b[0m\u001b[0;34m(\u001b[0m\u001b[0mc_part\u001b[0m \u001b[0;34m+\u001b[0m \u001b[0mnc_part\u001b[0m\u001b[0;34m,\u001b[0m \u001b[0mis_commutative\u001b[0m\u001b[0;34m)\u001b[0m\u001b[0;34m\u001b[0m\u001b[0;34m\u001b[0m\u001b[0m\n",
      "\u001b[0;32m~/.local/lib/python3.6/site-packages/sympy/core/add.py\u001b[0m in \u001b[0;36mflatten\u001b[0;34m(cls, seq)\u001b[0m\n\u001b[1;32m    197\u001b[0m             \u001b[0;31m# let's collect terms with the same s, so e.g.\u001b[0m\u001b[0;34m\u001b[0m\u001b[0;34m\u001b[0m\u001b[0;34m\u001b[0m\u001b[0m\n\u001b[1;32m    198\u001b[0m             \u001b[0;31m# 2*x**2 + 3*x**2  ->  5*x**2\u001b[0m\u001b[0;34m\u001b[0m\u001b[0;34m\u001b[0m\u001b[0;34m\u001b[0m\u001b[0m\n\u001b[0;32m--> 199\u001b[0;31m             \u001b[0;32mif\u001b[0m \u001b[0ms\u001b[0m \u001b[0;32min\u001b[0m \u001b[0mterms\u001b[0m\u001b[0;34m:\u001b[0m\u001b[0;34m\u001b[0m\u001b[0;34m\u001b[0m\u001b[0m\n\u001b[0m\u001b[1;32m    200\u001b[0m                 \u001b[0mterms\u001b[0m\u001b[0;34m[\u001b[0m\u001b[0ms\u001b[0m\u001b[0;34m]\u001b[0m \u001b[0;34m+=\u001b[0m \u001b[0mc\u001b[0m\u001b[0;34m\u001b[0m\u001b[0;34m\u001b[0m\u001b[0m\n\u001b[1;32m    201\u001b[0m                 \u001b[0;32mif\u001b[0m \u001b[0mterms\u001b[0m\u001b[0;34m[\u001b[0m\u001b[0ms\u001b[0m\u001b[0;34m]\u001b[0m \u001b[0;32mis\u001b[0m \u001b[0mS\u001b[0m\u001b[0;34m.\u001b[0m\u001b[0mNaN\u001b[0m \u001b[0;32mand\u001b[0m \u001b[0;32mnot\u001b[0m \u001b[0mextra\u001b[0m\u001b[0;34m:\u001b[0m\u001b[0;34m\u001b[0m\u001b[0;34m\u001b[0m\u001b[0m\n",
      "\u001b[0;32m~/.local/lib/python3.6/site-packages/sympy/core/expr.py\u001b[0m in \u001b[0;36m__hash__\u001b[0;34m(self)\u001b[0m\n\u001b[1;32m    109\u001b[0m         \u001b[0mh\u001b[0m \u001b[0;34m=\u001b[0m \u001b[0mself\u001b[0m\u001b[0;34m.\u001b[0m\u001b[0m_mhash\u001b[0m\u001b[0;34m\u001b[0m\u001b[0;34m\u001b[0m\u001b[0m\n\u001b[1;32m    110\u001b[0m         \u001b[0;32mif\u001b[0m \u001b[0mh\u001b[0m \u001b[0;32mis\u001b[0m \u001b[0;32mNone\u001b[0m\u001b[0;34m:\u001b[0m\u001b[0;34m\u001b[0m\u001b[0;34m\u001b[0m\u001b[0m\n\u001b[0;32m--> 111\u001b[0;31m             \u001b[0mh\u001b[0m \u001b[0;34m=\u001b[0m \u001b[0mhash\u001b[0m\u001b[0;34m(\u001b[0m\u001b[0;34m(\u001b[0m\u001b[0mtype\u001b[0m\u001b[0;34m(\u001b[0m\u001b[0mself\u001b[0m\u001b[0;34m)\u001b[0m\u001b[0;34m.\u001b[0m\u001b[0m__name__\u001b[0m\u001b[0;34m,\u001b[0m\u001b[0;34m)\u001b[0m \u001b[0;34m+\u001b[0m \u001b[0mself\u001b[0m\u001b[0;34m.\u001b[0m\u001b[0m_hashable_content\u001b[0m\u001b[0;34m(\u001b[0m\u001b[0;34m)\u001b[0m\u001b[0;34m)\u001b[0m\u001b[0;34m\u001b[0m\u001b[0;34m\u001b[0m\u001b[0m\n\u001b[0m\u001b[1;32m    112\u001b[0m             \u001b[0mself\u001b[0m\u001b[0;34m.\u001b[0m\u001b[0m_mhash\u001b[0m \u001b[0;34m=\u001b[0m \u001b[0mh\u001b[0m\u001b[0;34m\u001b[0m\u001b[0;34m\u001b[0m\u001b[0m\n\u001b[1;32m    113\u001b[0m         \u001b[0;32mreturn\u001b[0m \u001b[0mh\u001b[0m\u001b[0;34m\u001b[0m\u001b[0;34m\u001b[0m\u001b[0m\n",
      "\u001b[0;31mTypeError\u001b[0m: unhashable type: 'list'"
     ]
    }
   ],
   "source": [
    "PoissonBracket(Operator(\"I\")+Operator(\"G\"),Operator(\"H\"),x,px).expand(commutator=True)"
   ]
  },
  {
   "cell_type": "code",
   "execution_count": 248,
   "metadata": {},
   "outputs": [
    {
     "name": "stdout",
     "output_type": "stream",
     "text": [
      "[] [G]\n",
      "[] [H]\n",
      "[] [H]\n",
      "[] [I]\n"
     ]
    },
    {
     "ename": "SympifyError",
     "evalue": "SympifyError: [[G,H], -[H,I]]",
     "output_type": "error",
     "traceback": [
      "\u001b[0;31m----------------------------------------------\u001b[0m",
      "\u001b[0;31mTypeError\u001b[0m    Traceback (most recent call last)",
      "\u001b[0;32m~/.local/lib/python3.6/site-packages/sympy/core/cache.py\u001b[0m in \u001b[0;36mwrapper\u001b[0;34m(*args, **kwargs)\u001b[0m\n\u001b[1;32m     93\u001b[0m                 \u001b[0;32mtry\u001b[0m\u001b[0;34m:\u001b[0m\u001b[0;34m\u001b[0m\u001b[0;34m\u001b[0m\u001b[0m\n\u001b[0;32m---> 94\u001b[0;31m                     \u001b[0mretval\u001b[0m \u001b[0;34m=\u001b[0m \u001b[0mcfunc\u001b[0m\u001b[0;34m(\u001b[0m\u001b[0;34m*\u001b[0m\u001b[0margs\u001b[0m\u001b[0;34m,\u001b[0m \u001b[0;34m**\u001b[0m\u001b[0mkwargs\u001b[0m\u001b[0;34m)\u001b[0m\u001b[0;34m\u001b[0m\u001b[0;34m\u001b[0m\u001b[0m\n\u001b[0m\u001b[1;32m     95\u001b[0m                 \u001b[0;32mexcept\u001b[0m \u001b[0mTypeError\u001b[0m\u001b[0;34m:\u001b[0m\u001b[0;34m\u001b[0m\u001b[0;34m\u001b[0m\u001b[0m\n",
      "\u001b[0;31mTypeError\u001b[0m: unhashable type: 'list'",
      "\nDuring handling of the above exception, another exception occurred:\n",
      "\u001b[0;31mSympifyError\u001b[0m Traceback (most recent call last)",
      "\u001b[0;32m<ipython-input-248-747fcfb602c1>\u001b[0m in \u001b[0;36m<module>\u001b[0;34m\u001b[0m\n\u001b[0;32m----> 1\u001b[0;31m \u001b[0mAdd\u001b[0m\u001b[0;34m(\u001b[0m\u001b[0;34m[\u001b[0m\u001b[0mPoissonBracket\u001b[0m\u001b[0;34m(\u001b[0m\u001b[0mOperator\u001b[0m\u001b[0;34m(\u001b[0m\u001b[0;34m\"G\"\u001b[0m\u001b[0;34m)\u001b[0m\u001b[0;34m,\u001b[0m\u001b[0mOperator\u001b[0m\u001b[0;34m(\u001b[0m\u001b[0;34m\"H\"\u001b[0m\u001b[0;34m)\u001b[0m\u001b[0;34m,\u001b[0m\u001b[0mx\u001b[0m\u001b[0;34m,\u001b[0m\u001b[0mpx\u001b[0m\u001b[0;34m)\u001b[0m\u001b[0;34m,\u001b[0m \u001b[0;34m-\u001b[0m\u001b[0mPoissonBracket\u001b[0m\u001b[0;34m(\u001b[0m\u001b[0mOperator\u001b[0m\u001b[0;34m(\u001b[0m\u001b[0;34m\"H\"\u001b[0m\u001b[0;34m)\u001b[0m\u001b[0;34m,\u001b[0m\u001b[0mOperator\u001b[0m\u001b[0;34m(\u001b[0m\u001b[0;34m\"I\"\u001b[0m\u001b[0;34m)\u001b[0m\u001b[0;34m,\u001b[0m\u001b[0mx\u001b[0m\u001b[0;34m,\u001b[0m\u001b[0mpx\u001b[0m\u001b[0;34m)\u001b[0m\u001b[0;34m]\u001b[0m\u001b[0;34m)\u001b[0m\u001b[0;34m\u001b[0m\u001b[0;34m\u001b[0m\u001b[0m\n\u001b[0m",
      "\u001b[0;32m~/.local/lib/python3.6/site-packages/sympy/core/cache.py\u001b[0m in \u001b[0;36mwrapper\u001b[0;34m(*args, **kwargs)\u001b[0m\n\u001b[1;32m     94\u001b[0m                     \u001b[0mretval\u001b[0m \u001b[0;34m=\u001b[0m \u001b[0mcfunc\u001b[0m\u001b[0;34m(\u001b[0m\u001b[0;34m*\u001b[0m\u001b[0margs\u001b[0m\u001b[0;34m,\u001b[0m \u001b[0;34m**\u001b[0m\u001b[0mkwargs\u001b[0m\u001b[0;34m)\u001b[0m\u001b[0;34m\u001b[0m\u001b[0;34m\u001b[0m\u001b[0m\n\u001b[1;32m     95\u001b[0m                 \u001b[0;32mexcept\u001b[0m \u001b[0mTypeError\u001b[0m\u001b[0;34m:\u001b[0m\u001b[0;34m\u001b[0m\u001b[0;34m\u001b[0m\u001b[0m\n\u001b[0;32m---> 96\u001b[0;31m                     \u001b[0mretval\u001b[0m \u001b[0;34m=\u001b[0m \u001b[0mfunc\u001b[0m\u001b[0;34m(\u001b[0m\u001b[0;34m*\u001b[0m\u001b[0margs\u001b[0m\u001b[0;34m,\u001b[0m \u001b[0;34m**\u001b[0m\u001b[0mkwargs\u001b[0m\u001b[0;34m)\u001b[0m\u001b[0;34m\u001b[0m\u001b[0;34m\u001b[0m\u001b[0m\n\u001b[0m\u001b[1;32m     97\u001b[0m                 \u001b[0;32mreturn\u001b[0m \u001b[0mretval\u001b[0m\u001b[0;34m\u001b[0m\u001b[0;34m\u001b[0m\u001b[0m\n\u001b[1;32m     98\u001b[0m \u001b[0;34m\u001b[0m\u001b[0m\n",
      "\u001b[0;32m~/.local/lib/python3.6/site-packages/sympy/core/operations.py\u001b[0m in \u001b[0;36m__new__\u001b[0;34m(cls, *args, **options)\u001b[0m\n\u001b[1;32m     29\u001b[0m     \u001b[0;32mdef\u001b[0m \u001b[0m__new__\u001b[0m\u001b[0;34m(\u001b[0m\u001b[0mcls\u001b[0m\u001b[0;34m,\u001b[0m \u001b[0;34m*\u001b[0m\u001b[0margs\u001b[0m\u001b[0;34m,\u001b[0m \u001b[0;34m**\u001b[0m\u001b[0moptions\u001b[0m\u001b[0;34m)\u001b[0m\u001b[0;34m:\u001b[0m\u001b[0;34m\u001b[0m\u001b[0;34m\u001b[0m\u001b[0m\n\u001b[1;32m     30\u001b[0m         \u001b[0;32mfrom\u001b[0m \u001b[0msympy\u001b[0m \u001b[0;32mimport\u001b[0m \u001b[0mOrder\u001b[0m\u001b[0;34m\u001b[0m\u001b[0;34m\u001b[0m\u001b[0m\n\u001b[0;32m---> 31\u001b[0;31m         \u001b[0margs\u001b[0m \u001b[0;34m=\u001b[0m \u001b[0mlist\u001b[0m\u001b[0;34m(\u001b[0m\u001b[0mmap\u001b[0m\u001b[0;34m(\u001b[0m\u001b[0m_sympify\u001b[0m\u001b[0;34m,\u001b[0m \u001b[0margs\u001b[0m\u001b[0;34m)\u001b[0m\u001b[0;34m)\u001b[0m\u001b[0;34m\u001b[0m\u001b[0;34m\u001b[0m\u001b[0m\n\u001b[0m\u001b[1;32m     32\u001b[0m         \u001b[0margs\u001b[0m \u001b[0;34m=\u001b[0m \u001b[0;34m[\u001b[0m\u001b[0ma\u001b[0m \u001b[0;32mfor\u001b[0m \u001b[0ma\u001b[0m \u001b[0;32min\u001b[0m \u001b[0margs\u001b[0m \u001b[0;32mif\u001b[0m \u001b[0ma\u001b[0m \u001b[0;32mis\u001b[0m \u001b[0;32mnot\u001b[0m \u001b[0mcls\u001b[0m\u001b[0;34m.\u001b[0m\u001b[0midentity\u001b[0m\u001b[0;34m]\u001b[0m\u001b[0;34m\u001b[0m\u001b[0;34m\u001b[0m\u001b[0m\n\u001b[1;32m     33\u001b[0m \u001b[0;34m\u001b[0m\u001b[0m\n",
      "\u001b[0;32m~/.local/lib/python3.6/site-packages/sympy/core/sympify.py\u001b[0m in \u001b[0;36m_sympify\u001b[0;34m(a)\u001b[0m\n\u001b[1;32m    437\u001b[0m \u001b[0;34m\u001b[0m\u001b[0m\n\u001b[1;32m    438\u001b[0m     \"\"\"\n\u001b[0;32m--> 439\u001b[0;31m     \u001b[0;32mreturn\u001b[0m \u001b[0msympify\u001b[0m\u001b[0;34m(\u001b[0m\u001b[0ma\u001b[0m\u001b[0;34m,\u001b[0m \u001b[0mstrict\u001b[0m\u001b[0;34m=\u001b[0m\u001b[0;32mTrue\u001b[0m\u001b[0;34m)\u001b[0m\u001b[0;34m\u001b[0m\u001b[0;34m\u001b[0m\u001b[0m\n\u001b[0m\u001b[1;32m    440\u001b[0m \u001b[0;34m\u001b[0m\u001b[0m\n\u001b[1;32m    441\u001b[0m \u001b[0;34m\u001b[0m\u001b[0m\n",
      "\u001b[0;32m~/.local/lib/python3.6/site-packages/sympy/core/sympify.py\u001b[0m in \u001b[0;36msympify\u001b[0;34m(a, locals, convert_xor, strict, rational, evaluate)\u001b[0m\n\u001b[1;32m    358\u001b[0m \u001b[0;34m\u001b[0m\u001b[0m\n\u001b[1;32m    359\u001b[0m     \u001b[0;32mif\u001b[0m \u001b[0mstrict\u001b[0m\u001b[0;34m:\u001b[0m\u001b[0;34m\u001b[0m\u001b[0;34m\u001b[0m\u001b[0m\n\u001b[0;32m--> 360\u001b[0;31m         \u001b[0;32mraise\u001b[0m \u001b[0mSympifyError\u001b[0m\u001b[0;34m(\u001b[0m\u001b[0ma\u001b[0m\u001b[0;34m)\u001b[0m\u001b[0;34m\u001b[0m\u001b[0;34m\u001b[0m\u001b[0m\n\u001b[0m\u001b[1;32m    361\u001b[0m \u001b[0;34m\u001b[0m\u001b[0m\n\u001b[1;32m    362\u001b[0m     \u001b[0;32mif\u001b[0m \u001b[0miterable\u001b[0m\u001b[0;34m(\u001b[0m\u001b[0ma\u001b[0m\u001b[0;34m)\u001b[0m\u001b[0;34m:\u001b[0m\u001b[0;34m\u001b[0m\u001b[0;34m\u001b[0m\u001b[0m\n",
      "\u001b[0;31mSympifyError\u001b[0m: SympifyError: [[G,H], -[H,I]]"
     ]
    }
   ],
   "source": [
    "Add([PoissonBracket(Operator(\"G\"),Operator(\"H\"),x,px), -PoissonBracket(Operator(\"H\"),Operator(\"I\"),x,px)])"
   ]
  },
  {
   "cell_type": "code",
   "execution_count": 236,
   "metadata": {},
   "outputs": [
    {
     "name": "stdout",
     "output_type": "stream",
     "text": [
      "[] [A(x, p_x)]\n",
      "[] [B(x, p_x)]\n"
     ]
    }
   ],
   "source": [
    "C = PoissonBracket(A,B,x,px)"
   ]
  },
  {
   "cell_type": "code",
   "execution_count": 237,
   "metadata": {},
   "outputs": [
    {
     "data": {
      "image/png": "[encoded data removed]",
      "text/latex": [
       "$\\displaystyle \\lbrace A{\\left(x,p_{x} \\right)},B{\\left(x,p_{x} \\right)}\\rbrace$"
      ],
      "text/plain": [
       "[A(x, pₓ),B(x, pₓ)]"
      ]
     },
     "execution_count": 237,
     "metadata": {},
     "output_type": "execute_result"
    }
   ],
   "source": [
    "C"
   ]
  },
  {
   "cell_type": "code",
   "execution_count": 238,
   "metadata": {},
   "outputs": [
    {
     "data": {
      "image/png": "[encoded data removed]",
      "text/latex": [
       "$\\displaystyle - \\frac{\\partial}{\\partial p_{x}} A{\\left(x,p_{x} \\right)} \\frac{\\partial}{\\partial x} B{\\left(x,p_{x} \\right)} + \\frac{\\partial}{\\partial x} A{\\left(x,p_{x} \\right)} \\frac{\\partial}{\\partial p_{x}} B{\\left(x,p_{x} \\right)}$"
      ],
      "text/plain": [
       "   ∂            ∂              ∂             ∂           \n",
       "- ───(A(x, pₓ))⋅──(B(x, pₓ)) + ──(A(x, pₓ))⋅───(B(x, pₓ))\n",
       "  ∂pₓ           ∂x             ∂x           ∂pₓ          "
      ]
     },
     "execution_count": 238,
     "metadata": {},
     "output_type": "execute_result"
    }
   ],
   "source": [
    "C.doit()"
   ]
  },
  {
   "cell_type": "code",
   "execution_count": 239,
   "metadata": {},
   "outputs": [
    {
     "name": "stdout",
     "output_type": "stream",
     "text": [
      "[3, x] [A(x, p_x)]\n",
      "[x, y] [B(x, p_x)]\n",
      "[] [A(x, p_x)]\n",
      "[] [B(x, p_x)]\n"
     ]
    },
    {
     "data": {
      "image/png": "[encoded data removed]",
      "text/latex": [
       "$\\displaystyle 3 x^{2} y \\lbrace A{\\left(x,p_{x} \\right)},B{\\left(x,p_{x} \\right)}\\rbrace$"
      ],
      "text/plain": [
       "   2                      \n",
       "3⋅x ⋅y⋅[A(x, pₓ),B(x, pₓ)]"
      ]
     },
     "execution_count": 239,
     "metadata": {},
     "output_type": "execute_result"
    }
   ],
   "source": [
    "PoissonBracket(3*x*A,x*y*B,x,px)"
   ]
  },
  {
   "cell_type": "code",
   "execution_count": 240,
   "metadata": {},
   "outputs": [],
   "source": [
    "D= Function(\"D\",commutative=False)(x,px)"
   ]
  },
  {
   "cell_type": "code",
   "execution_count": 241,
   "metadata": {},
   "outputs": [
    {
     "name": "stdout",
     "output_type": "stream",
     "text": [
      "[] [A(x, p_x) + D(x, p_x)]\n",
      "[] [B(x, p_x)]\n",
      "[] [A(x, p_x)]\n",
      "[] [B(x, p_x)]\n",
      "[A(x, p_x),B(x, p_x)]\n",
      "[] [D(x, p_x)]\n",
      "[] [B(x, p_x)]\n",
      "[] [B(x, p_x)]\n",
      "[] [D(x, p_x)]\n",
      "-[B(x, p_x),D(x, p_x)]\n",
      "[[A(x, p_x),B(x, p_x)], -[B(x, p_x),D(x, p_x)]]\n"
     ]
    },
    {
     "ename": "TypeError",
     "evalue": "unhashable type: 'list'",
     "output_type": "error",
     "traceback": [
      "\u001b[0;31m----------------------------------------------\u001b[0m",
      "\u001b[0;31mTypeError\u001b[0m    Traceback (most recent call last)",
      "\u001b[0;32m~/.local/lib/python3.6/site-packages/sympy/core/cache.py\u001b[0m in \u001b[0;36mwrapper\u001b[0;34m(*args, **kwargs)\u001b[0m\n\u001b[1;32m     93\u001b[0m                 \u001b[0;32mtry\u001b[0m\u001b[0;34m:\u001b[0m\u001b[0;34m\u001b[0m\u001b[0;34m\u001b[0m\u001b[0m\n\u001b[0;32m---> 94\u001b[0;31m                     \u001b[0mretval\u001b[0m \u001b[0;34m=\u001b[0m \u001b[0mcfunc\u001b[0m\u001b[0;34m(\u001b[0m\u001b[0;34m*\u001b[0m\u001b[0margs\u001b[0m\u001b[0;34m,\u001b[0m \u001b[0;34m**\u001b[0m\u001b[0mkwargs\u001b[0m\u001b[0;34m)\u001b[0m\u001b[0;34m\u001b[0m\u001b[0;34m\u001b[0m\u001b[0m\n\u001b[0m\u001b[1;32m     95\u001b[0m                 \u001b[0;32mexcept\u001b[0m \u001b[0mTypeError\u001b[0m\u001b[0;34m:\u001b[0m\u001b[0;34m\u001b[0m\u001b[0;34m\u001b[0m\u001b[0m\n",
      "\u001b[0;32m~/.local/lib/python3.6/site-packages/sympy/core/expr.py\u001b[0m in \u001b[0;36m__hash__\u001b[0;34m(self)\u001b[0m\n\u001b[1;32m    110\u001b[0m         \u001b[0;32mif\u001b[0m \u001b[0mh\u001b[0m \u001b[0;32mis\u001b[0m \u001b[0;32mNone\u001b[0m\u001b[0;34m:\u001b[0m\u001b[0;34m\u001b[0m\u001b[0;34m\u001b[0m\u001b[0m\n\u001b[0;32m--> 111\u001b[0;31m             \u001b[0mh\u001b[0m \u001b[0;34m=\u001b[0m \u001b[0mhash\u001b[0m\u001b[0;34m(\u001b[0m\u001b[0;34m(\u001b[0m\u001b[0mtype\u001b[0m\u001b[0;34m(\u001b[0m\u001b[0mself\u001b[0m\u001b[0;34m)\u001b[0m\u001b[0;34m.\u001b[0m\u001b[0m__name__\u001b[0m\u001b[0;34m,\u001b[0m\u001b[0;34m)\u001b[0m \u001b[0;34m+\u001b[0m \u001b[0mself\u001b[0m\u001b[0;34m.\u001b[0m\u001b[0m_hashable_content\u001b[0m\u001b[0;34m(\u001b[0m\u001b[0;34m)\u001b[0m\u001b[0;34m)\u001b[0m\u001b[0;34m\u001b[0m\u001b[0;34m\u001b[0m\u001b[0m\n\u001b[0m\u001b[1;32m    112\u001b[0m             \u001b[0mself\u001b[0m\u001b[0;34m.\u001b[0m\u001b[0m_mhash\u001b[0m \u001b[0;34m=\u001b[0m \u001b[0mh\u001b[0m\u001b[0;34m\u001b[0m\u001b[0;34m\u001b[0m\u001b[0m\n",
      "\u001b[0;31mTypeError\u001b[0m: unhashable type: 'list'",
      "\nDuring handling of the above exception, another exception occurred:\n",
      "\u001b[0;31mTypeError\u001b[0m    Traceback (most recent call last)",
      "\u001b[0;32m~/.local/lib/python3.6/site-packages/sympy/core/cache.py\u001b[0m in \u001b[0;36mwrapper\u001b[0;34m(*args, **kwargs)\u001b[0m\n\u001b[1;32m     93\u001b[0m                 \u001b[0;32mtry\u001b[0m\u001b[0;34m:\u001b[0m\u001b[0;34m\u001b[0m\u001b[0;34m\u001b[0m\u001b[0m\n\u001b[0;32m---> 94\u001b[0;31m                     \u001b[0mretval\u001b[0m \u001b[0;34m=\u001b[0m \u001b[0mcfunc\u001b[0m\u001b[0;34m(\u001b[0m\u001b[0;34m*\u001b[0m\u001b[0margs\u001b[0m\u001b[0;34m,\u001b[0m \u001b[0;34m**\u001b[0m\u001b[0mkwargs\u001b[0m\u001b[0;34m)\u001b[0m\u001b[0;34m\u001b[0m\u001b[0;34m\u001b[0m\u001b[0m\n\u001b[0m\u001b[1;32m     95\u001b[0m                 \u001b[0;32mexcept\u001b[0m \u001b[0mTypeError\u001b[0m\u001b[0;34m:\u001b[0m\u001b[0;34m\u001b[0m\u001b[0;34m\u001b[0m\u001b[0m\n",
      "\u001b[0;32m~/.local/lib/python3.6/site-packages/sympy/core/expr.py\u001b[0m in \u001b[0;36m__hash__\u001b[0;34m(self)\u001b[0m\n\u001b[1;32m    110\u001b[0m         \u001b[0;32mif\u001b[0m \u001b[0mh\u001b[0m \u001b[0;32mis\u001b[0m \u001b[0;32mNone\u001b[0m\u001b[0;34m:\u001b[0m\u001b[0;34m\u001b[0m\u001b[0;34m\u001b[0m\u001b[0m\n\u001b[0;32m--> 111\u001b[0;31m             \u001b[0mh\u001b[0m \u001b[0;34m=\u001b[0m \u001b[0mhash\u001b[0m\u001b[0;34m(\u001b[0m\u001b[0;34m(\u001b[0m\u001b[0mtype\u001b[0m\u001b[0;34m(\u001b[0m\u001b[0mself\u001b[0m\u001b[0;34m)\u001b[0m\u001b[0;34m.\u001b[0m\u001b[0m__name__\u001b[0m\u001b[0;34m,\u001b[0m\u001b[0;34m)\u001b[0m \u001b[0;34m+\u001b[0m \u001b[0mself\u001b[0m\u001b[0;34m.\u001b[0m\u001b[0m_hashable_content\u001b[0m\u001b[0;34m(\u001b[0m\u001b[0;34m)\u001b[0m\u001b[0;34m)\u001b[0m\u001b[0;34m\u001b[0m\u001b[0;34m\u001b[0m\u001b[0m\n\u001b[0m\u001b[1;32m    112\u001b[0m             \u001b[0mself\u001b[0m\u001b[0;34m.\u001b[0m\u001b[0m_mhash\u001b[0m \u001b[0;34m=\u001b[0m \u001b[0mh\u001b[0m\u001b[0;34m\u001b[0m\u001b[0;34m\u001b[0m\u001b[0m\n",
      "\u001b[0;31mTypeError\u001b[0m: unhashable type: 'list'",
      "\nDuring handling of the above exception, another exception occurred:\n",
      "\u001b[0;31mTypeError\u001b[0m    Traceback (most recent call last)",
      "\u001b[0;32m<ipython-input-241-7c4d47aea776>\u001b[0m in \u001b[0;36m<module>\u001b[0;34m\u001b[0m\n\u001b[0;32m----> 1\u001b[0;31m \u001b[0mPoissonBracket\u001b[0m\u001b[0;34m(\u001b[0m\u001b[0mD\u001b[0m\u001b[0;34m+\u001b[0m\u001b[0mA\u001b[0m\u001b[0;34m,\u001b[0m\u001b[0mB\u001b[0m\u001b[0;34m,\u001b[0m\u001b[0mx\u001b[0m\u001b[0;34m,\u001b[0m\u001b[0mpx\u001b[0m\u001b[0;34m)\u001b[0m\u001b[0;34m.\u001b[0m\u001b[0mexpand\u001b[0m\u001b[0;34m(\u001b[0m\u001b[0mcommutator\u001b[0m\u001b[0;34m=\u001b[0m\u001b[0;32mTrue\u001b[0m\u001b[0;34m)\u001b[0m\u001b[0;34m\u001b[0m\u001b[0;34m\u001b[0m\u001b[0m\n\u001b[0m",
      "\u001b[0;32m~/.local/lib/python3.6/site-packages/sympy/core/cache.py\u001b[0m in \u001b[0;36mwrapper\u001b[0;34m(*args, **kwargs)\u001b[0m\n\u001b[1;32m     94\u001b[0m                     \u001b[0mretval\u001b[0m \u001b[0;34m=\u001b[0m \u001b[0mcfunc\u001b[0m\u001b[0;34m(\u001b[0m\u001b[0;34m*\u001b[0m\u001b[0margs\u001b[0m\u001b[0;34m,\u001b[0m \u001b[0;34m**\u001b[0m\u001b[0mkwargs\u001b[0m\u001b[0;34m)\u001b[0m\u001b[0;34m\u001b[0m\u001b[0;34m\u001b[0m\u001b[0m\n\u001b[1;32m     95\u001b[0m                 \u001b[0;32mexcept\u001b[0m \u001b[0mTypeError\u001b[0m\u001b[0;34m:\u001b[0m\u001b[0;34m\u001b[0m\u001b[0;34m\u001b[0m\u001b[0m\n\u001b[0;32m---> 96\u001b[0;31m                     \u001b[0mretval\u001b[0m \u001b[0;34m=\u001b[0m \u001b[0mfunc\u001b[0m\u001b[0;34m(\u001b[0m\u001b[0;34m*\u001b[0m\u001b[0margs\u001b[0m\u001b[0;34m,\u001b[0m \u001b[0;34m**\u001b[0m\u001b[0mkwargs\u001b[0m\u001b[0;34m)\u001b[0m\u001b[0;34m\u001b[0m\u001b[0;34m\u001b[0m\u001b[0m\n\u001b[0m\u001b[1;32m     97\u001b[0m                 \u001b[0;32mreturn\u001b[0m \u001b[0mretval\u001b[0m\u001b[0;34m\u001b[0m\u001b[0;34m\u001b[0m\u001b[0m\n\u001b[1;32m     98\u001b[0m \u001b[0;34m\u001b[0m\u001b[0m\n",
      "\u001b[0;32m~/.local/lib/python3.6/site-packages/sympy/core/expr.py\u001b[0m in \u001b[0;36mexpand\u001b[0;34m(self, deep, modulus, power_base, power_exp, mul, log, multinomial, basic, **hints)\u001b[0m\n\u001b[1;32m   3481\u001b[0m             \u001b[0;32mif\u001b[0m \u001b[0muse_hint\u001b[0m\u001b[0;34m:\u001b[0m\u001b[0;34m\u001b[0m\u001b[0;34m\u001b[0m\u001b[0m\n\u001b[1;32m   3482\u001b[0m                 \u001b[0mhint\u001b[0m \u001b[0;34m=\u001b[0m \u001b[0;34m'_eval_expand_'\u001b[0m \u001b[0;34m+\u001b[0m \u001b[0mhint\u001b[0m\u001b[0;34m\u001b[0m\u001b[0;34m\u001b[0m\u001b[0m\n\u001b[0;32m-> 3483\u001b[0;31m                 \u001b[0mexpr\u001b[0m\u001b[0;34m,\u001b[0m \u001b[0mhit\u001b[0m \u001b[0;34m=\u001b[0m \u001b[0mExpr\u001b[0m\u001b[0;34m.\u001b[0m\u001b[0m_expand_hint\u001b[0m\u001b[0;34m(\u001b[0m\u001b[0mexpr\u001b[0m\u001b[0;34m,\u001b[0m \u001b[0mhint\u001b[0m\u001b[0;34m,\u001b[0m \u001b[0mdeep\u001b[0m\u001b[0;34m=\u001b[0m\u001b[0mdeep\u001b[0m\u001b[0;34m,\u001b[0m \u001b[0;34m**\u001b[0m\u001b[0mhints\u001b[0m\u001b[0;34m)\u001b[0m\u001b[0;34m\u001b[0m\u001b[0;34m\u001b[0m\u001b[0m\n\u001b[0m\u001b[1;32m   3484\u001b[0m \u001b[0;34m\u001b[0m\u001b[0m\n\u001b[1;32m   3485\u001b[0m         \u001b[0;32mwhile\u001b[0m \u001b[0;32mTrue\u001b[0m\u001b[0;34m:\u001b[0m\u001b[0;34m\u001b[0m\u001b[0;34m\u001b[0m\u001b[0m\n",
      "\u001b[0;32m~/.local/lib/python3.6/site-packages/sympy/core/expr.py\u001b[0m in \u001b[0;36m_expand_hint\u001b[0;34m(expr, hint, deep, **hints)\u001b[0m\n\u001b[1;32m   3422\u001b[0m \u001b[0;34m\u001b[0m\u001b[0m\n\u001b[1;32m   3423\u001b[0m         \u001b[0;32mif\u001b[0m \u001b[0mhasattr\u001b[0m\u001b[0;34m(\u001b[0m\u001b[0mexpr\u001b[0m\u001b[0;34m,\u001b[0m \u001b[0mhint\u001b[0m\u001b[0;34m)\u001b[0m\u001b[0;34m:\u001b[0m\u001b[0;34m\u001b[0m\u001b[0;34m\u001b[0m\u001b[0m\n\u001b[0;32m-> 3424\u001b[0;31m             \u001b[0mnewexpr\u001b[0m \u001b[0;34m=\u001b[0m \u001b[0mgetattr\u001b[0m\u001b[0;34m(\u001b[0m\u001b[0mexpr\u001b[0m\u001b[0;34m,\u001b[0m \u001b[0mhint\u001b[0m\u001b[0;34m)\u001b[0m\u001b[0;34m(\u001b[0m\u001b[0;34m**\u001b[0m\u001b[0mhints\u001b[0m\u001b[0;34m)\u001b[0m\u001b[0;34m\u001b[0m\u001b[0;34m\u001b[0m\u001b[0m\n\u001b[0m\u001b[1;32m   3425\u001b[0m             \u001b[0;32mif\u001b[0m \u001b[0mnewexpr\u001b[0m \u001b[0;34m!=\u001b[0m \u001b[0mexpr\u001b[0m\u001b[0;34m:\u001b[0m\u001b[0;34m\u001b[0m\u001b[0;34m\u001b[0m\u001b[0m\n\u001b[1;32m   3426\u001b[0m                 \u001b[0;32mreturn\u001b[0m \u001b[0;34m(\u001b[0m\u001b[0mnewexpr\u001b[0m\u001b[0;34m,\u001b[0m \u001b[0;32mTrue\u001b[0m\u001b[0;34m)\u001b[0m\u001b[0;34m\u001b[0m\u001b[0;34m\u001b[0m\u001b[0m\n",
      "\u001b[0;32m<ipython-input-234-4e949727ecf9>\u001b[0m in \u001b[0;36m_eval_expand_commutator\u001b[0;34m(self, **hints)\u001b[0m\n\u001b[1;32m    117\u001b[0m                 \u001b[0msargs\u001b[0m\u001b[0;34m.\u001b[0m\u001b[0mappend\u001b[0m\u001b[0;34m(\u001b[0m\u001b[0mcomm\u001b[0m\u001b[0;34m)\u001b[0m\u001b[0;34m\u001b[0m\u001b[0;34m\u001b[0m\u001b[0m\n\u001b[1;32m    118\u001b[0m             \u001b[0mprint\u001b[0m\u001b[0;34m(\u001b[0m\u001b[0msargs\u001b[0m\u001b[0;34m)\u001b[0m\u001b[0;34m\u001b[0m\u001b[0;34m\u001b[0m\u001b[0m\n\u001b[0;32m--> 119\u001b[0;31m             \u001b[0;32mreturn\u001b[0m \u001b[0mAdd\u001b[0m\u001b[0;34m(\u001b[0m\u001b[0;34m*\u001b[0m\u001b[0msargs\u001b[0m\u001b[0;34m)\u001b[0m\u001b[0;34m\u001b[0m\u001b[0;34m\u001b[0m\u001b[0m\n\u001b[0m\u001b[1;32m    120\u001b[0m         \u001b[0;32melif\u001b[0m \u001b[0misinstance\u001b[0m\u001b[0;34m(\u001b[0m\u001b[0mB\u001b[0m\u001b[0;34m,\u001b[0m \u001b[0mAdd\u001b[0m\u001b[0;34m)\u001b[0m\u001b[0;34m:\u001b[0m\u001b[0;34m\u001b[0m\u001b[0;34m\u001b[0m\u001b[0m\n\u001b[1;32m    121\u001b[0m             \u001b[0;31m# [A, B + C]  ->  [A, B] + [A, C]\u001b[0m\u001b[0;34m\u001b[0m\u001b[0;34m\u001b[0m\u001b[0;34m\u001b[0m\u001b[0m\n",
      "\u001b[0;32m~/.local/lib/python3.6/site-packages/sympy/core/cache.py\u001b[0m in \u001b[0;36mwrapper\u001b[0;34m(*args, **kwargs)\u001b[0m\n\u001b[1;32m     94\u001b[0m                     \u001b[0mretval\u001b[0m \u001b[0;34m=\u001b[0m \u001b[0mcfunc\u001b[0m\u001b[0;34m(\u001b[0m\u001b[0;34m*\u001b[0m\u001b[0margs\u001b[0m\u001b[0;34m,\u001b[0m \u001b[0;34m**\u001b[0m\u001b[0mkwargs\u001b[0m\u001b[0;34m)\u001b[0m\u001b[0;34m\u001b[0m\u001b[0;34m\u001b[0m\u001b[0m\n\u001b[1;32m     95\u001b[0m                 \u001b[0;32mexcept\u001b[0m \u001b[0mTypeError\u001b[0m\u001b[0;34m:\u001b[0m\u001b[0;34m\u001b[0m\u001b[0;34m\u001b[0m\u001b[0m\n\u001b[0;32m---> 96\u001b[0;31m                     \u001b[0mretval\u001b[0m \u001b[0;34m=\u001b[0m \u001b[0mfunc\u001b[0m\u001b[0;34m(\u001b[0m\u001b[0;34m*\u001b[0m\u001b[0margs\u001b[0m\u001b[0;34m,\u001b[0m \u001b[0;34m**\u001b[0m\u001b[0mkwargs\u001b[0m\u001b[0;34m)\u001b[0m\u001b[0;34m\u001b[0m\u001b[0;34m\u001b[0m\u001b[0m\n\u001b[0m\u001b[1;32m     97\u001b[0m                 \u001b[0;32mreturn\u001b[0m \u001b[0mretval\u001b[0m\u001b[0;34m\u001b[0m\u001b[0;34m\u001b[0m\u001b[0m\n\u001b[1;32m     98\u001b[0m \u001b[0;34m\u001b[0m\u001b[0m\n",
      "\u001b[0;32m~/.local/lib/python3.6/site-packages/sympy/core/operations.py\u001b[0m in \u001b[0;36m__new__\u001b[0;34m(cls, *args, **options)\u001b[0m\n\u001b[1;32m     50\u001b[0m             \u001b[0;32mreturn\u001b[0m \u001b[0margs\u001b[0m\u001b[0;34m[\u001b[0m\u001b[0;36m0\u001b[0m\u001b[0;34m]\u001b[0m\u001b[0;34m\u001b[0m\u001b[0;34m\u001b[0m\u001b[0m\n\u001b[1;32m     51\u001b[0m \u001b[0;34m\u001b[0m\u001b[0m\n\u001b[0;32m---> 52\u001b[0;31m         \u001b[0mc_part\u001b[0m\u001b[0;34m,\u001b[0m \u001b[0mnc_part\u001b[0m\u001b[0;34m,\u001b[0m \u001b[0morder_symbols\u001b[0m \u001b[0;34m=\u001b[0m \u001b[0mcls\u001b[0m\u001b[0;34m.\u001b[0m\u001b[0mflatten\u001b[0m\u001b[0;34m(\u001b[0m\u001b[0margs\u001b[0m\u001b[0;34m)\u001b[0m\u001b[0;34m\u001b[0m\u001b[0;34m\u001b[0m\u001b[0m\n\u001b[0m\u001b[1;32m     53\u001b[0m         \u001b[0mis_commutative\u001b[0m \u001b[0;34m=\u001b[0m \u001b[0;32mnot\u001b[0m \u001b[0mnc_part\u001b[0m\u001b[0;34m\u001b[0m\u001b[0;34m\u001b[0m\u001b[0m\n\u001b[1;32m     54\u001b[0m         \u001b[0mobj\u001b[0m \u001b[0;34m=\u001b[0m \u001b[0mcls\u001b[0m\u001b[0;34m.\u001b[0m\u001b[0m_from_args\u001b[0m\u001b[0;34m(\u001b[0m\u001b[0mc_part\u001b[0m \u001b[0;34m+\u001b[0m \u001b[0mnc_part\u001b[0m\u001b[0;34m,\u001b[0m \u001b[0mis_commutative\u001b[0m\u001b[0;34m)\u001b[0m\u001b[0;34m\u001b[0m\u001b[0;34m\u001b[0m\u001b[0m\n",
      "\u001b[0;32m~/.local/lib/python3.6/site-packages/sympy/core/add.py\u001b[0m in \u001b[0;36mflatten\u001b[0;34m(cls, seq)\u001b[0m\n\u001b[1;32m    197\u001b[0m             \u001b[0;31m# let's collect terms with the same s, so e.g.\u001b[0m\u001b[0;34m\u001b[0m\u001b[0;34m\u001b[0m\u001b[0;34m\u001b[0m\u001b[0m\n\u001b[1;32m    198\u001b[0m             \u001b[0;31m# 2*x**2 + 3*x**2  ->  5*x**2\u001b[0m\u001b[0;34m\u001b[0m\u001b[0;34m\u001b[0m\u001b[0;34m\u001b[0m\u001b[0m\n\u001b[0;32m--> 199\u001b[0;31m             \u001b[0;32mif\u001b[0m \u001b[0ms\u001b[0m \u001b[0;32min\u001b[0m \u001b[0mterms\u001b[0m\u001b[0;34m:\u001b[0m\u001b[0;34m\u001b[0m\u001b[0;34m\u001b[0m\u001b[0m\n\u001b[0m\u001b[1;32m    200\u001b[0m                 \u001b[0mterms\u001b[0m\u001b[0;34m[\u001b[0m\u001b[0ms\u001b[0m\u001b[0;34m]\u001b[0m \u001b[0;34m+=\u001b[0m \u001b[0mc\u001b[0m\u001b[0;34m\u001b[0m\u001b[0;34m\u001b[0m\u001b[0m\n\u001b[1;32m    201\u001b[0m                 \u001b[0;32mif\u001b[0m \u001b[0mterms\u001b[0m\u001b[0;34m[\u001b[0m\u001b[0ms\u001b[0m\u001b[0;34m]\u001b[0m \u001b[0;32mis\u001b[0m \u001b[0mS\u001b[0m\u001b[0;34m.\u001b[0m\u001b[0mNaN\u001b[0m \u001b[0;32mand\u001b[0m \u001b[0;32mnot\u001b[0m \u001b[0mextra\u001b[0m\u001b[0;34m:\u001b[0m\u001b[0;34m\u001b[0m\u001b[0;34m\u001b[0m\u001b[0m\n",
      "\u001b[0;32m~/.local/lib/python3.6/site-packages/sympy/core/expr.py\u001b[0m in \u001b[0;36m__hash__\u001b[0;34m(self)\u001b[0m\n\u001b[1;32m    109\u001b[0m         \u001b[0mh\u001b[0m \u001b[0;34m=\u001b[0m \u001b[0mself\u001b[0m\u001b[0;34m.\u001b[0m\u001b[0m_mhash\u001b[0m\u001b[0;34m\u001b[0m\u001b[0;34m\u001b[0m\u001b[0m\n\u001b[1;32m    110\u001b[0m         \u001b[0;32mif\u001b[0m \u001b[0mh\u001b[0m \u001b[0;32mis\u001b[0m \u001b[0;32mNone\u001b[0m\u001b[0;34m:\u001b[0m\u001b[0;34m\u001b[0m\u001b[0;34m\u001b[0m\u001b[0m\n\u001b[0;32m--> 111\u001b[0;31m             \u001b[0mh\u001b[0m \u001b[0;34m=\u001b[0m \u001b[0mhash\u001b[0m\u001b[0;34m(\u001b[0m\u001b[0;34m(\u001b[0m\u001b[0mtype\u001b[0m\u001b[0;34m(\u001b[0m\u001b[0mself\u001b[0m\u001b[0;34m)\u001b[0m\u001b[0;34m.\u001b[0m\u001b[0m__name__\u001b[0m\u001b[0;34m,\u001b[0m\u001b[0;34m)\u001b[0m \u001b[0;34m+\u001b[0m \u001b[0mself\u001b[0m\u001b[0;34m.\u001b[0m\u001b[0m_hashable_content\u001b[0m\u001b[0;34m(\u001b[0m\u001b[0;34m)\u001b[0m\u001b[0;34m)\u001b[0m\u001b[0;34m\u001b[0m\u001b[0;34m\u001b[0m\u001b[0m\n\u001b[0m\u001b[1;32m    112\u001b[0m             \u001b[0mself\u001b[0m\u001b[0;34m.\u001b[0m\u001b[0m_mhash\u001b[0m \u001b[0;34m=\u001b[0m \u001b[0mh\u001b[0m\u001b[0;34m\u001b[0m\u001b[0;34m\u001b[0m\u001b[0m\n\u001b[1;32m    113\u001b[0m         \u001b[0;32mreturn\u001b[0m \u001b[0mh\u001b[0m\u001b[0;34m\u001b[0m\u001b[0;34m\u001b[0m\u001b[0m\n",
      "\u001b[0;31mTypeError\u001b[0m: unhashable type: 'list'"
     ]
    }
   ],
   "source": [
    "PoissonBracket(D+A,B,x,px).expand(commutator=True)"
   ]
  },
  {
   "cell_type": "code",
   "execution_count": null,
   "metadata": {},
   "outputs": [],
   "source": []
  }
 ],
 "metadata": {
  "kernelspec": {
   "display_name": "Python 3",
   "language": "python",
   "name": "python3"
  },
  "language_info": {
   "codemirror_mode": {
    "name": "ipython",
    "version": 3
   },
   "file_extension": ".py",
   "mimetype": "text/x-python",
   "name": "python",
   "nbconvert_exporter": "python",
   "pygments_lexer": "ipython3",
   "version": "3.6.10"
  }
 },
 "nbformat": 4,
 "nbformat_minor": 4
}
