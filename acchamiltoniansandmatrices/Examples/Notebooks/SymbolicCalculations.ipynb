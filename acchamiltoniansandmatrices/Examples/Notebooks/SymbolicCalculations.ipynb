{
 "cells": [
  {
   "cell_type": "code",
   "execution_count": 1,
   "metadata": {},
   "outputs": [
    {
     "data": {
      "text/html": [
       "<style>.container { width:90% !important; }</style>"
      ],
      "text/plain": [
       "<IPython.core.display.HTML object>"
      ]
     },
     "metadata": {},
     "output_type": "display_data"
    }
   ],
   "source": [
    "from IPython.core.display import display, HTML\n",
    "display(HTML(\"<style>.container { width:90% !important; }</style>\"))"
   ]
  },
  {
   "cell_type": "code",
   "execution_count": 2,
   "metadata": {},
   "outputs": [],
   "source": [
    "%load_ext autoreload\n",
    "%autoreload 2"
   ]
  },
  {
   "cell_type": "code",
   "execution_count": 3,
   "metadata": {},
   "outputs": [],
   "source": [
    "from sympy import (\n",
    "    Derivative, \n",
    "    S, \n",
    "    Symbol, \n",
    "    series, \n",
    "    sqrt, \n",
    "    symbols, \n",
    "    oo, \n",
    "    limit, \n",
    "    Rational, \n",
    "    cos, \n",
    "    sin, \n",
    "    cosh, \n",
    "    sinh, \n",
    "    Matrix, \n",
    "    simplify, \n",
    "    latex, \n",
    "    lambdify,\n",
    "    Function,\n",
    "    collect\n",
    ")\n",
    "import numpy as np\n",
    "from sympy import init_printing\n",
    "init_printing() \n",
    "\n",
    "from sympy.printing.latex import print_latex\n",
    "from matplotlib import pyplot as plt\n",
    "from mpl_toolkits.mplot3d import axes3d\n",
    "import matplotlib.pyplot as plt\n",
    "from matplotlib import cm\n",
    "%matplotlib notebook"
   ]
  },
  {
   "cell_type": "code",
   "execution_count": 4,
   "metadata": {},
   "outputs": [],
   "source": [
    "from acchamiltoniansandmatrices.Matrices.SymbMatrices import (\n",
    "    RsymbFODO, \n",
    "    RsymbDrift6D, \n",
    "    RsymbQuad6D, \n",
    "    RsymbQuad6DChroma, \n",
    "    RsymbQuad6DThin\n",
    ")\n",
    "from acchamiltoniansandmatrices.Matrices.NumpyMatrices import (\n",
    "    RnpFODO, \n",
    "    RnpDrift6D, \n",
    "    RnpQuad6D, \n",
    "    RnpQuad6DChroma, \n",
    "    RnpQuad6DThin\n",
    ")\n",
    "from acchamiltoniansandmatrices.Hamiltonians.LatticeElementHamiltonians import (\n",
    "    HamDrift6D, \n",
    "    HamDrift6DParaxialSecondOrder, \n",
    "    HamQuad6D, \n",
    "    HamQuad6DParaxialSecondOrder, \n",
    "    HamQuad6DParaxialSecondOrderChroma,\n",
    ")\n",
    "from acchamiltoniansandmatrices.Hamiltonians.Operators import Poisson\n",
    "from acchamiltoniansandmatrices.Tracking.LinearMatrixTracking import nestList, LinMap, GenerateNDimCoordinateGrid\n",
    "from acchamiltoniansandmatrices.LieMaps.LieOperator import LieOperator\n",
    "from acchamiltoniansandmatrices.LieMaps.Poisson import PoissonBracket"
   ]
  },
  {
   "cell_type": "code",
   "execution_count": 5,
   "metadata": {},
   "outputs": [],
   "source": [
    "x, px, y, py, z, delta, eps, h , k0, k1, k2, sigma, betag ,f = symbols('x p_x y p_y z delta epsilon h k_0 k_1 k_2 sigma beta_gamma f', real=True)\n",
    "L, beta0, gamma0 = symbols(\" L beta_0 gamma_0\", real=True, positive=True)"
   ]
  },
  {
   "cell_type": "markdown",
   "metadata": {},
   "source": [
    "# Introduction"
   ]
  },
  {
   "cell_type": "markdown",
   "metadata": {},
   "source": [
    "Before starting the effective calculations we give a short introduction to the package that takes care of the sympy implementation of the Poisson Bracket and the Lie Operator."
   ]
  },
  {
   "cell_type": "markdown",
   "metadata": {},
   "source": [
    "## Defining generic Functions"
   ]
  },
  {
   "cell_type": "code",
   "execution_count": 6,
   "metadata": {},
   "outputs": [],
   "source": [
    "A = Function(\"A\", commutative=False)(x,px)\n",
    "B = Function(\"B\", commutative=False)(x,px)\n",
    "C = Function(\"C\", commutative=False)(x,px)\n",
    "D = Function(\"D\", commutative=False)(x,px)\n",
    "E = Function(\"E\", commutative=False)(x,px)"
   ]
  },
  {
   "cell_type": "markdown",
   "metadata": {},
   "source": [
    "## Defining Lie Operators"
   ]
  },
  {
   "cell_type": "code",
   "execution_count": 7,
   "metadata": {},
   "outputs": [],
   "source": [
    "Aop = LieOperator(A,x,px)\n",
    "Bop = LieOperator(B,x,px)\n",
    "Cop = LieOperator(C,x,px)"
   ]
  },
  {
   "cell_type": "markdown",
   "metadata": {},
   "source": [
    "## Basics"
   ]
  },
  {
   "cell_type": "code",
   "execution_count": 8,
   "metadata": {},
   "outputs": [
    {
     "data": {
      "image/png": "[encoded data removed]",
      "text/latex": [
       "$\\displaystyle e^{:A:}$"
      ],
      "text/plain": [
       "LieOperator(A(x, p_x), [x], [p_x])"
      ]
     },
     "execution_count": 8,
     "metadata": {},
     "output_type": "execute_result"
    }
   ],
   "source": [
    "Aop"
   ]
  },
  {
   "cell_type": "code",
   "execution_count": 9,
   "metadata": {},
   "outputs": [
    {
     "data": {
      "image/png": "[encoded data removed]",
      "text/latex": [
       "$\\displaystyle e^{:A+B:}$"
      ],
      "text/plain": [
       "LieOperator(A(x, p_x) + B(x, p_x), [x], [p_x])"
      ]
     },
     "execution_count": 9,
     "metadata": {},
     "output_type": "execute_result"
    }
   ],
   "source": [
    "Aop.BCH(Bop,1)"
   ]
  },
  {
   "cell_type": "code",
   "execution_count": 10,
   "metadata": {},
   "outputs": [
    {
     "data": {
      "image/png": "[encoded data removed]",
      "text/latex": [
       "$\\displaystyle e^{:A+B + \\frac{\\lbrace A,B \\rbrace }{2}:}$"
      ],
      "text/plain": [
       "LieOperator(A(x, p_x) + B(x, p_x) + PoissonBracket(A(x, p_x), B(x, p_x))/2, [x\n",
       "], [p_x])"
      ]
     },
     "execution_count": 10,
     "metadata": {},
     "output_type": "execute_result"
    }
   ],
   "source": [
    "Aop.BCH(Bop,2)"
   ]
  },
  {
   "cell_type": "code",
   "execution_count": 11,
   "metadata": {},
   "outputs": [
    {
     "data": {
      "image/png": "[encoded data removed]",
      "text/latex": [
       "$\\displaystyle e^{:A+B + \\frac{\\lbrace A,B \\rbrace }{2} + \\frac{\\lbrace A,\\lbrace A,B \\rbrace  \\rbrace }{12} - \\frac{\\lbrace - \\lbrace A,B \\rbrace ,B \\rbrace }{12}:}$"
      ],
      "text/plain": [
       "LieOperator(A(x, p_x) + B(x, p_x) + PoissonBracket(A(x, p_x), B(x, p_x))/2 + P\n",
       "oissonBracket(A(x, p_x), PoissonBracket(A(x, p_x), B(x, p_x)))/12 - PoissonBra\n",
       "cket(-PoissonBracket(A(x, p_x), B(x, p_x)), B(x, p_x))/12, [x], [p_x])"
      ]
     },
     "execution_count": 11,
     "metadata": {},
     "output_type": "execute_result"
    }
   ],
   "source": [
    "Aop.BCH(Bop,3)"
   ]
  },
  {
   "cell_type": "code",
   "execution_count": 12,
   "metadata": {},
   "outputs": [
    {
     "data": {
      "image/png": "[encoded data removed]",
      "text/latex": [
       "$\\displaystyle e^{:A+B + \\frac{\\lbrace A,B \\rbrace }{2} + \\frac{\\lbrace A,\\lbrace A,B \\rbrace  \\rbrace }{12} - \\frac{\\lbrace B,\\lbrace A,\\lbrace A,B \\rbrace  \\rbrace  \\rbrace }{24} - \\frac{\\lbrace - \\lbrace A,B \\rbrace ,B \\rbrace }{12}:}$"
      ],
      "text/plain": [
       "LieOperator(A(x, p_x) + B(x, p_x) + PoissonBracket(A(x, p_x), B(x, p_x))/2 + P\n",
       "oissonBracket(A(x, p_x), PoissonBracket(A(x, p_x), B(x, p_x)))/12 - PoissonBra\n",
       "cket(B(x, p_x), PoissonBracket(A(x, p_x), PoissonBracket(A(x, p_x), B(x, p_x))\n",
       "))/24 - PoissonBracket(-PoissonBracket(A(x, p_x), B(x, p_x)), B(x, p_x))/12, [\n",
       "x], [p_x])"
      ]
     },
     "execution_count": 12,
     "metadata": {},
     "output_type": "execute_result"
    }
   ],
   "source": [
    "Aop.BCH(Bop,4)"
   ]
  },
  {
   "cell_type": "markdown",
   "metadata": {},
   "source": [
    "**Side note on displaying of expressions:**\n",
    "\n",
    "The package still fails to print the first two arguments without the variables when displaying the Hamiltonian. The underlying cause is that these arguments are not custom defined, like the PoissonBracket, but native sympy objects. Due to this the lowest end of the recursive printing depends on the native implementation for these object. I did not figure out yet how to override these methods from within the custom classes."
   ]
  },
  {
   "cell_type": "code",
   "execution_count": 13,
   "metadata": {
    "scrolled": false
   },
   "outputs": [
    {
     "data": {
      "image/png": "[encoded data removed]",
      "text/latex": [
       "$\\displaystyle A{\\left(x,p_{x} \\right)} + B{\\left(x,p_{x} \\right)} + \\frac{\\lbrace A,B \\rbrace }{2} + \\frac{\\lbrace A,\\lbrace A,B \\rbrace  \\rbrace }{12} - \\frac{\\lbrace B,\\lbrace A,\\lbrace A,B \\rbrace  \\rbrace  \\rbrace }{24} - \\frac{\\lbrace - \\lbrace A,B \\rbrace ,B \\rbrace }{12}$"
      ],
      "text/plain": [
       "                      PoissonBracket(A(x, p_x), B(x, p_x))   PoissonBracket(A(\n",
       "A(x, pₓ) + B(x, pₓ) + ──────────────────────────────────── + ─────────────────\n",
       "                                       2                                      \n",
       "\n",
       "x, p_x), PoissonBracket(A(x, p_x), B(x, p_x)))   PoissonBracket(B(x, p_x), Poi\n",
       "────────────────────────────────────────────── - ─────────────────────────────\n",
       "              12                                                              \n",
       "\n",
       "ssonBracket(A(x, p_x), PoissonBracket(A(x, p_x), B(x, p_x))))   PoissonBracket\n",
       "───────────────────────────────────────────────────────────── - ──────────────\n",
       "               24                                                             \n",
       "\n",
       "(-PoissonBracket(A(x, p_x), B(x, p_x)), B(x, p_x))\n",
       "──────────────────────────────────────────────────\n",
       "                 12                               "
      ]
     },
     "execution_count": 13,
     "metadata": {},
     "output_type": "execute_result"
    }
   ],
   "source": [
    "Aop.BCH(Bop,4).ham"
   ]
  },
  {
   "cell_type": "code",
   "execution_count": 14,
   "metadata": {},
   "outputs": [
    {
     "data": {
      "image/png": "[encoded data removed]",
      "text/latex": [
       "$\\displaystyle A{\\left(x,p_{x} \\right)} + B{\\left(x,p_{x} \\right)} + \\frac{\\lbrace A,B \\rbrace }{2} + \\frac{\\lbrace A,\\lbrace A,B \\rbrace  \\rbrace }{12} - \\frac{\\lbrace B,\\lbrace A,B \\rbrace  \\rbrace }{12} - \\frac{\\lbrace B,\\lbrace A,\\lbrace A,B \\rbrace  \\rbrace  \\rbrace }{24}$"
      ],
      "text/plain": [
       "                      PoissonBracket(A(x, p_x), B(x, p_x))   PoissonBracket(A(\n",
       "A(x, pₓ) + B(x, pₓ) + ──────────────────────────────────── + ─────────────────\n",
       "                                       2                                      \n",
       "\n",
       "x, p_x), PoissonBracket(A(x, p_x), B(x, p_x)))   PoissonBracket(B(x, p_x), Poi\n",
       "────────────────────────────────────────────── - ─────────────────────────────\n",
       "              12                                                              \n",
       "\n",
       "ssonBracket(A(x, p_x), B(x, p_x)))   PoissonBracket(B(x, p_x), PoissonBracket(\n",
       "────────────────────────────────── - ─────────────────────────────────────────\n",
       "  12                                                                          \n",
       "\n",
       "A(x, p_x), PoissonBracket(A(x, p_x), B(x, p_x))))\n",
       "─────────────────────────────────────────────────\n",
       "   24                                            "
      ]
     },
     "execution_count": 14,
     "metadata": {},
     "output_type": "execute_result"
    }
   ],
   "source": [
    "Aop.BCH(Bop,4).ham.expand(commutator=True)"
   ]
  },
  {
   "cell_type": "markdown",
   "metadata": {},
   "source": [
    "# General"
   ]
  },
  {
   "cell_type": "markdown",
   "metadata": {},
   "source": [
    "We  start by considering the following lattice:\n",
    "$$A-B-C-D-E$$\n",
    "where A,B,C,D,E are generic lattice elements and we consider the beam coming from the left (this important for the ordering of the operators).\n",
    "\n",
    "The corresponding Lie map is given by:\n",
    "$$e^{A}e^{B}e^{C}e^{D}e^{E}$$\n",
    "and after the correct coordinate transformations this becomes:\n",
    "$$e^{E}e^{D}e^{C}e^{B}e^{A}$$\n",
    "\n",
    "The operators A,..,E in the exponents need to be combined using the BCH formula. Doing this order by order, where with order we mean the number of iterative Poisson brackets and not the order of the resulting polynomial in the independent coordinates, we get:\n",
    "$$H_0 = A +B + C + D + E$$\n",
    "\n",
    "For the higher orders we go step by step. Let us start by first having a look at $H_1$ for the first three elements."
   ]
  },
  {
   "cell_type": "code",
   "execution_count": 15,
   "metadata": {},
   "outputs": [
    {
     "data": {
      "image/png": "[encoded data removed]",
      "text/latex": [
       "$\\displaystyle A{\\left(x,p_{x} \\right)} + B{\\left(x,p_{x} \\right)} + C{\\left(x,p_{x} \\right)} + \\frac{\\lbrace \\frac{\\lbrace A,B \\rbrace }{2} + A + B,C \\rbrace }{2} + \\frac{\\lbrace A,B \\rbrace }{2}$"
      ],
      "text/plain": [
       "                                 PoissonBracket(A(x, p_x) + B(x, p_x) + Poisso\n",
       "A(x, pₓ) + B(x, pₓ) + C(x, pₓ) + ─────────────────────────────────────────────\n",
       "                                                                             2\n",
       "\n",
       "nBracket(A(x, p_x), B(x, p_x))/2, C(x, p_x))   PoissonBracket(A(x, p_x), B(x, \n",
       "──────────────────────────────────────────── + ───────────────────────────────\n",
       "                                                                2             \n",
       "\n",
       "p_x))\n",
       "─────\n",
       "     "
      ]
     },
     "execution_count": 15,
     "metadata": {},
     "output_type": "execute_result"
    }
   ],
   "source": [
    "Aop.BCH(Bop,2).BCH(Cop,2).ham"
   ]
  },
  {
   "cell_type": "markdown",
   "metadata": {},
   "source": [
    "Let us clean this up a bit by expanding the Poisson Brackets."
   ]
  },
  {
   "cell_type": "code",
   "execution_count": 16,
   "metadata": {},
   "outputs": [
    {
     "data": {
      "image/png": "[encoded data removed]",
      "text/latex": [
       "$\\displaystyle A{\\left(x,p_{x} \\right)} + B{\\left(x,p_{x} \\right)} + C{\\left(x,p_{x} \\right)} + \\frac{\\lbrace A,B \\rbrace }{2} + \\frac{\\lbrace A,C \\rbrace }{2} + \\frac{\\lbrace B,C \\rbrace }{2} - \\frac{\\lbrace C,\\lbrace A,B \\rbrace  \\rbrace }{4}$"
      ],
      "text/plain": [
       "                                 PoissonBracket(A(x, p_x), B(x, p_x))   Poisso\n",
       "A(x, pₓ) + B(x, pₓ) + C(x, pₓ) + ──────────────────────────────────── + ──────\n",
       "                                                  2                           \n",
       "\n",
       "nBracket(A(x, p_x), C(x, p_x))   PoissonBracket(B(x, p_x), C(x, p_x))   Poisso\n",
       "────────────────────────────── + ──────────────────────────────────── - ──────\n",
       "           2                                      2                           \n",
       "\n",
       "nBracket(C(x, p_x), PoissonBracket(A(x, p_x), B(x, p_x)))\n",
       "─────────────────────────────────────────────────────────\n",
       "                         4                               "
      ]
     },
     "execution_count": 16,
     "metadata": {},
     "output_type": "execute_result"
    }
   ],
   "source": [
    "Aop.BCH(Bop,2).BCH(Cop,2).ham.expand(commutator=True)"
   ]
  },
  {
   "cell_type": "markdown",
   "metadata": {},
   "source": [
    "One can immediately see the effect of the BCH formula, making things very complicated very quickly. \n",
    "\n",
    "An interesting question to ask is what happens if $C=A$."
   ]
  },
  {
   "cell_type": "code",
   "execution_count": 17,
   "metadata": {},
   "outputs": [
    {
     "data": {
      "image/png": "[encoded data removed]",
      "text/latex": [
       "$\\displaystyle 2 A{\\left(x,p_{x} \\right)} + B{\\left(x,p_{x} \\right)} - \\frac{\\lbrace A,\\lbrace A,B \\rbrace  \\rbrace }{4}$"
      ],
      "text/plain": [
       "                        PoissonBracket(A(x, p_x), PoissonBracket(A(x, p_x), B(\n",
       "2⋅A(x, pₓ) + B(x, pₓ) - ──────────────────────────────────────────────────────\n",
       "                                                       4                      \n",
       "\n",
       "x, p_x)))\n",
       "─────────\n",
       "         "
      ]
     },
     "execution_count": 17,
     "metadata": {},
     "output_type": "execute_result"
    }
   ],
   "source": [
    "Aop.BCH(Bop,2).BCH(Cop,2).ham.expand(commutator=True).subs(C,A)"
   ]
  },
  {
   "cell_type": "markdown",
   "metadata": {},
   "source": [
    "**The terms with a single Poisson bracket have been canceled out!**\n",
    "\n",
    "Let us now break the symmetry lightly and assume that $C = A + \\delta A$."
   ]
  },
  {
   "cell_type": "code",
   "execution_count": 24,
   "metadata": {},
   "outputs": [
    {
     "data": {
      "image/png": "[encoded data removed]",
      "text/latex": [
       "$\\displaystyle \\delta A{\\left(x,p_{x} \\right)}$"
      ],
      "text/plain": [
       "\\delta A(x, pₓ)"
      ]
     },
     "execution_count": 24,
     "metadata": {},
     "output_type": "execute_result"
    }
   ],
   "source": [
    "da = Function(\"\\delta A\", commutative=False)(x,px)\n",
    "da"
   ]
  },
  {
   "cell_type": "code",
   "execution_count": 26,
   "metadata": {},
   "outputs": [
    {
     "data": {
      "image/png": "[encoded data removed]",
      "text/latex": [
       "$\\displaystyle 2 A{\\left(x,p_{x} \\right)} + B{\\left(x,p_{x} \\right)} + \\delta A{\\left(x,p_{x} \\right)} + \\frac{\\lbrace A,\\delta A \\rbrace }{2} - \\frac{\\lbrace A,\\lbrace A,B \\rbrace  \\rbrace }{4} + \\frac{\\lbrace B,\\delta A \\rbrace }{2} + \\frac{\\lbrace \\lbrace A,B \\rbrace ,\\delta A \\rbrace }{4}$"
      ],
      "text/plain": [
       "                                          PoissonBracket(A(x, p_x), \\delta A(x\n",
       "2⋅A(x, pₓ) + B(x, pₓ) + \\delta A(x, pₓ) + ────────────────────────────────────\n",
       "                                                               2              \n",
       "\n",
       ", p_x))   PoissonBracket(A(x, p_x), PoissonBracket(A(x, p_x), B(x, p_x)))   Po\n",
       "─────── - ─────────────────────────────────────────────────────────────── + ──\n",
       "                                         4                                    \n",
       "\n",
       "issonBracket(B(x, p_x), \\delta A(x, p_x))   PoissonBracket(PoissonBracket(A(x,\n",
       "───────────────────────────────────────── + ──────────────────────────────────\n",
       "                   2                                                          \n",
       "\n",
       " p_x), B(x, p_x)), \\delta A(x, p_x))\n",
       "────────────────────────────────────\n",
       "4                                   "
      ]
     },
     "execution_count": 26,
     "metadata": {},
     "output_type": "execute_result"
    }
   ],
   "source": [
    "Aop.BCH(Bop,2).BCH(Cop,2).ham.expand(commutator=True).subs(C,A+da).expand(commutator=True)"
   ]
  },
  {
   "cell_type": "markdown",
   "metadata": {},
   "source": [
    "Slightly breaking the symmetry between the elements $A$ and $C$ immediately introduces new terms\n",
    "in the Hamiltonian:\n",
    "$$2 A{\\left(x,p_{x} \\right)} + B{\\left(x,p_{x} \\right)} + \\delta A{\\left(x,p_{x} \\right)} + \n",
    "\\underbrace{\\color{blue}{\\frac{\\lbrace A,\\delta A \\rbrace }{2}}}_{\\color{red}{\\text{SB1}}} \n",
    "- \\frac{\\lbrace A,\\lbrace A,B \\rbrace  \\rbrace }{4} \n",
    "+ \\underbrace{\\color{blue}{\\frac{\\lbrace B,\\delta A \\rbrace }{2}}}_{\\color{red}{\\text{SB2}}}  + \\frac{\\lbrace \\lbrace A,B \\rbrace ,\\delta A \\rbrace }{4}$$\n",
    "where SB stands for Symmetry Breaking. Note that these terms are directly proportional to the amount of symmetry breaking."
   ]
  },
  {
   "cell_type": "code",
   "execution_count": 27,
   "metadata": {},
   "outputs": [
    {
     "name": "stdout",
     "output_type": "stream",
     "text": [
      "2 A{\\left(x,p_{x} \\right)} + B{\\left(x,p_{x} \\right)} + \\delta A{\\left(x,p_{x} \\right)} + \\frac{\\lbrace A,\\delta A \\rbrace }{2} - \\frac{\\lbrace A,\\lbrace A,B \\rbrace  \\rbrace }{4} + \\frac{\\lbrace B,\\delta A \\rbrace }{2} + \\frac{\\lbrace \\lbrace A,B \\rbrace ,\\delta A \\rbrace }{4}\n"
     ]
    }
   ],
   "source": [
    "print_latex(Aop.BCH(Bop,2).BCH(Cop,2).ham.expand(commutator=True).subs(C,A+da).expand(commutator=True))"
   ]
  },
  {
   "cell_type": "code",
   "execution_count": null,
   "metadata": {},
   "outputs": [],
   "source": []
  }
 ],
 "metadata": {
  "kernelspec": {
   "display_name": "Python 3",
   "language": "python",
   "name": "python3"
  },
  "language_info": {
   "codemirror_mode": {
    "name": "ipython",
    "version": 3
   },
   "file_extension": ".py",
   "mimetype": "text/x-python",
   "name": "python",
   "nbconvert_exporter": "python",
   "pygments_lexer": "ipython3",
   "version": "3.6.10"
  }
 },
 "nbformat": 4,
 "nbformat_minor": 4
}
