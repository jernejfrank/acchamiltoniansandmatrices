{
 "cells": [
  {
   "cell_type": "code",
   "execution_count": 1,
   "metadata": {},
   "outputs": [
    {
     "data": {
      "text/html": [
       "<style>.container { width:90% !important; }</style>"
      ],
      "text/plain": [
       "<IPython.core.display.HTML object>"
      ]
     },
     "metadata": {},
     "output_type": "display_data"
    }
   ],
   "source": [
    "from IPython.core.display import display, HTML\n",
    "display(HTML(\"<style>.container { width:90% !important; }</style>\"))"
   ]
  },
  {
   "cell_type": "code",
   "execution_count": 2,
   "metadata": {},
   "outputs": [],
   "source": [
    "from sympy import Derivative, S, Symbol, series, sqrt, symbols, oo, limit, Rational, cos, sin, cosh, sinh, Matrix, simplify, latex, lambdify\n",
    "import numpy as np\n",
    "from sympy import init_printing\n",
    "init_printing() \n",
    "\n",
    "from matplotlib import pyplot as plt\n",
    "from mpl_toolkits.mplot3d import axes3d\n",
    "import matplotlib.pyplot as plt\n",
    "from matplotlib import cm\n",
    "%matplotlib notebook"
   ]
  },
  {
   "cell_type": "code",
   "execution_count": 3,
   "metadata": {},
   "outputs": [],
   "source": [
    "from acchamiltoniansandmatrices.Matrices.SymbMatrices import (\n",
    "    RsymbFODO, \n",
    "    RsymbDrift6D, \n",
    "    RsymbQuad6D, \n",
    "    RsymbQuad6DChroma, \n",
    "    RsymbQuad6DThin\n",
    ")\n",
    "from acchamiltoniansandmatrices.Matrices.NumpyMatrices import (\n",
    "    RnpFODO, \n",
    "    RnpDrift6D, \n",
    "    RnpQuad6D, \n",
    "    RnpQuad6DChroma, \n",
    "    RnpQuad6DThin\n",
    ")\n",
    "from acchamiltoniansandmatrices.Hamiltonians.LatticeElementHamiltonians import (\n",
    "    HamDrift6D, \n",
    "    HamDrift6DParaxialSecondOrder, \n",
    "    HamQuad6D, \n",
    "    HamQuad6DParaxialSecondOrder, \n",
    "    HamQuad6DParaxialSecondOrderChroma,\n",
    ")\n",
    "from acchamiltoniansandmatrices.Hamiltonians.Operators import Poisson\n",
    "from acchamiltoniansandmatrices.Tracking.LinearMatrixTracking import nestList, LinMap, GenerateNDimCoordinateGrid"
   ]
  },
  {
   "cell_type": "code",
   "execution_count": 4,
   "metadata": {},
   "outputs": [],
   "source": [
    "x, px, y, py, z, delta, eps, h , k0, k1, k2, sigma, betag ,f = symbols('x p_x y p_y z delta epsilon h k_0 k_1 k_2 sigma beta_gamma f', real=True)\n",
    "L, beta0, gamma0 = symbols(\" L beta_0 gamma_0\", real=True, positive=True)"
   ]
  },
  {
   "cell_type": "markdown",
   "metadata": {},
   "source": [
    "# General"
   ]
  },
  {
   "cell_type": "markdown",
   "metadata": {},
   "source": [
    "We  start by considering the following lattice:\n",
    "$$A-B-C-D-E$$\n",
    "where A,B,C,D,E are generic lattice elements and we consider the beam coming from the left (this important for the ordering of the operators).\n",
    "\n",
    "The corresponding Lie map is given by:\n",
    "$$e^{A}e^{B}e^{C}e^{D}e^{E}$$\n",
    "and after the correct coordinate transformations this becomes:\n",
    "$$e^{E}e^{D}e^{C}e^{B}e^{A}$$\n",
    "\n",
    "The operators A,..,E in the exponents need to be combined using the BCH formula. Doing this order by order, where with order we mean the number of iterative Poisson brackets and not the order of the resulting polynomial in the independent coordinates, we get:\n",
    "$$H_0 = A +B + C + D + E$$"
   ]
  },
  {
   "cell_type": "code",
   "execution_count": null,
   "metadata": {},
   "outputs": [],
   "source": []
  }
 ],
 "metadata": {
  "kernelspec": {
   "display_name": "Python 3",
   "language": "python",
   "name": "python3"
  },
  "language_info": {
   "codemirror_mode": {
    "name": "ipython",
    "version": 3
   },
   "file_extension": ".py",
   "mimetype": "text/x-python",
   "name": "python",
   "nbconvert_exporter": "python",
   "pygments_lexer": "ipython3",
   "version": "3.6.10"
  }
 },
 "nbformat": 4,
 "nbformat_minor": 4
}
